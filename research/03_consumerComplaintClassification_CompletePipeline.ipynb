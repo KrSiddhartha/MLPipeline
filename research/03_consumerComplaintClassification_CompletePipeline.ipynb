{
 "cells": [
  {
   "cell_type": "markdown",
   "metadata": {
    "jp-MarkdownHeadingCollapsed": true,
    "tags": []
   },
   "source": [
    "# Importing Modules"
   ]
  },
  {
   "cell_type": "code",
   "execution_count": 25,
   "metadata": {},
   "outputs": [
    {
     "name": "stdout",
     "output_type": "stream",
     "text": [
      "The autotime extension is already loaded. To reload it, use:\n",
      "  %reload_ext autotime\n",
      "time: 16 ms (started: 2022-02-01 18:18:01 +05:30)\n"
     ]
    }
   ],
   "source": [
    "%load_ext autotime\n",
    "\n",
    "import yaml\n",
    "import joblib\n",
    "import warnings\n",
    "import numpy as np\n",
    "import pandas as pd\n",
    "import seaborn as sns\n",
    "import preprocessing as pp\n",
    "from datetime import datetime\n",
    "import neptune.new as neptune\n",
    "from tensorflow.keras import layers\n",
    "from tensorflow.keras import metrics\n",
    "from sklearn.pipeline import Pipeline\n",
    "from gensim.models.word2vec import Word2Vec\n",
    "from modelevaluation import modeleval as me\n",
    "from tensorflow.keras.models import Sequential\n",
    "from sklearn.preprocessing import LabelEncoder\n",
    "from tensorflow.keras.utils import to_categorical\n",
    "from tensorflow.keras.callbacks import EarlyStopping\n",
    "from sklearn.model_selection import train_test_split\n",
    "from tensorflow.keras.preprocessing.text import Tokenizer\n",
    "from tensorflow.keras.preprocessing.sequence import pad_sequences\n",
    "from neptune.new.integrations.tensorflow_keras import NeptuneCallback\n",
    "\n",
    "warnings.filterwarnings(\"ignore\")"
   ]
  },
  {
   "cell_type": "markdown",
   "metadata": {
    "id": "x9QxRCK7LqQv",
    "jp-MarkdownHeadingCollapsed": true,
    "tags": []
   },
   "source": [
    "# Importing Data"
   ]
  },
  {
   "cell_type": "code",
   "execution_count": 2,
   "metadata": {
    "colab": {
     "base_uri": "https://localhost:8080/"
    },
    "id": "kRL7WK6cMLuw",
    "outputId": "f3540988-b1ac-4177-dc74-cbf97d99d0c0"
   },
   "outputs": [
    {
     "name": "stdout",
     "output_type": "stream",
     "text": [
      "time: 109 ms (started: 2022-02-01 17:12:48 +05:30)\n"
     ]
    }
   ],
   "source": [
    "con_com_use = pd.read_csv('train.csv')"
   ]
  },
  {
   "cell_type": "markdown",
   "metadata": {
    "jp-MarkdownHeadingCollapsed": true,
    "tags": []
   },
   "source": [
    "# Configuration"
   ]
  },
  {
   "cell_type": "code",
   "execution_count": 3,
   "metadata": {},
   "outputs": [
    {
     "name": "stdout",
     "output_type": "stream",
     "text": [
      "time: 0 ns (started: 2022-02-01 17:12:48 +05:30)\n"
     ]
    }
   ],
   "source": [
    "# Independent variables\n",
    "INDEPENDENT_FEATURES = ['Consumer complaint narrative']\n",
    "\n",
    "# Dependent variable\n",
    "DEPENDENT_FEATURES = ['Product']\n",
    "\n",
    "# Sample size\n",
    "TRAIN_SIZE = 10000\n",
    "TEST_SIZE = 3000\n",
    "\n",
    "# Random state\n",
    "RANDOM_STATE = 0\n",
    "\n",
    "# Word2Vec config\n",
    "PARAMS_WORD2VEC:{'VECTOR_SIZE':160,\n",
    "                 'MIN_COUNT':2, # Minimum frequency of words to be used\n",
    "                 'WINDOW':7, # Maximum distance between the current and predicted word within a sentence\n",
    "                 'EPOCHS':50, # Number of iterations over the corpus\n",
    "                 'SG':1}, # Training algo. 1 means skip-gram\n",
    "\n",
    "# Padding size\n",
    "MAX_LENGHT = 140\n",
    "\n",
    "# Model parameters\n",
    "PARAMS_LSTM = {'MODEL_NAME':'Bi-Directional-LSTM',\n",
    "               'lr':0.0003,\n",
    "               'epochs':100,\n",
    "               'batch_size':512,\n",
    "               'verbose':1,\n",
    "               'validation_split':0.3}"
   ]
  },
  {
   "cell_type": "code",
   "execution_count": null,
   "metadata": {},
   "outputs": [],
   "source": []
  },
  {
   "cell_type": "code",
   "execution_count": null,
   "metadata": {},
   "outputs": [],
   "source": []
  },
  {
   "cell_type": "code",
   "execution_count": 28,
   "metadata": {},
   "outputs": [
    {
     "name": "stdout",
     "output_type": "stream",
     "text": [
      "time: 93 ms (started: 2022-02-02 14:55:33 +05:30)\n"
     ]
    },
    {
     "name": "stderr",
     "output_type": "stream",
     "text": [
      "python: can't open file 'datamodel-codegen': [Errno 2] No such file or directory\n"
     ]
    }
   ],
   "source": [
    "!python datamodel-codegen  --input D:\\Data Science\\pythonProjects\\MLPipeline\\classification_model\\tmp_tst.json --input-file -type jsonschema --output tst_tmp.py"
   ]
  },
  {
   "cell_type": "code",
   "execution_count": null,
   "metadata": {},
   "outputs": [],
   "source": [
    "config_out = {\n",
    "    # Independent variables\n",
    "    'INDEPENDENT_FEATURES': 'Consumer complaint narrative',\n",
    "    \n",
    "    # Dependent variable\n",
    "    'DEPENDENT_FEATURES':'Product',\n",
    "    \n",
    "    # Random state\n",
    "    'RANDOM_STATE':0,\n",
    "    \n",
    "    'TEST_SIZE':3000,\n",
    "    \n",
    "    # Word2Vec config\n",
    "    'PARAMS_WORD2VEC':{'VECTOR_SIZE':160,\n",
    "                       'MIN_COUNT':2, # Minimum frequency of words to be used\n",
    "                       'WINDOW':7, # Maximum distance between the current and predicted word within a sentence\n",
    "                       'EPOCHS':50, # Number of iterations over the corpus\n",
    "                       'SG':1}, # Training algo. 1 means skip-gram\n",
    "    \n",
    "    # Padding size\n",
    "    'MAX_LENGHT':140,\n",
    "    \n",
    "    # Model parameters\n",
    "    'PARAMS_LSTM':{'MODEL_NAME':'Bi-Directional-LSTM',\n",
    "                   'lr':0.0003,\n",
    "                   'epochs':100,\n",
    "                   'batch_size':512,\n",
    "                   'verbose':1,\n",
    "                   'validation_split':0.3}\n",
    "    \n",
    "}\n",
    "\n",
    "# Package Overview\n",
    "package_name: classification_model\n",
    "\n",
    "\n",
    "# Data Files\n",
    "training_data_file: train.csv\n",
    "test_data_file: test.csv\n",
    "\n",
    "pipeline_save_file: classification_model_output_v\n",
    "\n",
    "# Dependent variable\n",
    "DEPENDENT_FEATURES: Product\n",
    "\n",
    "# Independent variables\n",
    "INDEPENDENT_FEATURES: Consumer complaint narrative\n",
    "\n",
    "# Padding size\n",
    "MAX_LENGHT: 140\n",
    "\n",
    "# Model parameters\n",
    "PARAMS_LSTM:\n",
    "  MODEL_NAME: Bi-Directional-LSTM\n",
    "  batch_size: 512\n",
    "  epochs: 100\n",
    "  lr: 0.0003\n",
    "  validation_split: 0.3\n",
    "  verbose: 1\n",
    "\n",
    "# Word2Vec config\n",
    "PARAMS_WORD2VEC:\n",
    "  EPOCHS: 50\n",
    "  MIN_COUNT: 2\n",
    "  SG: 1\n",
    "  VECTOR_SIZE: 160\n",
    "  WINDOW: 7\n",
    "\n",
    "# Random state\n",
    "RANDOM_STATE: 0\n",
    "\n",
    "TEST_SIZE: 3000\n",
    "\n",
    "# with open(r'D:\\Data Science\\pythonProjects\\MLPipeline\\classification_model\\config.yaml', 'w') as file:\n",
    "#     documents = yaml.dump(config_out, file)"
   ]
  },
  {
   "cell_type": "markdown",
   "metadata": {
    "jp-MarkdownHeadingCollapsed": true,
    "tags": []
   },
   "source": [
    "# Train-test split"
   ]
  },
  {
   "cell_type": "code",
   "execution_count": 4,
   "metadata": {},
   "outputs": [
    {
     "name": "stdout",
     "output_type": "stream",
     "text": [
      "(7000,)\n",
      "(3000,)\n",
      "time: 16 ms (started: 2022-02-01 17:12:48 +05:30)\n"
     ]
    }
   ],
   "source": [
    "xtrain, xtest, ytrain, ytest = train_test_split(con_com_use[INDEPENDENT_FEATURES[0]],\n",
    "                                                con_com_use[DEPENDENT_FEATURES[0]],\n",
    "                                                stratify=con_com_use[DEPENDENT_FEATURES[0]],\n",
    "                                                random_state=RANDOM_STATE,\n",
    "                                                test_size=0.3)\n",
    "print (xtrain.shape)\n",
    "print (xtest.shape)"
   ]
  },
  {
   "cell_type": "markdown",
   "metadata": {
    "jp-MarkdownHeadingCollapsed": true,
    "tags": []
   },
   "source": [
    "# Encoding Dependent Labels"
   ]
  },
  {
   "cell_type": "code",
   "execution_count": 5,
   "metadata": {},
   "outputs": [
    {
     "name": "stdout",
     "output_type": "stream",
     "text": [
      "time: 15 ms (started: 2022-02-01 17:12:48 +05:30)\n"
     ]
    }
   ],
   "source": [
    "lab_enc = LabelEncoder()\n",
    "\n",
    "ytrain = lab_enc.fit_transform(ytrain)\n",
    "ytest = lab_enc.transform(ytest)\n",
    "\n",
    "ytrain_enc = to_categorical(ytrain)\n",
    "ytest_enc = to_categorical(ytest)"
   ]
  },
  {
   "cell_type": "markdown",
   "metadata": {
    "id": "D3hHzdGu5F77",
    "jp-MarkdownHeadingCollapsed": true,
    "tags": []
   },
   "source": [
    "# Preprocessing Pipeline"
   ]
  },
  {
   "cell_type": "code",
   "execution_count": 6,
   "metadata": {},
   "outputs": [
    {
     "data": {
      "text/plain": [
       "Pipeline(steps=[('text_cleanup', textcleanup()),\n",
       "                ('text_tokenenize', texttokenize()),\n",
       "                ('text_stopwordremove', textstopwordremove()),\n",
       "                ('text_lemmatize', textlemmatize()),\n",
       "                ('text_stemmer', textstemmer()),\n",
       "                ('text_token', texttokenize2(variable=140))])"
      ]
     },
     "execution_count": 6,
     "metadata": {},
     "output_type": "execute_result"
    },
    {
     "name": "stdout",
     "output_type": "stream",
     "text": [
      "time: 22.9 s (started: 2022-02-01 17:12:48 +05:30)\n"
     ]
    }
   ],
   "source": [
    "text_process_pipe = Pipeline([\n",
    "    \n",
    "    ('text_cleanup', pp.textcleanup()),\n",
    "    \n",
    "    ('text_tokenenize', pp.texttokenize()),\n",
    "    \n",
    "    ('text_stopwordremove', pp.textstopwordremove()),\n",
    "    \n",
    "    ('text_lemmatize', pp.textlemmatize()),\n",
    "    \n",
    "    ('text_stemmer', pp.textstemmer()),\n",
    "    \n",
    "    ('text_token', pp.texttokenize2(PARAMS_WORD2VEC['MAX_LENGHT'])),\n",
    "    \n",
    "])\n",
    "\n",
    "text_process_pipe.fit(xtrain)"
   ]
  },
  {
   "cell_type": "code",
   "execution_count": 7,
   "metadata": {},
   "outputs": [
    {
     "name": "stdout",
     "output_type": "stream",
     "text": [
      "time: 30.3 s (started: 2022-02-01 17:13:11 +05:30)\n"
     ]
    }
   ],
   "source": [
    "xtrain = text_process_pipe.transform(xtrain)\n",
    "xtest = text_process_pipe.transform(xtest)\n",
    "\n",
    "word_index = eval(text_process_pipe.named_steps['text_token'].token.get_config()['word_index'])"
   ]
  },
  {
   "cell_type": "markdown",
   "metadata": {
    "jp-MarkdownHeadingCollapsed": true,
    "tags": []
   },
   "source": [
    "# Training a Word2Vec model"
   ]
  },
  {
   "cell_type": "code",
   "execution_count": 8,
   "metadata": {},
   "outputs": [
    {
     "name": "stdout",
     "output_type": "stream",
     "text": [
      "time: 1min 46s (started: 2022-02-01 17:13:41 +05:30)\n"
     ]
    }
   ],
   "source": [
    "word2vecModel = Word2Vec(con_com_use[INDEPENDENT_FEATURES[0]].str.split(' ').tolist(),\n",
    "                         min_count=PARAMS_WORD2VEC['MIN_COUNT'],\n",
    "                         vector_size=PARAMS_WORD2VEC['VECTOR_SIZE'],\n",
    "                         workers=12, \n",
    "                         window=PARAMS_WORD2VEC['WINDOW'], \n",
    "                         sg=PARAMS_WORD2VEC['SG'],\n",
    "                         epochs=PARAMS_WORD2VEC['EPOCHS'])\n",
    "gensim_embbed = dict(zip(word2vecModel.wv.index_to_key, word2vecModel.wv.vectors))\n",
    "\n",
    "embedding_matrix = np.zeros((len(word_index) + 1, VECTOR_SIZE))\n",
    "for word, i in word_index.items():\n",
    "    embedding_vector = gensim_embbed.get(word)\n",
    "    if embedding_vector is not None:\n",
    "        embedding_matrix[i] = embedding_vector"
   ]
  },
  {
   "cell_type": "markdown",
   "metadata": {
    "tags": []
   },
   "source": [
    "# Bi-Directional LSTM"
   ]
  },
  {
   "cell_type": "markdown",
   "metadata": {
    "jp-MarkdownHeadingCollapsed": true,
    "tags": []
   },
   "source": [
    "## Model Definition"
   ]
  },
  {
   "cell_type": "code",
   "execution_count": 10,
   "metadata": {
    "scrolled": true,
    "tags": []
   },
   "outputs": [
    {
     "name": "stdout",
     "output_type": "stream",
     "text": [
      "Model: \"sequential\"\n",
      "_________________________________________________________________\n",
      "Layer (type)                 Output Shape              Param #   \n",
      "=================================================================\n",
      "embedding (Embedding)        (None, 140, 160)          1573120   \n",
      "_________________________________________________________________\n",
      "bidirectional (Bidirectional (None, 1024)              2756608   \n",
      "_________________________________________________________________\n",
      "dense (Dense)                (None, 1024)              1049600   \n",
      "_________________________________________________________________\n",
      "dropout (Dropout)            (None, 1024)              0         \n",
      "_________________________________________________________________\n",
      "dense_1 (Dense)              (None, 1024)              1049600   \n",
      "_________________________________________________________________\n",
      "dropout_1 (Dropout)          (None, 1024)              0         \n",
      "_________________________________________________________________\n",
      "dense_2 (Dense)              (None, 8)                 8200      \n",
      "_________________________________________________________________\n",
      "activation (Activation)      (None, 8)                 0         \n",
      "=================================================================\n",
      "Total params: 6,437,128\n",
      "Trainable params: 4,864,008\n",
      "Non-trainable params: 1,573,120\n",
      "_________________________________________________________________\n",
      "time: 3.33 s (started: 2022-02-01 17:15:27 +05:30)\n"
     ]
    }
   ],
   "source": [
    "modelLSTM = Sequential()\n",
    "modelLSTM.add(layers.Embedding(len(word_index)+1,\n",
    "                               VECTOR_SIZE,\n",
    "                               weights=[embedding_matrix],\n",
    "                               input_length=MAX_LENGHT,\n",
    "                               trainable=False))\n",
    "\n",
    "modelLSTM.add(layers.Bidirectional(layers.LSTM(512, dropout=0.2)))\n",
    "\n",
    "modelLSTM.add(layers.Dense(1024, activation='relu'))\n",
    "modelLSTM.add(layers.Dropout(0.8))\n",
    "\n",
    "modelLSTM.add(layers.Dense(1024, activation='relu'))\n",
    "modelLSTM.add(layers.Dropout(0.8))\n",
    "\n",
    "modelLSTM.add(layers.Dense(8))\n",
    "modelLSTM.add(layers.Activation('softmax'))\n",
    "from tensorflow.keras.optimizers import Adam\n",
    "\n",
    "optimizer = Adam(learning_rate=PARAMS_LSTM[\"lr\"])\n",
    "modelLSTM.compile(loss='categorical_crossentropy', optimizer=optimizer,\n",
    "                  metrics=['accuracy',\n",
    "                           metrics.CategoricalAccuracy(),\n",
    "                           metrics.Precision(),\n",
    "                           metrics.Recall()])\n",
    "earlystop = EarlyStopping(monitor='val_loss', patience=10, verbose=0)\n",
    "\n",
    "modelLSTM.summary()"
   ]
  },
  {
   "cell_type": "markdown",
   "metadata": {
    "jp-MarkdownHeadingCollapsed": true,
    "tags": []
   },
   "source": [
    "## Model registry config"
   ]
  },
  {
   "cell_type": "code",
   "execution_count": 11,
   "metadata": {},
   "outputs": [
    {
     "name": "stdout",
     "output_type": "stream",
     "text": [
      "https://app.neptune.ai/kumars/Consumer-Complaint/e/CON-18\n",
      "Remember to stop your run once you’ve finished logging your metadata (https://docs.neptune.ai/api-reference/run#.stop). It will be stopped automatically only when the notebook kernel/interactive console is terminated.\n",
      "time: 10.3 s (started: 2022-02-01 17:15:31 +05:30)\n"
     ]
    }
   ],
   "source": [
    "run = neptune.init(\n",
    "    project=\"kumars/Consumer-Complaint\" # Neptune user name and project name\n",
    "    # , source_files=['03_consumerComplaintClassification_CompletePipeline.ipynb', 'preprocessing.py'] # files to be tracked\n",
    ") \n",
    "\n",
    "# log hyper-parameters\n",
    "run['hyper-parameters'] = PARAMS_LSTM\n",
    "run[\"sys/tags\"].add([datetime.now().strftime(\"%d/%m/%Y %H:%M:%S\"),\n",
    "                     'Model evaluation',\n",
    "                     'LSTM Bidirectional',\n",
    "                     'Sid'])\n",
    "run[\"model\"].upload(PARAMS_LSTM['MODEL_NAME']+'_model.h5')\n",
    "neptune_clbk = NeptuneCallback(run=run, base_namespace='metrics') # Create callback for tracking the model training"
   ]
  },
  {
   "cell_type": "markdown",
   "metadata": {
    "jp-MarkdownHeadingCollapsed": true,
    "tags": []
   },
   "source": [
    "## Train model"
   ]
  },
  {
   "cell_type": "code",
   "execution_count": 12,
   "metadata": {
    "tags": []
   },
   "outputs": [
    {
     "name": "stdout",
     "output_type": "stream",
     "text": [
      "Epoch 1/100\n",
      "10/10 [==============================] - 26s 548ms/step - loss: 1.9933 - accuracy: 0.2529 - categorical_accuracy: 0.2529 - precision: 0.2259 - recall: 0.0070 - val_loss: 1.6782 - val_accuracy: 0.3957 - val_categorical_accuracy: 0.3957 - val_precision: 0.6154 - val_recall: 0.1867\n",
      "Epoch 2/100\n",
      "10/10 [==============================] - 3s 338ms/step - loss: 1.7512 - accuracy: 0.3647 - categorical_accuracy: 0.3647 - precision: 0.5728 - recall: 0.0912 - val_loss: 1.5132 - val_accuracy: 0.3981 - val_categorical_accuracy: 0.3981 - val_precision: 0.6465 - val_recall: 0.3352\n",
      "Epoch 3/100\n",
      "10/10 [==============================] - 3s 333ms/step - loss: 1.5597 - accuracy: 0.4170 - categorical_accuracy: 0.4170 - precision: 0.7094 - recall: 0.2558 - val_loss: 1.4423 - val_accuracy: 0.4900 - val_categorical_accuracy: 0.4900 - val_precision: 0.8264 - val_recall: 0.2381\n",
      "Epoch 4/100\n",
      "10/10 [==============================] - 3s 318ms/step - loss: 1.4931 - accuracy: 0.4529 - categorical_accuracy: 0.4529 - precision: 0.7183 - recall: 0.2404 - val_loss: 1.3383 - val_accuracy: 0.5052 - val_categorical_accuracy: 0.5052 - val_precision: 0.7492 - val_recall: 0.3229\n",
      "Epoch 5/100\n",
      "10/10 [==============================] - 3s 323ms/step - loss: 1.4130 - accuracy: 0.4968 - categorical_accuracy: 0.4968 - precision: 0.7462 - recall: 0.3039 - val_loss: 1.2209 - val_accuracy: 0.5610 - val_categorical_accuracy: 0.5610 - val_precision: 0.8314 - val_recall: 0.3781\n",
      "Epoch 6/100\n",
      "10/10 [==============================] - 3s 323ms/step - loss: 1.3044 - accuracy: 0.5452 - categorical_accuracy: 0.5452 - precision: 0.7933 - recall: 0.3788 - val_loss: 1.2058 - val_accuracy: 0.5900 - val_categorical_accuracy: 0.5900 - val_precision: 0.8138 - val_recall: 0.4100\n",
      "Epoch 7/100\n",
      "10/10 [==============================] - 3s 330ms/step - loss: 1.2728 - accuracy: 0.5744 - categorical_accuracy: 0.5744 - precision: 0.7778 - recall: 0.3821 - val_loss: 1.1078 - val_accuracy: 0.6448 - val_categorical_accuracy: 0.6448 - val_precision: 0.8125 - val_recall: 0.4705\n",
      "Epoch 8/100\n",
      "10/10 [==============================] - 3s 334ms/step - loss: 1.2512 - accuracy: 0.6015 - categorical_accuracy: 0.6015 - precision: 0.7722 - recall: 0.4422 - val_loss: 1.1374 - val_accuracy: 0.6200 - val_categorical_accuracy: 0.6200 - val_precision: 0.8335 - val_recall: 0.4362\n",
      "Epoch 9/100\n",
      "10/10 [==============================] - 3s 333ms/step - loss: 1.2270 - accuracy: 0.5801 - categorical_accuracy: 0.5801 - precision: 0.8075 - recall: 0.4138 - val_loss: 1.1509 - val_accuracy: 0.6043 - val_categorical_accuracy: 0.6043 - val_precision: 0.7726 - val_recall: 0.4676\n",
      "Epoch 10/100\n",
      "10/10 [==============================] - 3s 325ms/step - loss: 1.2194 - accuracy: 0.5892 - categorical_accuracy: 0.5892 - precision: 0.7919 - recall: 0.4322 - val_loss: 1.0201 - val_accuracy: 0.6538 - val_categorical_accuracy: 0.6538 - val_precision: 0.8127 - val_recall: 0.4833\n",
      "Epoch 11/100\n",
      "10/10 [==============================] - 3s 328ms/step - loss: 1.1049 - accuracy: 0.6300 - categorical_accuracy: 0.6300 - precision: 0.7769 - recall: 0.4964 - val_loss: 1.0082 - val_accuracy: 0.6614 - val_categorical_accuracy: 0.6614 - val_precision: 0.7985 - val_recall: 0.5038\n",
      "Epoch 12/100\n",
      "10/10 [==============================] - 3s 327ms/step - loss: 1.0647 - accuracy: 0.6553 - categorical_accuracy: 0.6553 - precision: 0.7783 - recall: 0.5190 - val_loss: 0.9606 - val_accuracy: 0.6714 - val_categorical_accuracy: 0.6714 - val_precision: 0.8242 - val_recall: 0.5000\n",
      "Epoch 13/100\n",
      "10/10 [==============================] - 3s 334ms/step - loss: 1.0351 - accuracy: 0.6433 - categorical_accuracy: 0.6433 - precision: 0.7771 - recall: 0.4962 - val_loss: 0.9472 - val_accuracy: 0.6829 - val_categorical_accuracy: 0.6829 - val_precision: 0.7975 - val_recall: 0.5419\n",
      "Epoch 14/100\n",
      "10/10 [==============================] - 3s 331ms/step - loss: 0.9916 - accuracy: 0.6480 - categorical_accuracy: 0.6480 - precision: 0.7771 - recall: 0.5298 - val_loss: 0.9114 - val_accuracy: 0.6933 - val_categorical_accuracy: 0.6933 - val_precision: 0.7947 - val_recall: 0.5586\n",
      "Epoch 15/100\n",
      "10/10 [==============================] - 3s 337ms/step - loss: 0.9770 - accuracy: 0.6640 - categorical_accuracy: 0.6640 - precision: 0.7675 - recall: 0.5528 - val_loss: 0.8935 - val_accuracy: 0.6957 - val_categorical_accuracy: 0.6957 - val_precision: 0.8075 - val_recall: 0.5552\n",
      "Epoch 16/100\n",
      "10/10 [==============================] - 3s 336ms/step - loss: 0.9410 - accuracy: 0.6861 - categorical_accuracy: 0.6861 - precision: 0.7996 - recall: 0.5631 - val_loss: 0.8718 - val_accuracy: 0.7010 - val_categorical_accuracy: 0.7010 - val_precision: 0.8013 - val_recall: 0.5876\n",
      "Epoch 17/100\n",
      "10/10 [==============================] - 3s 337ms/step - loss: 0.9260 - accuracy: 0.6869 - categorical_accuracy: 0.6869 - precision: 0.7912 - recall: 0.5673 - val_loss: 0.8831 - val_accuracy: 0.7005 - val_categorical_accuracy: 0.7005 - val_precision: 0.7937 - val_recall: 0.6029\n",
      "Epoch 18/100\n",
      "10/10 [==============================] - 3s 345ms/step - loss: 0.9194 - accuracy: 0.6946 - categorical_accuracy: 0.6946 - precision: 0.7856 - recall: 0.5769 - val_loss: 0.8604 - val_accuracy: 0.7071 - val_categorical_accuracy: 0.7071 - val_precision: 0.8053 - val_recall: 0.6048\n",
      "Epoch 19/100\n",
      "10/10 [==============================] - 3s 351ms/step - loss: 0.8890 - accuracy: 0.7108 - categorical_accuracy: 0.7108 - precision: 0.8087 - recall: 0.5878 - val_loss: 0.8687 - val_accuracy: 0.7114 - val_categorical_accuracy: 0.7114 - val_precision: 0.7931 - val_recall: 0.6114\n",
      "Epoch 20/100\n",
      "10/10 [==============================] - 4s 361ms/step - loss: 0.8601 - accuracy: 0.7136 - categorical_accuracy: 0.7136 - precision: 0.8001 - recall: 0.6194 - val_loss: 0.8655 - val_accuracy: 0.7100 - val_categorical_accuracy: 0.7100 - val_precision: 0.7866 - val_recall: 0.6214\n",
      "Epoch 21/100\n",
      "10/10 [==============================] - 4s 365ms/step - loss: 0.8505 - accuracy: 0.7148 - categorical_accuracy: 0.7148 - precision: 0.8093 - recall: 0.6116 - val_loss: 0.9072 - val_accuracy: 0.6876 - val_categorical_accuracy: 0.6876 - val_precision: 0.7745 - val_recall: 0.5824\n",
      "Epoch 22/100\n",
      "10/10 [==============================] - 4s 367ms/step - loss: 0.8586 - accuracy: 0.7146 - categorical_accuracy: 0.7146 - precision: 0.7991 - recall: 0.5978 - val_loss: 0.8684 - val_accuracy: 0.7071 - val_categorical_accuracy: 0.7071 - val_precision: 0.7988 - val_recall: 0.6181\n",
      "Epoch 23/100\n",
      "10/10 [==============================] - 4s 370ms/step - loss: 0.8361 - accuracy: 0.7211 - categorical_accuracy: 0.7211 - precision: 0.8040 - recall: 0.6204 - val_loss: 0.8304 - val_accuracy: 0.7119 - val_categorical_accuracy: 0.7119 - val_precision: 0.7941 - val_recall: 0.6262\n",
      "Epoch 24/100\n",
      "10/10 [==============================] - 4s 382ms/step - loss: 0.8236 - accuracy: 0.7229 - categorical_accuracy: 0.7229 - precision: 0.8127 - recall: 0.6224 - val_loss: 0.8369 - val_accuracy: 0.7152 - val_categorical_accuracy: 0.7152 - val_precision: 0.7886 - val_recall: 0.6395\n",
      "Epoch 25/100\n",
      "10/10 [==============================] - 4s 372ms/step - loss: 0.7984 - accuracy: 0.7265 - categorical_accuracy: 0.7265 - precision: 0.8176 - recall: 0.6411 - val_loss: 0.8334 - val_accuracy: 0.7195 - val_categorical_accuracy: 0.7195 - val_precision: 0.7874 - val_recall: 0.6490\n",
      "Epoch 26/100\n",
      "10/10 [==============================] - 4s 390ms/step - loss: 0.7916 - accuracy: 0.7355 - categorical_accuracy: 0.7355 - precision: 0.8193 - recall: 0.6513 - val_loss: 0.8323 - val_accuracy: 0.7143 - val_categorical_accuracy: 0.7143 - val_precision: 0.8073 - val_recall: 0.6286\n",
      "Epoch 27/100\n",
      "10/10 [==============================] - 4s 380ms/step - loss: 0.7731 - accuracy: 0.7427 - categorical_accuracy: 0.7427 - precision: 0.8146 - recall: 0.6535 - val_loss: 0.8468 - val_accuracy: 0.7248 - val_categorical_accuracy: 0.7248 - val_precision: 0.7870 - val_recall: 0.6633\n",
      "Epoch 28/100\n",
      "10/10 [==============================] - 4s 378ms/step - loss: 0.7890 - accuracy: 0.7308 - categorical_accuracy: 0.7308 - precision: 0.8087 - recall: 0.6449 - val_loss: 0.8399 - val_accuracy: 0.7233 - val_categorical_accuracy: 0.7233 - val_precision: 0.7913 - val_recall: 0.6338\n",
      "Epoch 29/100\n",
      "10/10 [==============================] - 4s 385ms/step - loss: 0.7671 - accuracy: 0.7273 - categorical_accuracy: 0.7273 - precision: 0.8216 - recall: 0.6439 - val_loss: 0.8203 - val_accuracy: 0.7190 - val_categorical_accuracy: 0.7190 - val_precision: 0.7869 - val_recall: 0.6595\n",
      "Epoch 30/100\n",
      "10/10 [==============================] - 4s 377ms/step - loss: 0.7414 - accuracy: 0.7473 - categorical_accuracy: 0.7473 - precision: 0.8210 - recall: 0.6706 - val_loss: 0.8726 - val_accuracy: 0.7190 - val_categorical_accuracy: 0.7190 - val_precision: 0.7686 - val_recall: 0.6705\n",
      "Epoch 31/100\n",
      "10/10 [==============================] - 4s 369ms/step - loss: 0.7276 - accuracy: 0.7560 - categorical_accuracy: 0.7560 - precision: 0.8160 - recall: 0.6885 - val_loss: 0.8246 - val_accuracy: 0.7310 - val_categorical_accuracy: 0.7310 - val_precision: 0.7806 - val_recall: 0.6690\n",
      "Epoch 32/100\n",
      "10/10 [==============================] - 4s 370ms/step - loss: 0.7009 - accuracy: 0.7624 - categorical_accuracy: 0.7624 - precision: 0.8299 - recall: 0.6943 - val_loss: 0.8272 - val_accuracy: 0.7295 - val_categorical_accuracy: 0.7295 - val_precision: 0.7859 - val_recall: 0.6676\n",
      "Epoch 33/100\n",
      "10/10 [==============================] - 4s 384ms/step - loss: 0.7186 - accuracy: 0.7512 - categorical_accuracy: 0.7512 - precision: 0.8221 - recall: 0.6725 - val_loss: 0.8283 - val_accuracy: 0.7329 - val_categorical_accuracy: 0.7329 - val_precision: 0.7872 - val_recall: 0.6676\n",
      "Epoch 34/100\n",
      "10/10 [==============================] - 4s 400ms/step - loss: 0.7118 - accuracy: 0.7606 - categorical_accuracy: 0.7606 - precision: 0.8273 - recall: 0.6856 - val_loss: 0.8248 - val_accuracy: 0.7262 - val_categorical_accuracy: 0.7262 - val_precision: 0.7786 - val_recall: 0.6648\n",
      "Epoch 35/100\n",
      "10/10 [==============================] - 4s 370ms/step - loss: 0.6712 - accuracy: 0.7745 - categorical_accuracy: 0.7745 - precision: 0.8374 - recall: 0.7051 - val_loss: 0.8811 - val_accuracy: 0.7262 - val_categorical_accuracy: 0.7262 - val_precision: 0.7756 - val_recall: 0.6700\n",
      "Epoch 36/100\n",
      "10/10 [==============================] - 4s 378ms/step - loss: 0.6843 - accuracy: 0.7751 - categorical_accuracy: 0.7751 - precision: 0.8416 - recall: 0.7033 - val_loss: 0.8926 - val_accuracy: 0.7190 - val_categorical_accuracy: 0.7190 - val_precision: 0.7771 - val_recall: 0.6624\n",
      "Epoch 37/100\n",
      "10/10 [==============================] - 4s 380ms/step - loss: 0.6813 - accuracy: 0.7708 - categorical_accuracy: 0.7708 - precision: 0.8270 - recall: 0.6996 - val_loss: 0.8410 - val_accuracy: 0.7229 - val_categorical_accuracy: 0.7229 - val_precision: 0.7781 - val_recall: 0.6595\n",
      "Epoch 38/100\n",
      "10/10 [==============================] - 4s 374ms/step - loss: 0.6675 - accuracy: 0.7742 - categorical_accuracy: 0.7742 - precision: 0.8350 - recall: 0.7057 - val_loss: 0.9109 - val_accuracy: 0.7295 - val_categorical_accuracy: 0.7295 - val_precision: 0.7818 - val_recall: 0.6652\n",
      "Epoch 39/100\n",
      "10/10 [==============================] - 4s 387ms/step - loss: 0.6535 - accuracy: 0.7837 - categorical_accuracy: 0.7837 - precision: 0.8429 - recall: 0.7128 - val_loss: 0.8575 - val_accuracy: 0.7300 - val_categorical_accuracy: 0.7300 - val_precision: 0.7894 - val_recall: 0.6605\n"
     ]
    },
    {
     "data": {
      "text/plain": [
       "<tensorflow.python.keras.callbacks.History at 0x21112c194c0>"
      ]
     },
     "execution_count": 12,
     "metadata": {},
     "output_type": "execute_result"
    },
    {
     "name": "stdout",
     "output_type": "stream",
     "text": [
      "time: 2min 40s (started: 2022-02-01 17:15:41 +05:30)\n"
     ]
    }
   ],
   "source": [
    "modelLSTM.fit(xtrain,\n",
    "              y=ytrain_enc,\n",
    "              batch_size=PARAMS_LSTM['batch_size'],\n",
    "              epochs=PARAMS_LSTM['epochs'],\n",
    "              verbose=PARAMS_LSTM['verbose'],\n",
    "              validation_split=PARAMS_LSTM['validation_split'],\n",
    "              callbacks=[earlystop, neptune_clbk])"
   ]
  },
  {
   "cell_type": "markdown",
   "metadata": {
    "jp-MarkdownHeadingCollapsed": true,
    "tags": []
   },
   "source": [
    "## Model Evaluation"
   ]
  },
  {
   "cell_type": "code",
   "execution_count": 13,
   "metadata": {
    "tags": []
   },
   "outputs": [
    {
     "name": "stdout",
     "output_type": "stream",
     "text": [
      "Train\n"
     ]
    },
    {
     "data": {
      "text/html": [
       "<div>\n",
       "<style scoped>\n",
       "    .dataframe tbody tr th:only-of-type {\n",
       "        vertical-align: middle;\n",
       "    }\n",
       "\n",
       "    .dataframe tbody tr th {\n",
       "        vertical-align: top;\n",
       "    }\n",
       "\n",
       "    .dataframe thead th {\n",
       "        text-align: right;\n",
       "    }\n",
       "</style>\n",
       "<table border=\"1\" class=\"dataframe\">\n",
       "  <thead>\n",
       "    <tr style=\"text-align: right;\">\n",
       "      <th></th>\n",
       "      <th>class</th>\n",
       "      <th>precision</th>\n",
       "      <th>recall</th>\n",
       "      <th>f1_score</th>\n",
       "      <th>support</th>\n",
       "    </tr>\n",
       "  </thead>\n",
       "  <tbody>\n",
       "    <tr>\n",
       "      <th>0</th>\n",
       "      <td>Bank account or service, Savings account</td>\n",
       "      <td>0.66</td>\n",
       "      <td>0.78</td>\n",
       "      <td>0.72</td>\n",
       "      <td>503.00</td>\n",
       "    </tr>\n",
       "    <tr>\n",
       "      <th>1</th>\n",
       "      <td>Consumer loan, Vehicle loan or lease, Payday l...</td>\n",
       "      <td>0.63</td>\n",
       "      <td>0.25</td>\n",
       "      <td>0.36</td>\n",
       "      <td>347.00</td>\n",
       "    </tr>\n",
       "    <tr>\n",
       "      <th>2</th>\n",
       "      <td>Credit card or prepaid card</td>\n",
       "      <td>0.84</td>\n",
       "      <td>0.65</td>\n",
       "      <td>0.73</td>\n",
       "      <td>767.00</td>\n",
       "    </tr>\n",
       "    <tr>\n",
       "      <th>3</th>\n",
       "      <td>Credit reporting, credit repair services, or o...</td>\n",
       "      <td>0.82</td>\n",
       "      <td>0.91</td>\n",
       "      <td>0.86</td>\n",
       "      <td>2683.00</td>\n",
       "    </tr>\n",
       "    <tr>\n",
       "      <th>4</th>\n",
       "      <td>Debt collection</td>\n",
       "      <td>0.78</td>\n",
       "      <td>0.81</td>\n",
       "      <td>0.79</td>\n",
       "      <td>1435.00</td>\n",
       "    </tr>\n",
       "    <tr>\n",
       "      <th>5</th>\n",
       "      <td>Money transfer, virtual currency, or money ser...</td>\n",
       "      <td>0.69</td>\n",
       "      <td>0.40</td>\n",
       "      <td>0.50</td>\n",
       "      <td>198.00</td>\n",
       "    </tr>\n",
       "    <tr>\n",
       "      <th>6</th>\n",
       "      <td>Mortgage</td>\n",
       "      <td>0.80</td>\n",
       "      <td>0.85</td>\n",
       "      <td>0.82</td>\n",
       "      <td>797.00</td>\n",
       "    </tr>\n",
       "    <tr>\n",
       "      <th>7</th>\n",
       "      <td>Student loan</td>\n",
       "      <td>0.77</td>\n",
       "      <td>0.74</td>\n",
       "      <td>0.76</td>\n",
       "      <td>270.00</td>\n",
       "    </tr>\n",
       "    <tr>\n",
       "      <th>8</th>\n",
       "      <td>accuracy</td>\n",
       "      <td>NaN</td>\n",
       "      <td>NaN</td>\n",
       "      <td>NaN</td>\n",
       "      <td>0.79</td>\n",
       "    </tr>\n",
       "    <tr>\n",
       "      <th>9</th>\n",
       "      <td>macro avg</td>\n",
       "      <td>0.75</td>\n",
       "      <td>0.67</td>\n",
       "      <td>0.69</td>\n",
       "      <td>7000.00</td>\n",
       "    </tr>\n",
       "    <tr>\n",
       "      <th>10</th>\n",
       "      <td>weighted avg</td>\n",
       "      <td>0.79</td>\n",
       "      <td>0.79</td>\n",
       "      <td>0.78</td>\n",
       "      <td>7000.00</td>\n",
       "    </tr>\n",
       "  </tbody>\n",
       "</table>\n",
       "</div>"
      ],
      "text/plain": [
       "                                                class  precision  recall  \\\n",
       "0            Bank account or service, Savings account       0.66    0.78   \n",
       "1   Consumer loan, Vehicle loan or lease, Payday l...       0.63    0.25   \n",
       "2                         Credit card or prepaid card       0.84    0.65   \n",
       "3   Credit reporting, credit repair services, or o...       0.82    0.91   \n",
       "4                                     Debt collection       0.78    0.81   \n",
       "5   Money transfer, virtual currency, or money ser...       0.69    0.40   \n",
       "6                                            Mortgage       0.80    0.85   \n",
       "7                                        Student loan       0.77    0.74   \n",
       "8                                            accuracy        NaN     NaN   \n",
       "9                                           macro avg       0.75    0.67   \n",
       "10                                       weighted avg       0.79    0.79   \n",
       "\n",
       "    f1_score  support  \n",
       "0       0.72   503.00  \n",
       "1       0.36   347.00  \n",
       "2       0.73   767.00  \n",
       "3       0.86  2683.00  \n",
       "4       0.79  1435.00  \n",
       "5       0.50   198.00  \n",
       "6       0.82   797.00  \n",
       "7       0.76   270.00  \n",
       "8        NaN     0.79  \n",
       "9       0.69  7000.00  \n",
       "10      0.78  7000.00  "
      ]
     },
     "metadata": {},
     "output_type": "display_data"
    },
    {
     "data": {
      "image/png": "[encoded data removed]",
      "text/plain": [
       "<Figure size 1296x936 with 2 Axes>"
      ]
     },
     "metadata": {
      "needs_background": "light"
     },
     "output_type": "display_data"
    },
    {
     "name": "stdout",
     "output_type": "stream",
     "text": [
      "\n",
      "\n",
      "Test\n"
     ]
    },
    {
     "data": {
      "text/html": [
       "<div>\n",
       "<style scoped>\n",
       "    .dataframe tbody tr th:only-of-type {\n",
       "        vertical-align: middle;\n",
       "    }\n",
       "\n",
       "    .dataframe tbody tr th {\n",
       "        vertical-align: top;\n",
       "    }\n",
       "\n",
       "    .dataframe thead th {\n",
       "        text-align: right;\n",
       "    }\n",
       "</style>\n",
       "<table border=\"1\" class=\"dataframe\">\n",
       "  <thead>\n",
       "    <tr style=\"text-align: right;\">\n",
       "      <th></th>\n",
       "      <th>class</th>\n",
       "      <th>precision</th>\n",
       "      <th>recall</th>\n",
       "      <th>f1_score</th>\n",
       "      <th>support</th>\n",
       "    </tr>\n",
       "  </thead>\n",
       "  <tbody>\n",
       "    <tr>\n",
       "      <th>0</th>\n",
       "      <td>Bank account or service, Savings account</td>\n",
       "      <td>0.60</td>\n",
       "      <td>0.68</td>\n",
       "      <td>0.64</td>\n",
       "      <td>215.00</td>\n",
       "    </tr>\n",
       "    <tr>\n",
       "      <th>1</th>\n",
       "      <td>Consumer loan, Vehicle loan or lease, Payday l...</td>\n",
       "      <td>0.48</td>\n",
       "      <td>0.21</td>\n",
       "      <td>0.29</td>\n",
       "      <td>149.00</td>\n",
       "    </tr>\n",
       "    <tr>\n",
       "      <th>2</th>\n",
       "      <td>Credit card or prepaid card</td>\n",
       "      <td>0.72</td>\n",
       "      <td>0.58</td>\n",
       "      <td>0.64</td>\n",
       "      <td>328.00</td>\n",
       "    </tr>\n",
       "    <tr>\n",
       "      <th>3</th>\n",
       "      <td>Credit reporting, credit repair services, or o...</td>\n",
       "      <td>0.80</td>\n",
       "      <td>0.87</td>\n",
       "      <td>0.83</td>\n",
       "      <td>1150.00</td>\n",
       "    </tr>\n",
       "    <tr>\n",
       "      <th>4</th>\n",
       "      <td>Debt collection</td>\n",
       "      <td>0.73</td>\n",
       "      <td>0.77</td>\n",
       "      <td>0.75</td>\n",
       "      <td>615.00</td>\n",
       "    </tr>\n",
       "    <tr>\n",
       "      <th>5</th>\n",
       "      <td>Money transfer, virtual currency, or money ser...</td>\n",
       "      <td>0.48</td>\n",
       "      <td>0.26</td>\n",
       "      <td>0.34</td>\n",
       "      <td>85.00</td>\n",
       "    </tr>\n",
       "    <tr>\n",
       "      <th>6</th>\n",
       "      <td>Mortgage</td>\n",
       "      <td>0.72</td>\n",
       "      <td>0.79</td>\n",
       "      <td>0.75</td>\n",
       "      <td>342.00</td>\n",
       "    </tr>\n",
       "    <tr>\n",
       "      <th>7</th>\n",
       "      <td>Student loan</td>\n",
       "      <td>0.75</td>\n",
       "      <td>0.67</td>\n",
       "      <td>0.71</td>\n",
       "      <td>116.00</td>\n",
       "    </tr>\n",
       "    <tr>\n",
       "      <th>8</th>\n",
       "      <td>accuracy</td>\n",
       "      <td>NaN</td>\n",
       "      <td>NaN</td>\n",
       "      <td>NaN</td>\n",
       "      <td>0.74</td>\n",
       "    </tr>\n",
       "    <tr>\n",
       "      <th>9</th>\n",
       "      <td>macro avg</td>\n",
       "      <td>0.66</td>\n",
       "      <td>0.60</td>\n",
       "      <td>0.62</td>\n",
       "      <td>3000.00</td>\n",
       "    </tr>\n",
       "    <tr>\n",
       "      <th>10</th>\n",
       "      <td>weighted avg</td>\n",
       "      <td>0.73</td>\n",
       "      <td>0.74</td>\n",
       "      <td>0.73</td>\n",
       "      <td>3000.00</td>\n",
       "    </tr>\n",
       "  </tbody>\n",
       "</table>\n",
       "</div>"
      ],
      "text/plain": [
       "                                                class  precision  recall  \\\n",
       "0            Bank account or service, Savings account       0.60    0.68   \n",
       "1   Consumer loan, Vehicle loan or lease, Payday l...       0.48    0.21   \n",
       "2                         Credit card or prepaid card       0.72    0.58   \n",
       "3   Credit reporting, credit repair services, or o...       0.80    0.87   \n",
       "4                                     Debt collection       0.73    0.77   \n",
       "5   Money transfer, virtual currency, or money ser...       0.48    0.26   \n",
       "6                                            Mortgage       0.72    0.79   \n",
       "7                                        Student loan       0.75    0.67   \n",
       "8                                            accuracy        NaN     NaN   \n",
       "9                                           macro avg       0.66    0.60   \n",
       "10                                       weighted avg       0.73    0.74   \n",
       "\n",
       "    f1_score  support  \n",
       "0       0.64   215.00  \n",
       "1       0.29   149.00  \n",
       "2       0.64   328.00  \n",
       "3       0.83  1150.00  \n",
       "4       0.75   615.00  \n",
       "5       0.34    85.00  \n",
       "6       0.75   342.00  \n",
       "7       0.71   116.00  \n",
       "8        NaN     0.74  \n",
       "9       0.62  3000.00  \n",
       "10      0.73  3000.00  "
      ]
     },
     "metadata": {},
     "output_type": "display_data"
    },
    {
     "data": {
      "image/png": "[encoded data removed]",
      "text/plain": [
       "<Figure size 1296x936 with 2 Axes>"
      ]
     },
     "metadata": {
      "needs_background": "light"
     },
     "output_type": "display_data"
    },
    {
     "name": "stdout",
     "output_type": "stream",
     "text": [
      "time: 6.84 s (started: 2022-02-01 17:18:21 +05:30)\n"
     ]
    }
   ],
   "source": [
    "# Run prediction on test and train \n",
    "ytrain_pred = np.argmax(modelLSTM.predict(xtrain), axis=-1)\n",
    "ytrain_orig = np.argmax(ytrain_enc, axis=-1)\n",
    "ytest_pred = np.argmax(modelLSTM.predict(xtest), axis=-1)\n",
    "ytest_orig = np.argmax(ytest_enc, axis=-1)\n",
    "\n",
    "print('Train')\n",
    "train_classreport = me.classification_report_cust(ytrain_orig,\n",
    "                                                  ytrain_pred,\n",
    "                                                  list(lab_enc.classes_))\n",
    "display(train_classreport)\n",
    "train_classreport.to_csv(PARAMS_LSTM['MODEL_NAME']+'_train_classification_report.csv', index=False)\n",
    "train_confmatrix = me.confusion_mat_plt(ytrain_orig,\n",
    "                                        ytrain_pred,\n",
    "                                        8,\n",
    "                                        figs=(18,13),\n",
    "                                        cat_names=list(lab_enc.classes_))\n",
    "train_confmatrix.savefig(PARAMS_LSTM['MODEL_NAME']+'_train_confusionmatrix.png')\n",
    "\n",
    "print('\\n\\nTest')\n",
    "test_classreport = me.classification_report_cust(ytest_orig,\n",
    "                                                 ytest_pred,\n",
    "                                                 list(lab_enc.classes_))\n",
    "display(test_classreport)\n",
    "test_classreport.to_csv(PARAMS_LSTM['MODEL_NAME']+'_test_classification_report.csv', index=False)\n",
    "test_confmatrix = me.confusion_mat_plt(ytest_orig,\n",
    "                                       ytest_pred,\n",
    "                                       8,\n",
    "                                       figs=(18,13), \n",
    "                                       cat_names=list(lab_enc.classes_))\n",
    "test_confmatrix.savefig(PARAMS_LSTM['MODEL_NAME']+'_test_confusionmatrix.png')"
   ]
  },
  {
   "cell_type": "markdown",
   "metadata": {
    "jp-MarkdownHeadingCollapsed": true,
    "tags": []
   },
   "source": [
    "## Saving the trained model"
   ]
  },
  {
   "cell_type": "code",
   "execution_count": 15,
   "metadata": {},
   "outputs": [
    {
     "name": "stdout",
     "output_type": "stream",
     "text": [
      "Shutting down background jobs, please wait a moment...\n",
      "Done!\n"
     ]
    },
    {
     "name": "stderr",
     "output_type": "stream",
     "text": [
      "Waiting for the remaining 19 operations to synchronize with Neptune. Do not kill this process.\n"
     ]
    },
    {
     "name": "stdout",
     "output_type": "stream",
     "text": [
      "All 19 operations synced, thanks for waiting!\n",
      "time: 8.66 s (started: 2022-02-01 17:18:28 +05:30)\n"
     ]
    }
   ],
   "source": [
    "modelLSTM.save(PARAMS_LSTM['MODEL_NAME']+'_model.h5') # Save the trained model\n",
    "joblib.dump(text_process_pipe, 'text_process_pipe.joblib')"
   ]
  },
  {
   "cell_type": "markdown",
   "metadata": {
    "jp-MarkdownHeadingCollapsed": true,
    "tags": []
   },
   "source": [
    "## Model registry logging and tracking"
   ]
  },
  {
   "cell_type": "code",
   "execution_count": 14,
   "metadata": {},
   "outputs": [
    {
     "name": "stdout",
     "output_type": "stream",
     "text": [
      "time: 16 ms (started: 2022-02-01 17:18:28 +05:30)\n"
     ]
    }
   ],
   "source": [
    "# Record metrics for model registry\n",
    "run['train/f1'] = train_classreport[train_classreport['class']=='weighted avg']['f1_score'].values[0]\n",
    "run['test/f1'] = (test_classreport[train_classreport['class']=='weighted avg']['f1_score'].values[0])\n",
    "run['train/acc'] = (train_classreport[train_classreport['class']=='accuracy']['support'].values[0])\n",
    "run['test/acc'] = (test_classreport[train_classreport['class']=='accuracy']['support'].values[0])\n",
    "\n",
    "# Track files\n",
    "run['train/eval_dataset'].track_files(PARAMS_LSTM['MODEL_NAME']+'_train_classification_report.csv')\n",
    "run['test/eval_dataset'].track_files(PARAMS_LSTM['MODEL_NAME']+'_test_classification_report.csv')\n",
    "run['train/text_process_pipe'].track_files('text_process_pipe.joblib')\n",
    "run['train/confusion_matrix'].upload(PARAMS_LSTM['MODEL_NAME']+'_train_confusionmatrix.png')\n",
    "run['test/confusion_matrix'].upload(PARAMS_LSTM['MODEL_NAME']+'_test_confusionmatrix.png')\n",
    "run['train_dataset'].track_files('train.csv')\n",
    "run['test_dataset'].track_files('test.csv')\n",
    "\n",
    "# Stop model registry run\n",
    "run.stop()"
   ]
  },
  {
   "cell_type": "markdown",
   "metadata": {
    "jp-MarkdownHeadingCollapsed": true,
    "tags": []
   },
   "source": [
    "# Score new data"
   ]
  },
  {
   "cell_type": "code",
   "execution_count": 73,
   "metadata": {
    "tags": []
   },
   "outputs": [
    {
     "name": "stdout",
     "output_type": "stream",
     "text": [
      "time: 9.48 s (started: 2022-01-27 17:48:20 +05:30)\n"
     ]
    }
   ],
   "source": [
    "data = pd.read_csv('test.csv')\n",
    "\n",
    "xtest_new = text_process_pipe.transform(data[INDEPENDENT_FEATURES[0]])\n",
    "ytest_new = to_categorical(lab_enc.transform(data[DEPENDENT_FEATURES[0]]))"
   ]
  },
  {
   "cell_type": "code",
   "execution_count": 74,
   "metadata": {},
   "outputs": [
    {
     "name": "stdout",
     "output_type": "stream",
     "text": [
      "time: 1.61 s (started: 2022-01-27 17:48:30 +05:30)\n"
     ]
    }
   ],
   "source": [
    "pred_test_new = modelLSTM.predict(xtest_new)"
   ]
  },
  {
   "cell_type": "code",
   "execution_count": 75,
   "metadata": {},
   "outputs": [
    {
     "name": "stdout",
     "output_type": "stream",
     "text": [
      "                                                                                 precision    recall  f1-score   support\n",
      "\n",
      "                                                                   Student loan       0.58      0.53      0.55       215\n",
      "                                                                Debt collection       0.32      0.15      0.20       149\n",
      "                                       Bank account or service, Savings account       0.59      0.70      0.64       328\n",
      "   Credit reporting, credit repair services, or other personal consumer reports       0.79      0.88      0.83      1150\n",
      "                                                    Credit card or prepaid card       0.76      0.71      0.73       615\n",
      "                             Money transfer, virtual currency, or money service       1.00      0.08      0.15        85\n",
      "Consumer loan, Vehicle loan or lease, Payday loan, title loan, or personal loan       0.65      0.75      0.69       342\n",
      "                                                                       Mortgage       0.61      0.49      0.55       116\n",
      "\n",
      "                                                                       accuracy                           0.71      3000\n",
      "                                                                      macro avg       0.66      0.54      0.54      3000\n",
      "                                                                   weighted avg       0.71      0.71      0.69      3000\n",
      "\n",
      "time: 16 ms (started: 2022-01-27 17:48:32 +05:30)\n"
     ]
    }
   ],
   "source": [
    "print(metrics.classification_report(\n",
    "    np.argmax(ytest_new, axis=-1),\n",
    "    np.argmax(pred_test_new, axis=-1),\n",
    "    target_names=data[DEPENDENT_FEATURES[0]].unique()))"
   ]
  },
  {
   "cell_type": "markdown",
   "metadata": {},
   "source": [
    "# Conclusion\n",
    "\n",
    "We are ready for deployment"
   ]
  }
 ],
 "metadata": {
  "kernelspec": {
   "display_name": "comp_classify",
   "language": "python",
   "name": "comp_classify"
  },
  "language_info": {
   "codemirror_mode": {
    "name": "ipython",
    "version": 3
   },
   "file_extension": ".py",
   "mimetype": "text/x-python",
   "name": "python",
   "nbconvert_exporter": "python",
   "pygments_lexer": "ipython3",
   "version": "3.8.5"
  },
  "neptune": {
   "notebookId": "48919a70-8e1c-4fee-a01d-8f34d57118d8",
   "projectVersion": 2
  },
  "toc-autonumbering": true
 },
 "nbformat": 4,
 "nbformat_minor": 4
}
