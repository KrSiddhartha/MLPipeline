{
 "cells": [
  {
   "cell_type": "markdown",
   "id": "862517c2-923f-4738-88c5-b5a79a82a122",
   "metadata": {
    "id": "6cb05d67-183f-4a0f-9206-d71f93dc3049",
    "jp-MarkdownHeadingCollapsed": true,
    "tags": []
   },
   "source": [
    "# Importing Modules"
   ]
  },
  {
   "cell_type": "code",
   "execution_count": 1,
   "id": "29db40ed-fdcb-428d-9df3-635462b06b9f",
   "metadata": {
    "colab": {
     "base_uri": "https://localhost:8080/"
    },
    "id": "e6b956a8-4c8a-4835-8540-0480a179f0bc",
    "outputId": "c2ebb146-b516-4449-edd9-7d78c0baa09f",
    "tags": []
   },
   "outputs": [
    {
     "name": "stdout",
     "output_type": "stream",
     "text": [
      "time: 6.83 s (started: 2022-01-25 15:02:05 +05:30)\n"
     ]
    }
   ],
   "source": [
    "%load_ext autotime\n",
    "import pickle\n",
    "import string\n",
    "import warnings\n",
    "import subprocess\n",
    "import numpy as np\n",
    "import regex as re\n",
    "import pandas as pd\n",
    "import seaborn as sn\n",
    "import xgboost as xgb\n",
    "from tqdm.notebook import tqdm\n",
    "import matplotlib.pyplot as plt\n",
    "from gensim.models.word2vec import Word2Vec\n",
    "\n",
    "import sklearn\n",
    "from sklearn import metrics\n",
    "from sklearn.svm import LinearSVC\n",
    "from sklearn.naive_bayes import MultinomialNB\n",
    "from sklearn.linear_model import LogisticRegression\n",
    "from sklearn.model_selection import cross_validate\n",
    "from sklearn.neighbors import KNeighborsClassifier\n",
    "from sklearn.feature_extraction.text import TfidfVectorizer\n",
    "\n",
    "import nltk\n",
    "from nltk.corpus import stopwords\n",
    "from nltk.stem import PorterStemmer\n",
    "from nltk.tokenize import word_tokenize\n",
    "from nltk.stem import WordNetLemmatizer\n",
    "\n",
    "import tensorflow as tf\n",
    "from tensorflow.keras import layers\n",
    "from tensorflow.keras import preprocessing\n",
    "from tensorflow.keras.models import Sequential\n",
    "from tensorflow.keras.utils import to_categorical\n",
    "from tensorflow.keras.callbacks import EarlyStopping"
   ]
  },
  {
   "cell_type": "code",
   "execution_count": 2,
   "id": "b76394fc-fd21-4e7b-8258-69292ae19144",
   "metadata": {
    "colab": {
     "base_uri": "https://localhost:8080/"
    },
    "id": "mW9UPM2D_1em",
    "outputId": "a4b7b60f-ba63-4cb8-f02e-45d5b5106cf2"
   },
   "outputs": [
    {
     "name": "stdout",
     "output_type": "stream",
     "text": [
      "time: 0 ns (started: 2022-01-25 15:02:13 +05:30)\n"
     ]
    }
   ],
   "source": [
    "warnings.filterwarnings(\"ignore\")\n",
    "Stopwords = stopwords.words('English')\n",
    "Stopwords += [i for i in string.ascii_lowercase]"
   ]
  },
  {
   "cell_type": "markdown",
   "id": "9e8cde68-2c0d-4600-9ab8-c378d46f07d9",
   "metadata": {
    "id": "hmpoNarUQBix",
    "jp-MarkdownHeadingCollapsed": true,
    "tags": []
   },
   "source": [
    "# Defined Functions"
   ]
  },
  {
   "cell_type": "markdown",
   "id": "494ea824-068c-4af5-bdd5-6bd8e6f0e508",
   "metadata": {
    "id": "fJHchqlyQENk",
    "jp-MarkdownHeadingCollapsed": true,
    "tags": []
   },
   "source": [
    "## Distribution Table"
   ]
  },
  {
   "cell_type": "code",
   "execution_count": 3,
   "id": "416a5335-b5e0-4d4c-a6ca-0662e69f58fa",
   "metadata": {
    "colab": {
     "base_uri": "https://localhost:8080/"
    },
    "id": "FY0Up5RqQF34",
    "outputId": "c8ff9e46-c22e-4da1-d378-5c2208520d70"
   },
   "outputs": [
    {
     "name": "stdout",
     "output_type": "stream",
     "text": [
      "time: 0 ns (started: 2022-01-25 15:02:54 +05:30)\n"
     ]
    }
   ],
   "source": [
    "## Distribution table\n",
    "def distTab(df, clN=None, bins=None):\n",
    "    ## When the input is a series or list\n",
    "    if type(df)==pd.core.series.Series:\n",
    "        tmpDf = pd.DataFrame(df.value_counts(bins=bins))\n",
    "        tmpDf = pd.merge(tmpDf,\n",
    "                         pd.DataFrame(round(df.value_counts(bins=bins, normalize=True)*100,1)),\n",
    "                         on=tmpDf.index)\n",
    "        tmpDf.columns = [\"Value\", \"Frequency\", \"Percentage\"]\n",
    "    ## When the input is a DataFrame or list\n",
    "    if type(df)==pd.core.frame.DataFrame:\n",
    "        tmpDf = pd.DataFrame(df[clN].value_counts(bins=bins))\n",
    "        tmpDf = pd.merge(tmpDf,\n",
    "                         pd.DataFrame(round(df[clN].value_counts(bins=bins, normalize=True)*100,1)),\n",
    "                         on=tmpDf.index)\n",
    "        tmpDf.columns = [clN, \"Frequency\", \"Percentage\"]\n",
    "    else:\n",
    "        df = pd.Series(df)\n",
    "        tmpDf = pd.DataFrame(df.value_counts(bins=bins))\n",
    "        tmpDf = pd.merge(tmpDf,\n",
    "                         pd.DataFrame(round(df.value_counts(bins=bins, normalize=True)*100,1)),\n",
    "                         on=tmpDf.index)\n",
    "        tmpDf.columns = [\"Value\", \"Frequency\", \"Percentage\"]\n",
    "    return(tmpDf)"
   ]
  },
  {
   "cell_type": "markdown",
   "id": "ebdfaf3b-c886-4c0b-bda9-3cfdd2351660",
   "metadata": {
    "jp-MarkdownHeadingCollapsed": true,
    "tags": []
   },
   "source": [
    "## Converting sentences to vec"
   ]
  },
  {
   "cell_type": "code",
   "execution_count": 4,
   "id": "5851d22f-d078-4363-9603-536d90ec073d",
   "metadata": {},
   "outputs": [
    {
     "name": "stdout",
     "output_type": "stream",
     "text": [
      "time: 0 ns (started: 2022-01-25 15:02:54 +05:30)\n"
     ]
    }
   ],
   "source": [
    "def sent2vec(s, vec_s, embed):\n",
    "    words = word_tokenize(s)\n",
    "    M = []\n",
    "    for w in words:\n",
    "        try:\n",
    "            M.append(embed[w])\n",
    "        except:\n",
    "            continue\n",
    "    M = np.array(M)\n",
    "    v = M.sum(axis=0)\n",
    "    if type(v) != np.ndarray:\n",
    "        return np.zeros(vec_s)\n",
    "    return v / np.sqrt((v ** 2).sum())"
   ]
  },
  {
   "cell_type": "markdown",
   "id": "2a5c7716-e647-4f20-aea9-4af0b4fe6b4f",
   "metadata": {
    "id": "x9QxRCK7LqQv",
    "jp-MarkdownHeadingCollapsed": true,
    "tags": []
   },
   "source": [
    "# Importing Data"
   ]
  },
  {
   "cell_type": "code",
   "execution_count": 5,
   "id": "350727e3-b7f9-47cc-86ce-b74916fe9837",
   "metadata": {
    "colab": {
     "base_uri": "https://localhost:8080/"
    },
    "id": "kRL7WK6cMLuw",
    "outputId": "f3540988-b1ac-4177-dc74-cbf97d99d0c0"
   },
   "outputs": [
    {
     "name": "stdout",
     "output_type": "stream",
     "text": [
      "time: 16.6 s (started: 2022-01-25 15:02:54 +05:30)\n"
     ]
    }
   ],
   "source": [
    "con_com = pd.read_csv('complaints.csv')"
   ]
  },
  {
   "cell_type": "markdown",
   "id": "184539be-613e-4f74-a814-59a8abb3b293",
   "metadata": {
    "id": "u8Rok4hBNOdJ",
    "tags": []
   },
   "source": [
    "# Data Exploration and Preprocessing"
   ]
  },
  {
   "cell_type": "markdown",
   "id": "857fb2f0-862b-41f1-9579-2dc7e9c7d489",
   "metadata": {
    "jp-MarkdownHeadingCollapsed": true,
    "tags": []
   },
   "source": [
    "## Overall View of the data"
   ]
  },
  {
   "cell_type": "code",
   "execution_count": 6,
   "id": "aac5e9a6-db65-4540-acc2-f919ecba97de",
   "metadata": {
    "colab": {
     "base_uri": "https://localhost:8080/",
     "height": 0
    },
    "id": "Nkq42FXRNQTv",
    "outputId": "7acc2caa-430b-49ee-a765-7046d3463950"
   },
   "outputs": [
    {
     "data": {
      "text/html": [
       "<div>\n",
       "<style scoped>\n",
       "    .dataframe tbody tr th:only-of-type {\n",
       "        vertical-align: middle;\n",
       "    }\n",
       "\n",
       "    .dataframe tbody tr th {\n",
       "        vertical-align: top;\n",
       "    }\n",
       "\n",
       "    .dataframe thead th {\n",
       "        text-align: right;\n",
       "    }\n",
       "</style>\n",
       "<table border=\"1\" class=\"dataframe\">\n",
       "  <thead>\n",
       "    <tr style=\"text-align: right;\">\n",
       "      <th></th>\n",
       "      <th>Date received</th>\n",
       "      <th>Product</th>\n",
       "      <th>Sub-product</th>\n",
       "      <th>Issue</th>\n",
       "      <th>Sub-issue</th>\n",
       "      <th>Consumer complaint narrative</th>\n",
       "      <th>Company public response</th>\n",
       "      <th>Company</th>\n",
       "      <th>State</th>\n",
       "      <th>ZIP code</th>\n",
       "      <th>Tags</th>\n",
       "      <th>Consumer consent provided?</th>\n",
       "      <th>Submitted via</th>\n",
       "      <th>Date sent to company</th>\n",
       "      <th>Company response to consumer</th>\n",
       "      <th>Timely response?</th>\n",
       "      <th>Consumer disputed?</th>\n",
       "      <th>Complaint ID</th>\n",
       "    </tr>\n",
       "  </thead>\n",
       "  <tbody>\n",
       "    <tr>\n",
       "      <th>0</th>\n",
       "      <td>2019-06-13</td>\n",
       "      <td>Credit reporting, credit repair services, or o...</td>\n",
       "      <td>Credit reporting</td>\n",
       "      <td>Incorrect information on your report</td>\n",
       "      <td>Information belongs to someone else</td>\n",
       "      <td>NaN</td>\n",
       "      <td>NaN</td>\n",
       "      <td>CAPITAL ONE FINANCIAL CORPORATION</td>\n",
       "      <td>PA</td>\n",
       "      <td>18640.0</td>\n",
       "      <td>NaN</td>\n",
       "      <td>Consent not provided</td>\n",
       "      <td>Web</td>\n",
       "      <td>2019-06-13</td>\n",
       "      <td>Closed with explanation</td>\n",
       "      <td>Yes</td>\n",
       "      <td>NaN</td>\n",
       "      <td>3274605</td>\n",
       "    </tr>\n",
       "    <tr>\n",
       "      <th>1</th>\n",
       "      <td>2019-11-01</td>\n",
       "      <td>Vehicle loan or lease</td>\n",
       "      <td>Loan</td>\n",
       "      <td>Struggling to pay your loan</td>\n",
       "      <td>Denied request to lower payments</td>\n",
       "      <td>I contacted Ally on Friday XX/XX/XXXX after fa...</td>\n",
       "      <td>Company has responded to the consumer and the ...</td>\n",
       "      <td>ALLY FINANCIAL INC.</td>\n",
       "      <td>NJ</td>\n",
       "      <td>8854.0</td>\n",
       "      <td>NaN</td>\n",
       "      <td>Consent provided</td>\n",
       "      <td>Web</td>\n",
       "      <td>2019-11-01</td>\n",
       "      <td>Closed with explanation</td>\n",
       "      <td>Yes</td>\n",
       "      <td>NaN</td>\n",
       "      <td>3425257</td>\n",
       "    </tr>\n",
       "    <tr>\n",
       "      <th>2</th>\n",
       "      <td>2019-04-01</td>\n",
       "      <td>Credit reporting, credit repair services, or o...</td>\n",
       "      <td>Credit reporting</td>\n",
       "      <td>Incorrect information on your report</td>\n",
       "      <td>Account status incorrect</td>\n",
       "      <td>NaN</td>\n",
       "      <td>Company has responded to the consumer and the ...</td>\n",
       "      <td>TRANSUNION INTERMEDIATE HOLDINGS, INC.</td>\n",
       "      <td>PA</td>\n",
       "      <td>19067.0</td>\n",
       "      <td>NaN</td>\n",
       "      <td>Consent not provided</td>\n",
       "      <td>Web</td>\n",
       "      <td>2019-04-01</td>\n",
       "      <td>Closed with explanation</td>\n",
       "      <td>Yes</td>\n",
       "      <td>NaN</td>\n",
       "      <td>3198225</td>\n",
       "    </tr>\n",
       "    <tr>\n",
       "      <th>3</th>\n",
       "      <td>2019-08-26</td>\n",
       "      <td>Checking or savings account</td>\n",
       "      <td>Checking account</td>\n",
       "      <td>Managing an account</td>\n",
       "      <td>Deposits and withdrawals</td>\n",
       "      <td>NaN</td>\n",
       "      <td>Company has responded to the consumer and the ...</td>\n",
       "      <td>BANK OF AMERICA, NATIONAL ASSOCIATION</td>\n",
       "      <td>FL</td>\n",
       "      <td>33194.0</td>\n",
       "      <td>NaN</td>\n",
       "      <td>NaN</td>\n",
       "      <td>Referral</td>\n",
       "      <td>2019-08-27</td>\n",
       "      <td>Closed with explanation</td>\n",
       "      <td>Yes</td>\n",
       "      <td>NaN</td>\n",
       "      <td>3355681</td>\n",
       "    </tr>\n",
       "    <tr>\n",
       "      <th>4</th>\n",
       "      <td>2021-02-22</td>\n",
       "      <td>Credit card or prepaid card</td>\n",
       "      <td>General-purpose credit card or charge card</td>\n",
       "      <td>Problem when making payments</td>\n",
       "      <td>Problem during payment process</td>\n",
       "      <td>On XX/XX/2019 my bill did not go through accou...</td>\n",
       "      <td>Company has responded to the consumer and the ...</td>\n",
       "      <td>BANK OF AMERICA, NATIONAL ASSOCIATION</td>\n",
       "      <td>FL</td>\n",
       "      <td>32541.0</td>\n",
       "      <td>NaN</td>\n",
       "      <td>Consent provided</td>\n",
       "      <td>Web</td>\n",
       "      <td>2021-02-22</td>\n",
       "      <td>Closed with explanation</td>\n",
       "      <td>Yes</td>\n",
       "      <td>NaN</td>\n",
       "      <td>4157111</td>\n",
       "    </tr>\n",
       "  </tbody>\n",
       "</table>\n",
       "</div>"
      ],
      "text/plain": [
       "  Date received                                            Product  \\\n",
       "0    2019-06-13  Credit reporting, credit repair services, or o...   \n",
       "1    2019-11-01                              Vehicle loan or lease   \n",
       "2    2019-04-01  Credit reporting, credit repair services, or o...   \n",
       "3    2019-08-26                        Checking or savings account   \n",
       "4    2021-02-22                        Credit card or prepaid card   \n",
       "\n",
       "                                  Sub-product  \\\n",
       "0                            Credit reporting   \n",
       "1                                        Loan   \n",
       "2                            Credit reporting   \n",
       "3                            Checking account   \n",
       "4  General-purpose credit card or charge card   \n",
       "\n",
       "                                  Issue                            Sub-issue  \\\n",
       "0  Incorrect information on your report  Information belongs to someone else   \n",
       "1           Struggling to pay your loan     Denied request to lower payments   \n",
       "2  Incorrect information on your report             Account status incorrect   \n",
       "3                   Managing an account             Deposits and withdrawals   \n",
       "4          Problem when making payments       Problem during payment process   \n",
       "\n",
       "                        Consumer complaint narrative  \\\n",
       "0                                                NaN   \n",
       "1  I contacted Ally on Friday XX/XX/XXXX after fa...   \n",
       "2                                                NaN   \n",
       "3                                                NaN   \n",
       "4  On XX/XX/2019 my bill did not go through accou...   \n",
       "\n",
       "                             Company public response  \\\n",
       "0                                                NaN   \n",
       "1  Company has responded to the consumer and the ...   \n",
       "2  Company has responded to the consumer and the ...   \n",
       "3  Company has responded to the consumer and the ...   \n",
       "4  Company has responded to the consumer and the ...   \n",
       "\n",
       "                                  Company State ZIP code Tags  \\\n",
       "0       CAPITAL ONE FINANCIAL CORPORATION    PA  18640.0  NaN   \n",
       "1                     ALLY FINANCIAL INC.    NJ   8854.0  NaN   \n",
       "2  TRANSUNION INTERMEDIATE HOLDINGS, INC.    PA  19067.0  NaN   \n",
       "3   BANK OF AMERICA, NATIONAL ASSOCIATION    FL  33194.0  NaN   \n",
       "4   BANK OF AMERICA, NATIONAL ASSOCIATION    FL  32541.0  NaN   \n",
       "\n",
       "  Consumer consent provided? Submitted via Date sent to company  \\\n",
       "0       Consent not provided           Web           2019-06-13   \n",
       "1           Consent provided           Web           2019-11-01   \n",
       "2       Consent not provided           Web           2019-04-01   \n",
       "3                        NaN      Referral           2019-08-27   \n",
       "4           Consent provided           Web           2021-02-22   \n",
       "\n",
       "  Company response to consumer Timely response? Consumer disputed?  \\\n",
       "0      Closed with explanation              Yes                NaN   \n",
       "1      Closed with explanation              Yes                NaN   \n",
       "2      Closed with explanation              Yes                NaN   \n",
       "3      Closed with explanation              Yes                NaN   \n",
       "4      Closed with explanation              Yes                NaN   \n",
       "\n",
       "   Complaint ID  \n",
       "0       3274605  \n",
       "1       3425257  \n",
       "2       3198225  \n",
       "3       3355681  \n",
       "4       4157111  "
      ]
     },
     "execution_count": 6,
     "metadata": {},
     "output_type": "execute_result"
    },
    {
     "name": "stdout",
     "output_type": "stream",
     "text": [
      "time: 32 ms (started: 2022-01-25 15:03:10 +05:30)\n"
     ]
    }
   ],
   "source": [
    "con_com.head()"
   ]
  },
  {
   "cell_type": "markdown",
   "id": "66f59c4b-93ff-4ecd-9894-ea3fc0553e82",
   "metadata": {
    "id": "K2Zv8ddKhyVk"
   },
   "source": [
    "Looking at the above snap of the available data:\n",
    "- Product is the target variable\n",
    "- Sub-product provides a better understanding of the categories in Product\n",
    "- Consumer complaint narrative is what we need to classify"
   ]
  },
  {
   "cell_type": "markdown",
   "id": "2329b4b9-afd0-4815-83c2-297c2da605b4",
   "metadata": {
    "id": "R-0hW7g6iDgc"
   },
   "source": [
    "We will create a new dataframe with only the required variables"
   ]
  },
  {
   "cell_type": "code",
   "execution_count": 7,
   "id": "fd705c93-255c-494f-acc0-bed83b8fcfab",
   "metadata": {
    "colab": {
     "base_uri": "https://localhost:8080/",
     "height": 0
    },
    "id": "bx4ADqX6iOkt",
    "outputId": "3d208bec-3e3a-4670-bb0d-407c8fd77205"
   },
   "outputs": [
    {
     "data": {
      "text/html": [
       "<div>\n",
       "<style scoped>\n",
       "    .dataframe tbody tr th:only-of-type {\n",
       "        vertical-align: middle;\n",
       "    }\n",
       "\n",
       "    .dataframe tbody tr th {\n",
       "        vertical-align: top;\n",
       "    }\n",
       "\n",
       "    .dataframe thead th {\n",
       "        text-align: right;\n",
       "    }\n",
       "</style>\n",
       "<table border=\"1\" class=\"dataframe\">\n",
       "  <thead>\n",
       "    <tr style=\"text-align: right;\">\n",
       "      <th></th>\n",
       "      <th>Product</th>\n",
       "      <th>Sub-product</th>\n",
       "      <th>Consumer complaint narrative</th>\n",
       "    </tr>\n",
       "  </thead>\n",
       "  <tbody>\n",
       "    <tr>\n",
       "      <th>0</th>\n",
       "      <td>Credit reporting, credit repair services, or o...</td>\n",
       "      <td>Credit reporting</td>\n",
       "      <td>NaN</td>\n",
       "    </tr>\n",
       "    <tr>\n",
       "      <th>1</th>\n",
       "      <td>Vehicle loan or lease</td>\n",
       "      <td>Loan</td>\n",
       "      <td>I contacted Ally on Friday XX/XX/XXXX after fa...</td>\n",
       "    </tr>\n",
       "    <tr>\n",
       "      <th>2</th>\n",
       "      <td>Credit reporting, credit repair services, or o...</td>\n",
       "      <td>Credit reporting</td>\n",
       "      <td>NaN</td>\n",
       "    </tr>\n",
       "    <tr>\n",
       "      <th>3</th>\n",
       "      <td>Checking or savings account</td>\n",
       "      <td>Checking account</td>\n",
       "      <td>NaN</td>\n",
       "    </tr>\n",
       "    <tr>\n",
       "      <th>4</th>\n",
       "      <td>Credit card or prepaid card</td>\n",
       "      <td>General-purpose credit card or charge card</td>\n",
       "      <td>On XX/XX/2019 my bill did not go through accou...</td>\n",
       "    </tr>\n",
       "  </tbody>\n",
       "</table>\n",
       "</div>"
      ],
      "text/plain": [
       "                                             Product  \\\n",
       "0  Credit reporting, credit repair services, or o...   \n",
       "1                              Vehicle loan or lease   \n",
       "2  Credit reporting, credit repair services, or o...   \n",
       "3                        Checking or savings account   \n",
       "4                        Credit card or prepaid card   \n",
       "\n",
       "                                  Sub-product  \\\n",
       "0                            Credit reporting   \n",
       "1                                        Loan   \n",
       "2                            Credit reporting   \n",
       "3                            Checking account   \n",
       "4  General-purpose credit card or charge card   \n",
       "\n",
       "                        Consumer complaint narrative  \n",
       "0                                                NaN  \n",
       "1  I contacted Ally on Friday XX/XX/XXXX after fa...  \n",
       "2                                                NaN  \n",
       "3                                                NaN  \n",
       "4  On XX/XX/2019 my bill did not go through accou...  "
      ]
     },
     "execution_count": 7,
     "metadata": {},
     "output_type": "execute_result"
    },
    {
     "name": "stdout",
     "output_type": "stream",
     "text": [
      "time: 78 ms (started: 2022-01-25 15:03:10 +05:30)\n"
     ]
    }
   ],
   "source": [
    "con_com_use = con_com[['Product', 'Sub-product', 'Consumer complaint narrative']]\n",
    "con_com_use.head()"
   ]
  },
  {
   "cell_type": "markdown",
   "id": "5f96aa57-0bf8-453b-abf8-cba184cd6219",
   "metadata": {
    "id": "qF5oeY28imMu"
   },
   "source": [
    "Taking a look at the missing values"
   ]
  },
  {
   "cell_type": "markdown",
   "id": "532b8bc6-a4f6-4342-b0a7-7832eb541d1a",
   "metadata": {
    "tags": []
   },
   "source": [
    "## Missing Values"
   ]
  },
  {
   "cell_type": "code",
   "execution_count": 8,
   "id": "306cf72c-0659-4299-8e9c-7945c8646380",
   "metadata": {
    "colab": {
     "base_uri": "https://localhost:8080/"
    },
    "id": "HG5V-6G_PRpQ",
    "outputId": "970d5fed-6b15-4c1b-985f-e49600cdb671"
   },
   "outputs": [
    {
     "name": "stdout",
     "output_type": "stream",
     "text": [
      "(2374711, 3)\n",
      "Product                          0.000000\n",
      "Sub-product                      9.902847\n",
      "Consumer complaint narrative    65.089226\n",
      "dtype: float64\n",
      "time: 297 ms (started: 2022-01-25 15:03:10 +05:30)\n"
     ]
    }
   ],
   "source": [
    "print(con_com_use.shape)\n",
    "print((pd.isnull(con_com_use).sum()/con_com_use.shape[0])*100)"
   ]
  },
  {
   "cell_type": "markdown",
   "id": "ecc20be9-b889-4364-b5ad-22d5828dfe13",
   "metadata": {
    "id": "talercLyitgs"
   },
   "source": [
    "We will have to drop all the missing values in the Consumer complaint narrative"
   ]
  },
  {
   "cell_type": "code",
   "execution_count": 9,
   "id": "2548239d-966c-4067-96da-b590ba1fb5ea",
   "metadata": {
    "colab": {
     "base_uri": "https://localhost:8080/"
    },
    "id": "DSml484XdUnn",
    "outputId": "2d50df64-f387-4f3b-98ad-183f9f4db62c"
   },
   "outputs": [
    {
     "name": "stdout",
     "output_type": "stream",
     "text": [
      "time: 187 ms (started: 2022-01-25 15:03:11 +05:30)\n"
     ]
    }
   ],
   "source": [
    "con_com_use = con_com_use[pd.notnull(con_com_use['Consumer complaint narrative'])]"
   ]
  },
  {
   "cell_type": "code",
   "execution_count": 10,
   "id": "d55c7d08-92e4-4dc4-ac37-057de90d5dd0",
   "metadata": {
    "colab": {
     "base_uri": "https://localhost:8080/"
    },
    "id": "Hj9KXBnUjm__",
    "outputId": "2fdc6586-6214-4c71-d8b8-f3de6a6cc00e"
   },
   "outputs": [
    {
     "name": "stdout",
     "output_type": "stream",
     "text": [
      "(829030, 3)\n",
      "Product                         0.000000\n",
      "Sub-product                     6.293138\n",
      "Consumer complaint narrative    0.000000\n",
      "dtype: float64\n",
      "time: 125 ms (started: 2022-01-25 15:03:11 +05:30)\n"
     ]
    }
   ],
   "source": [
    "print(con_com_use.shape)\n",
    "print((pd.isnull(con_com_use).sum()/con_com_use.shape[0])*100)"
   ]
  },
  {
   "cell_type": "markdown",
   "id": "4ef2aadf-dcdd-456c-912c-afc28eb4b3cc",
   "metadata": {
    "jp-MarkdownHeadingCollapsed": true,
    "tags": []
   },
   "source": [
    "## Data distribution"
   ]
  },
  {
   "cell_type": "code",
   "execution_count": 11,
   "id": "51e33fc8-83b8-4852-a04a-5667e01ca481",
   "metadata": {
    "colab": {
     "base_uri": "https://localhost:8080/",
     "height": 0
    },
    "id": "W2ECgnpiZjtl",
    "outputId": "aa5c54a0-8aef-4919-c9b7-c3c7f994c58a",
    "scrolled": true,
    "tags": []
   },
   "outputs": [
    {
     "name": "stdout",
     "output_type": "stream",
     "text": [
      "Product\n"
     ]
    },
    {
     "data": {
      "text/html": [
       "<div>\n",
       "<style scoped>\n",
       "    .dataframe tbody tr th:only-of-type {\n",
       "        vertical-align: middle;\n",
       "    }\n",
       "\n",
       "    .dataframe tbody tr th {\n",
       "        vertical-align: top;\n",
       "    }\n",
       "\n",
       "    .dataframe thead th {\n",
       "        text-align: right;\n",
       "    }\n",
       "</style>\n",
       "<table border=\"1\" class=\"dataframe\">\n",
       "  <thead>\n",
       "    <tr style=\"text-align: right;\">\n",
       "      <th></th>\n",
       "      <th>Product</th>\n",
       "      <th>Frequency</th>\n",
       "      <th>Percentage</th>\n",
       "    </tr>\n",
       "  </thead>\n",
       "  <tbody>\n",
       "    <tr>\n",
       "      <th>0</th>\n",
       "      <td>Credit reporting, credit repair services, or o...</td>\n",
       "      <td>326828</td>\n",
       "      <td>39.4</td>\n",
       "    </tr>\n",
       "    <tr>\n",
       "      <th>1</th>\n",
       "      <td>Debt collection</td>\n",
       "      <td>160799</td>\n",
       "      <td>19.4</td>\n",
       "    </tr>\n",
       "    <tr>\n",
       "      <th>2</th>\n",
       "      <td>Mortgage</td>\n",
       "      <td>85766</td>\n",
       "      <td>10.3</td>\n",
       "    </tr>\n",
       "    <tr>\n",
       "      <th>3</th>\n",
       "      <td>Credit card or prepaid card</td>\n",
       "      <td>62540</td>\n",
       "      <td>7.5</td>\n",
       "    </tr>\n",
       "    <tr>\n",
       "      <th>4</th>\n",
       "      <td>Checking or savings account</td>\n",
       "      <td>38576</td>\n",
       "      <td>4.7</td>\n",
       "    </tr>\n",
       "    <tr>\n",
       "      <th>5</th>\n",
       "      <td>Credit reporting</td>\n",
       "      <td>31588</td>\n",
       "      <td>3.8</td>\n",
       "    </tr>\n",
       "    <tr>\n",
       "      <th>6</th>\n",
       "      <td>Student loan</td>\n",
       "      <td>29321</td>\n",
       "      <td>3.5</td>\n",
       "    </tr>\n",
       "    <tr>\n",
       "      <th>7</th>\n",
       "      <td>Money transfer, virtual currency, or money ser...</td>\n",
       "      <td>19244</td>\n",
       "      <td>2.3</td>\n",
       "    </tr>\n",
       "    <tr>\n",
       "      <th>8</th>\n",
       "      <td>Credit card</td>\n",
       "      <td>18838</td>\n",
       "      <td>2.3</td>\n",
       "    </tr>\n",
       "    <tr>\n",
       "      <th>9</th>\n",
       "      <td>Vehicle loan or lease</td>\n",
       "      <td>15521</td>\n",
       "      <td>1.9</td>\n",
       "    </tr>\n",
       "    <tr>\n",
       "      <th>10</th>\n",
       "      <td>Bank account or service</td>\n",
       "      <td>14885</td>\n",
       "      <td>1.8</td>\n",
       "    </tr>\n",
       "    <tr>\n",
       "      <th>11</th>\n",
       "      <td>Payday loan, title loan, or personal loan</td>\n",
       "      <td>10653</td>\n",
       "      <td>1.3</td>\n",
       "    </tr>\n",
       "    <tr>\n",
       "      <th>12</th>\n",
       "      <td>Consumer Loan</td>\n",
       "      <td>9470</td>\n",
       "      <td>1.1</td>\n",
       "    </tr>\n",
       "    <tr>\n",
       "      <th>13</th>\n",
       "      <td>Payday loan</td>\n",
       "      <td>1746</td>\n",
       "      <td>0.2</td>\n",
       "    </tr>\n",
       "    <tr>\n",
       "      <th>14</th>\n",
       "      <td>Money transfers</td>\n",
       "      <td>1497</td>\n",
       "      <td>0.2</td>\n",
       "    </tr>\n",
       "    <tr>\n",
       "      <th>15</th>\n",
       "      <td>Prepaid card</td>\n",
       "      <td>1450</td>\n",
       "      <td>0.2</td>\n",
       "    </tr>\n",
       "    <tr>\n",
       "      <th>16</th>\n",
       "      <td>Other financial service</td>\n",
       "      <td>292</td>\n",
       "      <td>0.0</td>\n",
       "    </tr>\n",
       "    <tr>\n",
       "      <th>17</th>\n",
       "      <td>Virtual currency</td>\n",
       "      <td>16</td>\n",
       "      <td>0.0</td>\n",
       "    </tr>\n",
       "  </tbody>\n",
       "</table>\n",
       "</div>"
      ],
      "text/plain": [
       "                                              Product  Frequency  Percentage\n",
       "0   Credit reporting, credit repair services, or o...     326828        39.4\n",
       "1                                     Debt collection     160799        19.4\n",
       "2                                            Mortgage      85766        10.3\n",
       "3                         Credit card or prepaid card      62540         7.5\n",
       "4                         Checking or savings account      38576         4.7\n",
       "5                                    Credit reporting      31588         3.8\n",
       "6                                        Student loan      29321         3.5\n",
       "7   Money transfer, virtual currency, or money ser...      19244         2.3\n",
       "8                                         Credit card      18838         2.3\n",
       "9                               Vehicle loan or lease      15521         1.9\n",
       "10                            Bank account or service      14885         1.8\n",
       "11          Payday loan, title loan, or personal loan      10653         1.3\n",
       "12                                      Consumer Loan       9470         1.1\n",
       "13                                        Payday loan       1746         0.2\n",
       "14                                    Money transfers       1497         0.2\n",
       "15                                       Prepaid card       1450         0.2\n",
       "16                            Other financial service        292         0.0\n",
       "17                                   Virtual currency         16         0.0"
      ]
     },
     "metadata": {},
     "output_type": "display_data"
    },
    {
     "data": {
      "image/png": "[encoded data removed]",
      "text/plain": [
       "<Figure size 1584x576 with 1 Axes>"
      ]
     },
     "metadata": {
      "needs_background": "light"
     },
     "output_type": "display_data"
    },
    {
     "name": "stdout",
     "output_type": "stream",
     "text": [
      "\n",
      "\n",
      "\n",
      "Sub-product\n"
     ]
    },
    {
     "data": {
      "text/html": [
       "<div>\n",
       "<style scoped>\n",
       "    .dataframe tbody tr th:only-of-type {\n",
       "        vertical-align: middle;\n",
       "    }\n",
       "\n",
       "    .dataframe tbody tr th {\n",
       "        vertical-align: top;\n",
       "    }\n",
       "\n",
       "    .dataframe thead th {\n",
       "        text-align: right;\n",
       "    }\n",
       "</style>\n",
       "<table border=\"1\" class=\"dataframe\">\n",
       "  <thead>\n",
       "    <tr style=\"text-align: right;\">\n",
       "      <th></th>\n",
       "      <th>Sub-product</th>\n",
       "      <th>Frequency</th>\n",
       "      <th>Percentage</th>\n",
       "    </tr>\n",
       "  </thead>\n",
       "  <tbody>\n",
       "    <tr>\n",
       "      <th>0</th>\n",
       "      <td>Credit reporting</td>\n",
       "      <td>321016</td>\n",
       "      <td>41.3</td>\n",
       "    </tr>\n",
       "    <tr>\n",
       "      <th>1</th>\n",
       "      <td>General-purpose credit card or charge card</td>\n",
       "      <td>46698</td>\n",
       "      <td>6.0</td>\n",
       "    </tr>\n",
       "    <tr>\n",
       "      <th>2</th>\n",
       "      <td>Checking account</td>\n",
       "      <td>41981</td>\n",
       "      <td>5.4</td>\n",
       "    </tr>\n",
       "    <tr>\n",
       "      <th>3</th>\n",
       "      <td>Other debt</td>\n",
       "      <td>33618</td>\n",
       "      <td>4.3</td>\n",
       "    </tr>\n",
       "    <tr>\n",
       "      <th>4</th>\n",
       "      <td>Conventional home mortgage</td>\n",
       "      <td>32743</td>\n",
       "      <td>4.2</td>\n",
       "    </tr>\n",
       "    <tr>\n",
       "      <th>...</th>\n",
       "      <td>...</td>\n",
       "      <td>...</td>\n",
       "      <td>...</td>\n",
       "    </tr>\n",
       "    <tr>\n",
       "      <th>70</th>\n",
       "      <td>Credit repair</td>\n",
       "      <td>39</td>\n",
       "      <td>0.0</td>\n",
       "    </tr>\n",
       "    <tr>\n",
       "      <th>71</th>\n",
       "      <td>Traveler’s/Cashier’s checks</td>\n",
       "      <td>22</td>\n",
       "      <td>0.0</td>\n",
       "    </tr>\n",
       "    <tr>\n",
       "      <th>72</th>\n",
       "      <td>Transit card</td>\n",
       "      <td>19</td>\n",
       "      <td>0.0</td>\n",
       "    </tr>\n",
       "    <tr>\n",
       "      <th>73</th>\n",
       "      <td>Student prepaid card</td>\n",
       "      <td>11</td>\n",
       "      <td>0.0</td>\n",
       "    </tr>\n",
       "    <tr>\n",
       "      <th>74</th>\n",
       "      <td>Electronic Benefit Transfer / EBT card</td>\n",
       "      <td>3</td>\n",
       "      <td>0.0</td>\n",
       "    </tr>\n",
       "  </tbody>\n",
       "</table>\n",
       "<p>75 rows × 3 columns</p>\n",
       "</div>"
      ],
      "text/plain": [
       "                                   Sub-product  Frequency  Percentage\n",
       "0                             Credit reporting     321016        41.3\n",
       "1   General-purpose credit card or charge card      46698         6.0\n",
       "2                             Checking account      41981         5.4\n",
       "3                                   Other debt      33618         4.3\n",
       "4                   Conventional home mortgage      32743         4.2\n",
       "..                                         ...        ...         ...\n",
       "70                               Credit repair         39         0.0\n",
       "71                 Traveler’s/Cashier’s checks         22         0.0\n",
       "72                                Transit card         19         0.0\n",
       "73                        Student prepaid card         11         0.0\n",
       "74      Electronic Benefit Transfer / EBT card          3         0.0\n",
       "\n",
       "[75 rows x 3 columns]"
      ]
     },
     "metadata": {},
     "output_type": "display_data"
    },
    {
     "data": {
      "image/png": "[encoded data removed]",
      "text/plain": [
       "<Figure size 1584x576 with 1 Axes>"
      ]
     },
     "metadata": {
      "needs_background": "light"
     },
     "output_type": "display_data"
    },
    {
     "name": "stdout",
     "output_type": "stream",
     "text": [
      "\n",
      "\n",
      "\n",
      "Consumer complaint narrative\n"
     ]
    },
    {
     "data": {
      "text/html": [
       "<div>\n",
       "<style scoped>\n",
       "    .dataframe tbody tr th:only-of-type {\n",
       "        vertical-align: middle;\n",
       "    }\n",
       "\n",
       "    .dataframe tbody tr th {\n",
       "        vertical-align: top;\n",
       "    }\n",
       "\n",
       "    .dataframe thead th {\n",
       "        text-align: right;\n",
       "    }\n",
       "</style>\n",
       "<table border=\"1\" class=\"dataframe\">\n",
       "  <thead>\n",
       "    <tr style=\"text-align: right;\">\n",
       "      <th></th>\n",
       "      <th>Consumer complaint narrative</th>\n",
       "      <th>Frequency</th>\n",
       "      <th>Percentage</th>\n",
       "    </tr>\n",
       "  </thead>\n",
       "  <tbody>\n",
       "    <tr>\n",
       "      <th>0</th>\n",
       "      <td>There are many mistakes appear in my report wi...</td>\n",
       "      <td>1035</td>\n",
       "      <td>0.1</td>\n",
       "    </tr>\n",
       "    <tr>\n",
       "      <th>1</th>\n",
       "      <td>I am a victim of identity theft/fraud. I have ...</td>\n",
       "      <td>842</td>\n",
       "      <td>0.1</td>\n",
       "    </tr>\n",
       "    <tr>\n",
       "      <th>2</th>\n",
       "      <td>My credit profile is inaccurate which is not f...</td>\n",
       "      <td>730</td>\n",
       "      <td>0.1</td>\n",
       "    </tr>\n",
       "    <tr>\n",
       "      <th>3</th>\n",
       "      <td>ATTN Collections Dept I am submitting a compla...</td>\n",
       "      <td>691</td>\n",
       "      <td>0.1</td>\n",
       "    </tr>\n",
       "    <tr>\n",
       "      <th>4</th>\n",
       "      <td>The credit bureaus are reporting inaccurate/ou...</td>\n",
       "      <td>552</td>\n",
       "      <td>0.1</td>\n",
       "    </tr>\n",
       "    <tr>\n",
       "      <th>...</th>\n",
       "      <td>...</td>\n",
       "      <td>...</td>\n",
       "      <td>...</td>\n",
       "    </tr>\n",
       "    <tr>\n",
       "      <th>744074</th>\n",
       "      <td>Experian has to be the most adverse credit rep...</td>\n",
       "      <td>1</td>\n",
       "      <td>0.0</td>\n",
       "    </tr>\n",
       "    <tr>\n",
       "      <th>744075</th>\n",
       "      <td>I cancelled a newspaper subscription back in X...</td>\n",
       "      <td>1</td>\n",
       "      <td>0.0</td>\n",
       "    </tr>\n",
       "    <tr>\n",
       "      <th>744076</th>\n",
       "      <td>XXXX XXXX  XXXX  XXXX XXXX XXXX, TX XXXX '' Pl...</td>\n",
       "      <td>1</td>\n",
       "      <td>0.0</td>\n",
       "    </tr>\n",
       "    <tr>\n",
       "      <th>744077</th>\n",
       "      <td>On XX/XX/XXXX I contacted Enhanced Recovery Co...</td>\n",
       "      <td>1</td>\n",
       "      <td>0.0</td>\n",
       "    </tr>\n",
       "    <tr>\n",
       "      <th>744078</th>\n",
       "      <td>cfbp i would Like to file a complaint on Exper...</td>\n",
       "      <td>1</td>\n",
       "      <td>0.0</td>\n",
       "    </tr>\n",
       "  </tbody>\n",
       "</table>\n",
       "<p>744079 rows × 3 columns</p>\n",
       "</div>"
      ],
      "text/plain": [
       "                             Consumer complaint narrative  Frequency  \\\n",
       "0       There are many mistakes appear in my report wi...       1035   \n",
       "1       I am a victim of identity theft/fraud. I have ...        842   \n",
       "2       My credit profile is inaccurate which is not f...        730   \n",
       "3       ATTN Collections Dept I am submitting a compla...        691   \n",
       "4       The credit bureaus are reporting inaccurate/ou...        552   \n",
       "...                                                   ...        ...   \n",
       "744074  Experian has to be the most adverse credit rep...          1   \n",
       "744075  I cancelled a newspaper subscription back in X...          1   \n",
       "744076  XXXX XXXX  XXXX  XXXX XXXX XXXX, TX XXXX '' Pl...          1   \n",
       "744077  On XX/XX/XXXX I contacted Enhanced Recovery Co...          1   \n",
       "744078  cfbp i would Like to file a complaint on Exper...          1   \n",
       "\n",
       "        Percentage  \n",
       "0              0.1  \n",
       "1              0.1  \n",
       "2              0.1  \n",
       "3              0.1  \n",
       "4              0.1  \n",
       "...            ...  \n",
       "744074         0.0  \n",
       "744075         0.0  \n",
       "744076         0.0  \n",
       "744077         0.0  \n",
       "744078         0.0  \n",
       "\n",
       "[744079 rows x 3 columns]"
      ]
     },
     "metadata": {},
     "output_type": "display_data"
    },
    {
     "name": "stdout",
     "output_type": "stream",
     "text": [
      "\n",
      "\n",
      "\n",
      "time: 3.83 s (started: 2022-01-25 15:03:11 +05:30)\n"
     ]
    }
   ],
   "source": [
    "for i in range(len(con_com_use.columns)):\n",
    "    print(con_com_use.columns[i])\n",
    "    dist_tmp = distTab(con_com_use, con_com_use.columns[i])\n",
    "    display(dist_tmp)\n",
    "    if dist_tmp.shape[0]<=80:\n",
    "        f, ax = plt.subplots(figsize=(22,8))\n",
    "        sn.barplot(x=con_com_use.columns[i],y=\"Percentage\",data=dist_tmp)\n",
    "        plt.xticks(range(len(dist_tmp[con_com_use.columns[i]])), dist_tmp[con_com_use.columns[i]], rotation='vertical')\n",
    "        plt.show()\n",
    "    print('\\n\\n')"
   ]
  },
  {
   "cell_type": "markdown",
   "id": "59e5e9cd-f228-4ae7-bd74-1d568dbc694c",
   "metadata": {
    "id": "FoQfiGp4dwZG"
   },
   "source": [
    "Observation from the distribution table:\n",
    "- We have 18 categories for consumer complaints\n",
    "- We have a highly imbalanced dataset\n",
    "- Duplicate categories are present. For example categories such as 'Credit reporting' is present as a combined as well as a seperate category.\n",
    "- 8,29,030 is the total number of available observations and the unique values present in the Consumer complaint narrative is 7,44,076. Which means there can be duplicates overall."
   ]
  },
  {
   "cell_type": "markdown",
   "id": "594bfeb2-b103-4731-9c78-83ac65f57940",
   "metadata": {
    "jp-MarkdownHeadingCollapsed": true,
    "tags": []
   },
   "source": [
    "## Duplicate values"
   ]
  },
  {
   "cell_type": "code",
   "execution_count": 12,
   "id": "756d0420-1532-4017-8d7b-6685c7b34c8e",
   "metadata": {
    "colab": {
     "base_uri": "https://localhost:8080/"
    },
    "id": "owFedqHUdu7m",
    "outputId": "262029a6-71c1-43b8-b180-85ad2e21b9f6"
   },
   "outputs": [
    {
     "name": "stdout",
     "output_type": "stream",
     "text": [
      "10.076233670675368\n",
      "time: 2.25 s (started: 2022-01-25 15:03:15 +05:30)\n"
     ]
    }
   ],
   "source": [
    "print((sum(con_com_use.duplicated())/con_com_use.shape[0])*100)"
   ]
  },
  {
   "cell_type": "markdown",
   "id": "dcd12869-0338-4f36-bea3-29d5866f7e66",
   "metadata": {
    "id": "AjFHZHhXkw6_"
   },
   "source": [
    "10% of the data is duplicate in the data which we have after removal of the missing values.\n",
    "\n",
    "We will drop all the duplicate values."
   ]
  },
  {
   "cell_type": "code",
   "execution_count": 13,
   "id": "d4138511-5178-419c-a950-64f71762e822",
   "metadata": {
    "colab": {
     "base_uri": "https://localhost:8080/"
    },
    "id": "VAe3XC3XfnSe",
    "outputId": "b8bd694b-2d40-4471-e00d-5afd947dd827"
   },
   "outputs": [
    {
     "data": {
      "text/plain": [
       "(745495, 3)"
      ]
     },
     "execution_count": 13,
     "metadata": {},
     "output_type": "execute_result"
    },
    {
     "name": "stdout",
     "output_type": "stream",
     "text": [
      "time: 2.27 s (started: 2022-01-25 15:03:17 +05:30)\n"
     ]
    }
   ],
   "source": [
    "con_com_use = con_com_use[~con_com_use.duplicated()]\n",
    "con_com_use.reset_index(drop=True, inplace=True)\n",
    "con_com_use.shape"
   ]
  },
  {
   "cell_type": "markdown",
   "id": "482c6f50-0f3b-470d-8caa-4fa3ad683463",
   "metadata": {
    "id": "ACDJwcw4nSO-"
   },
   "source": [
    "Final observation size is 7,44,722.\n",
    "\n",
    "Let's take look at the full name of the categories to understand which are the duplicate ones."
   ]
  },
  {
   "cell_type": "markdown",
   "id": "3f831ad8-661c-44f1-9992-fe05be29bd82",
   "metadata": {
    "jp-MarkdownHeadingCollapsed": true,
    "tags": []
   },
   "source": [
    "## Preprocessing Target Variable"
   ]
  },
  {
   "cell_type": "code",
   "execution_count": 14,
   "id": "486c506f-0837-4640-98c5-17e7a720b1df",
   "metadata": {
    "colab": {
     "base_uri": "https://localhost:8080/"
    },
    "id": "5ts3MpfGLVqp",
    "outputId": "0ce9c539-17ea-41c0-f17a-3890c1a5554e"
   },
   "outputs": [
    {
     "data": {
      "text/plain": [
       "{'Bank account or service',\n",
       " 'Checking or savings account',\n",
       " 'Consumer Loan',\n",
       " 'Credit card',\n",
       " 'Credit card or prepaid card',\n",
       " 'Credit reporting',\n",
       " 'Credit reporting, credit repair services, or other personal consumer reports',\n",
       " 'Debt collection',\n",
       " 'Money transfer, virtual currency, or money service',\n",
       " 'Money transfers',\n",
       " 'Mortgage',\n",
       " 'Other financial service',\n",
       " 'Payday loan',\n",
       " 'Payday loan, title loan, or personal loan',\n",
       " 'Prepaid card',\n",
       " 'Student loan',\n",
       " 'Vehicle loan or lease',\n",
       " 'Virtual currency'}"
      ]
     },
     "execution_count": 14,
     "metadata": {},
     "output_type": "execute_result"
    },
    {
     "name": "stdout",
     "output_type": "stream",
     "text": [
      "time: 31 ms (started: 2022-01-25 15:03:19 +05:30)\n"
     ]
    }
   ],
   "source": [
    "set(con_com_use.Product.tolist())"
   ]
  },
  {
   "cell_type": "markdown",
   "id": "c0e24ce6-5654-48ad-b759-01c25030f066",
   "metadata": {
    "id": "-rB-pHnBndTm"
   },
   "source": [
    "Categories which can be combined:\n",
    "- 'Credit card' and 'Prepaid card' can be combined with 'Credit card or prepaid card'.\n",
    "- 'Credit reporting',can be combined with 'Credit reporting, credit repair services, or other personal consumer reports'\n",
    "- 'Money transfers' and 'Virtual currency' can be combined with 'Money transfer, virtual currency, or money service'\n",
    "- 'Payday loan' can be combined with 'Payday loan, title loan, or personal loan'\n",
    "\n",
    "\n",
    "\n",
    "\n",
    "We will try to understand the categories in 'Products' better with a cross tab with the 'Sub-products'."
   ]
  },
  {
   "cell_type": "code",
   "execution_count": 15,
   "id": "1a69aac2-2145-4b33-96a8-e4e0f42a61c5",
   "metadata": {
    "colab": {
     "base_uri": "https://localhost:8080/"
    },
    "id": "HQsLUK8fttPa",
    "outputId": "9ff93e9b-38d4-46f3-aaf1-cee0aec8f1ab",
    "scrolled": true,
    "tags": []
   },
   "outputs": [
    {
     "data": {
      "text/html": [
       "<div>\n",
       "<style scoped>\n",
       "    .dataframe tbody tr th:only-of-type {\n",
       "        vertical-align: middle;\n",
       "    }\n",
       "\n",
       "    .dataframe tbody tr th {\n",
       "        vertical-align: top;\n",
       "    }\n",
       "\n",
       "    .dataframe thead th {\n",
       "        text-align: right;\n",
       "    }\n",
       "</style>\n",
       "<table border=\"1\" class=\"dataframe\">\n",
       "  <thead>\n",
       "    <tr style=\"text-align: right;\">\n",
       "      <th>Product</th>\n",
       "      <th>Bank account or service</th>\n",
       "      <th>Checking or savings account</th>\n",
       "      <th>Consumer Loan</th>\n",
       "      <th>Credit card or prepaid card</th>\n",
       "      <th>Credit reporting, credit repair services, or other personal consumer reports</th>\n",
       "      <th>Debt collection</th>\n",
       "      <th>Money transfer, virtual currency, or money service</th>\n",
       "      <th>Money transfers</th>\n",
       "      <th>Mortgage</th>\n",
       "      <th>Other financial service</th>\n",
       "      <th>Payday loan, title loan, or personal loan</th>\n",
       "      <th>Prepaid card</th>\n",
       "      <th>Student loan</th>\n",
       "      <th>Vehicle loan or lease</th>\n",
       "      <th>Virtual currency</th>\n",
       "    </tr>\n",
       "    <tr>\n",
       "      <th>Sub-product</th>\n",
       "      <th></th>\n",
       "      <th></th>\n",
       "      <th></th>\n",
       "      <th></th>\n",
       "      <th></th>\n",
       "      <th></th>\n",
       "      <th></th>\n",
       "      <th></th>\n",
       "      <th></th>\n",
       "      <th></th>\n",
       "      <th></th>\n",
       "      <th></th>\n",
       "      <th></th>\n",
       "      <th></th>\n",
       "      <th></th>\n",
       "    </tr>\n",
       "  </thead>\n",
       "  <tbody>\n",
       "    <tr>\n",
       "      <th>(CD) Certificate of deposit</th>\n",
       "      <td>273</td>\n",
       "      <td>0</td>\n",
       "      <td>0</td>\n",
       "      <td>0</td>\n",
       "      <td>0</td>\n",
       "      <td>0</td>\n",
       "      <td>0</td>\n",
       "      <td>0</td>\n",
       "      <td>0</td>\n",
       "      <td>0</td>\n",
       "      <td>0</td>\n",
       "      <td>0</td>\n",
       "      <td>0</td>\n",
       "      <td>0</td>\n",
       "      <td>0</td>\n",
       "    </tr>\n",
       "    <tr>\n",
       "      <th>Auto</th>\n",
       "      <td>0</td>\n",
       "      <td>0</td>\n",
       "      <td>0</td>\n",
       "      <td>0</td>\n",
       "      <td>0</td>\n",
       "      <td>1041</td>\n",
       "      <td>0</td>\n",
       "      <td>0</td>\n",
       "      <td>0</td>\n",
       "      <td>0</td>\n",
       "      <td>0</td>\n",
       "      <td>0</td>\n",
       "      <td>0</td>\n",
       "      <td>0</td>\n",
       "      <td>0</td>\n",
       "    </tr>\n",
       "    <tr>\n",
       "      <th>Auto debt</th>\n",
       "      <td>0</td>\n",
       "      <td>0</td>\n",
       "      <td>0</td>\n",
       "      <td>0</td>\n",
       "      <td>0</td>\n",
       "      <td>4772</td>\n",
       "      <td>0</td>\n",
       "      <td>0</td>\n",
       "      <td>0</td>\n",
       "      <td>0</td>\n",
       "      <td>0</td>\n",
       "      <td>0</td>\n",
       "      <td>0</td>\n",
       "      <td>0</td>\n",
       "      <td>0</td>\n",
       "    </tr>\n",
       "    <tr>\n",
       "      <th>CD (Certificate of Deposit)</th>\n",
       "      <td>0</td>\n",
       "      <td>579</td>\n",
       "      <td>0</td>\n",
       "      <td>0</td>\n",
       "      <td>0</td>\n",
       "      <td>0</td>\n",
       "      <td>0</td>\n",
       "      <td>0</td>\n",
       "      <td>0</td>\n",
       "      <td>0</td>\n",
       "      <td>0</td>\n",
       "      <td>0</td>\n",
       "      <td>0</td>\n",
       "      <td>0</td>\n",
       "      <td>0</td>\n",
       "    </tr>\n",
       "    <tr>\n",
       "      <th>Cashing a check without an account</th>\n",
       "      <td>134</td>\n",
       "      <td>0</td>\n",
       "      <td>0</td>\n",
       "      <td>0</td>\n",
       "      <td>0</td>\n",
       "      <td>0</td>\n",
       "      <td>0</td>\n",
       "      <td>0</td>\n",
       "      <td>0</td>\n",
       "      <td>0</td>\n",
       "      <td>0</td>\n",
       "      <td>0</td>\n",
       "      <td>0</td>\n",
       "      <td>0</td>\n",
       "      <td>0</td>\n",
       "    </tr>\n",
       "    <tr>\n",
       "      <th>Check cashing</th>\n",
       "      <td>0</td>\n",
       "      <td>0</td>\n",
       "      <td>0</td>\n",
       "      <td>0</td>\n",
       "      <td>0</td>\n",
       "      <td>0</td>\n",
       "      <td>0</td>\n",
       "      <td>0</td>\n",
       "      <td>0</td>\n",
       "      <td>53</td>\n",
       "      <td>0</td>\n",
       "      <td>0</td>\n",
       "      <td>0</td>\n",
       "      <td>0</td>\n",
       "      <td>0</td>\n",
       "    </tr>\n",
       "    <tr>\n",
       "      <th>Check cashing service</th>\n",
       "      <td>0</td>\n",
       "      <td>0</td>\n",
       "      <td>0</td>\n",
       "      <td>0</td>\n",
       "      <td>0</td>\n",
       "      <td>0</td>\n",
       "      <td>286</td>\n",
       "      <td>0</td>\n",
       "      <td>0</td>\n",
       "      <td>0</td>\n",
       "      <td>0</td>\n",
       "      <td>0</td>\n",
       "      <td>0</td>\n",
       "      <td>0</td>\n",
       "      <td>0</td>\n",
       "    </tr>\n",
       "    <tr>\n",
       "      <th>Checking account</th>\n",
       "      <td>10102</td>\n",
       "      <td>31834</td>\n",
       "      <td>0</td>\n",
       "      <td>0</td>\n",
       "      <td>0</td>\n",
       "      <td>0</td>\n",
       "      <td>0</td>\n",
       "      <td>0</td>\n",
       "      <td>0</td>\n",
       "      <td>0</td>\n",
       "      <td>0</td>\n",
       "      <td>0</td>\n",
       "      <td>0</td>\n",
       "      <td>0</td>\n",
       "      <td>0</td>\n",
       "    </tr>\n",
       "    <tr>\n",
       "      <th>Conventional adjustable mortgage (ARM)</th>\n",
       "      <td>0</td>\n",
       "      <td>0</td>\n",
       "      <td>0</td>\n",
       "      <td>0</td>\n",
       "      <td>0</td>\n",
       "      <td>0</td>\n",
       "      <td>0</td>\n",
       "      <td>0</td>\n",
       "      <td>4972</td>\n",
       "      <td>0</td>\n",
       "      <td>0</td>\n",
       "      <td>0</td>\n",
       "      <td>0</td>\n",
       "      <td>0</td>\n",
       "      <td>0</td>\n",
       "    </tr>\n",
       "    <tr>\n",
       "      <th>Conventional fixed mortgage</th>\n",
       "      <td>0</td>\n",
       "      <td>0</td>\n",
       "      <td>0</td>\n",
       "      <td>0</td>\n",
       "      <td>0</td>\n",
       "      <td>0</td>\n",
       "      <td>0</td>\n",
       "      <td>0</td>\n",
       "      <td>14551</td>\n",
       "      <td>0</td>\n",
       "      <td>0</td>\n",
       "      <td>0</td>\n",
       "      <td>0</td>\n",
       "      <td>0</td>\n",
       "      <td>0</td>\n",
       "    </tr>\n",
       "    <tr>\n",
       "      <th>Conventional home mortgage</th>\n",
       "      <td>0</td>\n",
       "      <td>0</td>\n",
       "      <td>0</td>\n",
       "      <td>0</td>\n",
       "      <td>1</td>\n",
       "      <td>0</td>\n",
       "      <td>0</td>\n",
       "      <td>0</td>\n",
       "      <td>32701</td>\n",
       "      <td>0</td>\n",
       "      <td>0</td>\n",
       "      <td>0</td>\n",
       "      <td>0</td>\n",
       "      <td>0</td>\n",
       "      <td>0</td>\n",
       "    </tr>\n",
       "    <tr>\n",
       "      <th>Credit card</th>\n",
       "      <td>0</td>\n",
       "      <td>0</td>\n",
       "      <td>0</td>\n",
       "      <td>0</td>\n",
       "      <td>0</td>\n",
       "      <td>7251</td>\n",
       "      <td>0</td>\n",
       "      <td>0</td>\n",
       "      <td>0</td>\n",
       "      <td>0</td>\n",
       "      <td>0</td>\n",
       "      <td>0</td>\n",
       "      <td>0</td>\n",
       "      <td>0</td>\n",
       "      <td>0</td>\n",
       "    </tr>\n",
       "    <tr>\n",
       "      <th>Credit card debt</th>\n",
       "      <td>0</td>\n",
       "      <td>0</td>\n",
       "      <td>0</td>\n",
       "      <td>0</td>\n",
       "      <td>0</td>\n",
       "      <td>26064</td>\n",
       "      <td>0</td>\n",
       "      <td>0</td>\n",
       "      <td>0</td>\n",
       "      <td>0</td>\n",
       "      <td>0</td>\n",
       "      <td>0</td>\n",
       "      <td>0</td>\n",
       "      <td>0</td>\n",
       "      <td>0</td>\n",
       "    </tr>\n",
       "    <tr>\n",
       "      <th>Credit repair</th>\n",
       "      <td>0</td>\n",
       "      <td>0</td>\n",
       "      <td>0</td>\n",
       "      <td>0</td>\n",
       "      <td>0</td>\n",
       "      <td>0</td>\n",
       "      <td>0</td>\n",
       "      <td>0</td>\n",
       "      <td>0</td>\n",
       "      <td>39</td>\n",
       "      <td>0</td>\n",
       "      <td>0</td>\n",
       "      <td>0</td>\n",
       "      <td>0</td>\n",
       "      <td>0</td>\n",
       "    </tr>\n",
       "    <tr>\n",
       "      <th>Credit repair services</th>\n",
       "      <td>0</td>\n",
       "      <td>0</td>\n",
       "      <td>0</td>\n",
       "      <td>0</td>\n",
       "      <td>1382</td>\n",
       "      <td>0</td>\n",
       "      <td>0</td>\n",
       "      <td>0</td>\n",
       "      <td>0</td>\n",
       "      <td>0</td>\n",
       "      <td>0</td>\n",
       "      <td>0</td>\n",
       "      <td>0</td>\n",
       "      <td>0</td>\n",
       "      <td>0</td>\n",
       "    </tr>\n",
       "    <tr>\n",
       "      <th>Credit reporting</th>\n",
       "      <td>0</td>\n",
       "      <td>0</td>\n",
       "      <td>0</td>\n",
       "      <td>0</td>\n",
       "      <td>248577</td>\n",
       "      <td>0</td>\n",
       "      <td>0</td>\n",
       "      <td>0</td>\n",
       "      <td>0</td>\n",
       "      <td>0</td>\n",
       "      <td>0</td>\n",
       "      <td>0</td>\n",
       "      <td>0</td>\n",
       "      <td>0</td>\n",
       "      <td>0</td>\n",
       "    </tr>\n",
       "    <tr>\n",
       "      <th>Debt settlement</th>\n",
       "      <td>0</td>\n",
       "      <td>0</td>\n",
       "      <td>0</td>\n",
       "      <td>0</td>\n",
       "      <td>0</td>\n",
       "      <td>0</td>\n",
       "      <td>220</td>\n",
       "      <td>0</td>\n",
       "      <td>0</td>\n",
       "      <td>109</td>\n",
       "      <td>0</td>\n",
       "      <td>0</td>\n",
       "      <td>0</td>\n",
       "      <td>0</td>\n",
       "      <td>0</td>\n",
       "    </tr>\n",
       "    <tr>\n",
       "      <th>Domestic (US) money transfer</th>\n",
       "      <td>0</td>\n",
       "      <td>0</td>\n",
       "      <td>0</td>\n",
       "      <td>0</td>\n",
       "      <td>0</td>\n",
       "      <td>0</td>\n",
       "      <td>5296</td>\n",
       "      <td>861</td>\n",
       "      <td>0</td>\n",
       "      <td>0</td>\n",
       "      <td>0</td>\n",
       "      <td>0</td>\n",
       "      <td>0</td>\n",
       "      <td>0</td>\n",
       "      <td>13</td>\n",
       "    </tr>\n",
       "    <tr>\n",
       "      <th>Electronic Benefit Transfer / EBT card</th>\n",
       "      <td>0</td>\n",
       "      <td>0</td>\n",
       "      <td>0</td>\n",
       "      <td>0</td>\n",
       "      <td>0</td>\n",
       "      <td>0</td>\n",
       "      <td>0</td>\n",
       "      <td>0</td>\n",
       "      <td>0</td>\n",
       "      <td>0</td>\n",
       "      <td>0</td>\n",
       "      <td>3</td>\n",
       "      <td>0</td>\n",
       "      <td>0</td>\n",
       "      <td>0</td>\n",
       "    </tr>\n",
       "    <tr>\n",
       "      <th>FHA mortgage</th>\n",
       "      <td>0</td>\n",
       "      <td>0</td>\n",
       "      <td>0</td>\n",
       "      <td>0</td>\n",
       "      <td>0</td>\n",
       "      <td>0</td>\n",
       "      <td>0</td>\n",
       "      <td>0</td>\n",
       "      <td>15488</td>\n",
       "      <td>0</td>\n",
       "      <td>0</td>\n",
       "      <td>0</td>\n",
       "      <td>0</td>\n",
       "      <td>0</td>\n",
       "      <td>0</td>\n",
       "    </tr>\n",
       "    <tr>\n",
       "      <th>Federal student loan</th>\n",
       "      <td>0</td>\n",
       "      <td>0</td>\n",
       "      <td>0</td>\n",
       "      <td>0</td>\n",
       "      <td>0</td>\n",
       "      <td>540</td>\n",
       "      <td>0</td>\n",
       "      <td>0</td>\n",
       "      <td>0</td>\n",
       "      <td>0</td>\n",
       "      <td>0</td>\n",
       "      <td>0</td>\n",
       "      <td>0</td>\n",
       "      <td>0</td>\n",
       "      <td>0</td>\n",
       "    </tr>\n",
       "    <tr>\n",
       "      <th>Federal student loan debt</th>\n",
       "      <td>0</td>\n",
       "      <td>0</td>\n",
       "      <td>0</td>\n",
       "      <td>0</td>\n",
       "      <td>0</td>\n",
       "      <td>1561</td>\n",
       "      <td>0</td>\n",
       "      <td>0</td>\n",
       "      <td>0</td>\n",
       "      <td>0</td>\n",
       "      <td>0</td>\n",
       "      <td>0</td>\n",
       "      <td>0</td>\n",
       "      <td>0</td>\n",
       "      <td>0</td>\n",
       "    </tr>\n",
       "    <tr>\n",
       "      <th>Federal student loan servicing</th>\n",
       "      <td>0</td>\n",
       "      <td>0</td>\n",
       "      <td>0</td>\n",
       "      <td>0</td>\n",
       "      <td>0</td>\n",
       "      <td>0</td>\n",
       "      <td>0</td>\n",
       "      <td>0</td>\n",
       "      <td>0</td>\n",
       "      <td>0</td>\n",
       "      <td>0</td>\n",
       "      <td>0</td>\n",
       "      <td>17055</td>\n",
       "      <td>0</td>\n",
       "      <td>0</td>\n",
       "    </tr>\n",
       "    <tr>\n",
       "      <th>Foreign currency exchange</th>\n",
       "      <td>0</td>\n",
       "      <td>0</td>\n",
       "      <td>0</td>\n",
       "      <td>0</td>\n",
       "      <td>0</td>\n",
       "      <td>0</td>\n",
       "      <td>212</td>\n",
       "      <td>0</td>\n",
       "      <td>0</td>\n",
       "      <td>16</td>\n",
       "      <td>0</td>\n",
       "      <td>0</td>\n",
       "      <td>0</td>\n",
       "      <td>0</td>\n",
       "      <td>0</td>\n",
       "    </tr>\n",
       "    <tr>\n",
       "      <th>General purpose card</th>\n",
       "      <td>0</td>\n",
       "      <td>0</td>\n",
       "      <td>0</td>\n",
       "      <td>0</td>\n",
       "      <td>0</td>\n",
       "      <td>0</td>\n",
       "      <td>0</td>\n",
       "      <td>0</td>\n",
       "      <td>0</td>\n",
       "      <td>0</td>\n",
       "      <td>0</td>\n",
       "      <td>728</td>\n",
       "      <td>0</td>\n",
       "      <td>0</td>\n",
       "      <td>0</td>\n",
       "    </tr>\n",
       "    <tr>\n",
       "      <th>General-purpose credit card or charge card</th>\n",
       "      <td>0</td>\n",
       "      <td>0</td>\n",
       "      <td>0</td>\n",
       "      <td>45717</td>\n",
       "      <td>0</td>\n",
       "      <td>0</td>\n",
       "      <td>0</td>\n",
       "      <td>0</td>\n",
       "      <td>0</td>\n",
       "      <td>0</td>\n",
       "      <td>0</td>\n",
       "      <td>0</td>\n",
       "      <td>0</td>\n",
       "      <td>0</td>\n",
       "      <td>0</td>\n",
       "    </tr>\n",
       "    <tr>\n",
       "      <th>General-purpose prepaid card</th>\n",
       "      <td>0</td>\n",
       "      <td>0</td>\n",
       "      <td>0</td>\n",
       "      <td>2753</td>\n",
       "      <td>0</td>\n",
       "      <td>0</td>\n",
       "      <td>0</td>\n",
       "      <td>0</td>\n",
       "      <td>0</td>\n",
       "      <td>0</td>\n",
       "      <td>0</td>\n",
       "      <td>0</td>\n",
       "      <td>0</td>\n",
       "      <td>0</td>\n",
       "      <td>0</td>\n",
       "    </tr>\n",
       "    <tr>\n",
       "      <th>Gift card</th>\n",
       "      <td>0</td>\n",
       "      <td>0</td>\n",
       "      <td>0</td>\n",
       "      <td>272</td>\n",
       "      <td>0</td>\n",
       "      <td>0</td>\n",
       "      <td>0</td>\n",
       "      <td>0</td>\n",
       "      <td>0</td>\n",
       "      <td>0</td>\n",
       "      <td>0</td>\n",
       "      <td>0</td>\n",
       "      <td>0</td>\n",
       "      <td>0</td>\n",
       "      <td>0</td>\n",
       "    </tr>\n",
       "    <tr>\n",
       "      <th>Gift or merchant card</th>\n",
       "      <td>0</td>\n",
       "      <td>0</td>\n",
       "      <td>0</td>\n",
       "      <td>0</td>\n",
       "      <td>0</td>\n",
       "      <td>0</td>\n",
       "      <td>0</td>\n",
       "      <td>0</td>\n",
       "      <td>0</td>\n",
       "      <td>0</td>\n",
       "      <td>0</td>\n",
       "      <td>154</td>\n",
       "      <td>0</td>\n",
       "      <td>0</td>\n",
       "      <td>0</td>\n",
       "    </tr>\n",
       "    <tr>\n",
       "      <th>Government benefit card</th>\n",
       "      <td>0</td>\n",
       "      <td>0</td>\n",
       "      <td>0</td>\n",
       "      <td>2478</td>\n",
       "      <td>0</td>\n",
       "      <td>0</td>\n",
       "      <td>0</td>\n",
       "      <td>0</td>\n",
       "      <td>0</td>\n",
       "      <td>0</td>\n",
       "      <td>0</td>\n",
       "      <td>0</td>\n",
       "      <td>0</td>\n",
       "      <td>0</td>\n",
       "      <td>0</td>\n",
       "    </tr>\n",
       "    <tr>\n",
       "      <th>Government benefit payment card</th>\n",
       "      <td>0</td>\n",
       "      <td>0</td>\n",
       "      <td>0</td>\n",
       "      <td>0</td>\n",
       "      <td>0</td>\n",
       "      <td>0</td>\n",
       "      <td>0</td>\n",
       "      <td>0</td>\n",
       "      <td>0</td>\n",
       "      <td>0</td>\n",
       "      <td>0</td>\n",
       "      <td>80</td>\n",
       "      <td>0</td>\n",
       "      <td>0</td>\n",
       "      <td>0</td>\n",
       "    </tr>\n",
       "    <tr>\n",
       "      <th>Home equity loan or line of credit</th>\n",
       "      <td>0</td>\n",
       "      <td>0</td>\n",
       "      <td>0</td>\n",
       "      <td>0</td>\n",
       "      <td>0</td>\n",
       "      <td>0</td>\n",
       "      <td>0</td>\n",
       "      <td>0</td>\n",
       "      <td>2101</td>\n",
       "      <td>0</td>\n",
       "      <td>0</td>\n",
       "      <td>0</td>\n",
       "      <td>0</td>\n",
       "      <td>0</td>\n",
       "      <td>0</td>\n",
       "    </tr>\n",
       "    <tr>\n",
       "      <th>Home equity loan or line of credit (HELOC)</th>\n",
       "      <td>0</td>\n",
       "      <td>0</td>\n",
       "      <td>0</td>\n",
       "      <td>0</td>\n",
       "      <td>0</td>\n",
       "      <td>0</td>\n",
       "      <td>0</td>\n",
       "      <td>0</td>\n",
       "      <td>2737</td>\n",
       "      <td>0</td>\n",
       "      <td>0</td>\n",
       "      <td>0</td>\n",
       "      <td>0</td>\n",
       "      <td>0</td>\n",
       "      <td>0</td>\n",
       "    </tr>\n",
       "    <tr>\n",
       "      <th>I do not know</th>\n",
       "      <td>0</td>\n",
       "      <td>0</td>\n",
       "      <td>0</td>\n",
       "      <td>0</td>\n",
       "      <td>0</td>\n",
       "      <td>29524</td>\n",
       "      <td>0</td>\n",
       "      <td>0</td>\n",
       "      <td>0</td>\n",
       "      <td>0</td>\n",
       "      <td>0</td>\n",
       "      <td>0</td>\n",
       "      <td>0</td>\n",
       "      <td>0</td>\n",
       "      <td>0</td>\n",
       "    </tr>\n",
       "    <tr>\n",
       "      <th>ID prepaid card</th>\n",
       "      <td>0</td>\n",
       "      <td>0</td>\n",
       "      <td>0</td>\n",
       "      <td>0</td>\n",
       "      <td>0</td>\n",
       "      <td>0</td>\n",
       "      <td>0</td>\n",
       "      <td>0</td>\n",
       "      <td>0</td>\n",
       "      <td>0</td>\n",
       "      <td>0</td>\n",
       "      <td>101</td>\n",
       "      <td>0</td>\n",
       "      <td>0</td>\n",
       "      <td>0</td>\n",
       "    </tr>\n",
       "    <tr>\n",
       "      <th>Installment loan</th>\n",
       "      <td>0</td>\n",
       "      <td>0</td>\n",
       "      <td>3088</td>\n",
       "      <td>0</td>\n",
       "      <td>0</td>\n",
       "      <td>0</td>\n",
       "      <td>0</td>\n",
       "      <td>0</td>\n",
       "      <td>0</td>\n",
       "      <td>0</td>\n",
       "      <td>4512</td>\n",
       "      <td>0</td>\n",
       "      <td>0</td>\n",
       "      <td>0</td>\n",
       "      <td>0</td>\n",
       "    </tr>\n",
       "    <tr>\n",
       "      <th>International money transfer</th>\n",
       "      <td>0</td>\n",
       "      <td>0</td>\n",
       "      <td>0</td>\n",
       "      <td>0</td>\n",
       "      <td>0</td>\n",
       "      <td>0</td>\n",
       "      <td>2262</td>\n",
       "      <td>635</td>\n",
       "      <td>0</td>\n",
       "      <td>0</td>\n",
       "      <td>0</td>\n",
       "      <td>0</td>\n",
       "      <td>0</td>\n",
       "      <td>0</td>\n",
       "      <td>1</td>\n",
       "    </tr>\n",
       "    <tr>\n",
       "      <th>Lease</th>\n",
       "      <td>0</td>\n",
       "      <td>0</td>\n",
       "      <td>0</td>\n",
       "      <td>0</td>\n",
       "      <td>0</td>\n",
       "      <td>0</td>\n",
       "      <td>0</td>\n",
       "      <td>0</td>\n",
       "      <td>0</td>\n",
       "      <td>0</td>\n",
       "      <td>0</td>\n",
       "      <td>0</td>\n",
       "      <td>0</td>\n",
       "      <td>2795</td>\n",
       "      <td>0</td>\n",
       "    </tr>\n",
       "    <tr>\n",
       "      <th>Loan</th>\n",
       "      <td>0</td>\n",
       "      <td>0</td>\n",
       "      <td>0</td>\n",
       "      <td>0</td>\n",
       "      <td>0</td>\n",
       "      <td>0</td>\n",
       "      <td>0</td>\n",
       "      <td>0</td>\n",
       "      <td>0</td>\n",
       "      <td>0</td>\n",
       "      <td>0</td>\n",
       "      <td>0</td>\n",
       "      <td>0</td>\n",
       "      <td>12469</td>\n",
       "      <td>0</td>\n",
       "    </tr>\n",
       "    <tr>\n",
       "      <th>Medical</th>\n",
       "      <td>0</td>\n",
       "      <td>0</td>\n",
       "      <td>0</td>\n",
       "      <td>0</td>\n",
       "      <td>0</td>\n",
       "      <td>6840</td>\n",
       "      <td>0</td>\n",
       "      <td>0</td>\n",
       "      <td>0</td>\n",
       "      <td>0</td>\n",
       "      <td>0</td>\n",
       "      <td>0</td>\n",
       "      <td>0</td>\n",
       "      <td>0</td>\n",
       "      <td>0</td>\n",
       "    </tr>\n",
       "    <tr>\n",
       "      <th>Medical debt</th>\n",
       "      <td>0</td>\n",
       "      <td>0</td>\n",
       "      <td>0</td>\n",
       "      <td>0</td>\n",
       "      <td>0</td>\n",
       "      <td>19516</td>\n",
       "      <td>0</td>\n",
       "      <td>0</td>\n",
       "      <td>0</td>\n",
       "      <td>0</td>\n",
       "      <td>0</td>\n",
       "      <td>0</td>\n",
       "      <td>0</td>\n",
       "      <td>0</td>\n",
       "      <td>0</td>\n",
       "    </tr>\n",
       "    <tr>\n",
       "      <th>Mobile or digital wallet</th>\n",
       "      <td>0</td>\n",
       "      <td>0</td>\n",
       "      <td>0</td>\n",
       "      <td>0</td>\n",
       "      <td>0</td>\n",
       "      <td>0</td>\n",
       "      <td>6402</td>\n",
       "      <td>0</td>\n",
       "      <td>0</td>\n",
       "      <td>0</td>\n",
       "      <td>0</td>\n",
       "      <td>0</td>\n",
       "      <td>0</td>\n",
       "      <td>0</td>\n",
       "      <td>0</td>\n",
       "    </tr>\n",
       "    <tr>\n",
       "      <th>Mobile wallet</th>\n",
       "      <td>0</td>\n",
       "      <td>0</td>\n",
       "      <td>0</td>\n",
       "      <td>0</td>\n",
       "      <td>0</td>\n",
       "      <td>0</td>\n",
       "      <td>0</td>\n",
       "      <td>0</td>\n",
       "      <td>0</td>\n",
       "      <td>0</td>\n",
       "      <td>0</td>\n",
       "      <td>85</td>\n",
       "      <td>0</td>\n",
       "      <td>0</td>\n",
       "      <td>0</td>\n",
       "    </tr>\n",
       "    <tr>\n",
       "      <th>Money order</th>\n",
       "      <td>0</td>\n",
       "      <td>0</td>\n",
       "      <td>0</td>\n",
       "      <td>0</td>\n",
       "      <td>0</td>\n",
       "      <td>0</td>\n",
       "      <td>230</td>\n",
       "      <td>0</td>\n",
       "      <td>0</td>\n",
       "      <td>35</td>\n",
       "      <td>0</td>\n",
       "      <td>0</td>\n",
       "      <td>0</td>\n",
       "      <td>0</td>\n",
       "      <td>0</td>\n",
       "    </tr>\n",
       "    <tr>\n",
       "      <th>Mortgage</th>\n",
       "      <td>0</td>\n",
       "      <td>0</td>\n",
       "      <td>0</td>\n",
       "      <td>0</td>\n",
       "      <td>0</td>\n",
       "      <td>898</td>\n",
       "      <td>0</td>\n",
       "      <td>0</td>\n",
       "      <td>0</td>\n",
       "      <td>0</td>\n",
       "      <td>0</td>\n",
       "      <td>0</td>\n",
       "      <td>0</td>\n",
       "      <td>0</td>\n",
       "      <td>0</td>\n",
       "    </tr>\n",
       "    <tr>\n",
       "      <th>Mortgage debt</th>\n",
       "      <td>0</td>\n",
       "      <td>0</td>\n",
       "      <td>0</td>\n",
       "      <td>0</td>\n",
       "      <td>0</td>\n",
       "      <td>2423</td>\n",
       "      <td>0</td>\n",
       "      <td>0</td>\n",
       "      <td>0</td>\n",
       "      <td>0</td>\n",
       "      <td>0</td>\n",
       "      <td>0</td>\n",
       "      <td>0</td>\n",
       "      <td>0</td>\n",
       "      <td>0</td>\n",
       "    </tr>\n",
       "    <tr>\n",
       "      <th>Non-federal student loan</th>\n",
       "      <td>0</td>\n",
       "      <td>0</td>\n",
       "      <td>0</td>\n",
       "      <td>0</td>\n",
       "      <td>0</td>\n",
       "      <td>668</td>\n",
       "      <td>0</td>\n",
       "      <td>0</td>\n",
       "      <td>0</td>\n",
       "      <td>0</td>\n",
       "      <td>0</td>\n",
       "      <td>0</td>\n",
       "      <td>5742</td>\n",
       "      <td>0</td>\n",
       "      <td>0</td>\n",
       "    </tr>\n",
       "    <tr>\n",
       "      <th>Other (i.e. phone, health club, etc.)</th>\n",
       "      <td>0</td>\n",
       "      <td>0</td>\n",
       "      <td>0</td>\n",
       "      <td>0</td>\n",
       "      <td>0</td>\n",
       "      <td>12263</td>\n",
       "      <td>0</td>\n",
       "      <td>0</td>\n",
       "      <td>0</td>\n",
       "      <td>0</td>\n",
       "      <td>0</td>\n",
       "      <td>0</td>\n",
       "      <td>0</td>\n",
       "      <td>0</td>\n",
       "      <td>0</td>\n",
       "    </tr>\n",
       "    <tr>\n",
       "      <th>Other bank product/service</th>\n",
       "      <td>3475</td>\n",
       "      <td>0</td>\n",
       "      <td>0</td>\n",
       "      <td>0</td>\n",
       "      <td>0</td>\n",
       "      <td>0</td>\n",
       "      <td>0</td>\n",
       "      <td>0</td>\n",
       "      <td>0</td>\n",
       "      <td>0</td>\n",
       "      <td>0</td>\n",
       "      <td>0</td>\n",
       "      <td>0</td>\n",
       "      <td>0</td>\n",
       "      <td>0</td>\n",
       "    </tr>\n",
       "    <tr>\n",
       "      <th>Other banking product or service</th>\n",
       "      <td>0</td>\n",
       "      <td>3196</td>\n",
       "      <td>0</td>\n",
       "      <td>0</td>\n",
       "      <td>0</td>\n",
       "      <td>0</td>\n",
       "      <td>0</td>\n",
       "      <td>0</td>\n",
       "      <td>0</td>\n",
       "      <td>0</td>\n",
       "      <td>0</td>\n",
       "      <td>0</td>\n",
       "      <td>0</td>\n",
       "      <td>0</td>\n",
       "      <td>0</td>\n",
       "    </tr>\n",
       "    <tr>\n",
       "      <th>Other debt</th>\n",
       "      <td>0</td>\n",
       "      <td>0</td>\n",
       "      <td>0</td>\n",
       "      <td>0</td>\n",
       "      <td>0</td>\n",
       "      <td>32510</td>\n",
       "      <td>0</td>\n",
       "      <td>0</td>\n",
       "      <td>0</td>\n",
       "      <td>0</td>\n",
       "      <td>0</td>\n",
       "      <td>0</td>\n",
       "      <td>0</td>\n",
       "      <td>0</td>\n",
       "      <td>0</td>\n",
       "    </tr>\n",
       "    <tr>\n",
       "      <th>Other mortgage</th>\n",
       "      <td>0</td>\n",
       "      <td>0</td>\n",
       "      <td>0</td>\n",
       "      <td>0</td>\n",
       "      <td>0</td>\n",
       "      <td>0</td>\n",
       "      <td>0</td>\n",
       "      <td>0</td>\n",
       "      <td>3231</td>\n",
       "      <td>0</td>\n",
       "      <td>0</td>\n",
       "      <td>0</td>\n",
       "      <td>0</td>\n",
       "      <td>0</td>\n",
       "      <td>0</td>\n",
       "    </tr>\n",
       "    <tr>\n",
       "      <th>Other personal consumer report</th>\n",
       "      <td>0</td>\n",
       "      <td>0</td>\n",
       "      <td>0</td>\n",
       "      <td>0</td>\n",
       "      <td>4379</td>\n",
       "      <td>0</td>\n",
       "      <td>0</td>\n",
       "      <td>0</td>\n",
       "      <td>0</td>\n",
       "      <td>0</td>\n",
       "      <td>0</td>\n",
       "      <td>0</td>\n",
       "      <td>0</td>\n",
       "      <td>0</td>\n",
       "      <td>0</td>\n",
       "    </tr>\n",
       "    <tr>\n",
       "      <th>Other special purpose card</th>\n",
       "      <td>0</td>\n",
       "      <td>0</td>\n",
       "      <td>0</td>\n",
       "      <td>0</td>\n",
       "      <td>0</td>\n",
       "      <td>0</td>\n",
       "      <td>0</td>\n",
       "      <td>0</td>\n",
       "      <td>0</td>\n",
       "      <td>0</td>\n",
       "      <td>0</td>\n",
       "      <td>58</td>\n",
       "      <td>0</td>\n",
       "      <td>0</td>\n",
       "      <td>0</td>\n",
       "    </tr>\n",
       "    <tr>\n",
       "      <th>Other type of mortgage</th>\n",
       "      <td>0</td>\n",
       "      <td>0</td>\n",
       "      <td>0</td>\n",
       "      <td>0</td>\n",
       "      <td>0</td>\n",
       "      <td>0</td>\n",
       "      <td>0</td>\n",
       "      <td>0</td>\n",
       "      <td>3313</td>\n",
       "      <td>0</td>\n",
       "      <td>0</td>\n",
       "      <td>0</td>\n",
       "      <td>0</td>\n",
       "      <td>0</td>\n",
       "      <td>0</td>\n",
       "    </tr>\n",
       "    <tr>\n",
       "      <th>Pawn loan</th>\n",
       "      <td>0</td>\n",
       "      <td>0</td>\n",
       "      <td>34</td>\n",
       "      <td>0</td>\n",
       "      <td>0</td>\n",
       "      <td>0</td>\n",
       "      <td>0</td>\n",
       "      <td>0</td>\n",
       "      <td>0</td>\n",
       "      <td>0</td>\n",
       "      <td>27</td>\n",
       "      <td>0</td>\n",
       "      <td>0</td>\n",
       "      <td>0</td>\n",
       "      <td>0</td>\n",
       "    </tr>\n",
       "    <tr>\n",
       "      <th>Payday loan</th>\n",
       "      <td>0</td>\n",
       "      <td>0</td>\n",
       "      <td>0</td>\n",
       "      <td>0</td>\n",
       "      <td>0</td>\n",
       "      <td>2002</td>\n",
       "      <td>0</td>\n",
       "      <td>0</td>\n",
       "      <td>0</td>\n",
       "      <td>0</td>\n",
       "      <td>3005</td>\n",
       "      <td>0</td>\n",
       "      <td>0</td>\n",
       "      <td>0</td>\n",
       "      <td>0</td>\n",
       "    </tr>\n",
       "    <tr>\n",
       "      <th>Payday loan debt</th>\n",
       "      <td>0</td>\n",
       "      <td>0</td>\n",
       "      <td>0</td>\n",
       "      <td>0</td>\n",
       "      <td>0</td>\n",
       "      <td>4076</td>\n",
       "      <td>0</td>\n",
       "      <td>0</td>\n",
       "      <td>0</td>\n",
       "      <td>0</td>\n",
       "      <td>0</td>\n",
       "      <td>0</td>\n",
       "      <td>0</td>\n",
       "      <td>0</td>\n",
       "      <td>0</td>\n",
       "    </tr>\n",
       "    <tr>\n",
       "      <th>Payroll card</th>\n",
       "      <td>0</td>\n",
       "      <td>0</td>\n",
       "      <td>0</td>\n",
       "      <td>242</td>\n",
       "      <td>0</td>\n",
       "      <td>0</td>\n",
       "      <td>0</td>\n",
       "      <td>0</td>\n",
       "      <td>0</td>\n",
       "      <td>0</td>\n",
       "      <td>0</td>\n",
       "      <td>220</td>\n",
       "      <td>0</td>\n",
       "      <td>0</td>\n",
       "      <td>0</td>\n",
       "    </tr>\n",
       "    <tr>\n",
       "      <th>Personal line of credit</th>\n",
       "      <td>0</td>\n",
       "      <td>30</td>\n",
       "      <td>44</td>\n",
       "      <td>0</td>\n",
       "      <td>0</td>\n",
       "      <td>0</td>\n",
       "      <td>0</td>\n",
       "      <td>0</td>\n",
       "      <td>0</td>\n",
       "      <td>0</td>\n",
       "      <td>1985</td>\n",
       "      <td>0</td>\n",
       "      <td>0</td>\n",
       "      <td>0</td>\n",
       "      <td>0</td>\n",
       "    </tr>\n",
       "    <tr>\n",
       "      <th>Private student loan</th>\n",
       "      <td>0</td>\n",
       "      <td>0</td>\n",
       "      <td>0</td>\n",
       "      <td>0</td>\n",
       "      <td>0</td>\n",
       "      <td>0</td>\n",
       "      <td>0</td>\n",
       "      <td>0</td>\n",
       "      <td>0</td>\n",
       "      <td>0</td>\n",
       "      <td>0</td>\n",
       "      <td>0</td>\n",
       "      <td>6392</td>\n",
       "      <td>0</td>\n",
       "      <td>0</td>\n",
       "    </tr>\n",
       "    <tr>\n",
       "      <th>Private student loan debt</th>\n",
       "      <td>0</td>\n",
       "      <td>0</td>\n",
       "      <td>0</td>\n",
       "      <td>0</td>\n",
       "      <td>0</td>\n",
       "      <td>1592</td>\n",
       "      <td>0</td>\n",
       "      <td>0</td>\n",
       "      <td>0</td>\n",
       "      <td>0</td>\n",
       "      <td>0</td>\n",
       "      <td>0</td>\n",
       "      <td>0</td>\n",
       "      <td>0</td>\n",
       "      <td>0</td>\n",
       "    </tr>\n",
       "    <tr>\n",
       "      <th>Refund anticipation check</th>\n",
       "      <td>0</td>\n",
       "      <td>0</td>\n",
       "      <td>0</td>\n",
       "      <td>0</td>\n",
       "      <td>0</td>\n",
       "      <td>0</td>\n",
       "      <td>202</td>\n",
       "      <td>0</td>\n",
       "      <td>0</td>\n",
       "      <td>17</td>\n",
       "      <td>0</td>\n",
       "      <td>0</td>\n",
       "      <td>0</td>\n",
       "      <td>0</td>\n",
       "      <td>0</td>\n",
       "    </tr>\n",
       "    <tr>\n",
       "      <th>Reverse mortgage</th>\n",
       "      <td>0</td>\n",
       "      <td>0</td>\n",
       "      <td>0</td>\n",
       "      <td>0</td>\n",
       "      <td>0</td>\n",
       "      <td>0</td>\n",
       "      <td>0</td>\n",
       "      <td>0</td>\n",
       "      <td>866</td>\n",
       "      <td>0</td>\n",
       "      <td>0</td>\n",
       "      <td>0</td>\n",
       "      <td>0</td>\n",
       "      <td>0</td>\n",
       "      <td>0</td>\n",
       "    </tr>\n",
       "    <tr>\n",
       "      <th>Savings account</th>\n",
       "      <td>887</td>\n",
       "      <td>2897</td>\n",
       "      <td>0</td>\n",
       "      <td>0</td>\n",
       "      <td>0</td>\n",
       "      <td>0</td>\n",
       "      <td>0</td>\n",
       "      <td>0</td>\n",
       "      <td>0</td>\n",
       "      <td>0</td>\n",
       "      <td>0</td>\n",
       "      <td>0</td>\n",
       "      <td>0</td>\n",
       "      <td>0</td>\n",
       "      <td>0</td>\n",
       "    </tr>\n",
       "    <tr>\n",
       "      <th>Store credit card</th>\n",
       "      <td>0</td>\n",
       "      <td>0</td>\n",
       "      <td>0</td>\n",
       "      <td>10011</td>\n",
       "      <td>0</td>\n",
       "      <td>0</td>\n",
       "      <td>0</td>\n",
       "      <td>0</td>\n",
       "      <td>0</td>\n",
       "      <td>0</td>\n",
       "      <td>0</td>\n",
       "      <td>0</td>\n",
       "      <td>0</td>\n",
       "      <td>0</td>\n",
       "      <td>0</td>\n",
       "    </tr>\n",
       "    <tr>\n",
       "      <th>Student prepaid card</th>\n",
       "      <td>0</td>\n",
       "      <td>0</td>\n",
       "      <td>0</td>\n",
       "      <td>11</td>\n",
       "      <td>0</td>\n",
       "      <td>0</td>\n",
       "      <td>0</td>\n",
       "      <td>0</td>\n",
       "      <td>0</td>\n",
       "      <td>0</td>\n",
       "      <td>0</td>\n",
       "      <td>0</td>\n",
       "      <td>0</td>\n",
       "      <td>0</td>\n",
       "      <td>0</td>\n",
       "    </tr>\n",
       "    <tr>\n",
       "      <th>Title loan</th>\n",
       "      <td>0</td>\n",
       "      <td>0</td>\n",
       "      <td>199</td>\n",
       "      <td>0</td>\n",
       "      <td>0</td>\n",
       "      <td>0</td>\n",
       "      <td>0</td>\n",
       "      <td>0</td>\n",
       "      <td>0</td>\n",
       "      <td>0</td>\n",
       "      <td>1085</td>\n",
       "      <td>0</td>\n",
       "      <td>0</td>\n",
       "      <td>16</td>\n",
       "      <td>0</td>\n",
       "    </tr>\n",
       "    <tr>\n",
       "      <th>Transit card</th>\n",
       "      <td>0</td>\n",
       "      <td>0</td>\n",
       "      <td>0</td>\n",
       "      <td>0</td>\n",
       "      <td>0</td>\n",
       "      <td>0</td>\n",
       "      <td>0</td>\n",
       "      <td>0</td>\n",
       "      <td>0</td>\n",
       "      <td>0</td>\n",
       "      <td>0</td>\n",
       "      <td>19</td>\n",
       "      <td>0</td>\n",
       "      <td>0</td>\n",
       "      <td>0</td>\n",
       "    </tr>\n",
       "    <tr>\n",
       "      <th>Traveler's check or cashier's check</th>\n",
       "      <td>0</td>\n",
       "      <td>0</td>\n",
       "      <td>0</td>\n",
       "      <td>0</td>\n",
       "      <td>0</td>\n",
       "      <td>0</td>\n",
       "      <td>286</td>\n",
       "      <td>0</td>\n",
       "      <td>0</td>\n",
       "      <td>0</td>\n",
       "      <td>0</td>\n",
       "      <td>0</td>\n",
       "      <td>0</td>\n",
       "      <td>0</td>\n",
       "      <td>0</td>\n",
       "    </tr>\n",
       "    <tr>\n",
       "      <th>Traveler’s/Cashier’s checks</th>\n",
       "      <td>0</td>\n",
       "      <td>0</td>\n",
       "      <td>0</td>\n",
       "      <td>0</td>\n",
       "      <td>0</td>\n",
       "      <td>0</td>\n",
       "      <td>0</td>\n",
       "      <td>0</td>\n",
       "      <td>0</td>\n",
       "      <td>22</td>\n",
       "      <td>0</td>\n",
       "      <td>0</td>\n",
       "      <td>0</td>\n",
       "      <td>0</td>\n",
       "      <td>0</td>\n",
       "    </tr>\n",
       "    <tr>\n",
       "      <th>VA mortgage</th>\n",
       "      <td>0</td>\n",
       "      <td>0</td>\n",
       "      <td>0</td>\n",
       "      <td>0</td>\n",
       "      <td>0</td>\n",
       "      <td>0</td>\n",
       "      <td>0</td>\n",
       "      <td>0</td>\n",
       "      <td>5703</td>\n",
       "      <td>0</td>\n",
       "      <td>0</td>\n",
       "      <td>0</td>\n",
       "      <td>0</td>\n",
       "      <td>0</td>\n",
       "      <td>0</td>\n",
       "    </tr>\n",
       "    <tr>\n",
       "      <th>Vehicle lease</th>\n",
       "      <td>0</td>\n",
       "      <td>0</td>\n",
       "      <td>958</td>\n",
       "      <td>0</td>\n",
       "      <td>0</td>\n",
       "      <td>0</td>\n",
       "      <td>0</td>\n",
       "      <td>0</td>\n",
       "      <td>0</td>\n",
       "      <td>0</td>\n",
       "      <td>0</td>\n",
       "      <td>0</td>\n",
       "      <td>0</td>\n",
       "      <td>0</td>\n",
       "      <td>0</td>\n",
       "    </tr>\n",
       "    <tr>\n",
       "      <th>Vehicle loan</th>\n",
       "      <td>0</td>\n",
       "      <td>0</td>\n",
       "      <td>5118</td>\n",
       "      <td>0</td>\n",
       "      <td>0</td>\n",
       "      <td>0</td>\n",
       "      <td>0</td>\n",
       "      <td>0</td>\n",
       "      <td>0</td>\n",
       "      <td>0</td>\n",
       "      <td>0</td>\n",
       "      <td>0</td>\n",
       "      <td>0</td>\n",
       "      <td>0</td>\n",
       "      <td>0</td>\n",
       "    </tr>\n",
       "    <tr>\n",
       "      <th>Virtual currency</th>\n",
       "      <td>0</td>\n",
       "      <td>0</td>\n",
       "      <td>0</td>\n",
       "      <td>0</td>\n",
       "      <td>0</td>\n",
       "      <td>0</td>\n",
       "      <td>3568</td>\n",
       "      <td>0</td>\n",
       "      <td>0</td>\n",
       "      <td>0</td>\n",
       "      <td>0</td>\n",
       "      <td>0</td>\n",
       "      <td>0</td>\n",
       "      <td>0</td>\n",
       "      <td>0</td>\n",
       "    </tr>\n",
       "  </tbody>\n",
       "</table>\n",
       "</div>"
      ],
      "text/plain": [
       "Product                                     Bank account or service  \\\n",
       "Sub-product                                                           \n",
       "(CD) Certificate of deposit                                     273   \n",
       "Auto                                                              0   \n",
       "Auto debt                                                         0   \n",
       "CD (Certificate of Deposit)                                       0   \n",
       "Cashing a check without an account                              134   \n",
       "Check cashing                                                     0   \n",
       "Check cashing service                                             0   \n",
       "Checking account                                              10102   \n",
       "Conventional adjustable mortgage (ARM)                            0   \n",
       "Conventional fixed mortgage                                       0   \n",
       "Conventional home mortgage                                        0   \n",
       "Credit card                                                       0   \n",
       "Credit card debt                                                  0   \n",
       "Credit repair                                                     0   \n",
       "Credit repair services                                            0   \n",
       "Credit reporting                                                  0   \n",
       "Debt settlement                                                   0   \n",
       "Domestic (US) money transfer                                      0   \n",
       "Electronic Benefit Transfer / EBT card                            0   \n",
       "FHA mortgage                                                      0   \n",
       "Federal student loan                                              0   \n",
       "Federal student loan debt                                         0   \n",
       "Federal student loan servicing                                    0   \n",
       "Foreign currency exchange                                         0   \n",
       "General purpose card                                              0   \n",
       "General-purpose credit card or charge card                        0   \n",
       "General-purpose prepaid card                                      0   \n",
       "Gift card                                                         0   \n",
       "Gift or merchant card                                             0   \n",
       "Government benefit card                                           0   \n",
       "Government benefit payment card                                   0   \n",
       "Home equity loan or line of credit                                0   \n",
       "Home equity loan or line of credit (HELOC)                        0   \n",
       "I do not know                                                     0   \n",
       "ID prepaid card                                                   0   \n",
       "Installment loan                                                  0   \n",
       "International money transfer                                      0   \n",
       "Lease                                                             0   \n",
       "Loan                                                              0   \n",
       "Medical                                                           0   \n",
       "Medical debt                                                      0   \n",
       "Mobile or digital wallet                                          0   \n",
       "Mobile wallet                                                     0   \n",
       "Money order                                                       0   \n",
       "Mortgage                                                          0   \n",
       "Mortgage debt                                                     0   \n",
       "Non-federal student loan                                          0   \n",
       "Other (i.e. phone, health club, etc.)                             0   \n",
       "Other bank product/service                                     3475   \n",
       "Other banking product or service                                  0   \n",
       "Other debt                                                        0   \n",
       "Other mortgage                                                    0   \n",
       "Other personal consumer report                                    0   \n",
       "Other special purpose card                                        0   \n",
       "Other type of mortgage                                            0   \n",
       "Pawn loan                                                         0   \n",
       "Payday loan                                                       0   \n",
       "Payday loan debt                                                  0   \n",
       "Payroll card                                                      0   \n",
       "Personal line of credit                                           0   \n",
       "Private student loan                                              0   \n",
       "Private student loan debt                                         0   \n",
       "Refund anticipation check                                         0   \n",
       "Reverse mortgage                                                  0   \n",
       "Savings account                                                 887   \n",
       "Store credit card                                                 0   \n",
       "Student prepaid card                                              0   \n",
       "Title loan                                                        0   \n",
       "Transit card                                                      0   \n",
       "Traveler's check or cashier's check                               0   \n",
       "Traveler’s/Cashier’s checks                                       0   \n",
       "VA mortgage                                                       0   \n",
       "Vehicle lease                                                     0   \n",
       "Vehicle loan                                                      0   \n",
       "Virtual currency                                                  0   \n",
       "\n",
       "Product                                     Checking or savings account  \\\n",
       "Sub-product                                                               \n",
       "(CD) Certificate of deposit                                           0   \n",
       "Auto                                                                  0   \n",
       "Auto debt                                                             0   \n",
       "CD (Certificate of Deposit)                                         579   \n",
       "Cashing a check without an account                                    0   \n",
       "Check cashing                                                         0   \n",
       "Check cashing service                                                 0   \n",
       "Checking account                                                  31834   \n",
       "Conventional adjustable mortgage (ARM)                                0   \n",
       "Conventional fixed mortgage                                           0   \n",
       "Conventional home mortgage                                            0   \n",
       "Credit card                                                           0   \n",
       "Credit card debt                                                      0   \n",
       "Credit repair                                                         0   \n",
       "Credit repair services                                                0   \n",
       "Credit reporting                                                      0   \n",
       "Debt settlement                                                       0   \n",
       "Domestic (US) money transfer                                          0   \n",
       "Electronic Benefit Transfer / EBT card                                0   \n",
       "FHA mortgage                                                          0   \n",
       "Federal student loan                                                  0   \n",
       "Federal student loan debt                                             0   \n",
       "Federal student loan servicing                                        0   \n",
       "Foreign currency exchange                                             0   \n",
       "General purpose card                                                  0   \n",
       "General-purpose credit card or charge card                            0   \n",
       "General-purpose prepaid card                                          0   \n",
       "Gift card                                                             0   \n",
       "Gift or merchant card                                                 0   \n",
       "Government benefit card                                               0   \n",
       "Government benefit payment card                                       0   \n",
       "Home equity loan or line of credit                                    0   \n",
       "Home equity loan or line of credit (HELOC)                            0   \n",
       "I do not know                                                         0   \n",
       "ID prepaid card                                                       0   \n",
       "Installment loan                                                      0   \n",
       "International money transfer                                          0   \n",
       "Lease                                                                 0   \n",
       "Loan                                                                  0   \n",
       "Medical                                                               0   \n",
       "Medical debt                                                          0   \n",
       "Mobile or digital wallet                                              0   \n",
       "Mobile wallet                                                         0   \n",
       "Money order                                                           0   \n",
       "Mortgage                                                              0   \n",
       "Mortgage debt                                                         0   \n",
       "Non-federal student loan                                              0   \n",
       "Other (i.e. phone, health club, etc.)                                 0   \n",
       "Other bank product/service                                            0   \n",
       "Other banking product or service                                   3196   \n",
       "Other debt                                                            0   \n",
       "Other mortgage                                                        0   \n",
       "Other personal consumer report                                        0   \n",
       "Other special purpose card                                            0   \n",
       "Other type of mortgage                                                0   \n",
       "Pawn loan                                                             0   \n",
       "Payday loan                                                           0   \n",
       "Payday loan debt                                                      0   \n",
       "Payroll card                                                          0   \n",
       "Personal line of credit                                              30   \n",
       "Private student loan                                                  0   \n",
       "Private student loan debt                                             0   \n",
       "Refund anticipation check                                             0   \n",
       "Reverse mortgage                                                      0   \n",
       "Savings account                                                    2897   \n",
       "Store credit card                                                     0   \n",
       "Student prepaid card                                                  0   \n",
       "Title loan                                                            0   \n",
       "Transit card                                                          0   \n",
       "Traveler's check or cashier's check                                   0   \n",
       "Traveler’s/Cashier’s checks                                           0   \n",
       "VA mortgage                                                           0   \n",
       "Vehicle lease                                                         0   \n",
       "Vehicle loan                                                          0   \n",
       "Virtual currency                                                      0   \n",
       "\n",
       "Product                                     Consumer Loan  \\\n",
       "Sub-product                                                 \n",
       "(CD) Certificate of deposit                             0   \n",
       "Auto                                                    0   \n",
       "Auto debt                                               0   \n",
       "CD (Certificate of Deposit)                             0   \n",
       "Cashing a check without an account                      0   \n",
       "Check cashing                                           0   \n",
       "Check cashing service                                   0   \n",
       "Checking account                                        0   \n",
       "Conventional adjustable mortgage (ARM)                  0   \n",
       "Conventional fixed mortgage                             0   \n",
       "Conventional home mortgage                              0   \n",
       "Credit card                                             0   \n",
       "Credit card debt                                        0   \n",
       "Credit repair                                           0   \n",
       "Credit repair services                                  0   \n",
       "Credit reporting                                        0   \n",
       "Debt settlement                                         0   \n",
       "Domestic (US) money transfer                            0   \n",
       "Electronic Benefit Transfer / EBT card                  0   \n",
       "FHA mortgage                                            0   \n",
       "Federal student loan                                    0   \n",
       "Federal student loan debt                               0   \n",
       "Federal student loan servicing                          0   \n",
       "Foreign currency exchange                               0   \n",
       "General purpose card                                    0   \n",
       "General-purpose credit card or charge card              0   \n",
       "General-purpose prepaid card                            0   \n",
       "Gift card                                               0   \n",
       "Gift or merchant card                                   0   \n",
       "Government benefit card                                 0   \n",
       "Government benefit payment card                         0   \n",
       "Home equity loan or line of credit                      0   \n",
       "Home equity loan or line of credit (HELOC)              0   \n",
       "I do not know                                           0   \n",
       "ID prepaid card                                         0   \n",
       "Installment loan                                     3088   \n",
       "International money transfer                            0   \n",
       "Lease                                                   0   \n",
       "Loan                                                    0   \n",
       "Medical                                                 0   \n",
       "Medical debt                                            0   \n",
       "Mobile or digital wallet                                0   \n",
       "Mobile wallet                                           0   \n",
       "Money order                                             0   \n",
       "Mortgage                                                0   \n",
       "Mortgage debt                                           0   \n",
       "Non-federal student loan                                0   \n",
       "Other (i.e. phone, health club, etc.)                   0   \n",
       "Other bank product/service                              0   \n",
       "Other banking product or service                        0   \n",
       "Other debt                                              0   \n",
       "Other mortgage                                          0   \n",
       "Other personal consumer report                          0   \n",
       "Other special purpose card                              0   \n",
       "Other type of mortgage                                  0   \n",
       "Pawn loan                                              34   \n",
       "Payday loan                                             0   \n",
       "Payday loan debt                                        0   \n",
       "Payroll card                                            0   \n",
       "Personal line of credit                                44   \n",
       "Private student loan                                    0   \n",
       "Private student loan debt                               0   \n",
       "Refund anticipation check                               0   \n",
       "Reverse mortgage                                        0   \n",
       "Savings account                                         0   \n",
       "Store credit card                                       0   \n",
       "Student prepaid card                                    0   \n",
       "Title loan                                            199   \n",
       "Transit card                                            0   \n",
       "Traveler's check or cashier's check                     0   \n",
       "Traveler’s/Cashier’s checks                             0   \n",
       "VA mortgage                                             0   \n",
       "Vehicle lease                                         958   \n",
       "Vehicle loan                                         5118   \n",
       "Virtual currency                                        0   \n",
       "\n",
       "Product                                     Credit card or prepaid card  \\\n",
       "Sub-product                                                               \n",
       "(CD) Certificate of deposit                                           0   \n",
       "Auto                                                                  0   \n",
       "Auto debt                                                             0   \n",
       "CD (Certificate of Deposit)                                           0   \n",
       "Cashing a check without an account                                    0   \n",
       "Check cashing                                                         0   \n",
       "Check cashing service                                                 0   \n",
       "Checking account                                                      0   \n",
       "Conventional adjustable mortgage (ARM)                                0   \n",
       "Conventional fixed mortgage                                           0   \n",
       "Conventional home mortgage                                            0   \n",
       "Credit card                                                           0   \n",
       "Credit card debt                                                      0   \n",
       "Credit repair                                                         0   \n",
       "Credit repair services                                                0   \n",
       "Credit reporting                                                      0   \n",
       "Debt settlement                                                       0   \n",
       "Domestic (US) money transfer                                          0   \n",
       "Electronic Benefit Transfer / EBT card                                0   \n",
       "FHA mortgage                                                          0   \n",
       "Federal student loan                                                  0   \n",
       "Federal student loan debt                                             0   \n",
       "Federal student loan servicing                                        0   \n",
       "Foreign currency exchange                                             0   \n",
       "General purpose card                                                  0   \n",
       "General-purpose credit card or charge card                        45717   \n",
       "General-purpose prepaid card                                       2753   \n",
       "Gift card                                                           272   \n",
       "Gift or merchant card                                                 0   \n",
       "Government benefit card                                            2478   \n",
       "Government benefit payment card                                       0   \n",
       "Home equity loan or line of credit                                    0   \n",
       "Home equity loan or line of credit (HELOC)                            0   \n",
       "I do not know                                                         0   \n",
       "ID prepaid card                                                       0   \n",
       "Installment loan                                                      0   \n",
       "International money transfer                                          0   \n",
       "Lease                                                                 0   \n",
       "Loan                                                                  0   \n",
       "Medical                                                               0   \n",
       "Medical debt                                                          0   \n",
       "Mobile or digital wallet                                              0   \n",
       "Mobile wallet                                                         0   \n",
       "Money order                                                           0   \n",
       "Mortgage                                                              0   \n",
       "Mortgage debt                                                         0   \n",
       "Non-federal student loan                                              0   \n",
       "Other (i.e. phone, health club, etc.)                                 0   \n",
       "Other bank product/service                                            0   \n",
       "Other banking product or service                                      0   \n",
       "Other debt                                                            0   \n",
       "Other mortgage                                                        0   \n",
       "Other personal consumer report                                        0   \n",
       "Other special purpose card                                            0   \n",
       "Other type of mortgage                                                0   \n",
       "Pawn loan                                                             0   \n",
       "Payday loan                                                           0   \n",
       "Payday loan debt                                                      0   \n",
       "Payroll card                                                        242   \n",
       "Personal line of credit                                               0   \n",
       "Private student loan                                                  0   \n",
       "Private student loan debt                                             0   \n",
       "Refund anticipation check                                             0   \n",
       "Reverse mortgage                                                      0   \n",
       "Savings account                                                       0   \n",
       "Store credit card                                                 10011   \n",
       "Student prepaid card                                                 11   \n",
       "Title loan                                                            0   \n",
       "Transit card                                                          0   \n",
       "Traveler's check or cashier's check                                   0   \n",
       "Traveler’s/Cashier’s checks                                           0   \n",
       "VA mortgage                                                           0   \n",
       "Vehicle lease                                                         0   \n",
       "Vehicle loan                                                          0   \n",
       "Virtual currency                                                      0   \n",
       "\n",
       "Product                                     Credit reporting, credit repair services, or other personal consumer reports  \\\n",
       "Sub-product                                                                                                                \n",
       "(CD) Certificate of deposit                                                                 0                              \n",
       "Auto                                                                                        0                              \n",
       "Auto debt                                                                                   0                              \n",
       "CD (Certificate of Deposit)                                                                 0                              \n",
       "Cashing a check without an account                                                          0                              \n",
       "Check cashing                                                                               0                              \n",
       "Check cashing service                                                                       0                              \n",
       "Checking account                                                                            0                              \n",
       "Conventional adjustable mortgage (ARM)                                                      0                              \n",
       "Conventional fixed mortgage                                                                 0                              \n",
       "Conventional home mortgage                                                                  1                              \n",
       "Credit card                                                                                 0                              \n",
       "Credit card debt                                                                            0                              \n",
       "Credit repair                                                                               0                              \n",
       "Credit repair services                                                                   1382                              \n",
       "Credit reporting                                                                       248577                              \n",
       "Debt settlement                                                                             0                              \n",
       "Domestic (US) money transfer                                                                0                              \n",
       "Electronic Benefit Transfer / EBT card                                                      0                              \n",
       "FHA mortgage                                                                                0                              \n",
       "Federal student loan                                                                        0                              \n",
       "Federal student loan debt                                                                   0                              \n",
       "Federal student loan servicing                                                              0                              \n",
       "Foreign currency exchange                                                                   0                              \n",
       "General purpose card                                                                        0                              \n",
       "General-purpose credit card or charge card                                                  0                              \n",
       "General-purpose prepaid card                                                                0                              \n",
       "Gift card                                                                                   0                              \n",
       "Gift or merchant card                                                                       0                              \n",
       "Government benefit card                                                                     0                              \n",
       "Government benefit payment card                                                             0                              \n",
       "Home equity loan or line of credit                                                          0                              \n",
       "Home equity loan or line of credit (HELOC)                                                  0                              \n",
       "I do not know                                                                               0                              \n",
       "ID prepaid card                                                                             0                              \n",
       "Installment loan                                                                            0                              \n",
       "International money transfer                                                                0                              \n",
       "Lease                                                                                       0                              \n",
       "Loan                                                                                        0                              \n",
       "Medical                                                                                     0                              \n",
       "Medical debt                                                                                0                              \n",
       "Mobile or digital wallet                                                                    0                              \n",
       "Mobile wallet                                                                               0                              \n",
       "Money order                                                                                 0                              \n",
       "Mortgage                                                                                    0                              \n",
       "Mortgage debt                                                                               0                              \n",
       "Non-federal student loan                                                                    0                              \n",
       "Other (i.e. phone, health club, etc.)                                                       0                              \n",
       "Other bank product/service                                                                  0                              \n",
       "Other banking product or service                                                            0                              \n",
       "Other debt                                                                                  0                              \n",
       "Other mortgage                                                                              0                              \n",
       "Other personal consumer report                                                           4379                              \n",
       "Other special purpose card                                                                  0                              \n",
       "Other type of mortgage                                                                      0                              \n",
       "Pawn loan                                                                                   0                              \n",
       "Payday loan                                                                                 0                              \n",
       "Payday loan debt                                                                            0                              \n",
       "Payroll card                                                                                0                              \n",
       "Personal line of credit                                                                     0                              \n",
       "Private student loan                                                                        0                              \n",
       "Private student loan debt                                                                   0                              \n",
       "Refund anticipation check                                                                   0                              \n",
       "Reverse mortgage                                                                            0                              \n",
       "Savings account                                                                             0                              \n",
       "Store credit card                                                                           0                              \n",
       "Student prepaid card                                                                        0                              \n",
       "Title loan                                                                                  0                              \n",
       "Transit card                                                                                0                              \n",
       "Traveler's check or cashier's check                                                         0                              \n",
       "Traveler’s/Cashier’s checks                                                                 0                              \n",
       "VA mortgage                                                                                 0                              \n",
       "Vehicle lease                                                                               0                              \n",
       "Vehicle loan                                                                                0                              \n",
       "Virtual currency                                                                            0                              \n",
       "\n",
       "Product                                     Debt collection  \\\n",
       "Sub-product                                                   \n",
       "(CD) Certificate of deposit                               0   \n",
       "Auto                                                   1041   \n",
       "Auto debt                                              4772   \n",
       "CD (Certificate of Deposit)                               0   \n",
       "Cashing a check without an account                        0   \n",
       "Check cashing                                             0   \n",
       "Check cashing service                                     0   \n",
       "Checking account                                          0   \n",
       "Conventional adjustable mortgage (ARM)                    0   \n",
       "Conventional fixed mortgage                               0   \n",
       "Conventional home mortgage                                0   \n",
       "Credit card                                            7251   \n",
       "Credit card debt                                      26064   \n",
       "Credit repair                                             0   \n",
       "Credit repair services                                    0   \n",
       "Credit reporting                                          0   \n",
       "Debt settlement                                           0   \n",
       "Domestic (US) money transfer                              0   \n",
       "Electronic Benefit Transfer / EBT card                    0   \n",
       "FHA mortgage                                              0   \n",
       "Federal student loan                                    540   \n",
       "Federal student loan debt                              1561   \n",
       "Federal student loan servicing                            0   \n",
       "Foreign currency exchange                                 0   \n",
       "General purpose card                                      0   \n",
       "General-purpose credit card or charge card                0   \n",
       "General-purpose prepaid card                              0   \n",
       "Gift card                                                 0   \n",
       "Gift or merchant card                                     0   \n",
       "Government benefit card                                   0   \n",
       "Government benefit payment card                           0   \n",
       "Home equity loan or line of credit                        0   \n",
       "Home equity loan or line of credit (HELOC)                0   \n",
       "I do not know                                         29524   \n",
       "ID prepaid card                                           0   \n",
       "Installment loan                                          0   \n",
       "International money transfer                              0   \n",
       "Lease                                                     0   \n",
       "Loan                                                      0   \n",
       "Medical                                                6840   \n",
       "Medical debt                                          19516   \n",
       "Mobile or digital wallet                                  0   \n",
       "Mobile wallet                                             0   \n",
       "Money order                                               0   \n",
       "Mortgage                                                898   \n",
       "Mortgage debt                                          2423   \n",
       "Non-federal student loan                                668   \n",
       "Other (i.e. phone, health club, etc.)                 12263   \n",
       "Other bank product/service                                0   \n",
       "Other banking product or service                          0   \n",
       "Other debt                                            32510   \n",
       "Other mortgage                                            0   \n",
       "Other personal consumer report                            0   \n",
       "Other special purpose card                                0   \n",
       "Other type of mortgage                                    0   \n",
       "Pawn loan                                                 0   \n",
       "Payday loan                                            2002   \n",
       "Payday loan debt                                       4076   \n",
       "Payroll card                                              0   \n",
       "Personal line of credit                                   0   \n",
       "Private student loan                                      0   \n",
       "Private student loan debt                              1592   \n",
       "Refund anticipation check                                 0   \n",
       "Reverse mortgage                                          0   \n",
       "Savings account                                           0   \n",
       "Store credit card                                         0   \n",
       "Student prepaid card                                      0   \n",
       "Title loan                                                0   \n",
       "Transit card                                              0   \n",
       "Traveler's check or cashier's check                       0   \n",
       "Traveler’s/Cashier’s checks                               0   \n",
       "VA mortgage                                               0   \n",
       "Vehicle lease                                             0   \n",
       "Vehicle loan                                              0   \n",
       "Virtual currency                                          0   \n",
       "\n",
       "Product                                     Money transfer, virtual currency, or money service  \\\n",
       "Sub-product                                                                                      \n",
       "(CD) Certificate of deposit                                                                 0    \n",
       "Auto                                                                                        0    \n",
       "Auto debt                                                                                   0    \n",
       "CD (Certificate of Deposit)                                                                 0    \n",
       "Cashing a check without an account                                                          0    \n",
       "Check cashing                                                                               0    \n",
       "Check cashing service                                                                     286    \n",
       "Checking account                                                                            0    \n",
       "Conventional adjustable mortgage (ARM)                                                      0    \n",
       "Conventional fixed mortgage                                                                 0    \n",
       "Conventional home mortgage                                                                  0    \n",
       "Credit card                                                                                 0    \n",
       "Credit card debt                                                                            0    \n",
       "Credit repair                                                                               0    \n",
       "Credit repair services                                                                      0    \n",
       "Credit reporting                                                                            0    \n",
       "Debt settlement                                                                           220    \n",
       "Domestic (US) money transfer                                                             5296    \n",
       "Electronic Benefit Transfer / EBT card                                                      0    \n",
       "FHA mortgage                                                                                0    \n",
       "Federal student loan                                                                        0    \n",
       "Federal student loan debt                                                                   0    \n",
       "Federal student loan servicing                                                              0    \n",
       "Foreign currency exchange                                                                 212    \n",
       "General purpose card                                                                        0    \n",
       "General-purpose credit card or charge card                                                  0    \n",
       "General-purpose prepaid card                                                                0    \n",
       "Gift card                                                                                   0    \n",
       "Gift or merchant card                                                                       0    \n",
       "Government benefit card                                                                     0    \n",
       "Government benefit payment card                                                             0    \n",
       "Home equity loan or line of credit                                                          0    \n",
       "Home equity loan or line of credit (HELOC)                                                  0    \n",
       "I do not know                                                                               0    \n",
       "ID prepaid card                                                                             0    \n",
       "Installment loan                                                                            0    \n",
       "International money transfer                                                             2262    \n",
       "Lease                                                                                       0    \n",
       "Loan                                                                                        0    \n",
       "Medical                                                                                     0    \n",
       "Medical debt                                                                                0    \n",
       "Mobile or digital wallet                                                                 6402    \n",
       "Mobile wallet                                                                               0    \n",
       "Money order                                                                               230    \n",
       "Mortgage                                                                                    0    \n",
       "Mortgage debt                                                                               0    \n",
       "Non-federal student loan                                                                    0    \n",
       "Other (i.e. phone, health club, etc.)                                                       0    \n",
       "Other bank product/service                                                                  0    \n",
       "Other banking product or service                                                            0    \n",
       "Other debt                                                                                  0    \n",
       "Other mortgage                                                                              0    \n",
       "Other personal consumer report                                                              0    \n",
       "Other special purpose card                                                                  0    \n",
       "Other type of mortgage                                                                      0    \n",
       "Pawn loan                                                                                   0    \n",
       "Payday loan                                                                                 0    \n",
       "Payday loan debt                                                                            0    \n",
       "Payroll card                                                                                0    \n",
       "Personal line of credit                                                                     0    \n",
       "Private student loan                                                                        0    \n",
       "Private student loan debt                                                                   0    \n",
       "Refund anticipation check                                                                 202    \n",
       "Reverse mortgage                                                                            0    \n",
       "Savings account                                                                             0    \n",
       "Store credit card                                                                           0    \n",
       "Student prepaid card                                                                        0    \n",
       "Title loan                                                                                  0    \n",
       "Transit card                                                                                0    \n",
       "Traveler's check or cashier's check                                                       286    \n",
       "Traveler’s/Cashier’s checks                                                                 0    \n",
       "VA mortgage                                                                                 0    \n",
       "Vehicle lease                                                                               0    \n",
       "Vehicle loan                                                                                0    \n",
       "Virtual currency                                                                         3568    \n",
       "\n",
       "Product                                     Money transfers  Mortgage  \\\n",
       "Sub-product                                                             \n",
       "(CD) Certificate of deposit                               0         0   \n",
       "Auto                                                      0         0   \n",
       "Auto debt                                                 0         0   \n",
       "CD (Certificate of Deposit)                               0         0   \n",
       "Cashing a check without an account                        0         0   \n",
       "Check cashing                                             0         0   \n",
       "Check cashing service                                     0         0   \n",
       "Checking account                                          0         0   \n",
       "Conventional adjustable mortgage (ARM)                    0      4972   \n",
       "Conventional fixed mortgage                               0     14551   \n",
       "Conventional home mortgage                                0     32701   \n",
       "Credit card                                               0         0   \n",
       "Credit card debt                                          0         0   \n",
       "Credit repair                                             0         0   \n",
       "Credit repair services                                    0         0   \n",
       "Credit reporting                                          0         0   \n",
       "Debt settlement                                           0         0   \n",
       "Domestic (US) money transfer                            861         0   \n",
       "Electronic Benefit Transfer / EBT card                    0         0   \n",
       "FHA mortgage                                              0     15488   \n",
       "Federal student loan                                      0         0   \n",
       "Federal student loan debt                                 0         0   \n",
       "Federal student loan servicing                            0         0   \n",
       "Foreign currency exchange                                 0         0   \n",
       "General purpose card                                      0         0   \n",
       "General-purpose credit card or charge card                0         0   \n",
       "General-purpose prepaid card                              0         0   \n",
       "Gift card                                                 0         0   \n",
       "Gift or merchant card                                     0         0   \n",
       "Government benefit card                                   0         0   \n",
       "Government benefit payment card                           0         0   \n",
       "Home equity loan or line of credit                        0      2101   \n",
       "Home equity loan or line of credit (HELOC)                0      2737   \n",
       "I do not know                                             0         0   \n",
       "ID prepaid card                                           0         0   \n",
       "Installment loan                                          0         0   \n",
       "International money transfer                            635         0   \n",
       "Lease                                                     0         0   \n",
       "Loan                                                      0         0   \n",
       "Medical                                                   0         0   \n",
       "Medical debt                                              0         0   \n",
       "Mobile or digital wallet                                  0         0   \n",
       "Mobile wallet                                             0         0   \n",
       "Money order                                               0         0   \n",
       "Mortgage                                                  0         0   \n",
       "Mortgage debt                                             0         0   \n",
       "Non-federal student loan                                  0         0   \n",
       "Other (i.e. phone, health club, etc.)                     0         0   \n",
       "Other bank product/service                                0         0   \n",
       "Other banking product or service                          0         0   \n",
       "Other debt                                                0         0   \n",
       "Other mortgage                                            0      3231   \n",
       "Other personal consumer report                            0         0   \n",
       "Other special purpose card                                0         0   \n",
       "Other type of mortgage                                    0      3313   \n",
       "Pawn loan                                                 0         0   \n",
       "Payday loan                                               0         0   \n",
       "Payday loan debt                                          0         0   \n",
       "Payroll card                                              0         0   \n",
       "Personal line of credit                                   0         0   \n",
       "Private student loan                                      0         0   \n",
       "Private student loan debt                                 0         0   \n",
       "Refund anticipation check                                 0         0   \n",
       "Reverse mortgage                                          0       866   \n",
       "Savings account                                           0         0   \n",
       "Store credit card                                         0         0   \n",
       "Student prepaid card                                      0         0   \n",
       "Title loan                                                0         0   \n",
       "Transit card                                              0         0   \n",
       "Traveler's check or cashier's check                       0         0   \n",
       "Traveler’s/Cashier’s checks                               0         0   \n",
       "VA mortgage                                               0      5703   \n",
       "Vehicle lease                                             0         0   \n",
       "Vehicle loan                                              0         0   \n",
       "Virtual currency                                          0         0   \n",
       "\n",
       "Product                                     Other financial service  \\\n",
       "Sub-product                                                           \n",
       "(CD) Certificate of deposit                                       0   \n",
       "Auto                                                              0   \n",
       "Auto debt                                                         0   \n",
       "CD (Certificate of Deposit)                                       0   \n",
       "Cashing a check without an account                                0   \n",
       "Check cashing                                                    53   \n",
       "Check cashing service                                             0   \n",
       "Checking account                                                  0   \n",
       "Conventional adjustable mortgage (ARM)                            0   \n",
       "Conventional fixed mortgage                                       0   \n",
       "Conventional home mortgage                                        0   \n",
       "Credit card                                                       0   \n",
       "Credit card debt                                                  0   \n",
       "Credit repair                                                    39   \n",
       "Credit repair services                                            0   \n",
       "Credit reporting                                                  0   \n",
       "Debt settlement                                                 109   \n",
       "Domestic (US) money transfer                                      0   \n",
       "Electronic Benefit Transfer / EBT card                            0   \n",
       "FHA mortgage                                                      0   \n",
       "Federal student loan                                              0   \n",
       "Federal student loan debt                                         0   \n",
       "Federal student loan servicing                                    0   \n",
       "Foreign currency exchange                                        16   \n",
       "General purpose card                                              0   \n",
       "General-purpose credit card or charge card                        0   \n",
       "General-purpose prepaid card                                      0   \n",
       "Gift card                                                         0   \n",
       "Gift or merchant card                                             0   \n",
       "Government benefit card                                           0   \n",
       "Government benefit payment card                                   0   \n",
       "Home equity loan or line of credit                                0   \n",
       "Home equity loan or line of credit (HELOC)                        0   \n",
       "I do not know                                                     0   \n",
       "ID prepaid card                                                   0   \n",
       "Installment loan                                                  0   \n",
       "International money transfer                                      0   \n",
       "Lease                                                             0   \n",
       "Loan                                                              0   \n",
       "Medical                                                           0   \n",
       "Medical debt                                                      0   \n",
       "Mobile or digital wallet                                          0   \n",
       "Mobile wallet                                                     0   \n",
       "Money order                                                      35   \n",
       "Mortgage                                                          0   \n",
       "Mortgage debt                                                     0   \n",
       "Non-federal student loan                                          0   \n",
       "Other (i.e. phone, health club, etc.)                             0   \n",
       "Other bank product/service                                        0   \n",
       "Other banking product or service                                  0   \n",
       "Other debt                                                        0   \n",
       "Other mortgage                                                    0   \n",
       "Other personal consumer report                                    0   \n",
       "Other special purpose card                                        0   \n",
       "Other type of mortgage                                            0   \n",
       "Pawn loan                                                         0   \n",
       "Payday loan                                                       0   \n",
       "Payday loan debt                                                  0   \n",
       "Payroll card                                                      0   \n",
       "Personal line of credit                                           0   \n",
       "Private student loan                                              0   \n",
       "Private student loan debt                                         0   \n",
       "Refund anticipation check                                        17   \n",
       "Reverse mortgage                                                  0   \n",
       "Savings account                                                   0   \n",
       "Store credit card                                                 0   \n",
       "Student prepaid card                                              0   \n",
       "Title loan                                                        0   \n",
       "Transit card                                                      0   \n",
       "Traveler's check or cashier's check                               0   \n",
       "Traveler’s/Cashier’s checks                                      22   \n",
       "VA mortgage                                                       0   \n",
       "Vehicle lease                                                     0   \n",
       "Vehicle loan                                                      0   \n",
       "Virtual currency                                                  0   \n",
       "\n",
       "Product                                     Payday loan, title loan, or personal loan  \\\n",
       "Sub-product                                                                             \n",
       "(CD) Certificate of deposit                                                         0   \n",
       "Auto                                                                                0   \n",
       "Auto debt                                                                           0   \n",
       "CD (Certificate of Deposit)                                                         0   \n",
       "Cashing a check without an account                                                  0   \n",
       "Check cashing                                                                       0   \n",
       "Check cashing service                                                               0   \n",
       "Checking account                                                                    0   \n",
       "Conventional adjustable mortgage (ARM)                                              0   \n",
       "Conventional fixed mortgage                                                         0   \n",
       "Conventional home mortgage                                                          0   \n",
       "Credit card                                                                         0   \n",
       "Credit card debt                                                                    0   \n",
       "Credit repair                                                                       0   \n",
       "Credit repair services                                                              0   \n",
       "Credit reporting                                                                    0   \n",
       "Debt settlement                                                                     0   \n",
       "Domestic (US) money transfer                                                        0   \n",
       "Electronic Benefit Transfer / EBT card                                              0   \n",
       "FHA mortgage                                                                        0   \n",
       "Federal student loan                                                                0   \n",
       "Federal student loan debt                                                           0   \n",
       "Federal student loan servicing                                                      0   \n",
       "Foreign currency exchange                                                           0   \n",
       "General purpose card                                                                0   \n",
       "General-purpose credit card or charge card                                          0   \n",
       "General-purpose prepaid card                                                        0   \n",
       "Gift card                                                                           0   \n",
       "Gift or merchant card                                                               0   \n",
       "Government benefit card                                                             0   \n",
       "Government benefit payment card                                                     0   \n",
       "Home equity loan or line of credit                                                  0   \n",
       "Home equity loan or line of credit (HELOC)                                          0   \n",
       "I do not know                                                                       0   \n",
       "ID prepaid card                                                                     0   \n",
       "Installment loan                                                                 4512   \n",
       "International money transfer                                                        0   \n",
       "Lease                                                                               0   \n",
       "Loan                                                                                0   \n",
       "Medical                                                                             0   \n",
       "Medical debt                                                                        0   \n",
       "Mobile or digital wallet                                                            0   \n",
       "Mobile wallet                                                                       0   \n",
       "Money order                                                                         0   \n",
       "Mortgage                                                                            0   \n",
       "Mortgage debt                                                                       0   \n",
       "Non-federal student loan                                                            0   \n",
       "Other (i.e. phone, health club, etc.)                                               0   \n",
       "Other bank product/service                                                          0   \n",
       "Other banking product or service                                                    0   \n",
       "Other debt                                                                          0   \n",
       "Other mortgage                                                                      0   \n",
       "Other personal consumer report                                                      0   \n",
       "Other special purpose card                                                          0   \n",
       "Other type of mortgage                                                              0   \n",
       "Pawn loan                                                                          27   \n",
       "Payday loan                                                                      3005   \n",
       "Payday loan debt                                                                    0   \n",
       "Payroll card                                                                        0   \n",
       "Personal line of credit                                                          1985   \n",
       "Private student loan                                                                0   \n",
       "Private student loan debt                                                           0   \n",
       "Refund anticipation check                                                           0   \n",
       "Reverse mortgage                                                                    0   \n",
       "Savings account                                                                     0   \n",
       "Store credit card                                                                   0   \n",
       "Student prepaid card                                                                0   \n",
       "Title loan                                                                       1085   \n",
       "Transit card                                                                        0   \n",
       "Traveler's check or cashier's check                                                 0   \n",
       "Traveler’s/Cashier’s checks                                                         0   \n",
       "VA mortgage                                                                         0   \n",
       "Vehicle lease                                                                       0   \n",
       "Vehicle loan                                                                        0   \n",
       "Virtual currency                                                                    0   \n",
       "\n",
       "Product                                     Prepaid card  Student loan  \\\n",
       "Sub-product                                                              \n",
       "(CD) Certificate of deposit                            0             0   \n",
       "Auto                                                   0             0   \n",
       "Auto debt                                              0             0   \n",
       "CD (Certificate of Deposit)                            0             0   \n",
       "Cashing a check without an account                     0             0   \n",
       "Check cashing                                          0             0   \n",
       "Check cashing service                                  0             0   \n",
       "Checking account                                       0             0   \n",
       "Conventional adjustable mortgage (ARM)                 0             0   \n",
       "Conventional fixed mortgage                            0             0   \n",
       "Conventional home mortgage                             0             0   \n",
       "Credit card                                            0             0   \n",
       "Credit card debt                                       0             0   \n",
       "Credit repair                                          0             0   \n",
       "Credit repair services                                 0             0   \n",
       "Credit reporting                                       0             0   \n",
       "Debt settlement                                        0             0   \n",
       "Domestic (US) money transfer                           0             0   \n",
       "Electronic Benefit Transfer / EBT card                 3             0   \n",
       "FHA mortgage                                           0             0   \n",
       "Federal student loan                                   0             0   \n",
       "Federal student loan debt                              0             0   \n",
       "Federal student loan servicing                         0         17055   \n",
       "Foreign currency exchange                              0             0   \n",
       "General purpose card                                 728             0   \n",
       "General-purpose credit card or charge card             0             0   \n",
       "General-purpose prepaid card                           0             0   \n",
       "Gift card                                              0             0   \n",
       "Gift or merchant card                                154             0   \n",
       "Government benefit card                                0             0   \n",
       "Government benefit payment card                       80             0   \n",
       "Home equity loan or line of credit                     0             0   \n",
       "Home equity loan or line of credit (HELOC)             0             0   \n",
       "I do not know                                          0             0   \n",
       "ID prepaid card                                      101             0   \n",
       "Installment loan                                       0             0   \n",
       "International money transfer                           0             0   \n",
       "Lease                                                  0             0   \n",
       "Loan                                                   0             0   \n",
       "Medical                                                0             0   \n",
       "Medical debt                                           0             0   \n",
       "Mobile or digital wallet                               0             0   \n",
       "Mobile wallet                                         85             0   \n",
       "Money order                                            0             0   \n",
       "Mortgage                                               0             0   \n",
       "Mortgage debt                                          0             0   \n",
       "Non-federal student loan                               0          5742   \n",
       "Other (i.e. phone, health club, etc.)                  0             0   \n",
       "Other bank product/service                             0             0   \n",
       "Other banking product or service                       0             0   \n",
       "Other debt                                             0             0   \n",
       "Other mortgage                                         0             0   \n",
       "Other personal consumer report                         0             0   \n",
       "Other special purpose card                            58             0   \n",
       "Other type of mortgage                                 0             0   \n",
       "Pawn loan                                              0             0   \n",
       "Payday loan                                            0             0   \n",
       "Payday loan debt                                       0             0   \n",
       "Payroll card                                         220             0   \n",
       "Personal line of credit                                0             0   \n",
       "Private student loan                                   0          6392   \n",
       "Private student loan debt                              0             0   \n",
       "Refund anticipation check                              0             0   \n",
       "Reverse mortgage                                       0             0   \n",
       "Savings account                                        0             0   \n",
       "Store credit card                                      0             0   \n",
       "Student prepaid card                                   0             0   \n",
       "Title loan                                             0             0   \n",
       "Transit card                                          19             0   \n",
       "Traveler's check or cashier's check                    0             0   \n",
       "Traveler’s/Cashier’s checks                            0             0   \n",
       "VA mortgage                                            0             0   \n",
       "Vehicle lease                                          0             0   \n",
       "Vehicle loan                                           0             0   \n",
       "Virtual currency                                       0             0   \n",
       "\n",
       "Product                                     Vehicle loan or lease  \\\n",
       "Sub-product                                                         \n",
       "(CD) Certificate of deposit                                     0   \n",
       "Auto                                                            0   \n",
       "Auto debt                                                       0   \n",
       "CD (Certificate of Deposit)                                     0   \n",
       "Cashing a check without an account                              0   \n",
       "Check cashing                                                   0   \n",
       "Check cashing service                                           0   \n",
       "Checking account                                                0   \n",
       "Conventional adjustable mortgage (ARM)                          0   \n",
       "Conventional fixed mortgage                                     0   \n",
       "Conventional home mortgage                                      0   \n",
       "Credit card                                                     0   \n",
       "Credit card debt                                                0   \n",
       "Credit repair                                                   0   \n",
       "Credit repair services                                          0   \n",
       "Credit reporting                                                0   \n",
       "Debt settlement                                                 0   \n",
       "Domestic (US) money transfer                                    0   \n",
       "Electronic Benefit Transfer / EBT card                          0   \n",
       "FHA mortgage                                                    0   \n",
       "Federal student loan                                            0   \n",
       "Federal student loan debt                                       0   \n",
       "Federal student loan servicing                                  0   \n",
       "Foreign currency exchange                                       0   \n",
       "General purpose card                                            0   \n",
       "General-purpose credit card or charge card                      0   \n",
       "General-purpose prepaid card                                    0   \n",
       "Gift card                                                       0   \n",
       "Gift or merchant card                                           0   \n",
       "Government benefit card                                         0   \n",
       "Government benefit payment card                                 0   \n",
       "Home equity loan or line of credit                              0   \n",
       "Home equity loan or line of credit (HELOC)                      0   \n",
       "I do not know                                                   0   \n",
       "ID prepaid card                                                 0   \n",
       "Installment loan                                                0   \n",
       "International money transfer                                    0   \n",
       "Lease                                                        2795   \n",
       "Loan                                                        12469   \n",
       "Medical                                                         0   \n",
       "Medical debt                                                    0   \n",
       "Mobile or digital wallet                                        0   \n",
       "Mobile wallet                                                   0   \n",
       "Money order                                                     0   \n",
       "Mortgage                                                        0   \n",
       "Mortgage debt                                                   0   \n",
       "Non-federal student loan                                        0   \n",
       "Other (i.e. phone, health club, etc.)                           0   \n",
       "Other bank product/service                                      0   \n",
       "Other banking product or service                                0   \n",
       "Other debt                                                      0   \n",
       "Other mortgage                                                  0   \n",
       "Other personal consumer report                                  0   \n",
       "Other special purpose card                                      0   \n",
       "Other type of mortgage                                          0   \n",
       "Pawn loan                                                       0   \n",
       "Payday loan                                                     0   \n",
       "Payday loan debt                                                0   \n",
       "Payroll card                                                    0   \n",
       "Personal line of credit                                         0   \n",
       "Private student loan                                            0   \n",
       "Private student loan debt                                       0   \n",
       "Refund anticipation check                                       0   \n",
       "Reverse mortgage                                                0   \n",
       "Savings account                                                 0   \n",
       "Store credit card                                               0   \n",
       "Student prepaid card                                            0   \n",
       "Title loan                                                     16   \n",
       "Transit card                                                    0   \n",
       "Traveler's check or cashier's check                             0   \n",
       "Traveler’s/Cashier’s checks                                     0   \n",
       "VA mortgage                                                     0   \n",
       "Vehicle lease                                                   0   \n",
       "Vehicle loan                                                    0   \n",
       "Virtual currency                                                0   \n",
       "\n",
       "Product                                     Virtual currency  \n",
       "Sub-product                                                   \n",
       "(CD) Certificate of deposit                                0  \n",
       "Auto                                                       0  \n",
       "Auto debt                                                  0  \n",
       "CD (Certificate of Deposit)                                0  \n",
       "Cashing a check without an account                         0  \n",
       "Check cashing                                              0  \n",
       "Check cashing service                                      0  \n",
       "Checking account                                           0  \n",
       "Conventional adjustable mortgage (ARM)                     0  \n",
       "Conventional fixed mortgage                                0  \n",
       "Conventional home mortgage                                 0  \n",
       "Credit card                                                0  \n",
       "Credit card debt                                           0  \n",
       "Credit repair                                              0  \n",
       "Credit repair services                                     0  \n",
       "Credit reporting                                           0  \n",
       "Debt settlement                                            0  \n",
       "Domestic (US) money transfer                              13  \n",
       "Electronic Benefit Transfer / EBT card                     0  \n",
       "FHA mortgage                                               0  \n",
       "Federal student loan                                       0  \n",
       "Federal student loan debt                                  0  \n",
       "Federal student loan servicing                             0  \n",
       "Foreign currency exchange                                  0  \n",
       "General purpose card                                       0  \n",
       "General-purpose credit card or charge card                 0  \n",
       "General-purpose prepaid card                               0  \n",
       "Gift card                                                  0  \n",
       "Gift or merchant card                                      0  \n",
       "Government benefit card                                    0  \n",
       "Government benefit payment card                            0  \n",
       "Home equity loan or line of credit                         0  \n",
       "Home equity loan or line of credit (HELOC)                 0  \n",
       "I do not know                                              0  \n",
       "ID prepaid card                                            0  \n",
       "Installment loan                                           0  \n",
       "International money transfer                               1  \n",
       "Lease                                                      0  \n",
       "Loan                                                       0  \n",
       "Medical                                                    0  \n",
       "Medical debt                                               0  \n",
       "Mobile or digital wallet                                   0  \n",
       "Mobile wallet                                              0  \n",
       "Money order                                                0  \n",
       "Mortgage                                                   0  \n",
       "Mortgage debt                                              0  \n",
       "Non-federal student loan                                   0  \n",
       "Other (i.e. phone, health club, etc.)                      0  \n",
       "Other bank product/service                                 0  \n",
       "Other banking product or service                           0  \n",
       "Other debt                                                 0  \n",
       "Other mortgage                                             0  \n",
       "Other personal consumer report                             0  \n",
       "Other special purpose card                                 0  \n",
       "Other type of mortgage                                     0  \n",
       "Pawn loan                                                  0  \n",
       "Payday loan                                                0  \n",
       "Payday loan debt                                           0  \n",
       "Payroll card                                               0  \n",
       "Personal line of credit                                    0  \n",
       "Private student loan                                       0  \n",
       "Private student loan debt                                  0  \n",
       "Refund anticipation check                                  0  \n",
       "Reverse mortgage                                           0  \n",
       "Savings account                                            0  \n",
       "Store credit card                                          0  \n",
       "Student prepaid card                                       0  \n",
       "Title loan                                                 0  \n",
       "Transit card                                               0  \n",
       "Traveler's check or cashier's check                        0  \n",
       "Traveler’s/Cashier’s checks                                0  \n",
       "VA mortgage                                                0  \n",
       "Vehicle lease                                              0  \n",
       "Vehicle loan                                               0  \n",
       "Virtual currency                                           0  "
      ]
     },
     "metadata": {},
     "output_type": "display_data"
    },
    {
     "name": "stdout",
     "output_type": "stream",
     "text": [
      "time: 203 ms (started: 2022-01-25 15:03:19 +05:30)\n"
     ]
    }
   ],
   "source": [
    "pd.set_option('display.max_rows', 500) # increase max row view size\n",
    "display(pd.crosstab(con_com_use['Sub-product'], con_com_use['Product']))\n",
    "pd.set_option('display.max_rows', 10) # decrease max row view size"
   ]
  },
  {
   "cell_type": "markdown",
   "id": "1c4bf4e0-87f6-4844-96db-2210e1fe964b",
   "metadata": {
    "id": "q4n_0K2bx4Ga"
   },
   "source": [
    "Understanding overlap between Consumer loan and Vehicle loan"
   ]
  },
  {
   "cell_type": "code",
   "execution_count": 16,
   "id": "03af6316-563d-48b1-b6c2-7a7a864a0230",
   "metadata": {
    "colab": {
     "base_uri": "https://localhost:8080/"
    },
    "id": "6zXjIaQCvpbW",
    "outputId": "444b4264-66aa-4771-9619-573e39dc6843",
    "scrolled": true,
    "tags": []
   },
   "outputs": [
    {
     "data": {
      "text/plain": [
       "['XXXX XXXX, XXXX XXXX XXXX XXXX XXXX XXXX XXXX. XXXX XXXX XXXX XXXX, TX XXXX XXXX : Loan Number XXXX VIN Number XXXX Dear XXXX XXXX : I am writing to you in hopes that you will be able to assist me with a timely resolution to the on-going problems I am experiencing with Chrysler Capital and XXXX XXXX. \\n\\n\\nI did not receive a statement for XXXX/XXXX/XXXX. It is unclear when the loan was assigned to Chrysler Capital? Please provide me with the date of transfer? Your staff told me that I needed a court order for that information. \\nPayment of XXXX/XXXX/XXXX - principal/interest were not applied properly. \\nPayment of XXXX/XXXX/XXXX - principal/interest were not applied properly. \\nPayment of XXXX/XXXX/XXXX - principal/interest were not applied properly. Payment shows short to correct previous errors. Falsification of reporting to credit agencies. Please correct this immediately. \\nPayment of XXXX/XXXX/XXXX - principal/interest were not applied properly. Payment shows short to correct previous errors. Falsification of reporting to credit agencies. Please correct this immediately. \\nPayment of XXXX/XXXX/XXXX - payment short to correct previous errors. Falsification of reporting to credit agencies. Please correct this immediately. \\nPayment of XXXX/XXXX/XXXX - payment short to correct previous errors in order to justify fees charged. Please correct this immediately. \\nPayment of XXXX/XXXX/XXXX - payment short to correct previous errors. Falsification of reporting to credit agencies. Please correct this immediately. \\nPayments of XXXX/XXXX/XXXX through XXXX/XXXX/XXXX - need to check principal/interest for proper accounting. Please make necessary corrections immediately. \\nPayment of XXXX/XXXX/XXXX - need to check principal/interest for proper accounting. Please make necessary corrections immediately. \\nPayment of XXXX/XXXX/XXXX - Principal/interest is not applied correctly in order to justify fees charged. Please make the necessary corrections immediately. \\nPayment of XXXX/XXXX/XXXX - need to check principal/interest for proper accounting. Please make the necessary corrections immediately. \\n\\n\\n\\n\\n\\n\\n\\n\\nI have been instructed by many of your Chrysler associates to \" contact an attorney or get a court order for the information I am requesting \\'\\'. ( This by the way is illegal as I am entitled to said requested information ). Per their direction, I have done so. My attorney asked me to make one more attempt to resolve this directly with Chrysler Capital and XXXX XXXX. This letter serves as my final attempt to resolve this with you before taking formal legal action. \\n\\n\\nII was told by one of your associates that XXXX XXXX made changes to the contract without my knowledge which again is illegal. When I asked for documentation, I was told that it was in the transcripts ( which again as a co-signer I am legally entitled to ). When I asked for said copy of transcripts in which they were referring to, I was again told that I would need to secure a court order to obtain. \\n\\n\\nMy attorney questioned \" who is actually under contract and its validity \\'\\'. The documents that I signed indicate that I am the co-signer. The extended warranty purchased is signed by XXXX XXXX. \\n\\n\\nIt is unclear to me how I could have been the co-signer and more over the buyer. I am currently unemployed and was not employed at the time the car was purchased I had no money in any bank account ; nothing to support the purchase of a new car. It appears as if the sale of a car outweighed basic loan approval principals that would clearly indicate that I would be unable to pay for said vehicle. \\n\\n\\nI have requested previously and am doing so again via this written demand, copies of all documents related to the contract, loan work up sheets, credit report, loan approval, loan assignments, contracts etc. XXXX XXXX states that they did not have all the documents required by law in their files. XXXX',\n",
       " 'I reached an agreement with Universal Acceptance Corporation to settle my account for {$1000.00}, which, I paid with my XXXX XXXX XXXX debit card. I want UAC to send me a letter of confirmation and the release of lien document.',\n",
       " 'I purchased my new Truck in XXXX 2016. The dealer said I could n\\'t pay cash and I had to finance it for at least 3 payments. When I got my first statement from Chrysler Capital the principal was {$29000.00} and payoff was $ XXXX.I sent a cashiers check on XXXX XXXX, 2016 for the {$30000.00}. They sent me another \" bill \\'\\' for {$97.00} for more interest. On XXXX XXXX, 2016 I sent another check for {$97.00}. Now they said they did n\\'t receive it. I sent it certified mail and the tracking mail showed it was delivered XXXX XXXX, 2016 at XXXX and checking with my bank for a copy of the check showed it was deposited XXXX XXXX, 2016. They are still sending me a bill for the {$97.00} plus {$2.00} interest. Meanwhile ( XXXX XXXX I assume / Chrysler Capital sent me a prepaid debit card for {$97.00} for over payment for my loan. I \\'ve called at least 4 times and get a different answer each time and I still have n\\'t received the Pink Slip title. I think from XXXX, 2016 to XXXX, XXXX, 2016 is plenty of time for them to get things settled. \\nThank You',\n",
       " \"In XX/XX/XXXX, I agreed to co-sign for my son 's USAA Consumer Lending auto loan. My son, being in XXXX and myself in XXXX XXXX he was apparently allowed to e-sign for me but I did receive a call from USAA to secure my identity and ensure my consent as co-signer. \\nIn XXXX, USAA consumer lending allowed my son to refinance this loan without my knowledge or consent. I was unaware of this for several months and have made numerous attempts to have myself removed from this loan without success to include a letter from my attorney on XX/XX/XXXX requesting proof pursuant to the ESIGN and XXXX acts as well as state law. I confirmed this letter was on file on XX/XX/XXXX and was being investigated by the consumer lending fraud department to whom I 've never been able to speak and been dropped from the call to consumer lending after being on hold for lengthy periods. Recently I 've discovered that there is no consumer lending fraud department, just a fraud department. I 've been given several reasons USAA consumer lending department insist I 'm co-signer on the loan legitimately such as : We sent you an e-mail and you did n't reply with objections, you agreed to do business electronically and receive documents electronically. Your son gave us the last XXXX digits of your SSN ( further questioning of requirements in this phone conversation, USAA consumer lending said I had to be in the same room where my son e-signed. I was in XXXX and he was in XXXX. \\nI the mean time I 've received derogatory information on my credit report and a threatening letter from USAA. I have been with USAA for almost 30 years and always received fair and respectful treatment, until now. Only the consumer lending department, quite a few representatives, have lied or misinformed me.\",\n",
       " 'On XXXX XXXX, XXXX, I purchased a used vehicle from XXXX XXXX of XXXX, in XXXX, OH. Three days after purchase of my XXXX XXXX XXXX XXXX service lights came on when I started it. The service lights were XXXX control. I immediately contacted my salesman XXXX XXXX XXXX XXXX making him aware of the issue. After communicating via text messages, I took the car in for servicing. This was only the beginning of the issues I \\'ve had with this vehicle. \\nMy wife and I have always leased new vehicles. I purchase a second vehicle to prevent from going over my miles on my current lease. XXXX XXXX stands on the premise of servicing the community where their dealerships are. I served on the XXXX XXXX XXXX, I wanted to make a purchase near where I live. \\nI \\'ve had several issue with this vehicle, as of today XXXX XXXX, XXXX the car is not operable. My father and I tried to jump the battery with no results. It appears nothing was done to this vehicle at trade in. I understand the vehicle was purchased \" AS IS - Without Warranty \\'\\' but never did I expect to have issues 72 hours after purchase that have proven to be ongoing and dangerous. I have n\\'t had the vehicle 6 months. \\nPlease review all attachments to include my attempts to resolve this issue with the dealership. I \\'m the XXXX, therefore I understand how some things happen. I \\'ve invested a lot of time, money and suffered inconvenience. I contacted the management at XXXX XXXX trying to give them opportunity to make this right. No one has felt it necessary to follow through. \\nI \\'m hoping you can help get this resolved. Had I purchased the car from a private owner, I would have expected \" Buyer beware. \\'\\' Best Regards, XXXX XXXX XXXX XXXX']"
      ]
     },
     "execution_count": 16,
     "metadata": {},
     "output_type": "execute_result"
    },
    {
     "name": "stdout",
     "output_type": "stream",
     "text": [
      "time: 94 ms (started: 2022-01-25 15:03:20 +05:30)\n"
     ]
    }
   ],
   "source": [
    "list(set(con_com_use[(con_com_use['Product']=='Consumer Loan') & (con_com_use['Sub-product']=='Vehicle loan')]['Consumer complaint narrative'].tolist()))[:5]"
   ]
  },
  {
   "cell_type": "markdown",
   "id": "84293940-7e5f-460f-9bf3-356630285bf2",
   "metadata": {
    "id": "-vc5Fwoax__S"
   },
   "source": [
    "Understanding overlap between Consumer loan and Personal line of credit"
   ]
  },
  {
   "cell_type": "code",
   "execution_count": 17,
   "id": "8e1ce38b-dbfe-4c83-8087-93537ca72ab5",
   "metadata": {
    "colab": {
     "base_uri": "https://localhost:8080/"
    },
    "id": "WF3EzmFLxq6-",
    "outputId": "b85f819a-6b14-4024-dba2-3609da8225f3",
    "scrolled": true,
    "tags": []
   },
   "outputs": [
    {
     "data": {
      "text/plain": [
       "['Wells Fargo reported a late status on my account on an account that is already paid in full and has no balance',\n",
       " \"XXXX did not meet their delivery timeline. So I cancelled the order and they continue deduct money from me in XXXX 's when i cancelled XXXX XXXX. They are looking for me to jump through hoops for my refund, while they continues to take money out of my account. I have instructed the bank to place a stop payment for this debit. Called today and they are requesting after two months and no refund to send bank statements to show they have my money and it two month later.\",\n",
       " \"I have been a Paypal and Paypal Credit customer for many years and have never had any problems and have always paid my payments on time. In XXXX 2016 I made a online purchase using Paypal Credit with the agreement that I had 6 months no payments and no interest expiring XXXX XXXX 2016. On or about the XX/XX/2016 I linked my XXXX XXXX XXXX XXXX savings account to my Paypal account ( via Paypal web site ) with the intent of paying that debt in full before the XXXX XXXX deadline, I was advised electronically that Paypal would be making XXXX small withdraws from that account within 2-3 days for confirmation before the account would become active and that I should review my XXXX XXXX XXXX statement for confirmation. After about a week I had not seen any withdraws from my XXXX XXXX account and contacted Paypal via telephone, their automated phone system is very difficult and confusing to navigate and took several attempts and several minutes to speak to a agent directly, after explaining to the agent that I had not yet received confirmation he checked my Paypal account and advised me that the XXXX XXXX savings account was confirmed, was active and I was good to go, I thanked him, hung up the phone and immediately scheduled a payment ( via my Paypal Credit account ) for the full amount, on XXXX XXXX 2016, from the XXXX XXXX XXXX XXXX XXXX account that is listed on my Paypal account, the scheduled payment appeared on my Paypal Credit account. \\nOver the next couple weeks I made a couple small online purchases via Paypal using the above mentioned XXXX XXXX Savings account and received several emails from Paypal and XXXX XXXX that those payments were denied and as there was well more then enough funds to cover those payments as well as the scheduled payment on XXXX XXXX I contacted Paypal via phone again navigating thru their very confusing, frustrating automated phone system I made contact with an agent, after expressing my displeasure regarding their phone system I inquired as to the reason those payments were denied. After checking my account he explained to me that my bank ( XXXX XXXX ) does not allow electronic payments from savings accounts, I advised him that I accepted his explanation regarding XXXX XXXX but that I was very displeased with Paypal and expressed that displeasure very adamantly as I had payments being denied and a large payment scheduled for XXXX XXXX and Paypal advised me I could use that account, he further explained to me that those payments were made using another bank account listed on my Paypal account. I apologized, explaining that my displeasure was not with him rather with Paypal for giving me the go ahead to use that account and hung up. That night I logged on to my Paypal account to insure the payment for XXXX XXXX and quickly learned that my account was in a limited status, somehow while I was navigating thru their automated phone system I triggered a security feature, I phoned them again and was able to fix that. the next day approx. XXXX XXXX I phoned them again for the sole purpose of making sure the payment scheduled for XXXX XXXX was still on, they bounced me between agents and departments, I did as they instructed me and was under the impression that everything was fine, On XXXX XXXX I checked my bank account and the funds for that payment were still there, I phoned Paypal again and was advised no payment was scheduled and that I now owed {$310.00} in interest and fees, I paid the original loan and phoned their customer service the next day, I was advised there was nothing they could do, I asked to speak to a supervisor and was advised their supervisor does n't take phone calls, I asked review all phone calls regarding this matter, they said they would and replied via email that the would not waive finance charges and fees\",\n",
       " \"I got a personal loan to get my credit established and to get my car fixed from a certain loan company. I stayed caught up on my payments for as long as I had it, maybe 1 yr or little over and my payments came straight out of my bank on time. Then I get a letter about 2 months later stating that my payments was late and they could n't no longer get the payments from me because they sold my car title to another loan company and I had to sign papers so they can withdraw payments from my bank account again and then I ended up having to pay 2-3 months to catch up. I was n't notified and I did n't sign anything. Why? Because they did n't inform me until I was 2-3 months late. I could n't pay that much at one time because I 'm on a fixed income. Also the loan company they sold my title to another loan company that NEVER let me barrow anything from them when I asked in past. I am concerned, upset and overwhelmed from this. It is ruining my credit as I am trying to gain it back. I feel it is wrong that they DID NOT let me know nor did I sign papers for them to do so. I need some help in resolving the matter. Could someone at CFPB help me get through this?\",\n",
       " \"This was a revolving account in which I paid Wells Fargo National Bank. There fore I am requesting XXXX XXXX be totally removed. As far as Wells Fargo goes, I never missed a payment, but was late on one. But paid the agreed upon contract amount. Instead of calling me as the cosignor, they called my daughter who is a college student. I thought they were offers of credit increases when she told me they called, because they had called before. When I pulled my credit report and realized the account was closed, I called them and asked, how can you close an account in which you are receiving an on time monthly payment on, and they said, it was several months where I did n't pay the full amount and they called the cosigner, XXXX XXXX. I told them I was the cosigner. And then I asked, since they knew I was an XXXX, why did n't they call me? They told me they could only call one person on the account and they chose to call her. I asked them, Where was that law? Needless to say they did n't have an answer. I informed them that all it took was a simple phone call to me to could have resolved this before they went to the extreme. I told them that I was legally entitled to receive a phone call especially before they closed the account. I informed them that I was paying the account off shortly and I did. I opened this account to assist my daughter in building credit and this is ruining her start on life. I made 13 consecutive payments and this account was closed because of negligent policies and personnel being lazy.\"]"
      ]
     },
     "execution_count": 17,
     "metadata": {},
     "output_type": "execute_result"
    },
    {
     "name": "stdout",
     "output_type": "stream",
     "text": [
      "time: 78 ms (started: 2022-01-25 15:03:20 +05:30)\n"
     ]
    }
   ],
   "source": [
    "list(set(con_com_use[(con_com_use['Product']=='Consumer Loan') & (con_com_use['Sub-product']=='Personal line of credit')]['Consumer complaint narrative'].tolist()))[:5]"
   ]
  },
  {
   "cell_type": "markdown",
   "id": "54ddbe99-86b4-4af6-9810-4a567c65d7ec",
   "metadata": {
    "id": "PJLGk1Nptvbh"
   },
   "source": [
    "Looking at the above table and filtered Consumer copmplaint narrative, we can:\n",
    "- Combine 'Other financial service' and 'Money transfer, virtual currency, or money service'\n",
    "- Combine 'Consumer loan', 'Vehicle loan or lease' and 'Payday loan, title loan, or personal loan'\n",
    "- Combine 'Bank account or service' and 'Checking or savings account'\n",
    "\n",
    "- XXXX is used for masking of details"
   ]
  },
  {
   "cell_type": "code",
   "execution_count": 18,
   "id": "15543d40-08bd-49e2-a7ad-a7b3011f6821",
   "metadata": {
    "colab": {
     "base_uri": "https://localhost:8080/"
    },
    "id": "Ff_ozWQxLVtI",
    "outputId": "293c4366-022c-41f6-d8b8-6b5e01aea178"
   },
   "outputs": [
    {
     "name": "stdout",
     "output_type": "stream",
     "text": [
      "time: 187 ms (started: 2022-01-25 15:03:20 +05:30)\n"
     ]
    }
   ],
   "source": [
    "con_com_use['Product'].replace({'Credit card': 'Credit card or prepaid card',\n",
    "                                'Prepaid card': 'Credit card or prepaid card',\n",
    "                                'Credit reporting':'Credit reporting, credit repair services, or other personal consumer reports',\n",
    "                                'Money transfers':'Money transfer, virtual currency, or money service',\n",
    "                                'Virtual currency':'Money transfer, virtual currency, or money service',\n",
    "                                'Payday loan':'Consumer loan, Vehicle loan or lease, Payday loan, title loan, or personal loan',\n",
    "                                'Other financial service': 'Money transfer, virtual currency, or money service',\n",
    "                                'Consumer Loan':'Consumer loan, Vehicle loan or lease, Payday loan, title loan, or personal loan',\n",
    "                                'Vehicle loan or lease':'Consumer loan, Vehicle loan or lease, Payday loan, title loan, or personal loan',\n",
    "                                'Payday loan, title loan, or personal loan':'Consumer loan, Vehicle loan or lease, Payday loan, title loan, or personal loan',\n",
    "                                'Bank account or service':'Bank account or service, Savings account',\n",
    "                                'Checking or savings account':'Bank account or service, Savings account'}, inplace=True)"
   ]
  },
  {
   "cell_type": "code",
   "execution_count": 19,
   "id": "01a7672f-0655-469e-9a41-2e2cf5309cf2",
   "metadata": {
    "colab": {
     "base_uri": "https://localhost:8080/",
     "height": 0
    },
    "id": "MZqTy63ALVvo",
    "outputId": "a8d24986-28d9-49df-9646-7768d5834f98"
   },
   "outputs": [
    {
     "data": {
      "text/html": [
       "<div>\n",
       "<style scoped>\n",
       "    .dataframe tbody tr th:only-of-type {\n",
       "        vertical-align: middle;\n",
       "    }\n",
       "\n",
       "    .dataframe tbody tr th {\n",
       "        vertical-align: top;\n",
       "    }\n",
       "\n",
       "    .dataframe thead th {\n",
       "        text-align: right;\n",
       "    }\n",
       "</style>\n",
       "<table border=\"1\" class=\"dataframe\">\n",
       "  <thead>\n",
       "    <tr style=\"text-align: right;\">\n",
       "      <th></th>\n",
       "      <th>Product</th>\n",
       "      <th>Frequency</th>\n",
       "      <th>Percentage</th>\n",
       "    </tr>\n",
       "  </thead>\n",
       "  <tbody>\n",
       "    <tr>\n",
       "      <th>0</th>\n",
       "      <td>Credit reporting, credit repair services, or o...</td>\n",
       "      <td>284166</td>\n",
       "      <td>38.1</td>\n",
       "    </tr>\n",
       "    <tr>\n",
       "      <th>1</th>\n",
       "      <td>Debt collection</td>\n",
       "      <td>153541</td>\n",
       "      <td>20.6</td>\n",
       "    </tr>\n",
       "    <tr>\n",
       "      <th>2</th>\n",
       "      <td>Mortgage</td>\n",
       "      <td>85663</td>\n",
       "      <td>11.5</td>\n",
       "    </tr>\n",
       "    <tr>\n",
       "      <th>3</th>\n",
       "      <td>Credit card or prepaid card</td>\n",
       "      <td>81689</td>\n",
       "      <td>11.0</td>\n",
       "    </tr>\n",
       "    <tr>\n",
       "      <th>4</th>\n",
       "      <td>Bank account or service, Savings account</td>\n",
       "      <td>53407</td>\n",
       "      <td>7.2</td>\n",
       "    </tr>\n",
       "    <tr>\n",
       "      <th>5</th>\n",
       "      <td>Consumer loan, Vehicle loan or lease, Payday l...</td>\n",
       "      <td>37075</td>\n",
       "      <td>5.0</td>\n",
       "    </tr>\n",
       "    <tr>\n",
       "      <th>6</th>\n",
       "      <td>Student loan</td>\n",
       "      <td>29189</td>\n",
       "      <td>3.9</td>\n",
       "    </tr>\n",
       "    <tr>\n",
       "      <th>7</th>\n",
       "      <td>Money transfer, virtual currency, or money ser...</td>\n",
       "      <td>20765</td>\n",
       "      <td>2.8</td>\n",
       "    </tr>\n",
       "  </tbody>\n",
       "</table>\n",
       "</div>"
      ],
      "text/plain": [
       "                                             Product  Frequency  Percentage\n",
       "0  Credit reporting, credit repair services, or o...     284166        38.1\n",
       "1                                    Debt collection     153541        20.6\n",
       "2                                           Mortgage      85663        11.5\n",
       "3                        Credit card or prepaid card      81689        11.0\n",
       "4           Bank account or service, Savings account      53407         7.2\n",
       "5  Consumer loan, Vehicle loan or lease, Payday l...      37075         5.0\n",
       "6                                       Student loan      29189         3.9\n",
       "7  Money transfer, virtual currency, or money ser...      20765         2.8"
      ]
     },
     "metadata": {},
     "output_type": "display_data"
    },
    {
     "data": {
      "image/png": "[encoded data removed]",
      "text/plain": [
       "<Figure size 1584x576 with 1 Axes>"
      ]
     },
     "metadata": {
      "needs_background": "light"
     },
     "output_type": "display_data"
    },
    {
     "name": "stdout",
     "output_type": "stream",
     "text": [
      "time: 282 ms (started: 2022-01-25 15:03:20 +05:30)\n"
     ]
    }
   ],
   "source": [
    "dist_tmp = distTab(con_com_use,'Product')\n",
    "display(dist_tmp)\n",
    "f, ax = plt.subplots(figsize=(22,8))\n",
    "sn.barplot(x='Product',y=\"Percentage\",data=dist_tmp)\n",
    "plt.xticks(range(len(dist_tmp['Product'])), dist_tmp['Product'], rotation='vertical')\n",
    "plt.show()"
   ]
  },
  {
   "cell_type": "markdown",
   "id": "975be638-705b-44f8-83bd-6caa21477f3b",
   "metadata": {
    "id": "js5HCUgsslRN"
   },
   "source": [
    "- Number of categories is now 8 but the dataset is still highly imbalanced\n",
    "- We can drop Sub-product now"
   ]
  },
  {
   "cell_type": "code",
   "execution_count": 20,
   "id": "41022bd9-69de-4b69-a887-655dd8c65dd0",
   "metadata": {
    "colab": {
     "base_uri": "https://localhost:8080/"
    },
    "id": "-q9gzro56l-V",
    "outputId": "c4f7c43d-dbac-491a-b215-0118f867e272"
   },
   "outputs": [
    {
     "name": "stdout",
     "output_type": "stream",
     "text": [
      "time: 31 ms (started: 2022-01-25 15:03:20 +05:30)\n"
     ]
    }
   ],
   "source": [
    "con_com_use.drop(['Sub-product'], axis=1, inplace=True)"
   ]
  },
  {
   "cell_type": "markdown",
   "id": "f62eb724-793d-42be-8eaf-47149ee8dd71",
   "metadata": {},
   "source": [
    "Sampling for memory constraints"
   ]
  },
  {
   "cell_type": "markdown",
   "id": "b19211d7-186e-49c4-9f18-f846b30765cc",
   "metadata": {
    "id": "D3hHzdGu5F77",
    "jp-MarkdownHeadingCollapsed": true,
    "tags": []
   },
   "source": [
    "# Preprocessing Text"
   ]
  },
  {
   "cell_type": "markdown",
   "id": "319a8055-ad21-4eb6-ac2b-f59a0287b754",
   "metadata": {
    "id": "p8nedsPW5KXo",
    "jp-MarkdownHeadingCollapsed": true,
    "tags": []
   },
   "source": [
    "## Removing punctuations, numbers, masking and converting to lowercase"
   ]
  },
  {
   "cell_type": "code",
   "execution_count": 21,
   "id": "2b94dbfb-8cdc-4c2c-b727-233c2baf2e6f",
   "metadata": {},
   "outputs": [
    {
     "name": "stdout",
     "output_type": "stream",
     "text": [
      "time: 63 ms (started: 2022-01-25 15:03:20 +05:30)\n"
     ]
    }
   ],
   "source": [
    "con_com_use = con_com_use.sample(n=100000)"
   ]
  },
  {
   "cell_type": "code",
   "execution_count": 22,
   "id": "9352cec0-38ae-4fd6-9fd6-0a12275a54e3",
   "metadata": {
    "colab": {
     "base_uri": "https://localhost:8080/",
     "height": 520
    },
    "id": "goG1svk_LVyX",
    "outputId": "ca6bd114-988b-4c9b-9538-a3238d75b24d"
   },
   "outputs": [
    {
     "name": "stdout",
     "output_type": "stream",
     "text": [
      "Before\n"
     ]
    },
    {
     "data": {
      "text/plain": [
       "606313    I borrowed XXXX and this company want {$4000.0...\n",
       "344721    Equifax breach : confirmation that I was affec...\n",
       "421       I have a public record & Child Support entry t...\n",
       "56872     XX/XX/19 I tried to make a dispute with Equifa...\n",
       "354948    I canceled my American Express card in XX/XX/2...\n",
       "                                ...                        \n",
       "664910    XXXX XXXX XXXX XXXX XXXX ( AKA ) XXXX XXXX is ...\n",
       "13290     Since XXXX, XXXX XXXX XXXX has been trying to ...\n",
       "493982    I have a Macy 's credit card which is serviced...\n",
       "344882    I notified the company about this been a case ...\n",
       "490886    There is Public Record Information on my credi...\n",
       "Name: Consumer complaint narrative, Length: 100000, dtype: object"
      ]
     },
     "metadata": {},
     "output_type": "display_data"
    },
    {
     "name": "stdout",
     "output_type": "stream",
     "text": [
      "\n",
      "\n",
      "After\n"
     ]
    },
    {
     "data": {
      "text/plain": [
       "606313    i borrowed and this company want back i blocke...\n",
       "344721    equifax breach confirmation that i was affecte...\n",
       "421       i have a public record child support entry tha...\n",
       "56872      i tried to make a dispute with equifax and it...\n",
       "354948    i canceled my american express card in with a ...\n",
       "                                ...                        \n",
       "664910     aka is inaccurately report a loan as derogato...\n",
       "13290     since has been trying to say that this debt wa...\n",
       "493982    i have a macy s credit card which is serviced ...\n",
       "344882    i notified the company about this been a case ...\n",
       "490886    there is public record information on my credi...\n",
       "Name: ConCompLower, Length: 100000, dtype: object"
      ]
     },
     "metadata": {},
     "output_type": "display_data"
    },
    {
     "name": "stdout",
     "output_type": "stream",
     "text": [
      "time: 19.4 s (started: 2022-01-25 15:03:20 +05:30)\n"
     ]
    }
   ],
   "source": [
    "print('Before')\n",
    "display(con_com_use['Consumer complaint narrative'])\n",
    "con_com_use['ConCompLower'] = con_com_use['Consumer complaint narrative'].apply(lambda x: re.sub(r' +', ' ', re.sub(r'x{2,}', ' ', re.sub(r'[^a-z]', ' ', x.lower()))))\n",
    "print('\\n\\nAfter')\n",
    "display(con_com_use['ConCompLower'])"
   ]
  },
  {
   "cell_type": "markdown",
   "id": "3769c97b-1623-4bd5-b1fd-0a14d235f69f",
   "metadata": {
    "jp-MarkdownHeadingCollapsed": true,
    "tags": []
   },
   "source": [
    "## Tokenizer"
   ]
  },
  {
   "cell_type": "code",
   "execution_count": 23,
   "id": "1cb22fba-4c67-45c5-8682-77a131d15320",
   "metadata": {},
   "outputs": [
    {
     "data": {
      "text/plain": [
       "606313    [i, borrowed, and, this, company, want, back, ...\n",
       "344721    [equifax, breach, confirmation, that, i, was, ...\n",
       "421       [i, have, a, public, record, child, support, e...\n",
       "56872     [i, tried, to, make, a, dispute, with, equifax...\n",
       "354948    [i, canceled, my, american, express, card, in,...\n",
       "                                ...                        \n",
       "664910    [aka, is, inaccurately, report, a, loan, as, d...\n",
       "13290     [since, has, been, trying, to, say, that, this...\n",
       "493982    [i, have, a, macy, s, credit, card, which, is,...\n",
       "344882    [i, notified, the, company, about, this, been,...\n",
       "490886    [there, is, public, record, information, on, m...\n",
       "Name: ConCompLowerToken, Length: 100000, dtype: object"
      ]
     },
     "execution_count": 23,
     "metadata": {},
     "output_type": "execute_result"
    },
    {
     "name": "stdout",
     "output_type": "stream",
     "text": [
      "time: 44.5 s (started: 2022-01-25 15:03:40 +05:30)\n"
     ]
    }
   ],
   "source": [
    "con_com_use['ConCompLowerToken'] = con_com_use['ConCompLower'].apply(word_tokenize)\n",
    "con_com_use['ConCompLowerToken']"
   ]
  },
  {
   "cell_type": "markdown",
   "id": "10daf606-f5b8-4bd7-95e1-a263da842e43",
   "metadata": {
    "jp-MarkdownHeadingCollapsed": true,
    "tags": []
   },
   "source": [
    "## Stopwords"
   ]
  },
  {
   "cell_type": "code",
   "execution_count": 24,
   "id": "cf31f06a-820b-4acd-9070-e13eee3ec575",
   "metadata": {},
   "outputs": [
    {
     "data": {
      "text/plain": [
       "606313    borrowed company want back blocked account far...\n",
       "344721    equifax breach confirmation affected breach re...\n",
       "421       public record child support entry placed credi...\n",
       "56872     tried make dispute equifax keeps saying call c...\n",
       "354948    canceled american express card balance however...\n",
       "                                ...                        \n",
       "664910    aka inaccurately report loan derogatory paymen...\n",
       "13290     since trying say debt mine found debt appeared...\n",
       "493982    macy credit card serviced chase paid balance f...\n",
       "344882    notified company case identify theft submitted...\n",
       "490886    public record information credit report inaccu...\n",
       "Name: ConCompLowerStop, Length: 100000, dtype: object"
      ]
     },
     "execution_count": 24,
     "metadata": {},
     "output_type": "execute_result"
    },
    {
     "name": "stdout",
     "output_type": "stream",
     "text": [
      "time: 27.7 s (started: 2022-01-25 15:04:24 +05:30)\n"
     ]
    }
   ],
   "source": [
    "con_com_use['ConCompLowerToken'] = con_com_use['ConCompLowerToken'].apply(lambda x: [i for i in x if i not in Stopwords])\n",
    "con_com_use['ConCompLemStem'] = con_com_use['ConCompLowerToken']\n",
    "con_com_use['ConCompLowerStop'] = con_com_use['ConCompLowerToken'].apply(lambda x: ' '.join(x))\n",
    "con_com_use['ConCompLowerStop']"
   ]
  },
  {
   "cell_type": "markdown",
   "id": "39de2262-0c4f-4979-bd3c-1f9ed9217866",
   "metadata": {
    "jp-MarkdownHeadingCollapsed": true,
    "tags": []
   },
   "source": [
    "## Stemming and Lemmatization"
   ]
  },
  {
   "cell_type": "code",
   "execution_count": 25,
   "id": "18196296-30db-4906-a03c-ba46b9f05d4c",
   "metadata": {},
   "outputs": [
    {
     "data": {
      "text/plain": [
       "606313    [borrowed, company, want, back, blocked, accou...\n",
       "344721    [equifax, breach, confirmation, affected, brea...\n",
       "421       [public, record, child, support, entry, placed...\n",
       "56872     [tried, make, dispute, equifax, keep, saying, ...\n",
       "354948    [canceled, american, express, card, balance, h...\n",
       "                                ...                        \n",
       "664910    [aka, inaccurately, report, loan, derogatory, ...\n",
       "13290     [since, trying, say, debt, mine, found, debt, ...\n",
       "493982    [macy, credit, card, serviced, chase, paid, ba...\n",
       "344882    [notified, company, case, identify, theft, sub...\n",
       "490886    [public, record, information, credit, report, ...\n",
       "Name: ConCompLemStem, Length: 100000, dtype: object"
      ]
     },
     "execution_count": 25,
     "metadata": {},
     "output_type": "execute_result"
    },
    {
     "name": "stdout",
     "output_type": "stream",
     "text": [
      "time: 32.5 s (started: 2022-01-25 15:04:52 +05:30)\n"
     ]
    }
   ],
   "source": [
    "lemmatizer = WordNetLemmatizer()\n",
    "con_com_use['ConCompLemStem'] = con_com_use['ConCompLemStem'].apply(lambda x: [lemmatizer.lemmatize(i) for i in x])\n",
    "con_com_use['ConCompLemStem']"
   ]
  },
  {
   "cell_type": "code",
   "execution_count": 26,
   "id": "43aaea5c-6f0a-42d5-9187-e70966d07b51",
   "metadata": {},
   "outputs": [
    {
     "data": {
      "text/plain": [
       "606313    borrow compani want back block account far pai...\n",
       "344721    equifax breach confirm affect breach refus pro...\n",
       "421       public record child support entri place credit...\n",
       "56872     tri make disput equifax keep say call confirm ...\n",
       "354948    cancel american express card balanc howev due ...\n",
       "                                ...                        \n",
       "664910    aka inaccur report loan derogatori payment pla...\n",
       "13290     sinc tri say debt mine found debt appear credi...\n",
       "493982    maci credit card servic chase paid balanc full...\n",
       "344882    notifi compani case identifi theft submit full...\n",
       "490886    public record inform credit report inaccur fil...\n",
       "Name: ConCompLemStem, Length: 100000, dtype: object"
      ]
     },
     "execution_count": 26,
     "metadata": {},
     "output_type": "execute_result"
    },
    {
     "name": "stdout",
     "output_type": "stream",
     "text": [
      "time: 2min 53s (started: 2022-01-25 15:05:25 +05:30)\n"
     ]
    }
   ],
   "source": [
    "stemmer = PorterStemmer()\n",
    "con_com_use['ConCompLemStem'] = con_com_use['ConCompLemStem'].apply(lambda x: ' '.join([stemmer.stem(i) for i in x]))\n",
    "con_com_use['ConCompLemStem']"
   ]
  },
  {
   "cell_type": "markdown",
   "id": "a5021ea6-7b95-4950-aa10-76b340c4e695",
   "metadata": {
    "jp-MarkdownHeadingCollapsed": true,
    "tags": []
   },
   "source": [
    "## Encoding Labels"
   ]
  },
  {
   "cell_type": "code",
   "execution_count": 27,
   "id": "f136ad40-1d20-4ae1-a2ae-dbbd56428cff",
   "metadata": {},
   "outputs": [
    {
     "name": "stdout",
     "output_type": "stream",
     "text": [
      "time: 16 ms (started: 2022-01-25 15:08:18 +05:30)\n"
     ]
    }
   ],
   "source": [
    "lab_enc = sklearn.preprocessing.LabelEncoder()\n",
    "y = lab_enc.fit_transform(con_com_use['Product'])"
   ]
  },
  {
   "cell_type": "markdown",
   "id": "8686c69f-fe8f-4eb2-9766-bd20606b2ca4",
   "metadata": {
    "tags": []
   },
   "source": [
    "# Modeling"
   ]
  },
  {
   "cell_type": "markdown",
   "id": "80c0209e-3b50-4a2e-b770-ce9964106728",
   "metadata": {
    "jp-MarkdownHeadingCollapsed": true,
    "tags": []
   },
   "source": [
    "## Tf-Idf"
   ]
  },
  {
   "cell_type": "markdown",
   "id": "32b38e84-da77-4c6c-b07d-e72eae381185",
   "metadata": {
    "jp-MarkdownHeadingCollapsed": true,
    "tags": []
   },
   "source": [
    "### Train-test split"
   ]
  },
  {
   "cell_type": "code",
   "execution_count": 107,
   "id": "c269df05-0fe2-49c5-b11c-3850622f75ca",
   "metadata": {},
   "outputs": [
    {
     "name": "stdout",
     "output_type": "stream",
     "text": [
      "time: 94 ms (started: 2021-12-16 12:18:38 +05:30)\n"
     ]
    }
   ],
   "source": [
    "xtrain, xtest, ytrain, ytest = sklearn.model_selection.train_test_split(con_com_use.ConCompLemStem, y,  # Using text stopwords removed and with stemming and lemmatization done\n",
    "                                                                        stratify=y,\n",
    "                                                                        random_state=42,\n",
    "                                                                        test_size=0.3, shuffle=True)"
   ]
  },
  {
   "cell_type": "code",
   "execution_count": 108,
   "id": "d689f8c1-10ed-4f4f-949c-2ca16b392044",
   "metadata": {},
   "outputs": [
    {
     "name": "stdout",
     "output_type": "stream",
     "text": [
      "(70000,)\n",
      "(30000,)\n",
      "time: 0 ns (started: 2021-12-16 12:18:38 +05:30)\n"
     ]
    }
   ],
   "source": [
    "print (xtrain.shape)\n",
    "print (xtest.shape)"
   ]
  },
  {
   "cell_type": "markdown",
   "id": "b89720ee-1459-433c-ad3e-4412847bfbe0",
   "metadata": {
    "jp-MarkdownHeadingCollapsed": true,
    "tags": []
   },
   "source": [
    "### Tf-Idf Vectorizer"
   ]
  },
  {
   "cell_type": "code",
   "execution_count": 109,
   "id": "7ed4bf42-29d9-484e-85a6-cd20647cb307",
   "metadata": {},
   "outputs": [
    {
     "name": "stdout",
     "output_type": "stream",
     "text": [
      "time: 1min 22s (started: 2021-12-16 12:18:38 +05:30)\n"
     ]
    }
   ],
   "source": [
    "tfidf_vect = TfidfVectorizer(min_df=2,\n",
    "                             analyzer='word',\n",
    "                             ngram_range=(1, 4))\n",
    "\n",
    "tfidf_vect.fit(list(xtrain) + list(xtest))\n",
    "xtrain_tfidfv =  tfidf_vect.transform(xtrain)\n",
    "xtest_tfidfv = tfidf_vect.transform(xtest)"
   ]
  },
  {
   "cell_type": "markdown",
   "id": "5b7fdf26-9afa-4539-8b9f-3fcd504094b8",
   "metadata": {
    "jp-MarkdownHeadingCollapsed": true,
    "tags": []
   },
   "source": [
    "### Testing base models"
   ]
  },
  {
   "cell_type": "code",
   "execution_count": 116,
   "id": "261ca63a-a538-4c48-a8ef-1996c41a9183",
   "metadata": {
    "scrolled": true,
    "tags": []
   },
   "outputs": [
    {
     "name": "stdout",
     "output_type": "stream",
     "text": [
      "completed KNeighborsClassifier \n",
      "[12:27:11] WARNING: C:/Users/Administrator/workspace/xgboost-win64_release_1.5.1/src/learner.cc:1115: Starting in XGBoost 1.3.0, the default evaluation metric used with the objective 'multi:softprob' was changed from 'merror' to 'mlogloss'. Explicitly set eval_metric if you'd like to restore the old behavior.\n",
      "[12:34:30] WARNING: C:/Users/Administrator/workspace/xgboost-win64_release_1.5.1/src/learner.cc:1115: Starting in XGBoost 1.3.0, the default evaluation metric used with the objective 'multi:softprob' was changed from 'merror' to 'mlogloss'. Explicitly set eval_metric if you'd like to restore the old behavior.\n",
      "[12:41:56] WARNING: C:/Users/Administrator/workspace/xgboost-win64_release_1.5.1/src/learner.cc:1115: Starting in XGBoost 1.3.0, the default evaluation metric used with the objective 'multi:softprob' was changed from 'merror' to 'mlogloss'. Explicitly set eval_metric if you'd like to restore the old behavior.\n",
      "[12:49:06] WARNING: C:/Users/Administrator/workspace/xgboost-win64_release_1.5.1/src/learner.cc:1115: Starting in XGBoost 1.3.0, the default evaluation metric used with the objective 'multi:softprob' was changed from 'merror' to 'mlogloss'. Explicitly set eval_metric if you'd like to restore the old behavior.\n",
      "[12:56:03] WARNING: C:/Users/Administrator/workspace/xgboost-win64_release_1.5.1/src/learner.cc:1115: Starting in XGBoost 1.3.0, the default evaluation metric used with the objective 'multi:softprob' was changed from 'merror' to 'mlogloss'. Explicitly set eval_metric if you'd like to restore the old behavior.\n",
      "completed XGBClassifier \n",
      "completed LinearSVC \n",
      "completed MultinomialNB \n",
      "time: 39min 3s (started: 2021-12-16 12:24:50 +05:30)\n"
     ]
    }
   ],
   "source": [
    "clf = [KNeighborsClassifier(n_jobs=20),\n",
    "       xgb.XGBClassifier(use_label_encoder=False),\n",
    "       LinearSVC(),\n",
    "       MultinomialNB()]\n",
    "\n",
    "scoring = ['accuracy', 'precision_macro', 'recall_macro' , 'f1_weighted']\n",
    "\n",
    "models_initial = pd.DataFrame({\n",
    "    'Model'       : [],\n",
    "    'Accuracy'    : [],\n",
    "    'Precision'   : [],\n",
    "    'Recall'      : [],\n",
    "    'F1_score'    : []\n",
    "    })\n",
    "\n",
    "for model in clf:\n",
    "    scores = cross_validate(model, xtrain_tfidfv, ytrain, scoring=scoring, cv=5)\n",
    "    sorted(scores.keys())\n",
    "    models_initial = pd.concat([models_initial,\n",
    "                               pd.DataFrame({\n",
    "                                   'Model'       : [model.__class__.__name__],\n",
    "                                   'Accuracy'    : [scores['test_accuracy'].mean()],\n",
    "                                   'Precision'   : [scores['test_precision_macro'].mean()],\n",
    "                                   'Recall'      : [scores['test_recall_macro'].mean()],\n",
    "                                   'F1_score'    : [scores['test_f1_weighted'].mean()]\n",
    "                               })], axis=0)\n",
    "    print('completed %s ' %(model.__class__.__name__))\n",
    "\n",
    "models_initial_tfidf = models_initial"
   ]
  },
  {
   "cell_type": "code",
   "execution_count": 117,
   "id": "25fc9704-6b2c-4fe9-9a35-1381116e7ab6",
   "metadata": {},
   "outputs": [
    {
     "data": {
      "text/html": [
       "<div>\n",
       "<style scoped>\n",
       "    .dataframe tbody tr th:only-of-type {\n",
       "        vertical-align: middle;\n",
       "    }\n",
       "\n",
       "    .dataframe tbody tr th {\n",
       "        vertical-align: top;\n",
       "    }\n",
       "\n",
       "    .dataframe thead th {\n",
       "        text-align: right;\n",
       "    }\n",
       "</style>\n",
       "<table border=\"1\" class=\"dataframe\">\n",
       "  <thead>\n",
       "    <tr style=\"text-align: right;\">\n",
       "      <th></th>\n",
       "      <th>Model</th>\n",
       "      <th>Accuracy</th>\n",
       "      <th>Precision</th>\n",
       "      <th>Recall</th>\n",
       "      <th>F1_score</th>\n",
       "    </tr>\n",
       "  </thead>\n",
       "  <tbody>\n",
       "    <tr>\n",
       "      <th>0</th>\n",
       "      <td>KNeighborsClassifier</td>\n",
       "      <td>0.390129</td>\n",
       "      <td>0.527817</td>\n",
       "      <td>0.135066</td>\n",
       "      <td>0.239774</td>\n",
       "    </tr>\n",
       "    <tr>\n",
       "      <th>0</th>\n",
       "      <td>XGBClassifier</td>\n",
       "      <td>0.823357</td>\n",
       "      <td>0.806474</td>\n",
       "      <td>0.771802</td>\n",
       "      <td>0.822017</td>\n",
       "    </tr>\n",
       "    <tr>\n",
       "      <th>0</th>\n",
       "      <td>LinearSVC</td>\n",
       "      <td>0.836929</td>\n",
       "      <td>0.825711</td>\n",
       "      <td>0.784240</td>\n",
       "      <td>0.835166</td>\n",
       "    </tr>\n",
       "    <tr>\n",
       "      <th>0</th>\n",
       "      <td>MultinomialNB</td>\n",
       "      <td>0.574600</td>\n",
       "      <td>0.754210</td>\n",
       "      <td>0.298828</td>\n",
       "      <td>0.511885</td>\n",
       "    </tr>\n",
       "  </tbody>\n",
       "</table>\n",
       "</div>"
      ],
      "text/plain": [
       "                  Model  Accuracy  Precision    Recall  F1_score\n",
       "0  KNeighborsClassifier  0.390129   0.527817  0.135066  0.239774\n",
       "0         XGBClassifier  0.823357   0.806474  0.771802  0.822017\n",
       "0             LinearSVC  0.836929   0.825711  0.784240  0.835166\n",
       "0         MultinomialNB  0.574600   0.754210  0.298828  0.511885"
      ]
     },
     "execution_count": 117,
     "metadata": {},
     "output_type": "execute_result"
    },
    {
     "name": "stdout",
     "output_type": "stream",
     "text": [
      "time: 0 ns (started: 2021-12-16 13:03:53 +05:30)\n"
     ]
    }
   ],
   "source": [
    "models_initial_tfidf"
   ]
  },
  {
   "cell_type": "markdown",
   "id": "29a921c2-13dc-41b9-a83e-4ccc42080ffd",
   "metadata": {},
   "source": [
    "Conclusions:\n",
    "- We are considering F1_score as the metric because the data is highly imbalanced.\n",
    "- XGBoost and LinearSVC are the best performing models"
   ]
  },
  {
   "cell_type": "markdown",
   "id": "29348c5c-cb68-48d3-9f2c-4a5c4cc06f70",
   "metadata": {
    "jp-MarkdownHeadingCollapsed": true,
    "tags": []
   },
   "source": [
    "## Word2Vec"
   ]
  },
  {
   "cell_type": "markdown",
   "id": "44d3e9d2-ec2b-4668-a39e-f5cefee42575",
   "metadata": {
    "jp-MarkdownHeadingCollapsed": true,
    "tags": []
   },
   "source": [
    "### Train-test split"
   ]
  },
  {
   "cell_type": "code",
   "execution_count": 118,
   "id": "b1fe8994-e3ea-40ff-b129-86ca2292935b",
   "metadata": {},
   "outputs": [
    {
     "name": "stdout",
     "output_type": "stream",
     "text": [
      "time: 312 ms (started: 2021-12-16 13:04:58 +05:30)\n"
     ]
    }
   ],
   "source": [
    "xtrain, xtest, ytrain, ytest = sklearn.model_selection.train_test_split(con_com_use.ConCompLower, y,\n",
    "                                                                        stratify=y,\n",
    "                                                                        random_state=42,\n",
    "                                                                        test_size=0.3, shuffle=True)"
   ]
  },
  {
   "cell_type": "code",
   "execution_count": 119,
   "id": "26869d8d-85af-4f88-a7a2-e5407dbfb7ef",
   "metadata": {},
   "outputs": [
    {
     "name": "stdout",
     "output_type": "stream",
     "text": [
      "(70000,)\n",
      "(30000,)\n",
      "time: 0 ns (started: 2021-12-16 13:04:58 +05:30)\n"
     ]
    }
   ],
   "source": [
    "print (xtrain.shape)\n",
    "print (xtest.shape)"
   ]
  },
  {
   "cell_type": "markdown",
   "id": "5b809c3f-2574-4abe-9119-4c34c48d6cd6",
   "metadata": {
    "jp-MarkdownHeadingCollapsed": true,
    "tags": []
   },
   "source": [
    "### Training a Word2Vec model"
   ]
  },
  {
   "cell_type": "code",
   "execution_count": 120,
   "id": "7bdba01b-8e0a-4c19-b085-bc765a689d10",
   "metadata": {},
   "outputs": [
    {
     "name": "stdout",
     "output_type": "stream",
     "text": [
      "time: 3min 41s (started: 2021-12-16 13:04:58 +05:30)\n"
     ]
    }
   ],
   "source": [
    "vectorSize=300\n",
    "word2vecModel = Word2Vec(con_com_use.ConCompLowerToken.tolist(), min_count=2, vector_size=vectorSize,\n",
    "                         workers=12, window=5, sg=1,\n",
    "                         epochs=20)\n",
    "gensim_embbed = dict(zip(word2vecModel.wv.index_to_key, word2vecModel.wv.vectors))"
   ]
  },
  {
   "cell_type": "markdown",
   "id": "1a7fbfe5-dd6a-4caa-89c0-d0f88e20577d",
   "metadata": {},
   "source": [
    "Converting training and testing text data to vectors"
   ]
  },
  {
   "cell_type": "code",
   "execution_count": 121,
   "id": "1e627289-418a-4c43-952c-fba9d6709328",
   "metadata": {
    "tags": []
   },
   "outputs": [
    {
     "data": {
      "application/vnd.jupyter.widget-view+json": {
       "model_id": "f9717350afca4c379fc268a1a2bc881e",
       "version_major": 2,
       "version_minor": 0
      },
      "text/plain": [
       "  0%|          | 0/70000 [00:00<?, ?it/s]"
      ]
     },
     "metadata": {},
     "output_type": "display_data"
    },
    {
     "data": {
      "application/vnd.jupyter.widget-view+json": {
       "model_id": "eb45fb6b71224bbfbee622dd248ce2a8",
       "version_major": 2,
       "version_minor": 0
      },
      "text/plain": [
       "  0%|          | 0/30000 [00:00<?, ?it/s]"
      ]
     },
     "metadata": {},
     "output_type": "display_data"
    },
    {
     "name": "stdout",
     "output_type": "stream",
     "text": [
      "time: 1min 6s (started: 2021-12-16 13:08:40 +05:30)\n"
     ]
    }
   ],
   "source": [
    "xtrain_glove = np.array([sent2vec(x, vectorSize, gensim_embbed) for x in tqdm(xtrain)])\n",
    "xtest_glove = np.array([sent2vec(x, vectorSize, gensim_embbed) for x in tqdm(xtest)])"
   ]
  },
  {
   "cell_type": "markdown",
   "id": "acf228f7-27ba-443e-9caa-6a7bb61d603b",
   "metadata": {
    "jp-MarkdownHeadingCollapsed": true,
    "tags": []
   },
   "source": [
    "### Training and evaluating base models"
   ]
  },
  {
   "cell_type": "code",
   "execution_count": 122,
   "id": "ded331e1-2e48-4520-8c18-d228565ad72c",
   "metadata": {
    "scrolled": true,
    "tags": []
   },
   "outputs": [
    {
     "name": "stdout",
     "output_type": "stream",
     "text": [
      "completed KNeighborsClassifier \n",
      "[13:12:06] WARNING: C:/Users/Administrator/workspace/xgboost-win64_release_1.5.1/src/learner.cc:1115: Starting in XGBoost 1.3.0, the default evaluation metric used with the objective 'multi:softprob' was changed from 'merror' to 'mlogloss'. Explicitly set eval_metric if you'd like to restore the old behavior.\n",
      "[13:19:17] WARNING: C:/Users/Administrator/workspace/xgboost-win64_release_1.5.1/src/learner.cc:1115: Starting in XGBoost 1.3.0, the default evaluation metric used with the objective 'multi:softprob' was changed from 'merror' to 'mlogloss'. Explicitly set eval_metric if you'd like to restore the old behavior.\n",
      "[13:26:25] WARNING: C:/Users/Administrator/workspace/xgboost-win64_release_1.5.1/src/learner.cc:1115: Starting in XGBoost 1.3.0, the default evaluation metric used with the objective 'multi:softprob' was changed from 'merror' to 'mlogloss'. Explicitly set eval_metric if you'd like to restore the old behavior.\n",
      "[13:33:35] WARNING: C:/Users/Administrator/workspace/xgboost-win64_release_1.5.1/src/learner.cc:1115: Starting in XGBoost 1.3.0, the default evaluation metric used with the objective 'multi:softprob' was changed from 'merror' to 'mlogloss'. Explicitly set eval_metric if you'd like to restore the old behavior.\n",
      "[13:40:49] WARNING: C:/Users/Administrator/workspace/xgboost-win64_release_1.5.1/src/learner.cc:1115: Starting in XGBoost 1.3.0, the default evaluation metric used with the objective 'multi:softprob' was changed from 'merror' to 'mlogloss'. Explicitly set eval_metric if you'd like to restore the old behavior.\n",
      "completed XGBClassifier \n",
      "completed LinearSVC \n",
      "completed MultinomialNB \n",
      "time: 38min 26s (started: 2021-12-16 13:10:18 +05:30)\n"
     ]
    }
   ],
   "source": [
    "clf = [KNeighborsClassifier(n_jobs=20),\n",
    "       xgb.XGBClassifier(use_label_encoder=False),\n",
    "       LinearSVC(),\n",
    "       MultinomialNB()]\n",
    "\n",
    "scoring = ['accuracy', 'precision_macro', 'recall_macro' , 'f1_weighted']\n",
    "\n",
    "models_initial = pd.DataFrame({\n",
    "    'Model'       : [],\n",
    "    'Accuracy'    : [],\n",
    "    'Precision'   : [],\n",
    "    'Recall'      : [],\n",
    "    'F1_score'    : []\n",
    "    })\n",
    "\n",
    "for model in clf:\n",
    "    scores = cross_validate(model, xtrain_glove, ytrain, scoring=scoring, cv=5)\n",
    "    sorted(scores.keys())\n",
    "    models_initial = pd.concat([models_initial,\n",
    "                               pd.DataFrame({\n",
    "                                   'Model'       : [model.__class__.__name__],\n",
    "                                   'Accuracy'    : [scores['test_accuracy'].mean()],\n",
    "                                   'Precision'   : [scores['test_precision_macro'].mean()],\n",
    "                                   'Recall'      : [scores['test_recall_macro'].mean()],\n",
    "                                   'F1_score'    : [scores['test_f1_weighted'].mean()]\n",
    "                               })], axis=0)\n",
    "    print('completed %s ' %(model.__class__.__name__))\n",
    "\n",
    "models_initial_Word2vec = models_initial"
   ]
  },
  {
   "cell_type": "code",
   "execution_count": 123,
   "id": "91a4db5c-8063-42ed-8d57-46f7b401dfa7",
   "metadata": {},
   "outputs": [
    {
     "data": {
      "text/html": [
       "<div>\n",
       "<style scoped>\n",
       "    .dataframe tbody tr th:only-of-type {\n",
       "        vertical-align: middle;\n",
       "    }\n",
       "\n",
       "    .dataframe tbody tr th {\n",
       "        vertical-align: top;\n",
       "    }\n",
       "\n",
       "    .dataframe thead th {\n",
       "        text-align: right;\n",
       "    }\n",
       "</style>\n",
       "<table border=\"1\" class=\"dataframe\">\n",
       "  <thead>\n",
       "    <tr style=\"text-align: right;\">\n",
       "      <th></th>\n",
       "      <th>Model</th>\n",
       "      <th>Accuracy</th>\n",
       "      <th>Precision</th>\n",
       "      <th>Recall</th>\n",
       "      <th>F1_score</th>\n",
       "    </tr>\n",
       "  </thead>\n",
       "  <tbody>\n",
       "    <tr>\n",
       "      <th>0</th>\n",
       "      <td>KNeighborsClassifier</td>\n",
       "      <td>0.786343</td>\n",
       "      <td>0.759405</td>\n",
       "      <td>0.716225</td>\n",
       "      <td>0.783314</td>\n",
       "    </tr>\n",
       "    <tr>\n",
       "      <th>0</th>\n",
       "      <td>XGBClassifier</td>\n",
       "      <td>0.813600</td>\n",
       "      <td>0.800492</td>\n",
       "      <td>0.746601</td>\n",
       "      <td>0.811097</td>\n",
       "    </tr>\n",
       "    <tr>\n",
       "      <th>0</th>\n",
       "      <td>LinearSVC</td>\n",
       "      <td>0.815686</td>\n",
       "      <td>0.795997</td>\n",
       "      <td>0.766858</td>\n",
       "      <td>0.813602</td>\n",
       "    </tr>\n",
       "    <tr>\n",
       "      <th>0</th>\n",
       "      <td>MultinomialNB</td>\n",
       "      <td>NaN</td>\n",
       "      <td>NaN</td>\n",
       "      <td>NaN</td>\n",
       "      <td>NaN</td>\n",
       "    </tr>\n",
       "  </tbody>\n",
       "</table>\n",
       "</div>"
      ],
      "text/plain": [
       "                  Model  Accuracy  Precision    Recall  F1_score\n",
       "0  KNeighborsClassifier  0.786343   0.759405  0.716225  0.783314\n",
       "0         XGBClassifier  0.813600   0.800492  0.746601  0.811097\n",
       "0             LinearSVC  0.815686   0.795997  0.766858  0.813602\n",
       "0         MultinomialNB       NaN        NaN       NaN       NaN"
      ]
     },
     "execution_count": 123,
     "metadata": {},
     "output_type": "execute_result"
    },
    {
     "name": "stdout",
     "output_type": "stream",
     "text": [
      "time: 0 ns (started: 2021-12-16 13:48:44 +05:30)\n"
     ]
    }
   ],
   "source": [
    "models_initial_Word2vec"
   ]
  },
  {
   "cell_type": "markdown",
   "id": "1c12cd68-79b8-4569-a54c-6fcfd6c212f0",
   "metadata": {},
   "source": [
    "Conclusions:\n",
    "- We are considering F1_score as the metric because the data is highly imbalanced.\n",
    "- XGBoost and LinearSVC are the best performing models"
   ]
  },
  {
   "cell_type": "markdown",
   "id": "0cd4ccd3-33fd-4a03-a7f3-ca46990eb18a",
   "metadata": {
    "jp-MarkdownHeadingCollapsed": true,
    "tags": []
   },
   "source": [
    "## Conclusion Tf-Idf VS Word2Vec"
   ]
  },
  {
   "cell_type": "code",
   "execution_count": 348,
   "id": "45794921-1ec6-4b67-a363-4a8a4ef15508",
   "metadata": {},
   "outputs": [
    {
     "data": {
      "text/html": [
       "<div>\n",
       "<style scoped>\n",
       "    .dataframe tbody tr th:only-of-type {\n",
       "        vertical-align: middle;\n",
       "    }\n",
       "\n",
       "    .dataframe tbody tr th {\n",
       "        vertical-align: top;\n",
       "    }\n",
       "\n",
       "    .dataframe thead th {\n",
       "        text-align: right;\n",
       "    }\n",
       "</style>\n",
       "<table border=\"1\" class=\"dataframe\">\n",
       "  <thead>\n",
       "    <tr style=\"text-align: right;\">\n",
       "      <th></th>\n",
       "      <th>Model</th>\n",
       "      <th>Accuracy</th>\n",
       "      <th>Precision</th>\n",
       "      <th>Recall</th>\n",
       "      <th>F1_score</th>\n",
       "    </tr>\n",
       "  </thead>\n",
       "  <tbody>\n",
       "    <tr>\n",
       "      <th>0</th>\n",
       "      <td>KNeighborsClassifier</td>\n",
       "      <td>0.390129</td>\n",
       "      <td>0.527817</td>\n",
       "      <td>0.135066</td>\n",
       "      <td>0.239774</td>\n",
       "    </tr>\n",
       "    <tr>\n",
       "      <th>0</th>\n",
       "      <td>XGBClassifier</td>\n",
       "      <td>0.823357</td>\n",
       "      <td>0.806474</td>\n",
       "      <td>0.771802</td>\n",
       "      <td>0.822017</td>\n",
       "    </tr>\n",
       "    <tr>\n",
       "      <th>0</th>\n",
       "      <td>LinearSVC</td>\n",
       "      <td>0.836929</td>\n",
       "      <td>0.825711</td>\n",
       "      <td>0.784240</td>\n",
       "      <td>0.835166</td>\n",
       "    </tr>\n",
       "    <tr>\n",
       "      <th>0</th>\n",
       "      <td>MultinomialNB</td>\n",
       "      <td>0.574600</td>\n",
       "      <td>0.754210</td>\n",
       "      <td>0.298828</td>\n",
       "      <td>0.511885</td>\n",
       "    </tr>\n",
       "  </tbody>\n",
       "</table>\n",
       "</div>"
      ],
      "text/plain": [
       "                  Model  Accuracy  Precision    Recall  F1_score\n",
       "0  KNeighborsClassifier  0.390129   0.527817  0.135066  0.239774\n",
       "0         XGBClassifier  0.823357   0.806474  0.771802  0.822017\n",
       "0             LinearSVC  0.836929   0.825711  0.784240  0.835166\n",
       "0         MultinomialNB  0.574600   0.754210  0.298828  0.511885"
      ]
     },
     "metadata": {},
     "output_type": "display_data"
    },
    {
     "data": {
      "text/html": [
       "<div>\n",
       "<style scoped>\n",
       "    .dataframe tbody tr th:only-of-type {\n",
       "        vertical-align: middle;\n",
       "    }\n",
       "\n",
       "    .dataframe tbody tr th {\n",
       "        vertical-align: top;\n",
       "    }\n",
       "\n",
       "    .dataframe thead th {\n",
       "        text-align: right;\n",
       "    }\n",
       "</style>\n",
       "<table border=\"1\" class=\"dataframe\">\n",
       "  <thead>\n",
       "    <tr style=\"text-align: right;\">\n",
       "      <th></th>\n",
       "      <th>Model</th>\n",
       "      <th>Accuracy</th>\n",
       "      <th>Precision</th>\n",
       "      <th>Recall</th>\n",
       "      <th>F1_score</th>\n",
       "    </tr>\n",
       "  </thead>\n",
       "  <tbody>\n",
       "    <tr>\n",
       "      <th>0</th>\n",
       "      <td>KNeighborsClassifier</td>\n",
       "      <td>0.786343</td>\n",
       "      <td>0.759405</td>\n",
       "      <td>0.716225</td>\n",
       "      <td>0.783314</td>\n",
       "    </tr>\n",
       "    <tr>\n",
       "      <th>0</th>\n",
       "      <td>XGBClassifier</td>\n",
       "      <td>0.813600</td>\n",
       "      <td>0.800492</td>\n",
       "      <td>0.746601</td>\n",
       "      <td>0.811097</td>\n",
       "    </tr>\n",
       "    <tr>\n",
       "      <th>0</th>\n",
       "      <td>LinearSVC</td>\n",
       "      <td>0.815686</td>\n",
       "      <td>0.795997</td>\n",
       "      <td>0.766858</td>\n",
       "      <td>0.813602</td>\n",
       "    </tr>\n",
       "    <tr>\n",
       "      <th>0</th>\n",
       "      <td>MultinomialNB</td>\n",
       "      <td>NaN</td>\n",
       "      <td>NaN</td>\n",
       "      <td>NaN</td>\n",
       "      <td>NaN</td>\n",
       "    </tr>\n",
       "  </tbody>\n",
       "</table>\n",
       "</div>"
      ],
      "text/plain": [
       "                  Model  Accuracy  Precision    Recall  F1_score\n",
       "0  KNeighborsClassifier  0.786343   0.759405  0.716225  0.783314\n",
       "0         XGBClassifier  0.813600   0.800492  0.746601  0.811097\n",
       "0             LinearSVC  0.815686   0.795997  0.766858  0.813602\n",
       "0         MultinomialNB       NaN        NaN       NaN       NaN"
      ]
     },
     "metadata": {},
     "output_type": "display_data"
    },
    {
     "name": "stdout",
     "output_type": "stream",
     "text": [
      "time: 32 ms (started: 2021-12-16 16:33:07 +05:30)\n"
     ]
    }
   ],
   "source": [
    "display(models_initial_tfidf)\n",
    "display(models_initial_Word2vec)"
   ]
  },
  {
   "cell_type": "markdown",
   "id": "b1beb4ef-c9ca-4670-a65c-8cd915280567",
   "metadata": {},
   "source": [
    "- Tf-Idf vectorizer outperforms Word2Vec vectorizer on a sample of 100000 sample.\n",
    "- XGBoost and LinearSVC are the 2 best performing base models.\n",
    "- Hyperparamater tuning of XGBoost and LinearSVC will decide which model to go forward with."
   ]
  },
  {
   "cell_type": "markdown",
   "id": "b094afa0-4ab7-41a6-ab70-426b54eb5ca3",
   "metadata": {
    "jp-MarkdownHeadingCollapsed": true,
    "tags": []
   },
   "source": [
    "## Hyperparameter Tuning"
   ]
  },
  {
   "cell_type": "markdown",
   "id": "b34dab0d-424d-4138-8e51-248228e05071",
   "metadata": {
    "jp-MarkdownHeadingCollapsed": true,
    "tags": []
   },
   "source": [
    "### LivearSVC"
   ]
  },
  {
   "cell_type": "markdown",
   "id": "99b5f94d-9e0e-4069-a9d6-0e411241528f",
   "metadata": {
    "jp-MarkdownHeadingCollapsed": true,
    "tags": []
   },
   "source": [
    "#### Train-test split"
   ]
  },
  {
   "cell_type": "code",
   "execution_count": 305,
   "id": "8f52e4f5-b1c6-44cb-bc90-45e8a2e4eb30",
   "metadata": {},
   "outputs": [
    {
     "name": "stdout",
     "output_type": "stream",
     "text": [
      "time: 16 ms (started: 2021-12-16 15:09:13 +05:30)\n"
     ]
    }
   ],
   "source": [
    "tmp_df = con_com_use.sample(n=5000) # Tuning on 5000 sample \n",
    "lab_enc_samp = sklearn.preprocessing.LabelEncoder()\n",
    "y_samp = lab_enc_samp.fit_transform(tmp_df['Product'])\n",
    "\n",
    "xtrain, xtest, ytrain, ytest = sklearn.model_selection.train_test_split(tmp_df.ConCompLemStem, y_samp,  # Using text stopwords removed and with stemming and lemmatization done\n",
    "                                                                        stratify=y_samp,\n",
    "                                                                        random_state=42,\n",
    "                                                                        test_size=0.3, shuffle=True)"
   ]
  },
  {
   "cell_type": "code",
   "execution_count": 306,
   "id": "e5b79326-6b9f-4ab1-aa25-f20d4ef47327",
   "metadata": {},
   "outputs": [
    {
     "name": "stdout",
     "output_type": "stream",
     "text": [
      "(3500,)\n",
      "(1500,)\n",
      "time: 0 ns (started: 2021-12-16 15:09:15 +05:30)\n"
     ]
    }
   ],
   "source": [
    "print (xtrain.shape)\n",
    "print (xtest.shape)"
   ]
  },
  {
   "cell_type": "markdown",
   "id": "cb21c3a3-bd96-418e-82cc-8d90ebead910",
   "metadata": {
    "jp-MarkdownHeadingCollapsed": true,
    "tags": []
   },
   "source": [
    "#### Tf-Idf Vectorizer"
   ]
  },
  {
   "cell_type": "code",
   "execution_count": 307,
   "id": "ba3252de-58db-4b77-b49b-d0f3914080ae",
   "metadata": {},
   "outputs": [
    {
     "name": "stdout",
     "output_type": "stream",
     "text": [
      "time: 3.66 s (started: 2021-12-16 15:09:20 +05:30)\n"
     ]
    }
   ],
   "source": [
    "tfidf_vect = TfidfVectorizer(min_df=2,\n",
    "                             analyzer='word',\n",
    "                             ngram_range=(1, 4))\n",
    "\n",
    "tfidf_vect.fit(list(xtrain) + list(xtest))\n",
    "xtrain_tfidfv =  tfidf_vect.transform(xtrain)\n",
    "xtest_tfidfv = tfidf_vect.transform(xtest)"
   ]
  },
  {
   "cell_type": "markdown",
   "id": "d2fee084-4e79-4338-9049-8892f14e2217",
   "metadata": {
    "jp-MarkdownHeadingCollapsed": true,
    "tags": []
   },
   "source": [
    "#### Grid Search"
   ]
  },
  {
   "cell_type": "code",
   "execution_count": 322,
   "id": "60009f55-940e-42ce-97b4-839265cc7b2f",
   "metadata": {
    "scrolled": true,
    "tags": []
   },
   "outputs": [
    {
     "name": "stdout",
     "output_type": "stream",
     "text": [
      "Fitting 5 folds for each of 16 candidates, totalling 80 fits\n",
      "[CV 1/5] END C=0.1, dual=True; accuracy: (test=0.739) f1_weighted: (test=0.723) precision_macro: (test=0.832) recall_macro: (test=0.592) total time=   0.0s\n",
      "[CV 2/5] END C=0.1, dual=True; accuracy: (test=0.749) f1_weighted: (test=0.737) precision_macro: (test=0.835) recall_macro: (test=0.623) total time=   0.0s\n",
      "[CV 3/5] END C=0.1, dual=True; accuracy: (test=0.767) f1_weighted: (test=0.751) precision_macro: (test=0.807) recall_macro: (test=0.634) total time=   0.0s\n",
      "[CV 4/5] END C=0.1, dual=True; accuracy: (test=0.739) f1_weighted: (test=0.719) precision_macro: (test=0.813) recall_macro: (test=0.583) total time=   0.0s\n",
      "[CV 5/5] END C=0.1, dual=True; accuracy: (test=0.766) f1_weighted: (test=0.747) precision_macro: (test=0.822) recall_macro: (test=0.610) total time=   0.0s\n",
      "[CV 1/5] END C=0.1, dual=False; accuracy: (test=0.739) f1_weighted: (test=0.723) precision_macro: (test=0.832) recall_macro: (test=0.592) total time=   0.2s\n",
      "[CV 2/5] END C=0.1, dual=False; accuracy: (test=0.749) f1_weighted: (test=0.737) precision_macro: (test=0.835) recall_macro: (test=0.623) total time=   0.3s\n",
      "[CV 3/5] END C=0.1, dual=False; accuracy: (test=0.767) f1_weighted: (test=0.751) precision_macro: (test=0.807) recall_macro: (test=0.634) total time=   0.2s\n",
      "[CV 4/5] END C=0.1, dual=False; accuracy: (test=0.739) f1_weighted: (test=0.719) precision_macro: (test=0.813) recall_macro: (test=0.583) total time=   0.2s\n",
      "[CV 5/5] END C=0.1, dual=False; accuracy: (test=0.766) f1_weighted: (test=0.747) precision_macro: (test=0.822) recall_macro: (test=0.610) total time=   0.2s\n",
      "[CV 1/5] END C=0.5, dual=True; accuracy: (test=0.786) f1_weighted: (test=0.779) precision_macro: (test=0.833) recall_macro: (test=0.671) total time=   0.1s\n",
      "[CV 2/5] END C=0.5, dual=True; accuracy: (test=0.770) f1_weighted: (test=0.765) precision_macro: (test=0.788) recall_macro: (test=0.687) total time=   0.0s\n",
      "[CV 3/5] END C=0.5, dual=True; accuracy: (test=0.800) f1_weighted: (test=0.792) precision_macro: (test=0.797) recall_macro: (test=0.717) total time=   0.0s\n",
      "[CV 4/5] END C=0.5, dual=True; accuracy: (test=0.777) f1_weighted: (test=0.768) precision_macro: (test=0.806) recall_macro: (test=0.678) total time=   0.0s\n",
      "[CV 5/5] END C=0.5, dual=True; accuracy: (test=0.804) f1_weighted: (test=0.800) precision_macro: (test=0.828) recall_macro: (test=0.730) total time=   0.0s\n",
      "[CV 1/5] END C=0.5, dual=False; accuracy: (test=0.786) f1_weighted: (test=0.779) precision_macro: (test=0.833) recall_macro: (test=0.671) total time=   0.3s\n",
      "[CV 2/5] END C=0.5, dual=False; accuracy: (test=0.770) f1_weighted: (test=0.765) precision_macro: (test=0.788) recall_macro: (test=0.687) total time=   0.3s\n",
      "[CV 3/5] END C=0.5, dual=False; accuracy: (test=0.800) f1_weighted: (test=0.792) precision_macro: (test=0.797) recall_macro: (test=0.717) total time=   0.3s\n",
      "[CV 4/5] END C=0.5, dual=False; accuracy: (test=0.777) f1_weighted: (test=0.768) precision_macro: (test=0.806) recall_macro: (test=0.678) total time=   0.4s\n",
      "[CV 5/5] END C=0.5, dual=False; accuracy: (test=0.804) f1_weighted: (test=0.800) precision_macro: (test=0.828) recall_macro: (test=0.730) total time=   0.3s\n",
      "[CV 1/5] END C=0.8, dual=True; accuracy: (test=0.791) f1_weighted: (test=0.785) precision_macro: (test=0.833) recall_macro: (test=0.690) total time=   0.1s\n",
      "[CV 2/5] END C=0.8, dual=True; accuracy: (test=0.781) f1_weighted: (test=0.778) precision_macro: (test=0.799) recall_macro: (test=0.713) total time=   0.1s\n",
      "[CV 3/5] END C=0.8, dual=True; accuracy: (test=0.800) f1_weighted: (test=0.793) precision_macro: (test=0.800) recall_macro: (test=0.724) total time=   0.0s\n",
      "[CV 4/5] END C=0.8, dual=True; accuracy: (test=0.776) f1_weighted: (test=0.768) precision_macro: (test=0.793) recall_macro: (test=0.686) total time=   0.0s\n",
      "[CV 5/5] END C=0.8, dual=True; accuracy: (test=0.800) f1_weighted: (test=0.797) precision_macro: (test=0.820) recall_macro: (test=0.730) total time=   0.0s\n",
      "[CV 1/5] END C=0.8, dual=False; accuracy: (test=0.791) f1_weighted: (test=0.785) precision_macro: (test=0.833) recall_macro: (test=0.690) total time=   0.3s\n",
      "[CV 2/5] END C=0.8, dual=False; accuracy: (test=0.781) f1_weighted: (test=0.778) precision_macro: (test=0.799) recall_macro: (test=0.713) total time=   0.3s\n",
      "[CV 3/5] END C=0.8, dual=False; accuracy: (test=0.800) f1_weighted: (test=0.793) precision_macro: (test=0.800) recall_macro: (test=0.724) total time=   0.4s\n",
      "[CV 4/5] END C=0.8, dual=False; accuracy: (test=0.776) f1_weighted: (test=0.768) precision_macro: (test=0.793) recall_macro: (test=0.686) total time=   0.3s\n",
      "[CV 5/5] END C=0.8, dual=False; accuracy: (test=0.800) f1_weighted: (test=0.797) precision_macro: (test=0.820) recall_macro: (test=0.730) total time=   0.3s\n",
      "[CV 1/5] END C=0.9, dual=True; accuracy: (test=0.791) f1_weighted: (test=0.785) precision_macro: (test=0.834) recall_macro: (test=0.689) total time=   0.1s\n",
      "[CV 2/5] END C=0.9, dual=True; accuracy: (test=0.786) f1_weighted: (test=0.782) precision_macro: (test=0.803) recall_macro: (test=0.721) total time=   0.1s\n",
      "[CV 3/5] END C=0.9, dual=True; accuracy: (test=0.800) f1_weighted: (test=0.793) precision_macro: (test=0.800) recall_macro: (test=0.724) total time=   0.1s\n",
      "[CV 4/5] END C=0.9, dual=True; accuracy: (test=0.776) f1_weighted: (test=0.769) precision_macro: (test=0.784) recall_macro: (test=0.687) total time=   0.0s\n",
      "[CV 5/5] END C=0.9, dual=True; accuracy: (test=0.799) f1_weighted: (test=0.796) precision_macro: (test=0.816) recall_macro: (test=0.730) total time=   0.1s\n",
      "[CV 1/5] END C=0.9, dual=False; accuracy: (test=0.791) f1_weighted: (test=0.785) precision_macro: (test=0.834) recall_macro: (test=0.689) total time=   0.3s\n",
      "[CV 2/5] END C=0.9, dual=False; accuracy: (test=0.786) f1_weighted: (test=0.782) precision_macro: (test=0.803) recall_macro: (test=0.721) total time=   0.3s\n",
      "[CV 3/5] END C=0.9, dual=False; accuracy: (test=0.800) f1_weighted: (test=0.793) precision_macro: (test=0.800) recall_macro: (test=0.724) total time=   0.3s\n",
      "[CV 4/5] END C=0.9, dual=False; accuracy: (test=0.776) f1_weighted: (test=0.769) precision_macro: (test=0.784) recall_macro: (test=0.687) total time=   0.3s\n",
      "[CV 5/5] END C=0.9, dual=False; accuracy: (test=0.799) f1_weighted: (test=0.796) precision_macro: (test=0.816) recall_macro: (test=0.730) total time=   0.3s\n",
      "[CV 1/5] END C=1, dual=True; accuracy: (test=0.791) f1_weighted: (test=0.785) precision_macro: (test=0.834) recall_macro: (test=0.689) total time=   0.1s\n",
      "[CV 2/5] END C=1, dual=True; accuracy: (test=0.787) f1_weighted: (test=0.784) precision_macro: (test=0.805) recall_macro: (test=0.722) total time=   0.1s\n",
      "[CV 3/5] END C=1, dual=True; accuracy: (test=0.800) f1_weighted: (test=0.794) precision_macro: (test=0.799) recall_macro: (test=0.727) total time=   0.1s\n",
      "[CV 4/5] END C=1, dual=True; accuracy: (test=0.773) f1_weighted: (test=0.766) precision_macro: (test=0.779) recall_macro: (test=0.686) total time=   0.1s\n",
      "[CV 5/5] END C=1, dual=True; accuracy: (test=0.800) f1_weighted: (test=0.797) precision_macro: (test=0.818) recall_macro: (test=0.733) total time=   0.1s\n",
      "[CV 1/5] END C=1, dual=False; accuracy: (test=0.791) f1_weighted: (test=0.785) precision_macro: (test=0.834) recall_macro: (test=0.689) total time=   0.3s\n",
      "[CV 2/5] END C=1, dual=False; accuracy: (test=0.787) f1_weighted: (test=0.784) precision_macro: (test=0.805) recall_macro: (test=0.722) total time=   0.3s\n",
      "[CV 3/5] END C=1, dual=False; accuracy: (test=0.800) f1_weighted: (test=0.794) precision_macro: (test=0.799) recall_macro: (test=0.727) total time=   0.3s\n",
      "[CV 4/5] END C=1, dual=False; accuracy: (test=0.774) f1_weighted: (test=0.768) precision_macro: (test=0.784) recall_macro: (test=0.687) total time=   0.3s\n",
      "[CV 5/5] END C=1, dual=False; accuracy: (test=0.800) f1_weighted: (test=0.797) precision_macro: (test=0.818) recall_macro: (test=0.733) total time=   0.3s\n",
      "[CV 1/5] END C=1.5, dual=True; accuracy: (test=0.794) f1_weighted: (test=0.788) precision_macro: (test=0.835) recall_macro: (test=0.691) total time=   0.1s\n",
      "[CV 2/5] END C=1.5, dual=True; accuracy: (test=0.791) f1_weighted: (test=0.788) precision_macro: (test=0.808) recall_macro: (test=0.728) total time=   0.1s\n",
      "[CV 3/5] END C=1.5, dual=True; accuracy: (test=0.803) f1_weighted: (test=0.799) precision_macro: (test=0.802) recall_macro: (test=0.736) total time=   0.1s\n",
      "[CV 4/5] END C=1.5, dual=True; accuracy: (test=0.774) f1_weighted: (test=0.768) precision_macro: (test=0.774) recall_macro: (test=0.685) total time=   0.1s\n",
      "[CV 5/5] END C=1.5, dual=True; accuracy: (test=0.797) f1_weighted: (test=0.794) precision_macro: (test=0.822) recall_macro: (test=0.727) total time=   0.1s\n",
      "[CV 1/5] END C=1.5, dual=False; accuracy: (test=0.794) f1_weighted: (test=0.788) precision_macro: (test=0.835) recall_macro: (test=0.691) total time=   0.4s\n",
      "[CV 2/5] END C=1.5, dual=False; accuracy: (test=0.791) f1_weighted: (test=0.788) precision_macro: (test=0.808) recall_macro: (test=0.728) total time=   0.4s\n",
      "[CV 3/5] END C=1.5, dual=False; accuracy: (test=0.803) f1_weighted: (test=0.799) precision_macro: (test=0.802) recall_macro: (test=0.736) total time=   0.4s\n",
      "[CV 4/5] END C=1.5, dual=False; accuracy: (test=0.774) f1_weighted: (test=0.768) precision_macro: (test=0.774) recall_macro: (test=0.685) total time=   0.4s\n",
      "[CV 5/5] END C=1.5, dual=False; accuracy: (test=0.797) f1_weighted: (test=0.794) precision_macro: (test=0.822) recall_macro: (test=0.727) total time=   0.4s\n",
      "[CV 1/5] END C=2, dual=True; accuracy: (test=0.793) f1_weighted: (test=0.787) precision_macro: (test=0.834) recall_macro: (test=0.690) total time=   0.2s\n",
      "[CV 2/5] END C=2, dual=True; accuracy: (test=0.791) f1_weighted: (test=0.788) precision_macro: (test=0.806) recall_macro: (test=0.728) total time=   0.1s\n",
      "[CV 3/5] END C=2, dual=True; accuracy: (test=0.801) f1_weighted: (test=0.798) precision_macro: (test=0.797) recall_macro: (test=0.735) total time=   0.1s\n",
      "[CV 4/5] END C=2, dual=True; accuracy: (test=0.776) f1_weighted: (test=0.769) precision_macro: (test=0.777) recall_macro: (test=0.688) total time=   0.1s\n",
      "[CV 5/5] END C=2, dual=True; accuracy: (test=0.794) f1_weighted: (test=0.791) precision_macro: (test=0.820) recall_macro: (test=0.726) total time=   0.1s\n",
      "[CV 1/5] END C=2, dual=False; accuracy: (test=0.793) f1_weighted: (test=0.787) precision_macro: (test=0.834) recall_macro: (test=0.690) total time=   0.4s\n",
      "[CV 2/5] END C=2, dual=False; accuracy: (test=0.791) f1_weighted: (test=0.788) precision_macro: (test=0.806) recall_macro: (test=0.728) total time=   0.4s\n",
      "[CV 3/5] END C=2, dual=False; accuracy: (test=0.801) f1_weighted: (test=0.798) precision_macro: (test=0.797) recall_macro: (test=0.735) total time=   0.5s\n",
      "[CV 4/5] END C=2, dual=False; accuracy: (test=0.776) f1_weighted: (test=0.769) precision_macro: (test=0.777) recall_macro: (test=0.688) total time=   0.4s\n",
      "[CV 5/5] END C=2, dual=False; accuracy: (test=0.794) f1_weighted: (test=0.791) precision_macro: (test=0.820) recall_macro: (test=0.726) total time=   0.4s\n",
      "[CV 1/5] END C=2.5, dual=True; accuracy: (test=0.791) f1_weighted: (test=0.785) precision_macro: (test=0.829) recall_macro: (test=0.688) total time=   0.2s\n",
      "[CV 2/5] END C=2.5, dual=True; accuracy: (test=0.796) f1_weighted: (test=0.793) precision_macro: (test=0.812) recall_macro: (test=0.737) total time=   0.2s\n",
      "[CV 3/5] END C=2.5, dual=True; accuracy: (test=0.800) f1_weighted: (test=0.796) precision_macro: (test=0.796) recall_macro: (test=0.738) total time=   0.2s\n",
      "[CV 4/5] END C=2.5, dual=True; accuracy: (test=0.776) f1_weighted: (test=0.769) precision_macro: (test=0.773) recall_macro: (test=0.682) total time=   0.1s\n",
      "[CV 5/5] END C=2.5, dual=True; accuracy: (test=0.794) f1_weighted: (test=0.791) precision_macro: (test=0.820) recall_macro: (test=0.726) total time=   0.1s\n",
      "[CV 1/5] END C=2.5, dual=False; accuracy: (test=0.791) f1_weighted: (test=0.785) precision_macro: (test=0.829) recall_macro: (test=0.688) total time=   0.5s\n",
      "[CV 2/5] END C=2.5, dual=False; accuracy: (test=0.796) f1_weighted: (test=0.793) precision_macro: (test=0.812) recall_macro: (test=0.737) total time=   0.6s\n",
      "[CV 3/5] END C=2.5, dual=False; accuracy: (test=0.800) f1_weighted: (test=0.796) precision_macro: (test=0.796) recall_macro: (test=0.738) total time=   0.4s\n",
      "[CV 4/5] END C=2.5, dual=False; accuracy: (test=0.776) f1_weighted: (test=0.769) precision_macro: (test=0.773) recall_macro: (test=0.682) total time=   0.5s\n",
      "[CV 5/5] END C=2.5, dual=False; accuracy: (test=0.794) f1_weighted: (test=0.791) precision_macro: (test=0.820) recall_macro: (test=0.726) total time=   0.5s\n",
      "{'C': 1.5, 'dual': True}\n",
      "time: 25.7 s (started: 2021-12-16 15:17:51 +05:30)\n"
     ]
    }
   ],
   "source": [
    "folds = 5\n",
    "\n",
    "linearSvc_model = LinearSVC()\n",
    "\n",
    "params = {'C': [0.1,0.5,0.8,0.9,1,1.5,2,2.5],\n",
    "              'dual': (True, False)\n",
    "             }\n",
    "scoring = ['accuracy', 'precision_macro', 'recall_macro' , 'f1_weighted']\n",
    "\n",
    "skf = sklearn.model_selection.StratifiedKFold(n_splits=folds, shuffle = True, random_state = 1001)\n",
    "linearSVC = sklearn.model_selection.GridSearchCV(linearSvc_model, param_grid=params, scoring=scoring, refit='f1_weighted',\n",
    "                                                 cv=skf.split(xtrain_tfidfv,ytrain), verbose=3)\n",
    "\n",
    "linearSVC.fit(xtrain_tfidfv,ytrain)"
   ]
  },
  {
   "cell_type": "code",
   "execution_count": 323,
   "id": "4bfe0152-a4c2-4005-90e8-efe37ec71ceb",
   "metadata": {},
   "outputs": [
    {
     "name": "stdout",
     "output_type": "stream",
     "text": [
      "{'C': 1.5, 'dual': True}\n",
      "time: 0 ns (started: 2021-12-16 15:18:46 +05:30)\n"
     ]
    }
   ],
   "source": [
    "print(linearSVC.best_params_)"
   ]
  },
  {
   "cell_type": "markdown",
   "id": "2f1a0c20-5057-4773-8e25-ee21b015bc12",
   "metadata": {
    "tags": []
   },
   "source": [
    "#### Fitting model on best params"
   ]
  },
  {
   "cell_type": "markdown",
   "id": "993844de-ac77-45b0-a780-c61b25363e17",
   "metadata": {
    "jp-MarkdownHeadingCollapsed": true,
    "tags": []
   },
   "source": [
    "##### Train-test split"
   ]
  },
  {
   "cell_type": "code",
   "execution_count": 334,
   "id": "2bb0a838-7626-40c6-81aa-83c84a782e9e",
   "metadata": {},
   "outputs": [
    {
     "name": "stdout",
     "output_type": "stream",
     "text": [
      "time: 47 ms (started: 2021-12-16 15:46:12 +05:30)\n"
     ]
    }
   ],
   "source": [
    "xtrain, xtest, ytrain, ytest = sklearn.model_selection.train_test_split(con_com_use.ConCompLemStem, y,  # Using text stopwords removed and with stemming and lemmatization done\n",
    "                                                                        stratify=y,\n",
    "                                                                        random_state=42,\n",
    "                                                                        test_size=0.3, shuffle=True)"
   ]
  },
  {
   "cell_type": "code",
   "execution_count": 335,
   "id": "2bc5dc1d-d3bb-4cc2-8ad6-f8d48403f94c",
   "metadata": {},
   "outputs": [
    {
     "name": "stdout",
     "output_type": "stream",
     "text": [
      "(70000,)\n",
      "(30000,)\n",
      "time: 0 ns (started: 2021-12-16 15:46:12 +05:30)\n"
     ]
    }
   ],
   "source": [
    "print (xtrain.shape)\n",
    "print (xtest.shape)"
   ]
  },
  {
   "cell_type": "markdown",
   "id": "5c0b2acf-33ea-4153-b243-cd236f68d3f9",
   "metadata": {
    "jp-MarkdownHeadingCollapsed": true,
    "tags": []
   },
   "source": [
    "##### Tf-Idf Vectorizer"
   ]
  },
  {
   "cell_type": "code",
   "execution_count": 336,
   "id": "4ac48827-f540-4dda-b5b1-5872a5b7f92d",
   "metadata": {},
   "outputs": [
    {
     "name": "stdout",
     "output_type": "stream",
     "text": [
      "time: 1min 19s (started: 2021-12-16 15:46:12 +05:30)\n"
     ]
    }
   ],
   "source": [
    "tfidf_vect = TfidfVectorizer(min_df=2,\n",
    "                             analyzer='word',\n",
    "                             ngram_range=(1, 4))\n",
    "\n",
    "tfidf_vect.fit(list(xtrain) + list(xtest))\n",
    "xtrain_tfidfv =  tfidf_vect.transform(xtrain)\n",
    "xtest_tfidfv = tfidf_vect.transform(xtest)"
   ]
  },
  {
   "cell_type": "markdown",
   "id": "b24c009b-9c80-4335-8d54-3007db43f5f0",
   "metadata": {
    "jp-MarkdownHeadingCollapsed": true,
    "tags": []
   },
   "source": [
    "##### Fitting Model"
   ]
  },
  {
   "cell_type": "code",
   "execution_count": 338,
   "id": "b6dd86de-0688-4b3d-8cff-b72d72521bad",
   "metadata": {},
   "outputs": [
    {
     "data": {
      "text/plain": [
       "LinearSVC(C=1.5)"
      ]
     },
     "execution_count": 338,
     "metadata": {},
     "output_type": "execute_result"
    },
    {
     "name": "stdout",
     "output_type": "stream",
     "text": [
      "time: 18.1 s (started: 2021-12-16 15:48:07 +05:30)\n"
     ]
    }
   ],
   "source": [
    "linearSvc_model = LinearSVC(C=1.5, dual=True)\n",
    "linearSvc_model.fit(xtrain_tfidfv, ytrain)"
   ]
  },
  {
   "cell_type": "markdown",
   "id": "dd536c6e-a2ae-47d5-baab-a0e4ba9ba3ee",
   "metadata": {
    "jp-MarkdownHeadingCollapsed": true,
    "tags": []
   },
   "source": [
    "##### Evaluation"
   ]
  },
  {
   "cell_type": "code",
   "execution_count": 342,
   "id": "56fd7bd4-4bb0-44ed-8eb7-b36ca044518b",
   "metadata": {},
   "outputs": [
    {
     "name": "stdout",
     "output_type": "stream",
     "text": [
      "                                                                                 precision    recall  f1-score   support\n",
      "\n",
      "   Credit reporting, credit repair services, or other personal consumer reports       0.79      0.81      0.80      2149\n",
      "                                       Bank account or service, Savings account       0.74      0.60      0.66      1514\n",
      "                             Money transfer, virtual currency, or money service       0.78      0.81      0.79      3325\n",
      "                                                                       Mortgage       0.86      0.88      0.87     11369\n",
      "                                                                Debt collection       0.81      0.80      0.81      6206\n",
      "Consumer loan, Vehicle loan or lease, Payday loan, title loan, or personal loan       0.83      0.67      0.75       822\n",
      "                                                                   Student loan       0.90      0.92      0.91      3428\n",
      "                                                    Credit card or prepaid card       0.88      0.83      0.86      1187\n",
      "\n",
      "                                                                       accuracy                           0.84     30000\n",
      "                                                                      macro avg       0.82      0.79      0.81     30000\n",
      "                                                                   weighted avg       0.83      0.84      0.83     30000\n",
      "\n",
      "time: 172 ms (started: 2021-12-16 15:49:53 +05:30)\n"
     ]
    }
   ],
   "source": [
    "ypred = linearSvc_model.predict(xtest_tfidfv)\n",
    "print(metrics.classification_report(ytest, ypred, target_names=con_com_use['Product'].unique()))"
   ]
  },
  {
   "cell_type": "code",
   "execution_count": null,
   "id": "31b21ee3-2fb9-40d6-b365-388430d2045c",
   "metadata": {},
   "outputs": [],
   "source": []
  },
  {
   "cell_type": "markdown",
   "id": "c49478b7-5779-4d0b-b9bc-09380cdaab50",
   "metadata": {
    "jp-MarkdownHeadingCollapsed": true,
    "tags": []
   },
   "source": [
    "### XGB"
   ]
  },
  {
   "cell_type": "markdown",
   "id": "65f0cef6-c3b2-408b-9dc8-2ad3835ae54e",
   "metadata": {
    "jp-MarkdownHeadingCollapsed": true,
    "tags": []
   },
   "source": [
    "#### Train-test split"
   ]
  },
  {
   "cell_type": "code",
   "execution_count": 305,
   "id": "504cc29f-ff36-4ab6-98db-9ffe9c827b20",
   "metadata": {},
   "outputs": [
    {
     "name": "stdout",
     "output_type": "stream",
     "text": [
      "time: 16 ms (started: 2021-12-16 15:09:13 +05:30)\n"
     ]
    }
   ],
   "source": [
    "tmp_df = con_com_use.sample(n=5000) # Tuning on 5000 sample \n",
    "lab_enc_samp = sklearn.preprocessing.LabelEncoder()\n",
    "y_samp = lab_enc_samp.fit_transform(tmp_df['Product'])\n",
    "\n",
    "xtrain, xtest, ytrain, ytest = sklearn.model_selection.train_test_split(tmp_df.ConCompLemStem, y_samp,  # Using text stopwords removed and with stemming and lemmatization done\n",
    "                                                                        stratify=y_samp,\n",
    "                                                                        random_state=42,\n",
    "                                                                        test_size=0.3, shuffle=True)"
   ]
  },
  {
   "cell_type": "code",
   "execution_count": 306,
   "id": "8f71900e-f421-46e7-8360-94ad1cdf7097",
   "metadata": {},
   "outputs": [
    {
     "name": "stdout",
     "output_type": "stream",
     "text": [
      "(3500,)\n",
      "(1500,)\n",
      "time: 0 ns (started: 2021-12-16 15:09:15 +05:30)\n"
     ]
    }
   ],
   "source": [
    "print (xtrain.shape)\n",
    "print (xtest.shape)"
   ]
  },
  {
   "cell_type": "markdown",
   "id": "d50246c9-6e19-44c1-acaf-db310996ead2",
   "metadata": {
    "jp-MarkdownHeadingCollapsed": true,
    "tags": []
   },
   "source": [
    "#### Tf-Idf Vectorizer"
   ]
  },
  {
   "cell_type": "code",
   "execution_count": 307,
   "id": "bf2319cc-c530-49bc-9ab9-772b52307cc7",
   "metadata": {},
   "outputs": [
    {
     "name": "stdout",
     "output_type": "stream",
     "text": [
      "time: 3.66 s (started: 2021-12-16 15:09:20 +05:30)\n"
     ]
    }
   ],
   "source": [
    "tfidf_vect = TfidfVectorizer(min_df=2,\n",
    "                             analyzer='word',\n",
    "                             ngram_range=(1, 4))\n",
    "\n",
    "tfidf_vect.fit(list(xtrain) + list(xtest))\n",
    "xtrain_tfidfv =  tfidf_vect.transform(xtrain)\n",
    "xtest_tfidfv = tfidf_vect.transform(xtest)"
   ]
  },
  {
   "cell_type": "markdown",
   "id": "b3bbed77-ca2b-4921-892f-714fd960a8b6",
   "metadata": {
    "jp-MarkdownHeadingCollapsed": true,
    "tags": []
   },
   "source": [
    "#### Grid Search"
   ]
  },
  {
   "cell_type": "code",
   "execution_count": null,
   "id": "1ca62a1a-8829-40ca-9e00-ac186d192c3b",
   "metadata": {
    "scrolled": true,
    "tags": []
   },
   "outputs": [
    {
     "name": "stdout",
     "output_type": "stream",
     "text": [
      "Fitting 2 folds for each of 8 candidates, totalling 16 fits\n",
      "[CV 1/2] END learning_rate=0.01, min_child_weight=1, subsample=0.8; accuracy: (test=0.758) f1_weighted: (test=0.751) precision_macro: (test=0.751) recall_macro: (test=0.658) total time=  52.1s\n",
      "[CV 2/2] END learning_rate=0.01, min_child_weight=1, subsample=0.8; accuracy: (test=0.751) f1_weighted: (test=0.746) precision_macro: (test=0.730) recall_macro: (test=0.637) total time=  59.0s\n",
      "[CV 1/2] END learning_rate=0.01, min_child_weight=1, subsample=1.0; accuracy: (test=0.752) f1_weighted: (test=0.746) precision_macro: (test=0.726) recall_macro: (test=0.654) total time= 1.0min\n",
      "[CV 2/2] END learning_rate=0.01, min_child_weight=1, subsample=1.0; accuracy: (test=0.742) f1_weighted: (test=0.737) precision_macro: (test=0.703) recall_macro: (test=0.623) total time=  55.6s\n",
      "[CV 1/2] END learning_rate=0.01, min_child_weight=2, subsample=0.8; accuracy: (test=0.759) f1_weighted: (test=0.754) precision_macro: (test=0.753) recall_macro: (test=0.664) total time=  49.8s\n",
      "[CV 2/2] END learning_rate=0.01, min_child_weight=2, subsample=0.8; accuracy: (test=0.754) f1_weighted: (test=0.749) precision_macro: (test=0.734) recall_macro: (test=0.642) total time=  49.9s\n",
      "[CV 1/2] END learning_rate=0.01, min_child_weight=2, subsample=1.0; accuracy: (test=0.743) f1_weighted: (test=0.737) precision_macro: (test=0.720) recall_macro: (test=0.642) total time=  51.8s\n",
      "[CV 2/2] END learning_rate=0.01, min_child_weight=2, subsample=1.0; accuracy: (test=0.743) f1_weighted: (test=0.737) precision_macro: (test=0.721) recall_macro: (test=0.629) total time=  50.9s\n",
      "[CV 1/2] END learning_rate=0.001, min_child_weight=1, subsample=0.8; accuracy: (test=0.725) f1_weighted: (test=0.719) precision_macro: (test=0.700) recall_macro: (test=0.631) total time=  56.4s\n"
     ]
    }
   ],
   "source": [
    "folds = 2\n",
    "\n",
    "xgb_model = xgb.XGBClassifier(objective='multi:softprob', gamma=0.5, eval_metric='mlogloss', n_estimators=500)\n",
    "scoring = ['accuracy', 'precision_macro', 'recall_macro' , 'f1_weighted']\n",
    "\n",
    "params = {'min_child_weight': [1, 2],\n",
    "          'subsample': [0.8, 1.0],\n",
    "          'learning_rate': [0.01, 0.001]\n",
    "         }\n",
    "\n",
    "skf = sklearn.model_selection.StratifiedKFold(n_splits=folds, shuffle = True, random_state = 1001)\n",
    "grid_search = sklearn.model_selection.GridSearchCV(xgb_model, param_grid=params, scoring=scoring, refit='f1_weighted',\n",
    "                                                   cv=skf.split(xtrain_tfidfv,ytrain), verbose=3)\n",
    "\n",
    "grid_search.fit(xtrain_tfidfv, ytrain)"
   ]
  },
  {
   "cell_type": "code",
   "execution_count": 330,
   "id": "c6b38189-8a57-459e-ad79-d42e8e0299ff",
   "metadata": {},
   "outputs": [
    {
     "name": "stdout",
     "output_type": "stream",
     "text": [
      "{'learning_rate': 0.01, 'min_child_weight': 2, 'subsample': 0.8}\n",
      "time: 0 ns (started: 2021-12-16 15:42:23 +05:30)\n"
     ]
    }
   ],
   "source": [
    "print(grid_search.best_params_)"
   ]
  },
  {
   "cell_type": "markdown",
   "id": "044cb64e-3fe2-4b7f-9f2c-cb1321915312",
   "metadata": {
    "tags": []
   },
   "source": [
    "#### Fitting model on best params"
   ]
  },
  {
   "cell_type": "markdown",
   "id": "4c9f6639-2109-47dd-998f-5c208623f140",
   "metadata": {
    "jp-MarkdownHeadingCollapsed": true,
    "tags": []
   },
   "source": [
    "##### Train-test split"
   ]
  },
  {
   "cell_type": "code",
   "execution_count": 343,
   "id": "95ebdcc9-c0d7-4e80-85c9-3d907b8c0817",
   "metadata": {},
   "outputs": [
    {
     "name": "stdout",
     "output_type": "stream",
     "text": [
      "time: 47 ms (started: 2021-12-16 15:51:43 +05:30)\n"
     ]
    }
   ],
   "source": [
    "xtrain, xtest, ytrain, ytest = sklearn.model_selection.train_test_split(con_com_use.ConCompLemStem, y,  # Using text stopwords removed and with stemming and lemmatization done\n",
    "                                                                        stratify=y,\n",
    "                                                                        random_state=42,\n",
    "                                                                        test_size=0.3, shuffle=True)"
   ]
  },
  {
   "cell_type": "code",
   "execution_count": 344,
   "id": "c8f6db5f-f9a9-4e0e-809d-99071bc7f4a1",
   "metadata": {},
   "outputs": [
    {
     "name": "stdout",
     "output_type": "stream",
     "text": [
      "(70000,)\n",
      "(30000,)\n",
      "time: 0 ns (started: 2021-12-16 15:51:45 +05:30)\n"
     ]
    }
   ],
   "source": [
    "print (xtrain.shape)\n",
    "print (xtest.shape)"
   ]
  },
  {
   "cell_type": "markdown",
   "id": "c28c0304-5149-46f2-b668-5771ff6a1a6c",
   "metadata": {
    "jp-MarkdownHeadingCollapsed": true,
    "tags": []
   },
   "source": [
    "##### Tf-Idf Vectorizer"
   ]
  },
  {
   "cell_type": "code",
   "execution_count": 345,
   "id": "7ca17a52-0da9-4fc6-ac7f-0c93c5103896",
   "metadata": {},
   "outputs": [
    {
     "name": "stdout",
     "output_type": "stream",
     "text": [
      "time: 1min 20s (started: 2021-12-16 15:51:53 +05:30)\n"
     ]
    }
   ],
   "source": [
    "tfidf_vect = TfidfVectorizer(min_df=2,\n",
    "                             analyzer='word',\n",
    "                             ngram_range=(1, 4))\n",
    "\n",
    "tfidf_vect.fit(list(xtrain) + list(xtest))\n",
    "xtrain_tfidfv =  tfidf_vect.transform(xtrain)\n",
    "xtest_tfidfv = tfidf_vect.transform(xtest)"
   ]
  },
  {
   "cell_type": "markdown",
   "id": "c1d6090f-c7ee-4a39-9360-46345af6199d",
   "metadata": {
    "jp-MarkdownHeadingCollapsed": true,
    "tags": []
   },
   "source": [
    "##### Fitting Model"
   ]
  },
  {
   "cell_type": "code",
   "execution_count": 346,
   "id": "b9418cbb-8a68-4632-81c7-9a4c1da2dafe",
   "metadata": {},
   "outputs": [
    {
     "data": {
      "text/plain": [
       "XGBClassifier(base_score=0.5, booster='gbtree', colsample_bylevel=1,\n",
       "              colsample_bynode=1, colsample_bytree=1, enable_categorical=False,\n",
       "              eval_metric='mlogloss', gamma=0.5, gpu_id=-1,\n",
       "              importance_type=None, interaction_constraints='',\n",
       "              learning_rate=0.01, max_delta_step=0, max_depth=6,\n",
       "              min_child_weight=2, missing=nan, monotone_constraints='()',\n",
       "              n_estimators=500, n_jobs=12, num_parallel_tree=1,\n",
       "              objective='multi:softprob', predictor='auto', random_state=0,\n",
       "              reg_alpha=0, reg_lambda=1, scale_pos_weight=None, subsample=0.8,\n",
       "              tree_method='exact', validate_parameters=1, verbosity=None)"
      ]
     },
     "execution_count": 346,
     "metadata": {},
     "output_type": "execute_result"
    },
    {
     "name": "stdout",
     "output_type": "stream",
     "text": [
      "time: 38min 48s (started: 2021-12-16 15:54:16 +05:30)\n"
     ]
    }
   ],
   "source": [
    "xgb_model = xgb_model = xgb.XGBClassifier(objective='multi:softprob', gamma=0.5, eval_metric='mlogloss', n_estimators=500, learning_rate=0.01, min_child_weight=2, subsample=0.8)\n",
    "xgb_model.fit(xtrain_tfidfv, ytrain)"
   ]
  },
  {
   "cell_type": "markdown",
   "id": "c170acd2-8e50-4cdd-98fb-cf0720d3bff9",
   "metadata": {
    "jp-MarkdownHeadingCollapsed": true,
    "tags": []
   },
   "source": [
    "##### Evaluation"
   ]
  },
  {
   "cell_type": "code",
   "execution_count": 347,
   "id": "5817c80c-9db0-4d87-8fb2-ef36871795c1",
   "metadata": {},
   "outputs": [
    {
     "name": "stdout",
     "output_type": "stream",
     "text": [
      "                                                                                 precision    recall  f1-score   support\n",
      "\n",
      "   Credit reporting, credit repair services, or other personal consumer reports       0.75      0.76      0.75      2149\n",
      "                                       Bank account or service, Savings account       0.66      0.58      0.62      1514\n",
      "                             Money transfer, virtual currency, or money service       0.77      0.74      0.76      3325\n",
      "                                                                       Mortgage       0.81      0.87      0.84     11369\n",
      "                                                                Debt collection       0.78      0.77      0.77      6206\n",
      "Consumer loan, Vehicle loan or lease, Payday loan, title loan, or personal loan       0.81      0.58      0.67       822\n",
      "                                                                   Student loan       0.89      0.87      0.88      3428\n",
      "                                                    Credit card or prepaid card       0.86      0.77      0.82      1187\n",
      "\n",
      "                                                                       accuracy                           0.80     30000\n",
      "                                                                      macro avg       0.79      0.74      0.76     30000\n",
      "                                                                   weighted avg       0.80      0.80      0.80     30000\n",
      "\n",
      "time: 1.78 s (started: 2021-12-16 16:33:05 +05:30)\n"
     ]
    }
   ],
   "source": [
    "ypred = xgb_model.predict(xtest_tfidfv)\n",
    "print(metrics.classification_report(ytest, ypred, target_names=con_com_use['Product'].unique()))"
   ]
  },
  {
   "cell_type": "markdown",
   "id": "c61b5f2c-a602-4b16-9e20-ce6d5843bfb5",
   "metadata": {
    "jp-MarkdownHeadingCollapsed": true,
    "tags": []
   },
   "source": [
    "### Conclusion LinearSVM vs XGBoost"
   ]
  },
  {
   "cell_type": "markdown",
   "id": "3f2d545f-8f9e-4fb7-a368-f4ee8550cdf4",
   "metadata": {},
   "source": [
    "- Final F1 weighted score for LinearSVC is .83\n",
    "- Final F1 weighted score for XGBoost is .80\n",
    "- LinearSVM is performing better than XGBoost"
   ]
  },
  {
   "cell_type": "markdown",
   "id": "747db748-4a1b-4428-92ae-c6ff4edfac74",
   "metadata": {
    "tags": []
   },
   "source": [
    "## Deep Learning"
   ]
  },
  {
   "cell_type": "markdown",
   "id": "26c51daa-4a45-4e97-8ef6-8eb93b6394b6",
   "metadata": {
    "jp-MarkdownHeadingCollapsed": true,
    "tags": []
   },
   "source": [
    "### Train-test split"
   ]
  },
  {
   "cell_type": "code",
   "execution_count": 32,
   "id": "96e8b8f4-841f-42c2-888c-2fd363a0637a",
   "metadata": {},
   "outputs": [
    {
     "name": "stdout",
     "output_type": "stream",
     "text": [
      "time: 47 ms (started: 2021-12-16 18:54:03 +05:30)\n"
     ]
    }
   ],
   "source": [
    "xtrain, xtest, ytrain, ytest = sklearn.model_selection.train_test_split(con_com_use.ConCompLemStem, y,\n",
    "                                                                        stratify=y,\n",
    "                                                                        random_state=42,\n",
    "                                                                        test_size=0.3, shuffle=True)"
   ]
  },
  {
   "cell_type": "code",
   "execution_count": 33,
   "id": "9bcee5f3-b130-4368-949d-5120000a5b54",
   "metadata": {},
   "outputs": [
    {
     "name": "stdout",
     "output_type": "stream",
     "text": [
      "(70000,)\n",
      "(30000,)\n",
      "time: 0 ns (started: 2021-12-16 18:54:03 +05:30)\n"
     ]
    }
   ],
   "source": [
    "print (xtrain.shape)\n",
    "print (xtest.shape)"
   ]
  },
  {
   "cell_type": "markdown",
   "id": "e9e7faf0-6a0c-46d2-922d-f6cf836d3564",
   "metadata": {
    "jp-MarkdownHeadingCollapsed": true,
    "tags": []
   },
   "source": [
    "### Training a Word2Vec model"
   ]
  },
  {
   "cell_type": "code",
   "execution_count": 34,
   "id": "d7cfc10c-873d-44d9-a2ce-388624979b72",
   "metadata": {},
   "outputs": [
    {
     "name": "stdout",
     "output_type": "stream",
     "text": [
      "time: 8min 18s (started: 2021-12-16 18:54:03 +05:30)\n"
     ]
    }
   ],
   "source": [
    "vectorSize=160\n",
    "word2vecModel = Word2Vec(con_com_use.ConCompLemStem.str.split(' ').tolist(), min_count=2, vector_size=vectorSize,\n",
    "                         workers=12, window=7, sg=1,\n",
    "                         epochs=50)\n",
    "gensim_embbed = dict(zip(word2vecModel.wv.index_to_key, word2vecModel.wv.vectors))"
   ]
  },
  {
   "cell_type": "markdown",
   "id": "bc35141f-fbd9-40a8-aeb7-a47668332772",
   "metadata": {
    "jp-MarkdownHeadingCollapsed": true,
    "tags": []
   },
   "source": [
    "### Converting target variable to categorial"
   ]
  },
  {
   "cell_type": "code",
   "execution_count": 35,
   "id": "de669316-3172-40f4-afec-a94b53e70668",
   "metadata": {},
   "outputs": [
    {
     "name": "stdout",
     "output_type": "stream",
     "text": [
      "time: 0 ns (started: 2021-12-16 19:02:22 +05:30)\n"
     ]
    }
   ],
   "source": [
    "ytrain_enc = to_categorical(ytrain)\n",
    "ytest_enc = to_categorical(ytest)"
   ]
  },
  {
   "cell_type": "code",
   "execution_count": 36,
   "id": "dc74612c-354e-400e-8530-839b07b588ab",
   "metadata": {},
   "outputs": [
    {
     "name": "stdout",
     "output_type": "stream",
     "text": [
      "time: 10.7 s (started: 2021-12-16 19:02:22 +05:30)\n"
     ]
    }
   ],
   "source": [
    "token = preprocessing.text.Tokenizer(num_words=None)\n",
    "max_len = 140\n",
    "\n",
    "token.fit_on_texts(list(xtrain) + list(xtest))\n",
    "xtrain_seq = token.texts_to_sequences(xtrain)\n",
    "xtest_seq = token.texts_to_sequences(xtest)\n",
    "\n",
    "xtrain_pad = preprocessing.sequence.pad_sequences(xtrain_seq, maxlen=max_len)\n",
    "xtest_pad = preprocessing.sequence.pad_sequences(xtest_seq, maxlen=max_len)\n",
    "\n",
    "word_index = token.word_index"
   ]
  },
  {
   "cell_type": "code",
   "execution_count": 37,
   "id": "3c083078-8c49-4bab-8120-cca675026c73",
   "metadata": {},
   "outputs": [
    {
     "data": {
      "application/vnd.jupyter.widget-view+json": {
       "model_id": "08b358c33d33428ab4f8e0e7d43f0df5",
       "version_major": 2,
       "version_minor": 0
      },
      "text/plain": [
       "  0%|          | 0/35227 [00:00<?, ?it/s]"
      ]
     },
     "metadata": {},
     "output_type": "display_data"
    },
    {
     "name": "stdout",
     "output_type": "stream",
     "text": [
      "time: 62 ms (started: 2021-12-16 19:02:32 +05:30)\n"
     ]
    }
   ],
   "source": [
    "embedding_matrix = np.zeros((len(word_index) + 1, vectorSize))\n",
    "for word, i in tqdm(word_index.items()):\n",
    "    embedding_vector = gensim_embbed.get(word)\n",
    "    if embedding_vector is not None:\n",
    "        embedding_matrix[i] = embedding_vector"
   ]
  },
  {
   "cell_type": "markdown",
   "id": "2375930a-e567-42b5-84dc-2f697ddcc5c7",
   "metadata": {
    "jp-MarkdownHeadingCollapsed": true,
    "tags": []
   },
   "source": [
    "### Bi-Directional LSTM"
   ]
  },
  {
   "cell_type": "markdown",
   "id": "618c147a-d5fe-469c-bb82-ef31f17626e8",
   "metadata": {
    "jp-MarkdownHeadingCollapsed": true,
    "tags": []
   },
   "source": [
    "#### Model Iterations"
   ]
  },
  {
   "cell_type": "code",
   "execution_count": 53,
   "id": "ae1cbd9a-ecab-44a4-bfa7-ec9d1a6ffe06",
   "metadata": {},
   "outputs": [
    {
     "name": "stdout",
     "output_type": "stream",
     "text": [
      "Model: \"sequential_8\"\n",
      "_________________________________________________________________\n",
      "Layer (type)                 Output Shape              Param #   \n",
      "=================================================================\n",
      "embedding_8 (Embedding)      (None, 50, 400)           14113200  \n",
      "_________________________________________________________________\n",
      "spatial_dropout1d_9 (Spatial (None, 50, 400)           0         \n",
      "_________________________________________________________________\n",
      "bidirectional_9 (Bidirection (None, 2048)              11673600  \n",
      "_________________________________________________________________\n",
      "dense_26 (Dense)             (None, 1024)              2098176   \n",
      "_________________________________________________________________\n",
      "dropout_20 (Dropout)         (None, 1024)              0         \n",
      "_________________________________________________________________\n",
      "dense_27 (Dense)             (None, 1024)              1049600   \n",
      "_________________________________________________________________\n",
      "dropout_21 (Dropout)         (None, 1024)              0         \n",
      "_________________________________________________________________\n",
      "dense_28 (Dense)             (None, 512)               524800    \n",
      "_________________________________________________________________\n",
      "dropout_22 (Dropout)         (None, 512)               0         \n",
      "_________________________________________________________________\n",
      "dense_29 (Dense)             (None, 8)                 4104      \n",
      "_________________________________________________________________\n",
      "activation_6 (Activation)    (None, 8)                 0         \n",
      "=================================================================\n",
      "Total params: 29,463,480\n",
      "Trainable params: 15,350,280\n",
      "Non-trainable params: 14,113,200\n",
      "_________________________________________________________________\n",
      "time: 2.52 s (started: 2021-12-15 19:22:26 +05:30)\n"
     ]
    }
   ],
   "source": [
    "model = Sequential()\n",
    "model.add(layers.Embedding(len(word_index)+1,\n",
    "                           vectorSize,\n",
    "                           weights=[embedding_matrix],\n",
    "                           input_length=max_len,\n",
    "                           trainable=False))\n",
    "model.add(layers.SpatialDropout1D(0.2))\n",
    "model.add(layers.Bidirectional(layers.LSTM(1024, dropout=0.2)))\n",
    "\n",
    "model.add(layers.Dense(1024, activation='relu'))\n",
    "model.add(layers.Dropout(0.8))\n",
    "\n",
    "model.add(layers.Dense(1024, activation='relu'))\n",
    "model.add(layers.Dropout(0.8))\n",
    "\n",
    "model.add(layers.Dense(512, activation='relu'))\n",
    "model.add(layers.Dropout(0.8))\n",
    "\n",
    "model.add(layers.Dense(8))\n",
    "model.add(layers.Activation('softmax'))\n",
    "model.compile(loss='categorical_crossentropy', optimizer='adam')\n",
    "earlystop = EarlyStopping(monitor='val_loss', patience=5, verbose=2)\n",
    "model.summary()"
   ]
  },
  {
   "cell_type": "code",
   "execution_count": 54,
   "id": "38358a61-fde3-42e1-a79a-af6bd7c07194",
   "metadata": {
    "scrolled": true,
    "tags": []
   },
   "outputs": [
    {
     "name": "stdout",
     "output_type": "stream",
     "text": [
      "Epoch 1/100\n",
      "69/69 [==============================] - 70s 984ms/step - loss: 1.6320 - val_loss: 1.1963\n",
      "Epoch 2/100\n",
      "69/69 [==============================] - 79s 1s/step - loss: 1.2524 - val_loss: 1.1965\n",
      "Epoch 3/100\n",
      "69/69 [==============================] - 82s 1s/step - loss: 1.1405 - val_loss: 0.9323\n",
      "Epoch 4/100\n",
      "69/69 [==============================] - 83s 1s/step - loss: 0.9759 - val_loss: 0.8380\n",
      "Epoch 5/100\n",
      "69/69 [==============================] - 84s 1s/step - loss: 0.8888 - val_loss: 0.7826\n",
      "Epoch 6/100\n",
      "69/69 [==============================] - 84s 1s/step - loss: 0.8230 - val_loss: 0.7675\n",
      "Epoch 7/100\n",
      "69/69 [==============================] - 84s 1s/step - loss: 0.7949 - val_loss: 0.7067\n",
      "Epoch 8/100\n",
      "69/69 [==============================] - 85s 1s/step - loss: 0.7649 - val_loss: 0.6953\n",
      "Epoch 9/100\n",
      "69/69 [==============================] - 84s 1s/step - loss: 0.7384 - val_loss: 0.6706\n",
      "Epoch 10/100\n",
      "69/69 [==============================] - 86s 1s/step - loss: 0.7082 - val_loss: 0.6656\n",
      "Epoch 11/100\n",
      "69/69 [==============================] - 84s 1s/step - loss: 0.6927 - val_loss: 0.6440\n",
      "Epoch 12/100\n",
      "69/69 [==============================] - 83s 1s/step - loss: 0.6771 - val_loss: 0.6580\n",
      "Epoch 13/100\n",
      "69/69 [==============================] - 83s 1s/step - loss: 0.6586 - val_loss: 0.6386\n",
      "Epoch 14/100\n",
      "69/69 [==============================] - 83s 1s/step - loss: 0.6372 - val_loss: 0.6240\n",
      "Epoch 15/100\n",
      "69/69 [==============================] - 83s 1s/step - loss: 0.6126 - val_loss: 0.6195\n",
      "Epoch 16/100\n",
      "69/69 [==============================] - 83s 1s/step - loss: 0.5954 - val_loss: 0.6165\n",
      "Epoch 17/100\n",
      "69/69 [==============================] - 84s 1s/step - loss: 0.5826 - val_loss: 0.6299\n",
      "Epoch 18/100\n",
      "69/69 [==============================] - 82s 1s/step - loss: 0.5755 - val_loss: 0.6275\n",
      "Epoch 19/100\n",
      "69/69 [==============================] - 84s 1s/step - loss: 0.5538 - val_loss: 0.6406\n",
      "Epoch 20/100\n",
      "69/69 [==============================] - 83s 1s/step - loss: 0.5385 - val_loss: 0.6309\n",
      "Epoch 21/100\n",
      "69/69 [==============================] - 83s 1s/step - loss: 0.5131 - val_loss: 0.6436\n",
      "Epoch 00021: early stopping\n"
     ]
    },
    {
     "data": {
      "text/plain": [
       "<tensorflow.python.keras.callbacks.History at 0x2a063a87550>"
      ]
     },
     "execution_count": 54,
     "metadata": {},
     "output_type": "execute_result"
    },
    {
     "name": "stdout",
     "output_type": "stream",
     "text": [
      "time: 28min 54s (started: 2021-12-15 19:22:29 +05:30)\n"
     ]
    }
   ],
   "source": [
    "model.fit(xtrain_pad, y=ytrain_enc, batch_size=1024, epochs=100, verbose=1,\n",
    "          validation_data=(xtest_pad, ytest_enc), callbacks=[earlystop])"
   ]
  },
  {
   "cell_type": "code",
   "execution_count": 55,
   "id": "690a6704-9760-45ab-a17e-557d77adc543",
   "metadata": {},
   "outputs": [
    {
     "name": "stdout",
     "output_type": "stream",
     "text": [
      "                                                                                 precision    recall  f1-score   support\n",
      "\n",
      "                                       Bank account or service, Savings account       0.66      0.75      0.70      2144\n",
      "                                                                       Mortgage       0.60      0.61      0.60      1483\n",
      "                                                                   Student loan       0.68      0.76      0.72      3298\n",
      "   Credit reporting, credit repair services, or other personal consumer reports       0.86      0.85      0.86     11448\n",
      "                             Money transfer, virtual currency, or money service       0.83      0.72      0.77      6212\n",
      "                                                                Debt collection       0.72      0.63      0.67       835\n",
      "                                                    Credit card or prepaid card       0.83      0.88      0.86      3426\n",
      "Consumer loan, Vehicle loan or lease, Payday loan, title loan, or personal loan       0.77      0.81      0.79      1154\n",
      "\n",
      "                                                                       accuracy                           0.79     30000\n",
      "                                                                      macro avg       0.74      0.75      0.75     30000\n",
      "                                                                   weighted avg       0.80      0.79      0.79     30000\n",
      "\n",
      "time: 17.1 s (started: 2021-12-15 19:51:24 +05:30)\n"
     ]
    }
   ],
   "source": [
    "ypred = model.predict(xtest_pad)\n",
    "print(metrics.classification_report(np.argmax(ytest_enc, axis=-1), np.argmax(ypred, axis=-1), \n",
    "                                    target_names=con_com_use['Product'].unique()))"
   ]
  },
  {
   "cell_type": "code",
   "execution_count": null,
   "id": "c2d2b9a6-1b8b-4bba-a1b4-f4fb17a5479d",
   "metadata": {},
   "outputs": [],
   "source": []
  },
  {
   "cell_type": "code",
   "execution_count": 85,
   "id": "05059a65-558f-49ee-b546-a8d5cd43515e",
   "metadata": {},
   "outputs": [
    {
     "name": "stdout",
     "output_type": "stream",
     "text": [
      "Model: \"sequential_22\"\n",
      "_________________________________________________________________\n",
      "Layer (type)                 Output Shape              Param #   \n",
      "=================================================================\n",
      "embedding_22 (Embedding)     (None, 50, 400)           14113200  \n",
      "_________________________________________________________________\n",
      "bidirectional_24 (Bidirectio (None, 1024)              3739648   \n",
      "_________________________________________________________________\n",
      "dense_87 (Dense)             (None, 1024)              1049600   \n",
      "_________________________________________________________________\n",
      "dropout_68 (Dropout)         (None, 1024)              0         \n",
      "_________________________________________________________________\n",
      "dense_88 (Dense)             (None, 512)               524800    \n",
      "_________________________________________________________________\n",
      "dropout_69 (Dropout)         (None, 512)               0         \n",
      "_________________________________________________________________\n",
      "dense_89 (Dense)             (None, 8)                 4104      \n",
      "_________________________________________________________________\n",
      "activation_19 (Activation)   (None, 8)                 0         \n",
      "=================================================================\n",
      "Total params: 19,431,352\n",
      "Trainable params: 5,318,152\n",
      "Non-trainable params: 14,113,200\n",
      "_________________________________________________________________\n",
      "time: 656 ms (started: 2021-12-15 21:10:23 +05:30)\n"
     ]
    }
   ],
   "source": [
    "model = Sequential()\n",
    "model.add(layers.Embedding(len(word_index)+1,\n",
    "                           vectorSize,\n",
    "                           weights=[embedding_matrix],\n",
    "                           input_length=max_len,\n",
    "                           trainable=False))\n",
    "\n",
    "model.add(layers.Bidirectional(layers.LSTM(512, dropout=0.2)))\n",
    "\n",
    "model.add(layers.Dense(1024, activation='relu'))\n",
    "model.add(layers.Dropout(0.8))\n",
    "\n",
    "model.add(layers.Dense(512, activation='relu'))\n",
    "model.add(layers.Dropout(0.8))\n",
    "\n",
    "model.add(layers.Dense(8))\n",
    "model.add(layers.Activation('softmax'))\n",
    "\n",
    "model.compile(loss='categorical_crossentropy', optimizer='adam')\n",
    "earlystop = EarlyStopping(monitor='val_loss', patience=5, verbose=0)\n",
    "model.summary()"
   ]
  },
  {
   "cell_type": "code",
   "execution_count": 86,
   "id": "1c44b54a-9101-44c8-92d2-bf9def64e79f",
   "metadata": {
    "scrolled": true,
    "tags": []
   },
   "outputs": [
    {
     "name": "stdout",
     "output_type": "stream",
     "text": [
      "Epoch 1/100\n",
      "69/69 [==============================] - 29s 376ms/step - loss: 1.4579 - val_loss: 0.7892\n",
      "Epoch 2/100\n",
      "69/69 [==============================] - 28s 404ms/step - loss: 0.8374 - val_loss: 0.7106\n",
      "Epoch 3/100\n",
      "69/69 [==============================] - 29s 418ms/step - loss: 0.7499 - val_loss: 0.6813\n",
      "Epoch 4/100\n",
      "69/69 [==============================] - 29s 418ms/step - loss: 0.7075 - val_loss: 0.6499\n",
      "Epoch 5/100\n",
      "69/69 [==============================] - 30s 439ms/step - loss: 0.6690 - val_loss: 0.6636\n",
      "Epoch 6/100\n",
      "69/69 [==============================] - 30s 430ms/step - loss: 0.6488 - val_loss: 0.6234\n",
      "Epoch 7/100\n",
      "69/69 [==============================] - 30s 429ms/step - loss: 0.6263 - val_loss: 0.6305\n",
      "Epoch 8/100\n",
      "69/69 [==============================] - 29s 425ms/step - loss: 0.5965 - val_loss: 0.6048\n",
      "Epoch 9/100\n",
      "69/69 [==============================] - 30s 434ms/step - loss: 0.5818 - val_loss: 0.6160\n",
      "Epoch 10/100\n",
      "69/69 [==============================] - 30s 437ms/step - loss: 0.5565 - val_loss: 0.6184\n",
      "Epoch 11/100\n",
      "69/69 [==============================] - 29s 416ms/step - loss: 0.5465 - val_loss: 0.6087\n",
      "Epoch 12/100\n",
      "69/69 [==============================] - 30s 439ms/step - loss: 0.5201 - val_loss: 0.6111\n",
      "Epoch 13/100\n",
      "69/69 [==============================] - 30s 433ms/step - loss: 0.5013 - val_loss: 0.6318\n"
     ]
    },
    {
     "data": {
      "text/plain": [
       "<tensorflow.python.keras.callbacks.History at 0x2a295cd2280>"
      ]
     },
     "execution_count": 86,
     "metadata": {},
     "output_type": "execute_result"
    },
    {
     "name": "stdout",
     "output_type": "stream",
     "text": [
      "time: 6min 21s (started: 2021-12-15 21:10:24 +05:30)\n"
     ]
    }
   ],
   "source": [
    "model.fit(xtrain_pad, y=ytrain_enc, batch_size=1024, epochs=100, verbose=1,\n",
    "          validation_data=(xtest_pad, ytest_enc), callbacks=[earlystop])"
   ]
  },
  {
   "cell_type": "code",
   "execution_count": 87,
   "id": "361f205d-bac9-4bc2-ae57-652f4dc87723",
   "metadata": {},
   "outputs": [
    {
     "name": "stdout",
     "output_type": "stream",
     "text": [
      "                                                                                 precision    recall  f1-score   support\n",
      "\n",
      "                                       Bank account or service, Savings account       0.72      0.70      0.71      2144\n",
      "                                                                       Mortgage       0.65      0.52      0.58      1483\n",
      "                                                                   Student loan       0.71      0.72      0.71      3298\n",
      "   Credit reporting, credit repair services, or other personal consumer reports       0.87      0.84      0.85     11448\n",
      "                             Money transfer, virtual currency, or money service       0.73      0.84      0.78      6212\n",
      "                                                                Debt collection       0.73      0.67      0.70       835\n",
      "                                                    Credit card or prepaid card       0.88      0.85      0.86      3426\n",
      "Consumer loan, Vehicle loan or lease, Payday loan, title loan, or personal loan       0.83      0.74      0.78      1154\n",
      "\n",
      "                                                                       accuracy                           0.79     30000\n",
      "                                                                      macro avg       0.76      0.73      0.75     30000\n",
      "                                                                   weighted avg       0.80      0.79      0.79     30000\n",
      "\n",
      "time: 8.02 s (started: 2021-12-15 21:16:46 +05:30)\n"
     ]
    }
   ],
   "source": [
    "ypred = model.predict(xtest_pad)\n",
    "print(metrics.classification_report(np.argmax(ytest_enc, axis=-1), np.argmax(ypred, axis=-1), \n",
    "                                    target_names=con_com_use['Product'].unique()))"
   ]
  },
  {
   "cell_type": "code",
   "execution_count": null,
   "id": "93b1c8da-c091-4a45-98de-701f8678cd46",
   "metadata": {},
   "outputs": [],
   "source": []
  },
  {
   "cell_type": "code",
   "execution_count": 88,
   "id": "275d648b-d327-4f9f-aebc-be436e17f236",
   "metadata": {},
   "outputs": [
    {
     "name": "stdout",
     "output_type": "stream",
     "text": [
      "Model: \"sequential_23\"\n",
      "_________________________________________________________________\n",
      "Layer (type)                 Output Shape              Param #   \n",
      "=================================================================\n",
      "embedding_23 (Embedding)     (None, 50, 400)           14113200  \n",
      "_________________________________________________________________\n",
      "bidirectional_25 (Bidirectio (None, 1024)              3739648   \n",
      "_________________________________________________________________\n",
      "dense_90 (Dense)             (None, 1024)              1049600   \n",
      "_________________________________________________________________\n",
      "dropout_70 (Dropout)         (None, 1024)              0         \n",
      "_________________________________________________________________\n",
      "dense_91 (Dense)             (None, 1024)              1049600   \n",
      "_________________________________________________________________\n",
      "dropout_71 (Dropout)         (None, 1024)              0         \n",
      "_________________________________________________________________\n",
      "dense_92 (Dense)             (None, 8)                 8200      \n",
      "_________________________________________________________________\n",
      "activation_20 (Activation)   (None, 8)                 0         \n",
      "=================================================================\n",
      "Total params: 19,960,248\n",
      "Trainable params: 5,847,048\n",
      "Non-trainable params: 14,113,200\n",
      "_________________________________________________________________\n",
      "time: 641 ms (started: 2021-12-16 11:44:58 +05:30)\n"
     ]
    }
   ],
   "source": [
    "model = Sequential()\n",
    "model.add(layers.Embedding(len(word_index)+1,\n",
    "                           vectorSize,\n",
    "                           weights=[embedding_matrix],\n",
    "                           input_length=max_len,\n",
    "                           trainable=False))\n",
    "\n",
    "model.add(layers.Bidirectional(layers.LSTM(512, dropout=0.2)))\n",
    "\n",
    "model.add(layers.Dense(1024, activation='relu'))\n",
    "model.add(layers.Dropout(0.8))\n",
    "\n",
    "model.add(layers.Dense(1024, activation='relu'))\n",
    "model.add(layers.Dropout(0.8))\n",
    "\n",
    "model.add(layers.Dense(8))\n",
    "model.add(layers.Activation('softmax'))\n",
    "\n",
    "model.compile(loss='categorical_crossentropy', optimizer='adam')\n",
    "earlystop = EarlyStopping(monitor='val_loss', patience=5, verbose=0)\n",
    "model.summary()"
   ]
  },
  {
   "cell_type": "code",
   "execution_count": 89,
   "id": "fa52105a-20eb-473f-a742-352ad1ee13fe",
   "metadata": {
    "scrolled": true,
    "tags": []
   },
   "outputs": [
    {
     "name": "stdout",
     "output_type": "stream",
     "text": [
      "Epoch 1/100\n",
      "69/69 [==============================] - 24s 314ms/step - loss: 1.4309 - val_loss: 0.8063\n",
      "Epoch 2/100\n",
      "69/69 [==============================] - 23s 339ms/step - loss: 0.8315 - val_loss: 0.7010\n",
      "Epoch 3/100\n",
      "69/69 [==============================] - 25s 368ms/step - loss: 0.7459 - val_loss: 0.6988\n",
      "Epoch 4/100\n",
      "69/69 [==============================] - 26s 383ms/step - loss: 0.7067 - val_loss: 0.6279\n",
      "Epoch 5/100\n",
      "69/69 [==============================] - 27s 386ms/step - loss: 0.6463 - val_loss: 0.6460\n",
      "Epoch 6/100\n",
      "69/69 [==============================] - 27s 392ms/step - loss: 0.6358 - val_loss: 0.6196\n",
      "Epoch 7/100\n",
      "69/69 [==============================] - 28s 405ms/step - loss: 0.6123 - val_loss: 0.6081\n",
      "Epoch 8/100\n",
      "69/69 [==============================] - 28s 403ms/step - loss: 0.5927 - val_loss: 0.6114\n",
      "Epoch 9/100\n",
      "69/69 [==============================] - 29s 422ms/step - loss: 0.5669 - val_loss: 0.6059\n",
      "Epoch 10/100\n",
      "69/69 [==============================] - 28s 402ms/step - loss: 0.5510 - val_loss: 0.6048\n",
      "Epoch 11/100\n",
      "69/69 [==============================] - 28s 406ms/step - loss: 0.5316 - val_loss: 0.6334\n",
      "Epoch 12/100\n",
      "69/69 [==============================] - 27s 385ms/step - loss: 0.5110 - val_loss: 0.6174\n",
      "Epoch 13/100\n",
      "69/69 [==============================] - 27s 398ms/step - loss: 0.5038 - val_loss: 0.6297\n",
      "Epoch 14/100\n",
      "69/69 [==============================] - 27s 387ms/step - loss: 0.4622 - val_loss: 0.6407\n",
      "Epoch 15/100\n",
      "69/69 [==============================] - 27s 398ms/step - loss: 0.4500 - val_loss: 0.6429\n"
     ]
    },
    {
     "data": {
      "text/plain": [
       "<tensorflow.python.keras.callbacks.History at 0x2a283f7f550>"
      ]
     },
     "execution_count": 89,
     "metadata": {},
     "output_type": "execute_result"
    },
    {
     "name": "stdout",
     "output_type": "stream",
     "text": [
      "time: 6min 40s (started: 2021-12-16 11:45:03 +05:30)\n"
     ]
    }
   ],
   "source": [
    "model.fit(xtrain_pad, y=ytrain_enc, batch_size=1024, epochs=100, verbose=1,\n",
    "          validation_data=(xtest_pad, ytest_enc), callbacks=[earlystop])"
   ]
  },
  {
   "cell_type": "code",
   "execution_count": 90,
   "id": "e75d9602-7885-4b6a-81a0-54628016f7cf",
   "metadata": {},
   "outputs": [
    {
     "name": "stdout",
     "output_type": "stream",
     "text": [
      "                                                                                 precision    recall  f1-score   support\n",
      "\n",
      "                                       Bank account or service, Savings account       0.63      0.78      0.70      2144\n",
      "                                                                       Mortgage       0.69      0.51      0.58      1483\n",
      "                                                                   Student loan       0.73      0.68      0.71      3298\n",
      "   Credit reporting, credit repair services, or other personal consumer reports       0.87      0.85      0.86     11448\n",
      "                             Money transfer, virtual currency, or money service       0.77      0.80      0.78      6212\n",
      "                                                                Debt collection       0.72      0.65      0.68       835\n",
      "                                                    Credit card or prepaid card       0.85      0.87      0.86      3426\n",
      "Consumer loan, Vehicle loan or lease, Payday loan, title loan, or personal loan       0.75      0.80      0.77      1154\n",
      "\n",
      "                                                                       accuracy                           0.79     30000\n",
      "                                                                      macro avg       0.75      0.74      0.74     30000\n",
      "                                                                   weighted avg       0.80      0.79      0.79     30000\n",
      "\n",
      "time: 7.7 s (started: 2021-12-16 11:51:44 +05:30)\n"
     ]
    }
   ],
   "source": [
    "ypred = model.predict(xtest_pad)\n",
    "print(metrics.classification_report(np.argmax(ytest_enc, axis=-1), np.argmax(ypred, axis=-1), \n",
    "                                    target_names=con_com_use['Product'].unique()))"
   ]
  },
  {
   "cell_type": "markdown",
   "id": "ddb867bf-f5ab-4db5-84d2-ff404e89e279",
   "metadata": {
    "jp-MarkdownHeadingCollapsed": true,
    "tags": []
   },
   "source": [
    "#### Final model"
   ]
  },
  {
   "cell_type": "code",
   "execution_count": 38,
   "id": "01790b10-ec94-48e0-a28e-6ea41ebe0c47",
   "metadata": {},
   "outputs": [
    {
     "name": "stdout",
     "output_type": "stream",
     "text": [
      "Model: \"sequential\"\n",
      "_________________________________________________________________\n",
      "Layer (type)                 Output Shape              Param #   \n",
      "=================================================================\n",
      "embedding (Embedding)        (None, 140, 160)          5636480   \n",
      "_________________________________________________________________\n",
      "bidirectional (Bidirectional (None, 1024)              2756608   \n",
      "_________________________________________________________________\n",
      "dense (Dense)                (None, 1024)              1049600   \n",
      "_________________________________________________________________\n",
      "dropout (Dropout)            (None, 1024)              0         \n",
      "_________________________________________________________________\n",
      "dense_1 (Dense)              (None, 1024)              1049600   \n",
      "_________________________________________________________________\n",
      "dropout_1 (Dropout)          (None, 1024)              0         \n",
      "_________________________________________________________________\n",
      "dense_2 (Dense)              (None, 8)                 8200      \n",
      "_________________________________________________________________\n",
      "activation (Activation)      (None, 8)                 0         \n",
      "=================================================================\n",
      "Total params: 10,500,488\n",
      "Trainable params: 4,864,008\n",
      "Non-trainable params: 5,636,480\n",
      "_________________________________________________________________\n",
      "time: 3.12 s (started: 2021-12-16 19:02:35 +05:30)\n"
     ]
    }
   ],
   "source": [
    "modelLSTM = Sequential()\n",
    "modelLSTM.add(layers.Embedding(len(word_index)+1,\n",
    "                               vectorSize,\n",
    "                               weights=[embedding_matrix],\n",
    "                               input_length=max_len,\n",
    "                               trainable=False))\n",
    "\n",
    "modelLSTM.add(layers.Bidirectional(layers.LSTM(512, dropout=0.2)))\n",
    "\n",
    "modelLSTM.add(layers.Dense(1024, activation='relu'))\n",
    "modelLSTM.add(layers.Dropout(0.8))\n",
    "\n",
    "modelLSTM.add(layers.Dense(1024, activation='relu'))\n",
    "modelLSTM.add(layers.Dropout(0.8))\n",
    "\n",
    "modelLSTM.add(layers.Dense(8))\n",
    "modelLSTM.add(layers.Activation('softmax'))\n",
    "\n",
    "modelLSTM.compile(loss='categorical_crossentropy', optimizer='adam')\n",
    "earlystop = EarlyStopping(monitor='val_loss', patience=3, verbose=0)\n",
    "modelLSTM.summary()"
   ]
  },
  {
   "cell_type": "code",
   "execution_count": 39,
   "id": "e077dbe1-cbf3-4af6-bd92-8a81630aeedd",
   "metadata": {},
   "outputs": [
    {
     "name": "stdout",
     "output_type": "stream",
     "text": [
      "Epoch 1/100\n",
      "137/137 [==============================] - 62s 357ms/step - loss: 1.3529 - val_loss: 0.7928\n",
      "Epoch 2/100\n",
      "137/137 [==============================] - 54s 392ms/step - loss: 0.8157 - val_loss: 0.6726\n",
      "Epoch 3/100\n",
      "137/137 [==============================] - 56s 413ms/step - loss: 0.7060 - val_loss: 0.6217\n",
      "Epoch 4/100\n",
      "137/137 [==============================] - 59s 427ms/step - loss: 0.6859 - val_loss: 0.5781\n",
      "Epoch 5/100\n",
      "137/137 [==============================] - 60s 441ms/step - loss: 0.6161 - val_loss: 0.5852\n",
      "Epoch 6/100\n",
      "137/137 [==============================] - 62s 452ms/step - loss: 0.5925 - val_loss: 0.5462\n",
      "Epoch 7/100\n",
      "137/137 [==============================] - 64s 465ms/step - loss: 0.5690 - val_loss: 0.5437\n",
      "Epoch 8/100\n",
      "137/137 [==============================] - 65s 471ms/step - loss: 0.5510 - val_loss: 0.5233\n",
      "Epoch 9/100\n",
      "137/137 [==============================] - 66s 480ms/step - loss: 0.5330 - val_loss: 0.5234\n",
      "Epoch 10/100\n",
      "137/137 [==============================] - 67s 486ms/step - loss: 0.5170 - val_loss: 0.5120\n",
      "Epoch 11/100\n",
      "137/137 [==============================] - 66s 483ms/step - loss: 0.5042 - val_loss: 0.5142\n",
      "Epoch 12/100\n",
      "137/137 [==============================] - 66s 484ms/step - loss: 0.4860 - val_loss: 0.5074\n",
      "Epoch 13/100\n",
      "137/137 [==============================] - 67s 490ms/step - loss: 0.4805 - val_loss: 0.5073\n",
      "Epoch 14/100\n",
      "137/137 [==============================] - 68s 496ms/step - loss: 0.4745 - val_loss: 0.5074\n",
      "Epoch 15/100\n",
      "137/137 [==============================] - 68s 495ms/step - loss: 0.4640 - val_loss: 0.5056\n",
      "Epoch 16/100\n",
      "137/137 [==============================] - 67s 489ms/step - loss: 0.4448 - val_loss: 0.5077\n",
      "Epoch 17/100\n",
      "137/137 [==============================] - 68s 498ms/step - loss: 0.4390 - val_loss: 0.5074\n",
      "Epoch 18/100\n",
      "137/137 [==============================] - 69s 504ms/step - loss: 0.4267 - val_loss: 0.5089\n"
     ]
    },
    {
     "data": {
      "text/plain": [
       "<tensorflow.python.keras.callbacks.History at 0x1ece74780a0>"
      ]
     },
     "execution_count": 39,
     "metadata": {},
     "output_type": "execute_result"
    },
    {
     "name": "stdout",
     "output_type": "stream",
     "text": [
      "time: 19min 12s (started: 2021-12-16 19:02:41 +05:30)\n"
     ]
    }
   ],
   "source": [
    "modelLSTM.fit(xtrain_pad, y=ytrain_enc, batch_size=512, epochs=100, verbose=1,\n",
    "              validation_data=(xtest_pad, ytest_enc), callbacks=[earlystop])"
   ]
  },
  {
   "cell_type": "code",
   "execution_count": 40,
   "id": "13718879-b7f0-40ec-b807-2eb4f66ac487",
   "metadata": {},
   "outputs": [
    {
     "name": "stdout",
     "output_type": "stream",
     "text": [
      "                                                                                 precision    recall  f1-score   support\n",
      "\n",
      "   Credit reporting, credit repair services, or other personal consumer reports       0.80      0.72      0.76      2185\n",
      "                                                    Credit card or prepaid card       0.73      0.58      0.65      1504\n",
      "                                                                Debt collection       0.71      0.84      0.77      3287\n",
      "Consumer loan, Vehicle loan or lease, Payday loan, title loan, or personal loan       0.88      0.87      0.87     11413\n",
      "                                                                       Mortgage       0.82      0.80      0.81      6180\n",
      "                                                                   Student loan       0.74      0.71      0.73       831\n",
      "                                       Bank account or service, Savings account       0.87      0.94      0.90      3446\n",
      "                             Money transfer, virtual currency, or money service       0.87      0.81      0.84      1154\n",
      "\n",
      "                                                                       accuracy                           0.83     30000\n",
      "                                                                      macro avg       0.80      0.78      0.79     30000\n",
      "                                                                   weighted avg       0.83      0.83      0.83     30000\n",
      "\n",
      "time: 15.5 s (started: 2021-12-16 19:21:54 +05:30)\n"
     ]
    }
   ],
   "source": [
    "print(metrics.classification_report(np.argmax(ytest_enc, axis=-1), np.argmax(modelLSTM.predict(xtest_pad), axis=-1), target_names=con_com_use['Product'].unique()))"
   ]
  },
  {
   "cell_type": "markdown",
   "id": "cb431e60-7fa1-4d57-9be4-3146b64cd5bb",
   "metadata": {
    "jp-MarkdownHeadingCollapsed": true,
    "tags": []
   },
   "source": [
    "## Conclusion LinearSVM vs Bi-Directional LSTM"
   ]
  },
  {
   "cell_type": "markdown",
   "id": "4982ad73-5493-4ac8-8419-46c840c62d65",
   "metadata": {},
   "source": [
    "- Final F1 weighted score for LinearSVC is .83\n",
    "- Final F1 weighted score for Bi-Directional LSTM is .83\n",
    "- We are going forward with the Bi-Directional LSTM model"
   ]
  },
  {
   "cell_type": "markdown",
   "id": "3836a2fd-11f5-47b2-b486-fed5df69ab37",
   "metadata": {
    "jp-MarkdownHeadingCollapsed": true,
    "tags": []
   },
   "source": [
    "## Saving models, label encoder and vectorizers"
   ]
  },
  {
   "cell_type": "code",
   "execution_count": 67,
   "id": "6b30bc21-f10b-43b7-9486-5b1543d17a80",
   "metadata": {},
   "outputs": [
    {
     "name": "stdout",
     "output_type": "stream",
     "text": [
      "time: 860 ms (started: 2021-12-16 19:51:48 +05:30)\n"
     ]
    }
   ],
   "source": [
    "pickle.dump(lab_enc, open('Consumer_complaint_classes.obj', 'wb'))\n",
    "pickle.dump(token, open('tokenizerTF.obj', 'wb'))\n",
    "word2vecModel.save(\"word2vec.model\")\n",
    "modelLSTM.save('LSTM_model.h5')"
   ]
  },
  {
   "cell_type": "markdown",
   "id": "bcf73c51-eb4f-438f-aada-209ef709e4aa",
   "metadata": {
    "tags": []
   },
   "source": [
    "# Final Function"
   ]
  },
  {
   "cell_type": "markdown",
   "id": "6a694e3c-38d6-49f3-bb72-5e2b0f464476",
   "metadata": {
    "jp-MarkdownHeadingCollapsed": true,
    "tags": []
   },
   "source": [
    "## Process string"
   ]
  },
  {
   "cell_type": "code",
   "execution_count": 1,
   "id": "a07d45fe-2a76-414d-996e-8282f1272964",
   "metadata": {},
   "outputs": [],
   "source": [
    "def consumer_complaint_classifier(str_inp, lab_enc_pth, token_pth, clf_model_pth):\n",
    "    import pickle\n",
    "    import string\n",
    "    import sklearn\n",
    "    import regex as re\n",
    "    import numpy as np\n",
    "    import pandas as pd\n",
    "    import tensorflow as tf\n",
    "    from tensorflow.keras import preprocessing\n",
    "    from nltk.corpus import stopwords\n",
    "    from nltk.stem import PorterStemmer\n",
    "    from nltk.tokenize import word_tokenize\n",
    "    from nltk.stem import WordNetLemmatizer\n",
    "    from sklearn.preprocessing import LabelEncoder\n",
    "    from sklearn.feature_extraction.text import TfidfVectorizer\n",
    "    Stopwords = stopwords.words('English')\n",
    "    Stopwords += [i for i in string.ascii_lowercase]\n",
    "    lemmatizer = WordNetLemmatizer()\n",
    "    stemmer = PorterStemmer()\n",
    "    lab_enc_loaded = pickle.load(open(lab_enc_pth, 'rb'))\n",
    "    token_loaded = pickle.load(open(token_pth, 'rb'))\n",
    "    clf_model = tf.keras.models.load_model(clf_model_pth)\n",
    "    str_inp = [i for i in word_tokenize(re.sub(r' +', ' ', re.sub(r'x{2,}', ' ', re.sub(r'[^a-z]', ' ', str_inp.lower())))) if i not in Stopwords]\n",
    "    str_inp = [lemmatizer.lemmatize(i) for i in str_inp]\n",
    "    str_inp = [stemmer.stem(i) for i in str_inp]\n",
    "    str_out = lab_enc_loaded.inverse_transform(np.argmax(clf_model.predict(preprocessing.sequence.pad_sequences(token_loaded.texts_to_sequences([str_inp]), maxlen=140)), axis=-1))\n",
    "    return str_out[0]"
   ]
  },
  {
   "cell_type": "code",
   "execution_count": 2,
   "id": "786076b4-4620-4a70-a3fe-c37a7f41dd62",
   "metadata": {},
   "outputs": [
    {
     "name": "stderr",
     "output_type": "stream",
     "text": [
      "D:\\anaconda\\lib\\site-packages\\IPython\\core\\interactiveshell.py:3444: DtypeWarning: Columns (9) have mixed types.Specify dtype option on import or set low_memory=False.\n",
      "  exec(code_obj, self.user_global_ns, self.user_ns)\n"
     ]
    }
   ],
   "source": [
    "import pandas as pd\n",
    "con_com = pd.read_csv('complaints.csv')"
   ]
  },
  {
   "cell_type": "code",
   "execution_count": 3,
   "id": "17bca86a-f491-44b4-b9b4-63186d8c0dec",
   "metadata": {},
   "outputs": [
    {
     "data": {
      "text/html": [
       "<div>\n",
       "<style scoped>\n",
       "    .dataframe tbody tr th:only-of-type {\n",
       "        vertical-align: middle;\n",
       "    }\n",
       "\n",
       "    .dataframe tbody tr th {\n",
       "        vertical-align: top;\n",
       "    }\n",
       "\n",
       "    .dataframe thead th {\n",
       "        text-align: right;\n",
       "    }\n",
       "</style>\n",
       "<table border=\"1\" class=\"dataframe\">\n",
       "  <thead>\n",
       "    <tr style=\"text-align: right;\">\n",
       "      <th></th>\n",
       "      <th>Product</th>\n",
       "      <th>Consumer complaint narrative</th>\n",
       "    </tr>\n",
       "  </thead>\n",
       "  <tbody>\n",
       "    <tr>\n",
       "      <th>749989</th>\n",
       "      <td>Credit reporting, credit repair services, or o...</td>\n",
       "      <td>Habitat for Humanity XXXX  XXXX County has lis...</td>\n",
       "    </tr>\n",
       "  </tbody>\n",
       "</table>\n",
       "</div>"
      ],
      "text/plain": [
       "                                                  Product  \\\n",
       "749989  Credit reporting, credit repair services, or o...   \n",
       "\n",
       "                             Consumer complaint narrative  \n",
       "749989  Habitat for Humanity XXXX  XXXX County has lis...  "
      ]
     },
     "metadata": {},
     "output_type": "display_data"
    },
    {
     "data": {
      "text/plain": [
       "['Habitat for Humanity XXXX  XXXX County has listed my account balance the same since XX/XX/2019. I submitted information and documentation to XXXX to resolve submitted dispute for incorrect payment history, continues to report back verified and accurate. \\nHabitat for Humanity XXXX XXXX County, I am requesting statement balance as of close of business date XX/XX/2019 to include my payoff balance. I also am requesting the estimated date that my payment made XX/XX/2019 will be submitted and processed. I also would like a written response as to why I I have to contact the CFPB in order to get responses to written request sent certified mail with no answer.']"
      ]
     },
     "execution_count": 3,
     "metadata": {},
     "output_type": "execute_result"
    }
   ],
   "source": [
    "tmp_df = con_com[pd.notnull(con_com['Consumer complaint narrative'])].sample(n=1)[['Product','Consumer complaint narrative']]\n",
    "tmp_df['Product'].replace({'Credit card': 'Credit card or prepaid card',\n",
    "                           'Prepaid card': 'Credit card or prepaid card',\n",
    "                           'Credit reporting':'Credit reporting, credit repair services, or other personal consumer reports',\n",
    "                           'Money transfers':'Money transfer, virtual currency, or money service',\n",
    "                           'Virtual currency':'Money transfer, virtual currency, or money service',\n",
    "                           'Payday loan':'Consumer loan, Vehicle loan or lease, Payday loan, title loan, or personal loan',\n",
    "                           'Other financial service': 'Money transfer, virtual currency, or money service',\n",
    "                           'Consumer Loan':'Consumer loan, Vehicle loan or lease, Payday loan, title loan, or personal loan',\n",
    "                           'Vehicle loan or lease':'Consumer loan, Vehicle loan or lease, Payday loan, title loan, or personal loan',\n",
    "                           'Payday loan, title loan, or personal loan':'Consumer loan, Vehicle loan or lease, Payday loan, title loan, or personal loan',\n",
    "                           'Bank account or service':'Bank account or service, Savings account',\n",
    "                           'Checking or savings account':'Bank account or service, Savings account'}, inplace=True)\n",
    "display(tmp_df)\n",
    "tmp_df['Consumer complaint narrative'].tolist()"
   ]
  },
  {
   "cell_type": "code",
   "execution_count": 4,
   "id": "8c91dcbb-bcae-4dd5-b1b8-1c5e2c1aff1f",
   "metadata": {},
   "outputs": [
    {
     "data": {
      "text/plain": [
       "'Credit reporting, credit repair services, or other personal consumer reports'"
      ]
     },
     "execution_count": 4,
     "metadata": {},
     "output_type": "execute_result"
    }
   ],
   "source": [
    "consumer_complaint_classifier(str_inp=tmp_df['Consumer complaint narrative'].tolist()[0], lab_enc_pth='Consumer_complaint_classes.obj', token_pth='tokenizerTF.obj', clf_model_pth='LSTM_model.h5')"
   ]
  },
  {
   "cell_type": "markdown",
   "id": "a2197b2a-30fa-49f5-8dae-c23b0cba5723",
   "metadata": {
    "jp-MarkdownHeadingCollapsed": true,
    "tags": []
   },
   "source": [
    "## Batch Processing"
   ]
  },
  {
   "cell_type": "code",
   "execution_count": 13,
   "id": "86bb78f9-cea5-4629-a8cd-7a2044ae8d96",
   "metadata": {
    "colab": {
     "base_uri": "https://localhost:8080/",
     "height": 520
    },
    "id": "goG1svk_LVyX",
    "outputId": "ca6bd114-988b-4c9b-9538-a3238d75b24d"
   },
   "outputs": [],
   "source": [
    "def consumer_complaint_classifier_batch(dat_pth, lab_enc_pth, token_pth, clf_model_pth):\n",
    "    import pickle\n",
    "    import string\n",
    "    import sklearn\n",
    "    import regex as re\n",
    "    import numpy as np\n",
    "    import pandas as pd\n",
    "    import tensorflow as tf\n",
    "    from tensorflow.keras import preprocessing\n",
    "    from nltk.corpus import stopwords\n",
    "    from nltk.stem import PorterStemmer\n",
    "    from nltk.tokenize import word_tokenize\n",
    "    from nltk.stem import WordNetLemmatizer\n",
    "    from sklearn.preprocessing import LabelEncoder\n",
    "    from sklearn.feature_extraction.text import TfidfVectorizer\n",
    "    Stopwords = stopwords.words('English')\n",
    "    Stopwords += [i for i in string.ascii_lowercase]\n",
    "    lemmatizer = WordNetLemmatizer()\n",
    "    stemmer = PorterStemmer()\n",
    "    dat = pd.read_csv(dat_pth)\n",
    "    lab_enc_loaded = pickle.load(open(lab_enc_pth, 'rb'))\n",
    "    token_loaded = pickle.load(open(token_pth, 'rb'))\n",
    "    clf_model = tf.keras.models.load_model(clf_model_pth)\n",
    "    dat['Consumer complaint narrative'].fillna('', inplace=True)\n",
    "    dat['ConComp'] = dat['Consumer complaint narrative'].apply(\n",
    "        lambda x: re.sub(r' +', ' ', re.sub(r'x{2,}', ' ', re.sub(r'[^a-z]', ' ', x.lower())))).apply(word_tokenize).apply(\n",
    "        lambda x: [i for i in x if i not in Stopwords]).apply(\n",
    "        lambda x: [lemmatizer.lemmatize(i) for i in x]).apply(\n",
    "        lambda x: ' '.join([stemmer.stem(i) for i in x]))\n",
    "    dat['Product_Pred'] = lab_enc_loaded.inverse_transform(np.argmax(clf_model.predict(preprocessing.sequence.pad_sequences(token_loaded.texts_to_sequences(dat['ConComp']), maxlen=140)), axis=-1))\n",
    "    dat.drop(['ConComp'], axis=1, inplace=True)\n",
    "    return dat"
   ]
  },
  {
   "cell_type": "code",
   "execution_count": 14,
   "id": "0e4cab49-73de-4bc4-b063-6c943a0231b9",
   "metadata": {},
   "outputs": [
    {
     "name": "stdout",
     "output_type": "stream",
     "text": [
      "                                                                                 precision    recall  f1-score   support\n",
      "\n",
      "                                       Bank account or service, Savings account       0.78      0.72      0.75       661\n",
      "Consumer loan, Vehicle loan or lease, Payday loan, title loan, or personal loan       0.75      0.62      0.67       447\n",
      "                                                    Credit card or prepaid card       0.71      0.84      0.77       964\n",
      "   Credit reporting, credit repair services, or other personal consumer reports       0.89      0.88      0.89      4363\n",
      "                                                                Debt collection       0.80      0.79      0.80      1949\n",
      "                             Money transfer, virtual currency, or money service       0.73      0.72      0.73       265\n",
      "                                                                       Mortgage       0.88      0.93      0.90      1021\n",
      "                                                                   Student loan       0.84      0.81      0.82       330\n",
      "\n",
      "                                                                       accuracy                           0.83     10000\n",
      "                                                                      macro avg       0.80      0.79      0.79     10000\n",
      "                                                                   weighted avg       0.84      0.83      0.83     10000\n",
      "\n"
     ]
    }
   ],
   "source": [
    "# con_com[pd.notnull(con_com['Consumer complaint narrative'])].sample(n=10000).to_csv('ConsumerComplaintSample.csv', index=False)\n",
    "import sklearn\n",
    "pred_output = consumer_complaint_classifier_batch(dat_pth='ConsumerComplaintSample.csv', lab_enc_pth='Consumer_complaint_classes.obj', token_pth='tokenizerTF.obj', clf_model_pth='LSTM_model.h5')\n",
    "pred_output['Product'].replace({'Credit card': 'Credit card or prepaid card',\n",
    "                                'Prepaid card': 'Credit card or prepaid card',\n",
    "                                'Credit reporting':'Credit reporting, credit repair services, or other personal consumer reports',\n",
    "                                'Money transfers':'Money transfer, virtual currency, or money service',\n",
    "                                'Virtual currency':'Money transfer, virtual currency, or money service',\n",
    "                                'Payday loan':'Consumer loan, Vehicle loan or lease, Payday loan, title loan, or personal loan',\n",
    "                                'Other financial service': 'Money transfer, virtual currency, or money service',\n",
    "                                'Consumer Loan':'Consumer loan, Vehicle loan or lease, Payday loan, title loan, or personal loan',\n",
    "                                'Vehicle loan or lease':'Consumer loan, Vehicle loan or lease, Payday loan, title loan, or personal loan',\n",
    "                                'Payday loan, title loan, or personal loan':'Consumer loan, Vehicle loan or lease, Payday loan, title loan, or personal loan',\n",
    "                                'Bank account or service':'Bank account or service, Savings account',\n",
    "                                'Checking or savings account':'Bank account or service, Savings account'}, inplace=True)\n",
    "print(sklearn.metrics.classification_report(pred_output.Product, pred_output.Product_Pred))"
   ]
  },
  {
   "cell_type": "code",
   "execution_count": 78,
   "id": "2e422079-ed50-401a-948f-aaacc14bb8e4",
   "metadata": {},
   "outputs": [
    {
     "data": {
      "text/html": [
       "<div>\n",
       "<style scoped>\n",
       "    .dataframe tbody tr th:only-of-type {\n",
       "        vertical-align: middle;\n",
       "    }\n",
       "\n",
       "    .dataframe tbody tr th {\n",
       "        vertical-align: top;\n",
       "    }\n",
       "\n",
       "    .dataframe thead th {\n",
       "        text-align: right;\n",
       "    }\n",
       "</style>\n",
       "<table border=\"1\" class=\"dataframe\">\n",
       "  <thead>\n",
       "    <tr style=\"text-align: right;\">\n",
       "      <th></th>\n",
       "      <th>Date received</th>\n",
       "      <th>Product</th>\n",
       "      <th>Sub-product</th>\n",
       "      <th>Issue</th>\n",
       "      <th>Sub-issue</th>\n",
       "      <th>Consumer complaint narrative</th>\n",
       "      <th>Company public response</th>\n",
       "      <th>Company</th>\n",
       "      <th>State</th>\n",
       "      <th>ZIP code</th>\n",
       "      <th>Tags</th>\n",
       "      <th>Consumer consent provided?</th>\n",
       "      <th>Submitted via</th>\n",
       "      <th>Date sent to company</th>\n",
       "      <th>Company response to consumer</th>\n",
       "      <th>Timely response?</th>\n",
       "      <th>Consumer disputed?</th>\n",
       "      <th>Complaint ID</th>\n",
       "      <th>Product_Pred</th>\n",
       "    </tr>\n",
       "  </thead>\n",
       "  <tbody>\n",
       "    <tr>\n",
       "      <th>0</th>\n",
       "      <td>2016-02-11</td>\n",
       "      <td>Credit card or prepaid card</td>\n",
       "      <td>NaN</td>\n",
       "      <td>Delinquent account</td>\n",
       "      <td>NaN</td>\n",
       "      <td>XXXX XXXX XXXX XXXX XXXX, CA - XXXX XXXX/XXXX/...</td>\n",
       "      <td>NaN</td>\n",
       "      <td>CAPITAL ONE FINANCIAL CORPORATION</td>\n",
       "      <td>CA</td>\n",
       "      <td>91502</td>\n",
       "      <td>NaN</td>\n",
       "      <td>Consent provided</td>\n",
       "      <td>Web</td>\n",
       "      <td>2016-02-11</td>\n",
       "      <td>Closed with explanation</td>\n",
       "      <td>Yes</td>\n",
       "      <td>Yes</td>\n",
       "      <td>1782738</td>\n",
       "      <td>Credit card or prepaid card</td>\n",
       "    </tr>\n",
       "    <tr>\n",
       "      <th>1</th>\n",
       "      <td>2021-09-07</td>\n",
       "      <td>Mortgage</td>\n",
       "      <td>FHA mortgage</td>\n",
       "      <td>Closing on a mortgage</td>\n",
       "      <td>NaN</td>\n",
       "      <td>On XX/XX/21, I made my last mortgage payment t...</td>\n",
       "      <td>Company has responded to the consumer and the ...</td>\n",
       "      <td>LAKEVIEW LOAN SERVICING, LLC</td>\n",
       "      <td>CA</td>\n",
       "      <td>92316.0</td>\n",
       "      <td>NaN</td>\n",
       "      <td>Consent provided</td>\n",
       "      <td>Web</td>\n",
       "      <td>2021-09-27</td>\n",
       "      <td>Closed with explanation</td>\n",
       "      <td>Yes</td>\n",
       "      <td>NaN</td>\n",
       "      <td>4698085</td>\n",
       "      <td>Mortgage</td>\n",
       "    </tr>\n",
       "    <tr>\n",
       "      <th>2</th>\n",
       "      <td>2018-02-23</td>\n",
       "      <td>Debt collection</td>\n",
       "      <td>I do not know</td>\n",
       "      <td>Attempts to collect debt not owed</td>\n",
       "      <td>Debt is not yours</td>\n",
       "      <td>I have been getting daily calls from the compa...</td>\n",
       "      <td>Company believes it acted appropriately as aut...</td>\n",
       "      <td>Key 2 Recovery, Inc.</td>\n",
       "      <td>CA</td>\n",
       "      <td>94519.0</td>\n",
       "      <td>NaN</td>\n",
       "      <td>Consent provided</td>\n",
       "      <td>Web</td>\n",
       "      <td>2018-02-23</td>\n",
       "      <td>Closed with explanation</td>\n",
       "      <td>Yes</td>\n",
       "      <td>NaN</td>\n",
       "      <td>2824120</td>\n",
       "      <td>Debt collection</td>\n",
       "    </tr>\n",
       "    <tr>\n",
       "      <th>3</th>\n",
       "      <td>2016-10-05</td>\n",
       "      <td>Mortgage</td>\n",
       "      <td>FHA mortgage</td>\n",
       "      <td>Loan modification,collection,foreclosure</td>\n",
       "      <td>NaN</td>\n",
       "      <td>I had problems paying my mortgage, I applied f...</td>\n",
       "      <td>NaN</td>\n",
       "      <td>Fay Servicing, LLC</td>\n",
       "      <td>TX</td>\n",
       "      <td>77450</td>\n",
       "      <td>NaN</td>\n",
       "      <td>Consent provided</td>\n",
       "      <td>Web</td>\n",
       "      <td>2016-10-05</td>\n",
       "      <td>Closed with explanation</td>\n",
       "      <td>Yes</td>\n",
       "      <td>Yes</td>\n",
       "      <td>2147666</td>\n",
       "      <td>Mortgage</td>\n",
       "    </tr>\n",
       "    <tr>\n",
       "      <th>4</th>\n",
       "      <td>2018-06-27</td>\n",
       "      <td>Consumer loan, Vehicle loan or lease, Payday l...</td>\n",
       "      <td>Installment loan</td>\n",
       "      <td>Charged fees or interest you didn't expect</td>\n",
       "      <td>NaN</td>\n",
       "      <td>I have a loan with service finance company. Th...</td>\n",
       "      <td>Company believes it acted appropriately as aut...</td>\n",
       "      <td>Service Finance Holdings, LLC</td>\n",
       "      <td>VA</td>\n",
       "      <td>23185.0</td>\n",
       "      <td>Servicemember</td>\n",
       "      <td>Consent provided</td>\n",
       "      <td>Web</td>\n",
       "      <td>2018-07-02</td>\n",
       "      <td>Closed with explanation</td>\n",
       "      <td>Yes</td>\n",
       "      <td>NaN</td>\n",
       "      <td>2947580</td>\n",
       "      <td>Consumer loan, Vehicle loan or lease, Payday l...</td>\n",
       "    </tr>\n",
       "  </tbody>\n",
       "</table>\n",
       "</div>"
      ],
      "text/plain": [
       "  Date received                                            Product  \\\n",
       "0    2016-02-11                        Credit card or prepaid card   \n",
       "1    2021-09-07                                           Mortgage   \n",
       "2    2018-02-23                                    Debt collection   \n",
       "3    2016-10-05                                           Mortgage   \n",
       "4    2018-06-27  Consumer loan, Vehicle loan or lease, Payday l...   \n",
       "\n",
       "        Sub-product                                       Issue  \\\n",
       "0               NaN                          Delinquent account   \n",
       "1      FHA mortgage                       Closing on a mortgage   \n",
       "2     I do not know           Attempts to collect debt not owed   \n",
       "3      FHA mortgage    Loan modification,collection,foreclosure   \n",
       "4  Installment loan  Charged fees or interest you didn't expect   \n",
       "\n",
       "           Sub-issue                       Consumer complaint narrative  \\\n",
       "0                NaN  XXXX XXXX XXXX XXXX XXXX, CA - XXXX XXXX/XXXX/...   \n",
       "1                NaN  On XX/XX/21, I made my last mortgage payment t...   \n",
       "2  Debt is not yours  I have been getting daily calls from the compa...   \n",
       "3                NaN  I had problems paying my mortgage, I applied f...   \n",
       "4                NaN  I have a loan with service finance company. Th...   \n",
       "\n",
       "                             Company public response  \\\n",
       "0                                                NaN   \n",
       "1  Company has responded to the consumer and the ...   \n",
       "2  Company believes it acted appropriately as aut...   \n",
       "3                                                NaN   \n",
       "4  Company believes it acted appropriately as aut...   \n",
       "\n",
       "                             Company State ZIP code           Tags  \\\n",
       "0  CAPITAL ONE FINANCIAL CORPORATION    CA    91502            NaN   \n",
       "1       LAKEVIEW LOAN SERVICING, LLC    CA  92316.0            NaN   \n",
       "2               Key 2 Recovery, Inc.    CA  94519.0            NaN   \n",
       "3                 Fay Servicing, LLC    TX    77450            NaN   \n",
       "4      Service Finance Holdings, LLC    VA  23185.0  Servicemember   \n",
       "\n",
       "  Consumer consent provided? Submitted via Date sent to company  \\\n",
       "0           Consent provided           Web           2016-02-11   \n",
       "1           Consent provided           Web           2021-09-27   \n",
       "2           Consent provided           Web           2018-02-23   \n",
       "3           Consent provided           Web           2016-10-05   \n",
       "4           Consent provided           Web           2018-07-02   \n",
       "\n",
       "  Company response to consumer Timely response? Consumer disputed?  \\\n",
       "0      Closed with explanation              Yes                Yes   \n",
       "1      Closed with explanation              Yes                NaN   \n",
       "2      Closed with explanation              Yes                NaN   \n",
       "3      Closed with explanation              Yes                Yes   \n",
       "4      Closed with explanation              Yes                NaN   \n",
       "\n",
       "   Complaint ID                                       Product_Pred  \n",
       "0       1782738                        Credit card or prepaid card  \n",
       "1       4698085                                           Mortgage  \n",
       "2       2824120                                    Debt collection  \n",
       "3       2147666                                           Mortgage  \n",
       "4       2947580  Consumer loan, Vehicle loan or lease, Payday l...  "
      ]
     },
     "execution_count": 78,
     "metadata": {},
     "output_type": "execute_result"
    },
    {
     "name": "stdout",
     "output_type": "stream",
     "text": [
      "time: 15 ms (started: 2021-12-16 20:31:47 +05:30)\n"
     ]
    }
   ],
   "source": [
    "pred_output.head()"
   ]
  },
  {
   "cell_type": "markdown",
   "id": "31997f73-66f4-4f07-b6ee-d1cc23039278",
   "metadata": {},
   "source": [
    "# End of Notebook"
   ]
  }
 ],
 "metadata": {
  "colab": {
   "name": "consumerComplaintClassification.ipynb",
   "provenance": [],
   "toc_visible": true
  },
  "kernelspec": {
   "display_name": "comp_classify",
   "language": "python",
   "name": "comp_classify"
  },
  "language_info": {
   "codemirror_mode": {
    "name": "ipython",
    "version": 3
   },
   "file_extension": ".py",
   "mimetype": "text/x-python",
   "name": "python",
   "nbconvert_exporter": "python",
   "pygments_lexer": "ipython3",
   "version": "3.8.5"
  },
  "toc-autonumbering": true,
  "toc-showmarkdowntxt": false
 },
 "nbformat": 4,
 "nbformat_minor": 5
}
