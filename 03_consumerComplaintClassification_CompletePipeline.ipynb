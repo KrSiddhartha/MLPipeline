{
 "cells": [
  {
   "cell_type": "markdown",
   "metadata": {
    "jp-MarkdownHeadingCollapsed": true,
    "tags": []
   },
   "source": [
    "# Importing Modules"
   ]
  },
  {
   "cell_type": "code",
   "execution_count": 2,
   "metadata": {},
   "outputs": [
    {
     "name": "stdout",
     "output_type": "stream",
     "text": [
      "time: 4.17 s (started: 2022-01-28 17:34:22 +05:30)\n"
     ]
    }
   ],
   "source": [
    "%load_ext autotime\n",
    "\n",
    "import warnings\n",
    "import numpy as np\n",
    "import pandas as pd\n",
    "import seaborn as sns\n",
    "import preprocessing as pp\n",
    "import neptune.new as neptune\n",
    "from tensorflow.keras import layers\n",
    "from tensorflow.keras import metrics\n",
    "from sklearn.pipeline import Pipeline\n",
    "from gensim.models.word2vec import Word2Vec\n",
    "from modelevaluation import modeleval as me\n",
    "from tensorflow.keras.models import Sequential\n",
    "from sklearn.preprocessing import LabelEncoder\n",
    "from tensorflow.keras.utils import to_categorical\n",
    "from tensorflow.keras.callbacks import EarlyStopping\n",
    "from sklearn.model_selection import train_test_split\n",
    "from tensorflow.keras.preprocessing.text import Tokenizer\n",
    "from tensorflow.keras.preprocessing.sequence import pad_sequences\n",
    "from neptune.new.integrations.tensorflow_keras import NeptuneCallback\n",
    "\n",
    "warnings.filterwarnings(\"ignore\")"
   ]
  },
  {
   "cell_type": "markdown",
   "metadata": {
    "id": "x9QxRCK7LqQv",
    "jp-MarkdownHeadingCollapsed": true,
    "tags": []
   },
   "source": [
    "# Importing Data"
   ]
  },
  {
   "cell_type": "code",
   "execution_count": 3,
   "metadata": {
    "colab": {
     "base_uri": "https://localhost:8080/"
    },
    "id": "kRL7WK6cMLuw",
    "outputId": "f3540988-b1ac-4177-dc74-cbf97d99d0c0"
   },
   "outputs": [
    {
     "name": "stdout",
     "output_type": "stream",
     "text": [
      "time: 110 ms (started: 2022-01-28 17:34:26 +05:30)\n"
     ]
    }
   ],
   "source": [
    "con_com_use = pd.read_csv('train.csv')"
   ]
  },
  {
   "cell_type": "markdown",
   "metadata": {
    "jp-MarkdownHeadingCollapsed": true,
    "tags": []
   },
   "source": [
    "# Configuration"
   ]
  },
  {
   "cell_type": "code",
   "execution_count": 4,
   "metadata": {},
   "outputs": [
    {
     "name": "stdout",
     "output_type": "stream",
     "text": [
      "time: 0 ns (started: 2022-01-28 17:34:26 +05:30)\n"
     ]
    }
   ],
   "source": [
    "# Independent variables\n",
    "INDEPENDENT_FEATURES = ['Consumer complaint narrative']\n",
    "\n",
    "# Dependent variable\n",
    "DEPENDENT_FEATURES = ['Product']\n",
    "\n",
    "# Sample size\n",
    "TRAIN_SIZE = 10000\n",
    "\n",
    "TEST_SIZE = 3000\n",
    "\n",
    "# Random state\n",
    "RANDOM_STATE = 0\n",
    "\n",
    "# Word2Vec config\n",
    "VECTOR_SIZE = 160\n",
    "MIN_COUNT = 2 # Minimum frequency of words to be used\n",
    "WINDOW = 7 # Maximum distance between the current and predicted word within a sentence\n",
    "EPOCHS=50 # Number of iterations over the corpus\n",
    "SG=1 # Training algo. 1 means skip-gram\n",
    "\n",
    "# Padding size\n",
    "MAX_LENGHT = 140"
   ]
  },
  {
   "cell_type": "markdown",
   "metadata": {
    "jp-MarkdownHeadingCollapsed": true,
    "tags": []
   },
   "source": [
    "# Train-test split"
   ]
  },
  {
   "cell_type": "code",
   "execution_count": 5,
   "metadata": {},
   "outputs": [
    {
     "name": "stdout",
     "output_type": "stream",
     "text": [
      "(7000,)\n",
      "(3000,)\n",
      "time: 16 ms (started: 2022-01-28 17:34:26 +05:30)\n"
     ]
    }
   ],
   "source": [
    "xtrain, xtest, ytrain, ytest = train_test_split(con_com_use[INDEPENDENT_FEATURES[0]],\n",
    "                                                con_com_use[DEPENDENT_FEATURES[0]],\n",
    "                                                stratify=con_com_use[DEPENDENT_FEATURES[0]],\n",
    "                                                random_state=RANDOM_STATE,\n",
    "                                                test_size=0.3)\n",
    "print (xtrain.shape)\n",
    "print (xtest.shape)"
   ]
  },
  {
   "cell_type": "markdown",
   "metadata": {
    "jp-MarkdownHeadingCollapsed": true,
    "tags": []
   },
   "source": [
    "# Encoding Dependent Labels"
   ]
  },
  {
   "cell_type": "code",
   "execution_count": 6,
   "metadata": {},
   "outputs": [
    {
     "name": "stdout",
     "output_type": "stream",
     "text": [
      "time: 16 ms (started: 2022-01-28 17:34:26 +05:30)\n"
     ]
    }
   ],
   "source": [
    "lab_enc = LabelEncoder()\n",
    "\n",
    "ytrain = lab_enc.fit_transform(ytrain)\n",
    "ytest = lab_enc.transform(ytest)\n",
    "\n",
    "ytrain_enc = to_categorical(ytrain)\n",
    "ytest_enc = to_categorical(ytest)"
   ]
  },
  {
   "cell_type": "markdown",
   "metadata": {
    "id": "D3hHzdGu5F77",
    "jp-MarkdownHeadingCollapsed": true,
    "tags": []
   },
   "source": [
    "# Preprocessing Pipeline"
   ]
  },
  {
   "cell_type": "code",
   "execution_count": 7,
   "metadata": {},
   "outputs": [
    {
     "data": {
      "text/plain": [
       "Pipeline(steps=[('text_cleanup', textcleanup()),\n",
       "                ('text_tokenenize', texttokenize()),\n",
       "                ('text_stopwordremove', textstopwordremove()),\n",
       "                ('text_lemmatize', textlemmatize()),\n",
       "                ('text_stemmer', textstemmer()),\n",
       "                ('text_token', texttokenize2(variable=140))])"
      ]
     },
     "execution_count": 7,
     "metadata": {},
     "output_type": "execute_result"
    },
    {
     "name": "stdout",
     "output_type": "stream",
     "text": [
      "time: 21.8 s (started: 2022-01-28 17:34:26 +05:30)\n"
     ]
    }
   ],
   "source": [
    "text_process_pipe = Pipeline([\n",
    "    \n",
    "    ('text_cleanup', pp.textcleanup()),\n",
    "    \n",
    "    ('text_tokenenize', pp.texttokenize()),\n",
    "    \n",
    "    ('text_stopwordremove', pp.textstopwordremove()),\n",
    "    \n",
    "    ('text_lemmatize', pp.textlemmatize()),\n",
    "    \n",
    "    ('text_stemmer', pp.textstemmer()),\n",
    "    \n",
    "    ('text_token', pp.texttokenize2(MAX_LENGHT)),\n",
    "    \n",
    "])\n",
    "\n",
    "text_process_pipe.fit(xtrain)"
   ]
  },
  {
   "cell_type": "code",
   "execution_count": 8,
   "metadata": {},
   "outputs": [
    {
     "name": "stdout",
     "output_type": "stream",
     "text": [
      "time: 29.2 s (started: 2022-01-28 17:34:48 +05:30)\n"
     ]
    }
   ],
   "source": [
    "xtrain = text_process_pipe.transform(xtrain)\n",
    "xtest = text_process_pipe.transform(xtest)\n",
    "\n",
    "word_index = eval(text_process_pipe.named_steps['text_token'].token.get_config()['word_index'])"
   ]
  },
  {
   "cell_type": "markdown",
   "metadata": {
    "jp-MarkdownHeadingCollapsed": true,
    "tags": []
   },
   "source": [
    "# Training a Word2Vec model"
   ]
  },
  {
   "cell_type": "code",
   "execution_count": 9,
   "metadata": {},
   "outputs": [
    {
     "name": "stdout",
     "output_type": "stream",
     "text": [
      "time: 1min 35s (started: 2022-01-28 17:35:17 +05:30)\n"
     ]
    }
   ],
   "source": [
    "word2vecModel = Word2Vec(con_com_use[INDEPENDENT_FEATURES[0]].str.split(' ').tolist(),\n",
    "                         min_count=MIN_COUNT,\n",
    "                         vector_size=VECTOR_SIZE,\n",
    "                         workers=12, \n",
    "                         window=WINDOW, \n",
    "                         sg=SG,\n",
    "                         epochs=EPOCHS)\n",
    "gensim_embbed = dict(zip(word2vecModel.wv.index_to_key, word2vecModel.wv.vectors))\n",
    "\n",
    "embedding_matrix = np.zeros((len(word_index) + 1, VECTOR_SIZE))\n",
    "for word, i in word_index.items():\n",
    "    embedding_vector = gensim_embbed.get(word)\n",
    "    if embedding_vector is not None:\n",
    "        embedding_matrix[i] = embedding_vector"
   ]
  },
  {
   "cell_type": "markdown",
   "metadata": {
    "tags": []
   },
   "source": [
    "# Bi-Directional LSTM"
   ]
  },
  {
   "cell_type": "markdown",
   "metadata": {
    "jp-MarkdownHeadingCollapsed": true,
    "tags": []
   },
   "source": [
    "## Model Parameters"
   ]
  },
  {
   "cell_type": "code",
   "execution_count": 19,
   "metadata": {},
   "outputs": [
    {
     "name": "stdout",
     "output_type": "stream",
     "text": [
      "time: 0 ns (started: 2022-01-28 17:46:44 +05:30)\n"
     ]
    }
   ],
   "source": [
    "MODEL_NAME = 'Bi-Directional-LSTM'\n",
    "PARAMS_LSTM = {'lr':0.0003, \n",
    "               'epochs':100,\n",
    "               'batch_size':512,\n",
    "               'verbose':1,\n",
    "               'validation_split':0.3}"
   ]
  },
  {
   "cell_type": "markdown",
   "metadata": {
    "jp-MarkdownHeadingCollapsed": true,
    "tags": []
   },
   "source": [
    "## Model Definition"
   ]
  },
  {
   "cell_type": "code",
   "execution_count": 20,
   "metadata": {
    "scrolled": true,
    "tags": []
   },
   "outputs": [
    {
     "name": "stdout",
     "output_type": "stream",
     "text": [
      "Model: \"sequential_2\"\n",
      "_________________________________________________________________\n",
      "Layer (type)                 Output Shape              Param #   \n",
      "=================================================================\n",
      "embedding_2 (Embedding)      (None, 140, 160)          1573120   \n",
      "_________________________________________________________________\n",
      "bidirectional_2 (Bidirection (None, 1024)              2756608   \n",
      "_________________________________________________________________\n",
      "dense_6 (Dense)              (None, 1024)              1049600   \n",
      "_________________________________________________________________\n",
      "dropout_4 (Dropout)          (None, 1024)              0         \n",
      "_________________________________________________________________\n",
      "dense_7 (Dense)              (None, 1024)              1049600   \n",
      "_________________________________________________________________\n",
      "dropout_5 (Dropout)          (None, 1024)              0         \n",
      "_________________________________________________________________\n",
      "dense_8 (Dense)              (None, 8)                 8200      \n",
      "_________________________________________________________________\n",
      "activation_2 (Activation)    (None, 8)                 0         \n",
      "=================================================================\n",
      "Total params: 6,437,128\n",
      "Trainable params: 4,864,008\n",
      "Non-trainable params: 1,573,120\n",
      "_________________________________________________________________\n",
      "time: 578 ms (started: 2022-01-28 17:46:44 +05:30)\n"
     ]
    }
   ],
   "source": [
    "modelLSTM = Sequential()\n",
    "modelLSTM.add(layers.Embedding(len(word_index)+1,\n",
    "                               VECTOR_SIZE,\n",
    "                               weights=[embedding_matrix],\n",
    "                               input_length=MAX_LENGHT,\n",
    "                               trainable=False))\n",
    "\n",
    "modelLSTM.add(layers.Bidirectional(layers.LSTM(512, dropout=0.2)))\n",
    "\n",
    "modelLSTM.add(layers.Dense(1024, activation='relu'))\n",
    "modelLSTM.add(layers.Dropout(0.8))\n",
    "\n",
    "modelLSTM.add(layers.Dense(1024, activation='relu'))\n",
    "modelLSTM.add(layers.Dropout(0.8))\n",
    "\n",
    "modelLSTM.add(layers.Dense(8))\n",
    "modelLSTM.add(layers.Activation('softmax'))\n",
    "from tensorflow.keras.optimizers import Adam\n",
    "\n",
    "optimizer = Adam(learning_rate=PARAMS_LSTM[\"lr\"])\n",
    "modelLSTM.compile(loss='categorical_crossentropy', optimizer=optimizer,\n",
    "                  metrics=['accuracy',\n",
    "                           metrics.CategoricalAccuracy(),\n",
    "                           metrics.Precision(),\n",
    "                           metrics.Recall()])\n",
    "earlystop = EarlyStopping(monitor='val_loss', patience=10, verbose=0)\n",
    "\n",
    "modelLSTM.summary()"
   ]
  },
  {
   "cell_type": "markdown",
   "metadata": {
    "jp-MarkdownHeadingCollapsed": true,
    "tags": []
   },
   "source": [
    "## Model registry config"
   ]
  },
  {
   "cell_type": "code",
   "execution_count": 21,
   "metadata": {},
   "outputs": [
    {
     "name": "stdout",
     "output_type": "stream",
     "text": [
      "https://app.neptune.ai/kumars/Consumer-Complaint/e/CON-17\n",
      "Remember to stop your run once you’ve finished logging your metadata (https://docs.neptune.ai/api-reference/run#.stop). It will be stopped automatically only when the notebook kernel/interactive console is terminated.\n",
      "time: 2.41 s (started: 2022-01-28 17:46:45 +05:30)\n"
     ]
    }
   ],
   "source": [
    "run = neptune.init(\n",
    "    project=\"kumars/Consumer-Complaint\" # Neptune user name and project name\n",
    "    # , source_files=['03_consumerComplaintClassification_CompletePipeline.ipynb', 'preprocessing.py'] # files to be tracked\n",
    ") \n",
    "\n",
    "# log hyper-parameters\n",
    "run['hyper-parameters'] = PARAMS_LSTM\n",
    "run[\"sys/tags\"].add(['Model evaluation',\n",
    "                     'LSTM Bidirectional',\n",
    "                     'Sid'])\n",
    "run[\"model\"].upload(MODEL_NAME+'_model.h5')\n",
    "neptune_clbk = NeptuneCallback(run=run, base_namespace='metrics') # Create callback for tracking the model training"
   ]
  },
  {
   "cell_type": "markdown",
   "metadata": {
    "jp-MarkdownHeadingCollapsed": true,
    "tags": []
   },
   "source": [
    "## Train model"
   ]
  },
  {
   "cell_type": "code",
   "execution_count": null,
   "metadata": {
    "tags": []
   },
   "outputs": [
    {
     "name": "stdout",
     "output_type": "stream",
     "text": [
      "Epoch 1/100\n",
      "10/10 [==============================] - 6s 396ms/step - loss: 2.0031 - accuracy: 0.2354 - categorical_accuracy: 0.2354 - precision_2: 0.1530 - recall_2: 0.0055 - val_loss: 1.6817 - val_accuracy: 0.3957 - val_categorical_accuracy: 0.3957 - val_precision_2: 0.5734 - val_recall_2: 0.2157\n",
      "Epoch 2/100\n",
      "10/10 [==============================] - 3s 315ms/step - loss: 1.7375 - accuracy: 0.3674 - categorical_accuracy: 0.3674 - precision_2: 0.5514 - recall_2: 0.1030 - val_loss: 1.5219 - val_accuracy: 0.3967 - val_categorical_accuracy: 0.3967 - val_precision_2: 0.6385 - val_recall_2: 0.3457\n",
      "Epoch 3/100\n",
      "10/10 [==============================] - 3s 315ms/step - loss: 1.5768 - accuracy: 0.4008 - categorical_accuracy: 0.4008 - precision_2: 0.6894 - recall_2: 0.2422 - val_loss: 1.4582 - val_accuracy: 0.4971 - val_categorical_accuracy: 0.4971 - val_precision_2: 0.8240 - val_recall_2: 0.2162\n",
      "Epoch 4/100\n",
      "10/10 [==============================] - 3s 317ms/step - loss: 1.5436 - accuracy: 0.4318 - categorical_accuracy: 0.4318 - precision_2: 0.7145 - recall_2: 0.2001 - val_loss: 1.3342 - val_accuracy: 0.5052 - val_categorical_accuracy: 0.5052 - val_precision_2: 0.7646 - val_recall_2: 0.3062\n",
      "Epoch 5/100\n",
      "10/10 [==============================] - 3s 320ms/step - loss: 1.4156 - accuracy: 0.4985 - categorical_accuracy: 0.4985 - precision_2: 0.7320 - recall_2: 0.2766 - val_loss: 1.2380 - val_accuracy: 0.5600 - val_categorical_accuracy: 0.5600 - val_precision_2: 0.8152 - val_recall_2: 0.3929\n",
      "Epoch 6/100\n",
      "10/10 [==============================] - 3s 316ms/step - loss: 1.3148 - accuracy: 0.5412 - categorical_accuracy: 0.5412 - precision_2: 0.7761 - recall_2: 0.3682 - val_loss: 1.1779 - val_accuracy: 0.6086 - val_categorical_accuracy: 0.6086 - val_precision_2: 0.8113 - val_recall_2: 0.4362\n",
      "Epoch 7/100\n",
      "10/10 [==============================] - 3s 316ms/step - loss: 1.2540 - accuracy: 0.5686 - categorical_accuracy: 0.5686 - precision_2: 0.7973 - recall_2: 0.4136 - val_loss: 1.1532 - val_accuracy: 0.6071 - val_categorical_accuracy: 0.6071 - val_precision_2: 0.8157 - val_recall_2: 0.4300\n",
      "Epoch 8/100\n",
      "10/10 [==============================] - 3s 318ms/step - loss: 1.2265 - accuracy: 0.5945 - categorical_accuracy: 0.5945 - precision_2: 0.7955 - recall_2: 0.4289 - val_loss: 1.1207 - val_accuracy: 0.5900 - val_categorical_accuracy: 0.5900 - val_precision_2: 0.8246 - val_recall_2: 0.4567\n",
      "Epoch 9/100\n",
      "10/10 [==============================] - 3s 318ms/step - loss: 1.1858 - accuracy: 0.5971 - categorical_accuracy: 0.5971 - precision_2: 0.7889 - recall_2: 0.4309 - val_loss: 1.0687 - val_accuracy: 0.6362 - val_categorical_accuracy: 0.6362 - val_precision_2: 0.8074 - val_recall_2: 0.4571\n",
      "Epoch 10/100\n",
      "10/10 [==============================] - 3s 318ms/step - loss: 1.1345 - accuracy: 0.6186 - categorical_accuracy: 0.6186 - precision_2: 0.7812 - recall_2: 0.4587 - val_loss: 1.0186 - val_accuracy: 0.6448 - val_categorical_accuracy: 0.6448 - val_precision_2: 0.8115 - val_recall_2: 0.4838\n",
      "Epoch 11/100\n",
      "10/10 [==============================] - 3s 320ms/step - loss: 1.0906 - accuracy: 0.6341 - categorical_accuracy: 0.6341 - precision_2: 0.7791 - recall_2: 0.4850 - val_loss: 1.0000 - val_accuracy: 0.6600 - val_categorical_accuracy: 0.6600 - val_precision_2: 0.8198 - val_recall_2: 0.4852\n",
      "Epoch 12/100\n",
      "10/10 [==============================] - 3s 319ms/step - loss: 1.0618 - accuracy: 0.6517 - categorical_accuracy: 0.6517 - precision_2: 0.7892 - recall_2: 0.4923 - val_loss: 1.0036 - val_accuracy: 0.6448 - val_categorical_accuracy: 0.6448 - val_precision_2: 0.7772 - val_recall_2: 0.5200\n",
      "Epoch 13/100\n",
      "10/10 [==============================] - 3s 320ms/step - loss: 1.0489 - accuracy: 0.6404 - categorical_accuracy: 0.6404 - precision_2: 0.7757 - recall_2: 0.4988 - val_loss: 0.9595 - val_accuracy: 0.6681 - val_categorical_accuracy: 0.6681 - val_precision_2: 0.7941 - val_recall_2: 0.5490\n",
      "Epoch 14/100\n",
      "10/10 [==============================] - 3s 321ms/step - loss: 1.0118 - accuracy: 0.6616 - categorical_accuracy: 0.6616 - precision_2: 0.7837 - recall_2: 0.5197 - val_loss: 0.9943 - val_accuracy: 0.6652 - val_categorical_accuracy: 0.6652 - val_precision_2: 0.8049 - val_recall_2: 0.5048\n",
      "Epoch 15/100\n",
      "10/10 [==============================] - 3s 355ms/step - loss: 1.0090 - accuracy: 0.6589 - categorical_accuracy: 0.6589 - precision_2: 0.7888 - recall_2: 0.5108 - val_loss: 0.9337 - val_accuracy: 0.6733 - val_categorical_accuracy: 0.6733 - val_precision_2: 0.7882 - val_recall_2: 0.5581\n",
      "Epoch 16/100\n",
      "10/10 [==============================] - 3s 348ms/step - loss: 0.9833 - accuracy: 0.6473 - categorical_accuracy: 0.6473 - precision_2: 0.7767 - recall_2: 0.5370 - val_loss: 0.9038 - val_accuracy: 0.6910 - val_categorical_accuracy: 0.6910 - val_precision_2: 0.7813 - val_recall_2: 0.5905\n",
      "Epoch 17/100\n",
      "10/10 [==============================] - 3s 345ms/step - loss: 0.9693 - accuracy: 0.6767 - categorical_accuracy: 0.6767 - precision_2: 0.7825 - recall_2: 0.5602 - val_loss: 0.8862 - val_accuracy: 0.6952 - val_categorical_accuracy: 0.6952 - val_precision_2: 0.7911 - val_recall_2: 0.5895\n",
      "Epoch 18/100\n",
      "10/10 [==============================] - 3s 347ms/step - loss: 0.9359 - accuracy: 0.6865 - categorical_accuracy: 0.6865 - precision_2: 0.7885 - recall_2: 0.5741 - val_loss: 0.8692 - val_accuracy: 0.7024 - val_categorical_accuracy: 0.7024 - val_precision_2: 0.7899 - val_recall_2: 0.6052\n",
      "Epoch 19/100\n",
      "10/10 [==============================] - 3s 352ms/step - loss: 0.9047 - accuracy: 0.6993 - categorical_accuracy: 0.6993 - precision_2: 0.7953 - recall_2: 0.6005 - val_loss: 0.8612 - val_accuracy: 0.7014 - val_categorical_accuracy: 0.7014 - val_precision_2: 0.8078 - val_recall_2: 0.5943\n",
      "Epoch 20/100\n",
      "10/10 [==============================] - 4s 362ms/step - loss: 0.8740 - accuracy: 0.7049 - categorical_accuracy: 0.7049 - precision_2: 0.8033 - recall_2: 0.5941 - val_loss: 0.8660 - val_accuracy: 0.7076 - val_categorical_accuracy: 0.7076 - val_precision_2: 0.8061 - val_recall_2: 0.6019\n",
      "Epoch 21/100\n",
      "10/10 [==============================] - 4s 382ms/step - loss: 0.8668 - accuracy: 0.7077 - categorical_accuracy: 0.7077 - precision_2: 0.8114 - recall_2: 0.5876 - val_loss: 0.8765 - val_accuracy: 0.7052 - val_categorical_accuracy: 0.7052 - val_precision_2: 0.7842 - val_recall_2: 0.6176\n",
      "Epoch 22/100\n",
      "10/10 [==============================] - 4s 381ms/step - loss: 0.8320 - accuracy: 0.7182 - categorical_accuracy: 0.7182 - precision_2: 0.8084 - recall_2: 0.6200 - val_loss: 0.8554 - val_accuracy: 0.7152 - val_categorical_accuracy: 0.7152 - val_precision_2: 0.8101 - val_recall_2: 0.5971\n",
      "Epoch 23/100\n",
      "10/10 [==============================] - 4s 383ms/step - loss: 0.8187 - accuracy: 0.7329 - categorical_accuracy: 0.7329 - precision_2: 0.8254 - recall_2: 0.6307 - val_loss: 0.8480 - val_accuracy: 0.7200 - val_categorical_accuracy: 0.7200 - val_precision_2: 0.7854 - val_recall_2: 0.6448\n",
      "Epoch 24/100\n",
      "10/10 [==============================] - 4s 399ms/step - loss: 0.8490 - accuracy: 0.7046 - categorical_accuracy: 0.7046 - precision_2: 0.8035 - recall_2: 0.6110 - val_loss: 0.8665 - val_accuracy: 0.7181 - val_categorical_accuracy: 0.7181 - val_precision_2: 0.7906 - val_recall_2: 0.6329\n",
      "Epoch 25/100\n",
      "10/10 [==============================] - 4s 395ms/step - loss: 0.8102 - accuracy: 0.7282 - categorical_accuracy: 0.7282 - precision_2: 0.8078 - recall_2: 0.6330 - val_loss: 0.8584 - val_accuracy: 0.7138 - val_categorical_accuracy: 0.7138 - val_precision_2: 0.7738 - val_recall_2: 0.6238\n",
      "Epoch 26/100\n",
      "10/10 [==============================] - 4s 383ms/step - loss: 0.7834 - accuracy: 0.7316 - categorical_accuracy: 0.7316 - precision_2: 0.8214 - recall_2: 0.6356 - val_loss: 0.8908 - val_accuracy: 0.7190 - val_categorical_accuracy: 0.7190 - val_precision_2: 0.7666 - val_recall_2: 0.6710\n",
      "Epoch 27/100\n",
      "10/10 [==============================] - 4s 392ms/step - loss: 0.7876 - accuracy: 0.7338 - categorical_accuracy: 0.7338 - precision_2: 0.8015 - recall_2: 0.6639 - val_loss: 0.8648 - val_accuracy: 0.7152 - val_categorical_accuracy: 0.7152 - val_precision_2: 0.7787 - val_recall_2: 0.6452\n",
      "Epoch 28/100\n",
      "10/10 [==============================] - 4s 395ms/step - loss: 0.7600 - accuracy: 0.7437 - categorical_accuracy: 0.7437 - precision_2: 0.8230 - recall_2: 0.6552 - val_loss: 0.8250 - val_accuracy: 0.7262 - val_categorical_accuracy: 0.7262 - val_precision_2: 0.7982 - val_recall_2: 0.6424\n",
      "Epoch 29/100\n",
      "10/10 [==============================] - 4s 394ms/step - loss: 0.7071 - accuracy: 0.7540 - categorical_accuracy: 0.7540 - precision_2: 0.8273 - recall_2: 0.6753 - val_loss: 0.8356 - val_accuracy: 0.7271 - val_categorical_accuracy: 0.7271 - val_precision_2: 0.7996 - val_recall_2: 0.6386\n",
      "Epoch 30/100\n",
      "10/10 [==============================] - 4s 384ms/step - loss: 0.7109 - accuracy: 0.7596 - categorical_accuracy: 0.7596 - precision_2: 0.8354 - recall_2: 0.6687 - val_loss: 0.8520 - val_accuracy: 0.7257 - val_categorical_accuracy: 0.7257 - val_precision_2: 0.7790 - val_recall_2: 0.6781\n",
      "Epoch 31/100\n",
      "10/10 [==============================] - 4s 392ms/step - loss: 0.7099 - accuracy: 0.7518 - categorical_accuracy: 0.7518 - precision_2: 0.8257 - recall_2: 0.6827 - val_loss: 0.8358 - val_accuracy: 0.7286 - val_categorical_accuracy: 0.7286 - val_precision_2: 0.7955 - val_recall_2: 0.6686\n",
      "Epoch 32/100\n",
      "10/10 [==============================] - 4s 378ms/step - loss: 0.7103 - accuracy: 0.7571 - categorical_accuracy: 0.7571 - precision_2: 0.8316 - recall_2: 0.6857 - val_loss: 0.8370 - val_accuracy: 0.7243 - val_categorical_accuracy: 0.7243 - val_precision_2: 0.7765 - val_recall_2: 0.6652\n",
      "Epoch 33/100\n",
      "10/10 [==============================] - 4s 373ms/step - loss: 0.6873 - accuracy: 0.7670 - categorical_accuracy: 0.7670 - precision_2: 0.8331 - recall_2: 0.6925 - val_loss: 0.8540 - val_accuracy: 0.7295 - val_categorical_accuracy: 0.7295 - val_precision_2: 0.7902 - val_recall_2: 0.6619\n",
      "Epoch 34/100\n",
      "10/10 [==============================] - 4s 380ms/step - loss: 0.6694 - accuracy: 0.7707 - categorical_accuracy: 0.7707 - precision_2: 0.8415 - recall_2: 0.6978 - val_loss: 0.8411 - val_accuracy: 0.7267 - val_categorical_accuracy: 0.7267 - val_precision_2: 0.7930 - val_recall_2: 0.6676\n",
      "Epoch 35/100\n",
      "10/10 [==============================] - 4s 383ms/step - loss: 0.6553 - accuracy: 0.7755 - categorical_accuracy: 0.7755 - precision_2: 0.8369 - recall_2: 0.7040 - val_loss: 0.8380 - val_accuracy: 0.7276 - val_categorical_accuracy: 0.7276 - val_precision_2: 0.7950 - val_recall_2: 0.6629\n",
      "Epoch 36/100\n",
      "10/10 [==============================] - 4s 389ms/step - loss: 0.6553 - accuracy: 0.7791 - categorical_accuracy: 0.7791 - precision_2: 0.8414 - recall_2: 0.7001 - val_loss: 0.8654 - val_accuracy: 0.7224 - val_categorical_accuracy: 0.7224 - val_precision_2: 0.7980 - val_recall_2: 0.6414\n",
      "Epoch 37/100\n",
      "10/10 [==============================] - 4s 382ms/step - loss: 0.6614 - accuracy: 0.7608 - categorical_accuracy: 0.7608 - precision_2: 0.8342 - recall_2: 0.6888 - val_loss: 0.8923 - val_accuracy: 0.7305 - val_categorical_accuracy: 0.7305 - val_precision_2: 0.7750 - val_recall_2: 0.6871\n",
      "Epoch 38/100\n",
      "10/10 [==============================] - 4s 381ms/step - loss: 0.6527 - accuracy: 0.7755 - categorical_accuracy: 0.7755 - precision_2: 0.8387 - recall_2: 0.7083 - val_loss: 0.8569 - val_accuracy: 0.7314 - val_categorical_accuracy: 0.7314 - val_precision_2: 0.7933 - val_recall_2: 0.6671\n"
     ]
    },
    {
     "data": {
      "text/plain": [
       "<tensorflow.python.keras.callbacks.History at 0x22014048310>"
      ]
     },
     "execution_count": 22,
     "metadata": {},
     "output_type": "execute_result"
    },
    {
     "name": "stdout",
     "output_type": "stream",
     "text": [
      "time: 2min 16s (started: 2022-01-28 17:46:47 +05:30)\n"
     ]
    }
   ],
   "source": [
    "modelLSTM.fit(xtrain,\n",
    "              y=ytrain_enc,\n",
    "              batch_size=PARAMS_LSTM['batch_size'],\n",
    "              epochs=PARAMS_LSTM['epochs'],\n",
    "              verbose=PARAMS_LSTM['verbose'],\n",
    "              validation_split=PARAMS_LSTM['validation_split'],\n",
    "              callbacks=[earlystop, neptune_clbk])"
   ]
  },
  {
   "cell_type": "markdown",
   "metadata": {
    "jp-MarkdownHeadingCollapsed": true,
    "tags": []
   },
   "source": [
    "## Model Evaluation"
   ]
  },
  {
   "cell_type": "code",
   "execution_count": 23,
   "metadata": {
    "tags": []
   },
   "outputs": [
    {
     "name": "stdout",
     "output_type": "stream",
     "text": [
      "Train\n"
     ]
    },
    {
     "data": {
      "text/html": [
       "<div>\n",
       "<style scoped>\n",
       "    .dataframe tbody tr th:only-of-type {\n",
       "        vertical-align: middle;\n",
       "    }\n",
       "\n",
       "    .dataframe tbody tr th {\n",
       "        vertical-align: top;\n",
       "    }\n",
       "\n",
       "    .dataframe thead th {\n",
       "        text-align: right;\n",
       "    }\n",
       "</style>\n",
       "<table border=\"1\" class=\"dataframe\">\n",
       "  <thead>\n",
       "    <tr style=\"text-align: right;\">\n",
       "      <th></th>\n",
       "      <th>class</th>\n",
       "      <th>precision</th>\n",
       "      <th>recall</th>\n",
       "      <th>f1_score</th>\n",
       "      <th>support</th>\n",
       "    </tr>\n",
       "  </thead>\n",
       "  <tbody>\n",
       "    <tr>\n",
       "      <th>0</th>\n",
       "      <td>Bank account or service, Savings account</td>\n",
       "      <td>0.73</td>\n",
       "      <td>0.67</td>\n",
       "      <td>0.70</td>\n",
       "      <td>503.00</td>\n",
       "    </tr>\n",
       "    <tr>\n",
       "      <th>1</th>\n",
       "      <td>Consumer loan, Vehicle loan or lease, Payday l...</td>\n",
       "      <td>0.50</td>\n",
       "      <td>0.39</td>\n",
       "      <td>0.44</td>\n",
       "      <td>347.00</td>\n",
       "    </tr>\n",
       "    <tr>\n",
       "      <th>2</th>\n",
       "      <td>Credit card or prepaid card</td>\n",
       "      <td>0.72</td>\n",
       "      <td>0.79</td>\n",
       "      <td>0.75</td>\n",
       "      <td>767.00</td>\n",
       "    </tr>\n",
       "    <tr>\n",
       "      <th>3</th>\n",
       "      <td>Credit reporting, credit repair services, or o...</td>\n",
       "      <td>0.82</td>\n",
       "      <td>0.92</td>\n",
       "      <td>0.87</td>\n",
       "      <td>2683.00</td>\n",
       "    </tr>\n",
       "    <tr>\n",
       "      <th>4</th>\n",
       "      <td>Debt collection</td>\n",
       "      <td>0.84</td>\n",
       "      <td>0.74</td>\n",
       "      <td>0.78</td>\n",
       "      <td>1435.00</td>\n",
       "    </tr>\n",
       "    <tr>\n",
       "      <th>5</th>\n",
       "      <td>Money transfer, virtual currency, or money ser...</td>\n",
       "      <td>0.66</td>\n",
       "      <td>0.38</td>\n",
       "      <td>0.48</td>\n",
       "      <td>198.00</td>\n",
       "    </tr>\n",
       "    <tr>\n",
       "      <th>6</th>\n",
       "      <td>Mortgage</td>\n",
       "      <td>0.87</td>\n",
       "      <td>0.84</td>\n",
       "      <td>0.86</td>\n",
       "      <td>797.00</td>\n",
       "    </tr>\n",
       "    <tr>\n",
       "      <th>7</th>\n",
       "      <td>Student loan</td>\n",
       "      <td>0.71</td>\n",
       "      <td>0.74</td>\n",
       "      <td>0.73</td>\n",
       "      <td>270.00</td>\n",
       "    </tr>\n",
       "    <tr>\n",
       "      <th>8</th>\n",
       "      <td>accuracy</td>\n",
       "      <td>NaN</td>\n",
       "      <td>NaN</td>\n",
       "      <td>NaN</td>\n",
       "      <td>0.79</td>\n",
       "    </tr>\n",
       "    <tr>\n",
       "      <th>9</th>\n",
       "      <td>macro avg</td>\n",
       "      <td>0.73</td>\n",
       "      <td>0.68</td>\n",
       "      <td>0.70</td>\n",
       "      <td>7000.00</td>\n",
       "    </tr>\n",
       "    <tr>\n",
       "      <th>10</th>\n",
       "      <td>weighted avg</td>\n",
       "      <td>0.79</td>\n",
       "      <td>0.79</td>\n",
       "      <td>0.79</td>\n",
       "      <td>7000.00</td>\n",
       "    </tr>\n",
       "  </tbody>\n",
       "</table>\n",
       "</div>"
      ],
      "text/plain": [
       "                                                class  precision  recall  \\\n",
       "0            Bank account or service, Savings account       0.73    0.67   \n",
       "1   Consumer loan, Vehicle loan or lease, Payday l...       0.50    0.39   \n",
       "2                         Credit card or prepaid card       0.72    0.79   \n",
       "3   Credit reporting, credit repair services, or o...       0.82    0.92   \n",
       "4                                     Debt collection       0.84    0.74   \n",
       "5   Money transfer, virtual currency, or money ser...       0.66    0.38   \n",
       "6                                            Mortgage       0.87    0.84   \n",
       "7                                        Student loan       0.71    0.74   \n",
       "8                                            accuracy        NaN     NaN   \n",
       "9                                           macro avg       0.73    0.68   \n",
       "10                                       weighted avg       0.79    0.79   \n",
       "\n",
       "    f1_score  support  \n",
       "0       0.70   503.00  \n",
       "1       0.44   347.00  \n",
       "2       0.75   767.00  \n",
       "3       0.87  2683.00  \n",
       "4       0.78  1435.00  \n",
       "5       0.48   198.00  \n",
       "6       0.86   797.00  \n",
       "7       0.73   270.00  \n",
       "8        NaN     0.79  \n",
       "9       0.70  7000.00  \n",
       "10      0.79  7000.00  "
      ]
     },
     "metadata": {},
     "output_type": "display_data"
    },
    {
     "data": {
      "image/png": "[encoded data removed]",
      "text/plain": [
       "<Figure size 1296x936 with 2 Axes>"
      ]
     },
     "metadata": {
      "needs_background": "light"
     },
     "output_type": "display_data"
    },
    {
     "name": "stdout",
     "output_type": "stream",
     "text": [
      "\n",
      "\n",
      "Test\n"
     ]
    },
    {
     "data": {
      "text/html": [
       "<div>\n",
       "<style scoped>\n",
       "    .dataframe tbody tr th:only-of-type {\n",
       "        vertical-align: middle;\n",
       "    }\n",
       "\n",
       "    .dataframe tbody tr th {\n",
       "        vertical-align: top;\n",
       "    }\n",
       "\n",
       "    .dataframe thead th {\n",
       "        text-align: right;\n",
       "    }\n",
       "</style>\n",
       "<table border=\"1\" class=\"dataframe\">\n",
       "  <thead>\n",
       "    <tr style=\"text-align: right;\">\n",
       "      <th></th>\n",
       "      <th>class</th>\n",
       "      <th>precision</th>\n",
       "      <th>recall</th>\n",
       "      <th>f1_score</th>\n",
       "      <th>support</th>\n",
       "    </tr>\n",
       "  </thead>\n",
       "  <tbody>\n",
       "    <tr>\n",
       "      <th>0</th>\n",
       "      <td>Bank account or service, Savings account</td>\n",
       "      <td>0.59</td>\n",
       "      <td>0.48</td>\n",
       "      <td>0.53</td>\n",
       "      <td>215.00</td>\n",
       "    </tr>\n",
       "    <tr>\n",
       "      <th>1</th>\n",
       "      <td>Consumer loan, Vehicle loan or lease, Payday l...</td>\n",
       "      <td>0.33</td>\n",
       "      <td>0.26</td>\n",
       "      <td>0.29</td>\n",
       "      <td>149.00</td>\n",
       "    </tr>\n",
       "    <tr>\n",
       "      <th>2</th>\n",
       "      <td>Credit card or prepaid card</td>\n",
       "      <td>0.62</td>\n",
       "      <td>0.72</td>\n",
       "      <td>0.66</td>\n",
       "      <td>328.00</td>\n",
       "    </tr>\n",
       "    <tr>\n",
       "      <th>3</th>\n",
       "      <td>Credit reporting, credit repair services, or o...</td>\n",
       "      <td>0.80</td>\n",
       "      <td>0.88</td>\n",
       "      <td>0.84</td>\n",
       "      <td>1150.00</td>\n",
       "    </tr>\n",
       "    <tr>\n",
       "      <th>4</th>\n",
       "      <td>Debt collection</td>\n",
       "      <td>0.78</td>\n",
       "      <td>0.70</td>\n",
       "      <td>0.74</td>\n",
       "      <td>615.00</td>\n",
       "    </tr>\n",
       "    <tr>\n",
       "      <th>5</th>\n",
       "      <td>Money transfer, virtual currency, or money ser...</td>\n",
       "      <td>0.37</td>\n",
       "      <td>0.22</td>\n",
       "      <td>0.28</td>\n",
       "      <td>85.00</td>\n",
       "    </tr>\n",
       "    <tr>\n",
       "      <th>6</th>\n",
       "      <td>Mortgage</td>\n",
       "      <td>0.74</td>\n",
       "      <td>0.75</td>\n",
       "      <td>0.75</td>\n",
       "      <td>342.00</td>\n",
       "    </tr>\n",
       "    <tr>\n",
       "      <th>7</th>\n",
       "      <td>Student loan</td>\n",
       "      <td>0.63</td>\n",
       "      <td>0.66</td>\n",
       "      <td>0.64</td>\n",
       "      <td>116.00</td>\n",
       "    </tr>\n",
       "    <tr>\n",
       "      <th>8</th>\n",
       "      <td>accuracy</td>\n",
       "      <td>NaN</td>\n",
       "      <td>NaN</td>\n",
       "      <td>NaN</td>\n",
       "      <td>0.72</td>\n",
       "    </tr>\n",
       "    <tr>\n",
       "      <th>9</th>\n",
       "      <td>macro avg</td>\n",
       "      <td>0.61</td>\n",
       "      <td>0.58</td>\n",
       "      <td>0.59</td>\n",
       "      <td>3000.00</td>\n",
       "    </tr>\n",
       "    <tr>\n",
       "      <th>10</th>\n",
       "      <td>weighted avg</td>\n",
       "      <td>0.71</td>\n",
       "      <td>0.72</td>\n",
       "      <td>0.72</td>\n",
       "      <td>3000.00</td>\n",
       "    </tr>\n",
       "  </tbody>\n",
       "</table>\n",
       "</div>"
      ],
      "text/plain": [
       "                                                class  precision  recall  \\\n",
       "0            Bank account or service, Savings account       0.59    0.48   \n",
       "1   Consumer loan, Vehicle loan or lease, Payday l...       0.33    0.26   \n",
       "2                         Credit card or prepaid card       0.62    0.72   \n",
       "3   Credit reporting, credit repair services, or o...       0.80    0.88   \n",
       "4                                     Debt collection       0.78    0.70   \n",
       "5   Money transfer, virtual currency, or money ser...       0.37    0.22   \n",
       "6                                            Mortgage       0.74    0.75   \n",
       "7                                        Student loan       0.63    0.66   \n",
       "8                                            accuracy        NaN     NaN   \n",
       "9                                           macro avg       0.61    0.58   \n",
       "10                                       weighted avg       0.71    0.72   \n",
       "\n",
       "    f1_score  support  \n",
       "0       0.53   215.00  \n",
       "1       0.29   149.00  \n",
       "2       0.66   328.00  \n",
       "3       0.84  1150.00  \n",
       "4       0.74   615.00  \n",
       "5       0.28    85.00  \n",
       "6       0.75   342.00  \n",
       "7       0.64   116.00  \n",
       "8        NaN     0.72  \n",
       "9       0.59  3000.00  \n",
       "10      0.72  3000.00  "
      ]
     },
     "metadata": {},
     "output_type": "display_data"
    },
    {
     "data": {
      "image/png": "[encoded data removed]",
      "text/plain": [
       "<Figure size 1296x936 with 2 Axes>"
      ]
     },
     "metadata": {
      "needs_background": "light"
     },
     "output_type": "display_data"
    },
    {
     "name": "stdout",
     "output_type": "stream",
     "text": [
      "time: 6.39 s (started: 2022-01-28 17:49:04 +05:30)\n"
     ]
    }
   ],
   "source": [
    "# Run prediction on test and train \n",
    "ytrain_pred = np.argmax(modelLSTM.predict(xtrain), axis=-1)\n",
    "ytrain_orig = np.argmax(ytrain_enc, axis=-1)\n",
    "ytest_pred = np.argmax(modelLSTM.predict(xtest), axis=-1)\n",
    "ytest_orig = np.argmax(ytest_enc, axis=-1)\n",
    "\n",
    "print('Train')\n",
    "train_classreport = me.classification_report_cust(ytrain_orig,\n",
    "                                                  ytrain_pred,\n",
    "                                                  list(lab_enc.classes_))\n",
    "display(train_classreport)\n",
    "train_classreport.to_csv(MODEL_NAME+'_train_classification_report.csv', index=False)\n",
    "train_confmatrix = me.confusion_mat_plt(ytrain_orig,\n",
    "                                        ytrain_pred,\n",
    "                                        8,\n",
    "                                        figs=(18,13),\n",
    "                                        cat_names=list(lab_enc.classes_))\n",
    "train_confmatrix.savefig(MODEL_NAME+'_train_confusionmatrix.png')\n",
    "\n",
    "print('\\n\\nTest')\n",
    "test_classreport = me.classification_report_cust(ytest_orig,\n",
    "                                                 ytest_pred,\n",
    "                                                 list(lab_enc.classes_))\n",
    "display(test_classreport)\n",
    "test_classreport.to_csv(MODEL_NAME+'_test_classification_report.csv', index=False)\n",
    "test_confmatrix = me.confusion_mat_plt(ytest_orig,\n",
    "                                       ytest_pred,\n",
    "                                       8,\n",
    "                                       figs=(18,13), \n",
    "                                       cat_names=list(lab_enc.classes_))\n",
    "test_confmatrix.savefig(MODEL_NAME+'_test_confusionmatrix.png')"
   ]
  },
  {
   "cell_type": "markdown",
   "metadata": {
    "jp-MarkdownHeadingCollapsed": true,
    "tags": []
   },
   "source": [
    "## Model registry logging and tracking"
   ]
  },
  {
   "cell_type": "code",
   "execution_count": 24,
   "metadata": {},
   "outputs": [
    {
     "name": "stdout",
     "output_type": "stream",
     "text": [
      "time: 0 ns (started: 2022-01-28 17:49:10 +05:30)\n"
     ]
    }
   ],
   "source": [
    "# Record metrics for model registry\n",
    "run['train/f1'] = train_classreport[train_classreport['class']=='weighted avg']['f1_score'].values[0]\n",
    "run['test/f1'] = (test_classreport[train_classreport['class']=='weighted avg']['f1_score'].values[0])\n",
    "run['train/acc'] = (train_classreport[train_classreport['class']=='accuracy']['support'].values[0])\n",
    "run['test/acc'] = (test_classreport[train_classreport['class']=='accuracy']['support'].values[0])\n",
    "\n",
    "# Track files\n",
    "run['train/eval_dataset'].track_files(MODEL_NAME+'_train_classification_report.csv')\n",
    "run['test/eval_dataset'].track_files(MODEL_NAME+'_test_classification_report.csv')\n",
    "run['train/confusion_matrix'].upload(MODEL_NAME+'_train_confusionmatrix.png')\n",
    "run['test/confusion_matrix'].upload(MODEL_NAME+'_test_confusionmatrix.png')\n",
    "run['train_dataset'].track_files('train.csv')\n",
    "run['test_dataset'].track_files('test.csv')"
   ]
  },
  {
   "cell_type": "markdown",
   "metadata": {
    "jp-MarkdownHeadingCollapsed": true,
    "tags": []
   },
   "source": [
    "## Saving the trained model"
   ]
  },
  {
   "cell_type": "code",
   "execution_count": 25,
   "metadata": {},
   "outputs": [
    {
     "name": "stdout",
     "output_type": "stream",
     "text": [
      "Shutting down background jobs, please wait a moment...\n",
      "Done!\n"
     ]
    },
    {
     "name": "stderr",
     "output_type": "stream",
     "text": [
      "Waiting for the remaining 15 operations to synchronize with Neptune. Do not kill this process.\n"
     ]
    },
    {
     "name": "stdout",
     "output_type": "stream",
     "text": [
      "All 15 operations synced, thanks for waiting!\n",
      "time: 7.45 s (started: 2022-01-28 17:49:10 +05:30)\n"
     ]
    }
   ],
   "source": [
    "modelLSTM.save(MODEL_NAME+'_model.h5') # Save the trained model\n",
    "run.stop() # Stop model registry run"
   ]
  },
  {
   "cell_type": "markdown",
   "metadata": {
    "jp-MarkdownHeadingCollapsed": true,
    "tags": []
   },
   "source": [
    "# Score new data"
   ]
  },
  {
   "cell_type": "code",
   "execution_count": 73,
   "metadata": {
    "tags": []
   },
   "outputs": [
    {
     "name": "stdout",
     "output_type": "stream",
     "text": [
      "time: 9.48 s (started: 2022-01-27 17:48:20 +05:30)\n"
     ]
    }
   ],
   "source": [
    "data = pd.read_csv('test.csv')\n",
    "\n",
    "xtest_new = text_process_pipe.transform(data[INDEPENDENT_FEATURES[0]])\n",
    "ytest_new = to_categorical(lab_enc.transform(data[DEPENDENT_FEATURES[0]]))"
   ]
  },
  {
   "cell_type": "code",
   "execution_count": 74,
   "metadata": {},
   "outputs": [
    {
     "name": "stdout",
     "output_type": "stream",
     "text": [
      "time: 1.61 s (started: 2022-01-27 17:48:30 +05:30)\n"
     ]
    }
   ],
   "source": [
    "pred_test_new = modelLSTM.predict(xtest_new)"
   ]
  },
  {
   "cell_type": "code",
   "execution_count": 75,
   "metadata": {},
   "outputs": [
    {
     "name": "stdout",
     "output_type": "stream",
     "text": [
      "                                                                                 precision    recall  f1-score   support\n",
      "\n",
      "                                                                   Student loan       0.58      0.53      0.55       215\n",
      "                                                                Debt collection       0.32      0.15      0.20       149\n",
      "                                       Bank account or service, Savings account       0.59      0.70      0.64       328\n",
      "   Credit reporting, credit repair services, or other personal consumer reports       0.79      0.88      0.83      1150\n",
      "                                                    Credit card or prepaid card       0.76      0.71      0.73       615\n",
      "                             Money transfer, virtual currency, or money service       1.00      0.08      0.15        85\n",
      "Consumer loan, Vehicle loan or lease, Payday loan, title loan, or personal loan       0.65      0.75      0.69       342\n",
      "                                                                       Mortgage       0.61      0.49      0.55       116\n",
      "\n",
      "                                                                       accuracy                           0.71      3000\n",
      "                                                                      macro avg       0.66      0.54      0.54      3000\n",
      "                                                                   weighted avg       0.71      0.71      0.69      3000\n",
      "\n",
      "time: 16 ms (started: 2022-01-27 17:48:32 +05:30)\n"
     ]
    }
   ],
   "source": [
    "print(metrics.classification_report(\n",
    "    np.argmax(ytest_new, axis=-1),\n",
    "    np.argmax(pred_test_new, axis=-1),\n",
    "    target_names=data[DEPENDENT_FEATURES[0]].unique()))"
   ]
  },
  {
   "cell_type": "markdown",
   "metadata": {},
   "source": [
    "# Conclusion\n",
    "\n",
    "We are ready for deployment"
   ]
  }
 ],
 "metadata": {
  "kernelspec": {
   "display_name": "comp_classify",
   "language": "python",
   "name": "comp_classify"
  },
  "language_info": {
   "codemirror_mode": {
    "name": "ipython",
    "version": 3
   },
   "file_extension": ".py",
   "mimetype": "text/x-python",
   "name": "python",
   "nbconvert_exporter": "python",
   "pygments_lexer": "ipython3",
   "version": "3.8.5"
  },
  "neptune": {
   "notebookId": "48919a70-8e1c-4fee-a01d-8f34d57118d8",
   "projectVersion": 2
  },
  "toc-autonumbering": true
 },
 "nbformat": 4,
 "nbformat_minor": 4
}
