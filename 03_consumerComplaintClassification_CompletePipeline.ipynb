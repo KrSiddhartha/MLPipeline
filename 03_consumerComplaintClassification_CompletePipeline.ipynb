{
 "cells": [
  {
   "cell_type": "markdown",
   "metadata": {
    "jp-MarkdownHeadingCollapsed": true,
    "tags": []
   },
   "source": [
    "# Importing Modules"
   ]
  },
  {
   "cell_type": "code",
   "execution_count": 101,
   "metadata": {},
   "outputs": [
    {
     "name": "stdout",
     "output_type": "stream",
     "text": [
      "The autotime extension is already loaded. To reload it, use:\n",
      "  %reload_ext autotime\n",
      "time: 0 ns (started: 2022-01-27 18:54:49 +05:30)\n"
     ]
    }
   ],
   "source": [
    "%load_ext autotime\n",
    "\n",
    "import warnings\n",
    "import numpy as np\n",
    "import pandas as pd\n",
    "import preprocessing as pp\n",
    "from sklearn import metrics\n",
    "import neptune.new as neptune\n",
    "from tensorflow.keras import layers\n",
    "from sklearn.pipeline import Pipeline\n",
    "from gensim.models.word2vec import Word2Vec\n",
    "from tensorflow.keras.models import Sequential\n",
    "from sklearn.preprocessing import LabelEncoder\n",
    "from tensorflow.keras.utils import to_categorical\n",
    "from tensorflow.keras.callbacks import EarlyStopping\n",
    "from sklearn.model_selection import train_test_split\n",
    "from tensorflow.keras.preprocessing.text import Tokenizer\n",
    "from tensorflow.keras.preprocessing.sequence import pad_sequences\n",
    "from neptune.new.integrations.tensorflow_keras import NeptuneCallback\n",
    "\n",
    "warnings.filterwarnings(\"ignore\")\n",
    "\n",
    "# import pickle\n",
    "# import subprocess\n",
    "\n",
    "# import seaborn as sn\n",
    "# import xgboost as xgb\n",
    "\n",
    "# from tqdm.notebook import tqdm\n",
    "# import matplotlib.pyplot as plt\n",
    "\n",
    "\n",
    "# import sklearn\n",
    "# \n",
    "# from sklearn.svm import LinearSVC\n",
    "# from sklearn.naive_bayes import MultinomialNB\n",
    "# from sklearn.linear_model import LogisticRegression\n",
    "# from sklearn.model_selection import cross_validate\n",
    "# from sklearn.neighbors import KNeighborsClassifier\n",
    "# from sklearn.feature_extraction.text import TfidfVectorizer\n",
    "\n",
    "# import nltk\n",
    "\n",
    "# from nltk.stem import PorterStemmer\n",
    "# from nltk.tokenize import word_tokenize\n",
    "# from nltk.stem import WordNetLemmatizer\n",
    "\n",
    "# import tensorflow as tf\n"
   ]
  },
  {
   "cell_type": "markdown",
   "metadata": {
    "tags": []
   },
   "source": [
    "## Converting sentences to vec"
   ]
  },
  {
   "cell_type": "code",
   "execution_count": 4,
   "metadata": {},
   "outputs": [
    {
     "name": "stdout",
     "output_type": "stream",
     "text": [
      "time: 0 ns (started: 2022-01-27 16:30:46 +05:30)\n"
     ]
    }
   ],
   "source": [
    "def sent2vec(s, vec_s, embed):\n",
    "    words = word_tokenize(s)\n",
    "    M = []\n",
    "    for w in words:\n",
    "        try:\n",
    "            M.append(embed[w])\n",
    "        except:\n",
    "            continue\n",
    "    M = np.array(M)\n",
    "    v = M.sum(axis=0)\n",
    "    if type(v) != np.ndarray:\n",
    "        return np.zeros(vec_s)\n",
    "    return v / np.sqrt((v ** 2).sum())"
   ]
  },
  {
   "cell_type": "markdown",
   "metadata": {
    "id": "x9QxRCK7LqQv",
    "jp-MarkdownHeadingCollapsed": true,
    "tags": []
   },
   "source": [
    "# Importing Data"
   ]
  },
  {
   "cell_type": "code",
   "execution_count": 5,
   "metadata": {
    "colab": {
     "base_uri": "https://localhost:8080/"
    },
    "id": "kRL7WK6cMLuw",
    "outputId": "f3540988-b1ac-4177-dc74-cbf97d99d0c0"
   },
   "outputs": [
    {
     "name": "stdout",
     "output_type": "stream",
     "text": [
      "time: 110 ms (started: 2022-01-27 16:30:47 +05:30)\n"
     ]
    }
   ],
   "source": [
    "con_com_use = pd.read_csv('train.csv')"
   ]
  },
  {
   "cell_type": "markdown",
   "metadata": {
    "jp-MarkdownHeadingCollapsed": true,
    "tags": []
   },
   "source": [
    "# Configuration"
   ]
  },
  {
   "cell_type": "code",
   "execution_count": 6,
   "metadata": {},
   "outputs": [
    {
     "name": "stdout",
     "output_type": "stream",
     "text": [
      "time: 0 ns (started: 2022-01-27 16:30:47 +05:30)\n"
     ]
    }
   ],
   "source": [
    "# Independent variables\n",
    "INDEPENDENT_FEATURES = ['Consumer complaint narrative']\n",
    "\n",
    "# Dependent variable\n",
    "DEPENDENT_FEATURES = ['Product']\n",
    "\n",
    "# Sample size\n",
    "TRAIN_SIZE = 10000\n",
    "\n",
    "TEST_SIZE = 3000\n",
    "\n",
    "# Random state\n",
    "RANDOM_STATE = 0\n",
    "\n",
    "# Word2Vec config\n",
    "VECTOR_SIZE = 160\n",
    "MIN_COUNT = 2 # Minimum frequency of words to be used\n",
    "WINDOW = 7 # Maximum distance between the current and predicted word within a sentence\n",
    "EPOCHS=50 # Number of iterations over the corpus\n",
    "SG=1 # Training algo. 1 means skip-gram\n",
    "\n",
    "# Padding size\n",
    "MAX_LENGHT = 140"
   ]
  },
  {
   "cell_type": "markdown",
   "metadata": {
    "jp-MarkdownHeadingCollapsed": true,
    "tags": []
   },
   "source": [
    "# Train-test split"
   ]
  },
  {
   "cell_type": "code",
   "execution_count": 53,
   "metadata": {},
   "outputs": [
    {
     "name": "stdout",
     "output_type": "stream",
     "text": [
      "(7000,)\n",
      "(3000,)\n",
      "time: 16 ms (started: 2022-01-27 16:54:03 +05:30)\n"
     ]
    }
   ],
   "source": [
    "xtrain, xtest, ytrain, ytest = train_test_split(con_com_use[INDEPENDENT_FEATURES[0]],\n",
    "                                                con_com_use[DEPENDENT_FEATURES[0]],\n",
    "                                                stratify=con_com_use[DEPENDENT_FEATURES[0]],\n",
    "                                                random_state=RANDOM_STATE,\n",
    "                                                test_size=0.3)\n",
    "print (xtrain.shape)\n",
    "print (xtest.shape)"
   ]
  },
  {
   "cell_type": "markdown",
   "metadata": {
    "jp-MarkdownHeadingCollapsed": true,
    "tags": []
   },
   "source": [
    "# Encoding Dependent Labels"
   ]
  },
  {
   "cell_type": "code",
   "execution_count": 54,
   "metadata": {},
   "outputs": [
    {
     "name": "stdout",
     "output_type": "stream",
     "text": [
      "time: 16 ms (started: 2022-01-27 16:54:03 +05:30)\n"
     ]
    }
   ],
   "source": [
    "lab_enc = LabelEncoder()\n",
    "\n",
    "ytrain = lab_enc.fit_transform(ytrain)\n",
    "ytest = lab_enc.transform(ytest)\n",
    "\n",
    "ytrain_enc = to_categorical(ytrain)\n",
    "ytest_enc = to_categorical(ytest)"
   ]
  },
  {
   "cell_type": "markdown",
   "metadata": {
    "id": "D3hHzdGu5F77",
    "jp-MarkdownHeadingCollapsed": true,
    "tags": []
   },
   "source": [
    "# Preprocessing Pipeline"
   ]
  },
  {
   "cell_type": "code",
   "execution_count": 55,
   "metadata": {},
   "outputs": [
    {
     "data": {
      "text/plain": [
       "Pipeline(steps=[('text_cleanup', textcleanup()),\n",
       "                ('text_tokenenize', texttokenize()),\n",
       "                ('text_stopwordremove', textstopwordremove()),\n",
       "                ('text_lemmatize', textlemmatize()),\n",
       "                ('text_stemmer', textstemmer()),\n",
       "                ('text_token', texttokenize2(variable=140))])"
      ]
     },
     "execution_count": 55,
     "metadata": {},
     "output_type": "execute_result"
    },
    {
     "name": "stdout",
     "output_type": "stream",
     "text": [
      "time: 20.3 s (started: 2022-01-27 16:54:03 +05:30)\n"
     ]
    }
   ],
   "source": [
    "text_process_pipe = Pipeline([\n",
    "    \n",
    "    ('text_cleanup', pp.textcleanup()),\n",
    "    \n",
    "    ('text_tokenenize', pp.texttokenize()),\n",
    "    \n",
    "    ('text_stopwordremove', pp.textstopwordremove()),\n",
    "    \n",
    "    ('text_lemmatize', pp.textlemmatize()),\n",
    "    \n",
    "    ('text_stemmer', pp.textstemmer()),\n",
    "    \n",
    "    ('text_token', pp.texttokenize2(MAX_LENGHT)),\n",
    "    \n",
    "])\n",
    "\n",
    "text_process_pipe.fit(xtrain)"
   ]
  },
  {
   "cell_type": "code",
   "execution_count": 56,
   "metadata": {},
   "outputs": [
    {
     "name": "stdout",
     "output_type": "stream",
     "text": [
      "time: 29.3 s (started: 2022-01-27 16:54:23 +05:30)\n"
     ]
    }
   ],
   "source": [
    "xtrain = text_process_pipe.transform(xtrain)\n",
    "xtest = text_process_pipe.transform(xtest)\n",
    "\n",
    "word_index = eval(text_process_pipe.named_steps['text_token'].token.get_config()['word_index'])"
   ]
  },
  {
   "cell_type": "markdown",
   "metadata": {
    "jp-MarkdownHeadingCollapsed": true,
    "tags": []
   },
   "source": [
    "# Training a Word2Vec model"
   ]
  },
  {
   "cell_type": "code",
   "execution_count": 57,
   "metadata": {},
   "outputs": [
    {
     "name": "stdout",
     "output_type": "stream",
     "text": [
      "time: 1min 34s (started: 2022-01-27 16:54:53 +05:30)\n"
     ]
    }
   ],
   "source": [
    "word2vecModel = Word2Vec(con_com_use[INDEPENDENT_FEATURES[0]].str.split(' ').tolist(),\n",
    "                         min_count=MIN_COUNT,\n",
    "                         vector_size=VECTOR_SIZE,\n",
    "                         workers=12, \n",
    "                         window=WINDOW, \n",
    "                         sg=SG,\n",
    "                         epochs=EPOCHS)\n",
    "gensim_embbed = dict(zip(word2vecModel.wv.index_to_key, word2vecModel.wv.vectors))\n",
    "\n",
    "embedding_matrix = np.zeros((len(word_index) + 1, VECTOR_SIZE))\n",
    "for word, i in word_index.items():\n",
    "    embedding_vector = gensim_embbed.get(word)\n",
    "    if embedding_vector is not None:\n",
    "        embedding_matrix[i] = embedding_vector"
   ]
  },
  {
   "cell_type": "markdown",
   "metadata": {
    "jp-MarkdownHeadingCollapsed": true,
    "tags": []
   },
   "source": [
    "# Bi-Directional LSTM"
   ]
  },
  {
   "cell_type": "code",
   "execution_count": 104,
   "metadata": {},
   "outputs": [
    {
     "name": "stdout",
     "output_type": "stream",
     "text": [
      "https://app.neptune.ai/kumars/Consumer-Complaint/e/CON-3\n",
      "Remember to stop your run once you’ve finished logging your metadata (https://docs.neptune.ai/api-reference/run#.stop). It will be stopped automatically only when the notebook kernel/interactive console is terminated.\n",
      "Model: \"sequential_5\"\n",
      "_________________________________________________________________\n",
      "Layer (type)                 Output Shape              Param #   \n",
      "=================================================================\n",
      "embedding_5 (Embedding)      (None, 140, 160)          1573120   \n",
      "_________________________________________________________________\n",
      "bidirectional_5 (Bidirection (None, 1024)              2756608   \n",
      "_________________________________________________________________\n",
      "dense_15 (Dense)             (None, 1024)              1049600   \n",
      "_________________________________________________________________\n",
      "dropout_10 (Dropout)         (None, 1024)              0         \n",
      "_________________________________________________________________\n",
      "dense_16 (Dense)             (None, 1024)              1049600   \n",
      "_________________________________________________________________\n",
      "dropout_11 (Dropout)         (None, 1024)              0         \n",
      "_________________________________________________________________\n",
      "dense_17 (Dense)             (None, 8)                 8200      \n",
      "_________________________________________________________________\n",
      "activation_5 (Activation)    (None, 8)                 0         \n",
      "=================================================================\n",
      "Total params: 6,437,128\n",
      "Trainable params: 4,864,008\n",
      "Non-trainable params: 1,573,120\n",
      "_________________________________________________________________\n",
      "time: 3.25 s (started: 2022-01-27 18:57:57 +05:30)\n"
     ]
    }
   ],
   "source": [
    "modelLSTM = Sequential()\n",
    "modelLSTM.add(layers.Embedding(len(word_index)+1,\n",
    "                               VECTOR_SIZE,\n",
    "                               weights=[embedding_matrix],\n",
    "                               input_length=MAX_LENGHT,\n",
    "                               trainable=False))\n",
    "\n",
    "modelLSTM.add(layers.Bidirectional(layers.LSTM(512, dropout=0.2)))\n",
    "\n",
    "modelLSTM.add(layers.Dense(1024, activation='relu'))\n",
    "modelLSTM.add(layers.Dropout(0.8))\n",
    "\n",
    "modelLSTM.add(layers.Dense(1024, activation='relu'))\n",
    "modelLSTM.add(layers.Dropout(0.8))\n",
    "\n",
    "modelLSTM.add(layers.Dense(8))\n",
    "modelLSTM.add(layers.Activation('softmax'))\n",
    "\n",
    "modelLSTM.compile(loss='categorical_crossentropy', optimizer='adam')\n",
    "earlystop = EarlyStopping(monitor='val_loss', patience=5, verbose=0)\n",
    "\n",
    "run = neptune.init(\n",
    "    project=\"kumars/Consumer-Complaint\",\n",
    "    api_token=\"eyJhcGlfYWRkcmVzcyI6Imh0dHBzOi8vYXBwLm5lcHR1bmUuYWkiLCJhcGlfdXJsIjoiaHR0cHM6Ly9hcHAubmVwdHVuZS5haSIsImFwaV9rZXkiOiI1MmY3NWVjYy0wNDliLTQ1MDktODIzYS01NzBhOWMzYmVkYTYifQ==\",\n",
    ") \n",
    "neptune_clbk = NeptuneCallback(run=run, base_namespace='metrics')\n",
    "\n",
    "modelLSTM.summary()"
   ]
  },
  {
   "cell_type": "code",
   "execution_count": 105,
   "metadata": {
    "scrolled": true,
    "tags": []
   },
   "outputs": [
    {
     "name": "stderr",
     "output_type": "stream",
     "text": [
      "2022/01/27 18:58:00 INFO mlflow.utils.autologging_utils: Created MLflow autologging run with ID '4b944969db764809a1bd2637d508d98e', which will track hyperparameters, performance metrics, model artifacts, and lineage information for the current tensorflow workflow\n"
     ]
    },
    {
     "name": "stdout",
     "output_type": "stream",
     "text": [
      "Epoch 1/100\n",
      " 6/10 [=================>............] - ETA: 1s - loss: 1.9761WARNING:tensorflow:Callback method `on_train_batch_end` is slow compared to the batch time (batch time: 0.1192s vs `on_train_batch_end` time: 0.1895s). Check your callbacks.\n"
     ]
    },
    {
     "name": "stderr",
     "output_type": "stream",
     "text": [
      "WARNING:tensorflow:Callback method `on_train_batch_end` is slow compared to the batch time (batch time: 0.1192s vs `on_train_batch_end` time: 0.1895s). Check your callbacks.\n"
     ]
    },
    {
     "name": "stdout",
     "output_type": "stream",
     "text": [
      "10/10 [==============================] - 6s 397ms/step - loss: 1.9127 - val_loss: 1.4519\n",
      "Epoch 2/100\n",
      "10/10 [==============================] - 3s 318ms/step - loss: 1.5300 - val_loss: 1.2651\n",
      "Epoch 3/100\n",
      "10/10 [==============================] - 3s 318ms/step - loss: 1.3171 - val_loss: 1.1975\n",
      "Epoch 4/100\n",
      "10/10 [==============================] - 3s 312ms/step - loss: 1.2627 - val_loss: 1.1069\n",
      "Epoch 5/100\n",
      "10/10 [==============================] - 3s 316ms/step - loss: 1.2075 - val_loss: 1.0957\n",
      "Epoch 6/100\n",
      "10/10 [==============================] - 3s 315ms/step - loss: 1.1659 - val_loss: 1.0523\n",
      "Epoch 7/100\n",
      "10/10 [==============================] - 3s 312ms/step - loss: 1.1066 - val_loss: 1.0411\n",
      "Epoch 8/100\n",
      "10/10 [==============================] - 3s 320ms/step - loss: 1.0637 - val_loss: 1.0195\n",
      "Epoch 9/100\n",
      "10/10 [==============================] - 3s 324ms/step - loss: 1.0643 - val_loss: 1.0032\n",
      "Epoch 10/100\n",
      "10/10 [==============================] - 3s 339ms/step - loss: 0.9914 - val_loss: 1.0206\n",
      "Epoch 11/100\n",
      "10/10 [==============================] - 3s 351ms/step - loss: 0.9725 - val_loss: 0.9223\n",
      "Epoch 12/100\n",
      "10/10 [==============================] - 4s 356ms/step - loss: 0.8945 - val_loss: 0.9202\n",
      "Epoch 13/100\n",
      "10/10 [==============================] - 4s 365ms/step - loss: 0.9521 - val_loss: 0.9885\n",
      "Epoch 14/100\n",
      "10/10 [==============================] - 4s 369ms/step - loss: 0.9468 - val_loss: 0.9394\n",
      "Epoch 15/100\n",
      "10/10 [==============================] - 4s 385ms/step - loss: 0.9369 - val_loss: 0.9512\n",
      "Epoch 16/100\n",
      "10/10 [==============================] - 4s 381ms/step - loss: 0.8810 - val_loss: 0.9159\n",
      "Epoch 17/100\n",
      "10/10 [==============================] - 4s 389ms/step - loss: 0.8748 - val_loss: 0.9738\n",
      "Epoch 18/100\n",
      "10/10 [==============================] - 4s 372ms/step - loss: 0.8352 - val_loss: 0.9249\n",
      "Epoch 19/100\n",
      "10/10 [==============================] - 4s 382ms/step - loss: 0.8049 - val_loss: 0.9027\n",
      "Epoch 20/100\n",
      "10/10 [==============================] - 4s 390ms/step - loss: 0.7581 - val_loss: 0.8851\n",
      "Epoch 21/100\n",
      "10/10 [==============================] - 4s 370ms/step - loss: 0.6853 - val_loss: 0.9006\n",
      "Epoch 22/100\n",
      "10/10 [==============================] - 4s 375ms/step - loss: 0.7162 - val_loss: 0.8848\n",
      "Epoch 23/100\n",
      "10/10 [==============================] - 4s 376ms/step - loss: 0.7235 - val_loss: 0.8879\n",
      "Epoch 24/100\n",
      "10/10 [==============================] - 4s 372ms/step - loss: 0.7017 - val_loss: 0.8892\n",
      "Epoch 25/100\n",
      "10/10 [==============================] - 4s 371ms/step - loss: 0.6678 - val_loss: 0.8929\n",
      "Epoch 26/100\n",
      "10/10 [==============================] - 4s 377ms/step - loss: 0.6351 - val_loss: 0.9231\n",
      "Epoch 27/100\n",
      "10/10 [==============================] - 4s 380ms/step - loss: 0.6299 - val_loss: 0.9377\n"
     ]
    },
    {
     "name": "stderr",
     "output_type": "stream",
     "text": [
      "WARNING:absl:Found untraced functions such as lstm_cell_16_layer_call_and_return_conditional_losses, lstm_cell_16_layer_call_fn, lstm_cell_17_layer_call_and_return_conditional_losses, lstm_cell_17_layer_call_fn, lstm_cell_16_layer_call_fn while saving (showing 5 of 10). These functions will not be directly callable after loading.\n",
      "WARNING:absl:Found untraced functions such as lstm_cell_16_layer_call_and_return_conditional_losses, lstm_cell_16_layer_call_fn, lstm_cell_17_layer_call_and_return_conditional_losses, lstm_cell_17_layer_call_fn, lstm_cell_16_layer_call_fn while saving (showing 5 of 10). These functions will not be directly callable after loading.\n"
     ]
    },
    {
     "name": "stdout",
     "output_type": "stream",
     "text": [
      "INFO:tensorflow:Assets written to: C:\\Users\\krsid\\AppData\\Local\\Temp\\tmp40tzfvpy\\model\\data\\model\\assets\n"
     ]
    },
    {
     "name": "stderr",
     "output_type": "stream",
     "text": [
      "INFO:tensorflow:Assets written to: C:\\Users\\krsid\\AppData\\Local\\Temp\\tmp40tzfvpy\\model\\data\\model\\assets\n"
     ]
    },
    {
     "name": "stdout",
     "output_type": "stream",
     "text": [
      "Shutting down background jobs, please wait a moment...\n",
      "Done!\n"
     ]
    },
    {
     "name": "stderr",
     "output_type": "stream",
     "text": [
      "Waiting for the remaining 1 operations to synchronize with Neptune. Do not kill this process.\n"
     ]
    },
    {
     "name": "stdout",
     "output_type": "stream",
     "text": [
      "All 1 operations synced, thanks for waiting!\n",
      "time: 1min 59s (started: 2022-01-27 18:58:00 +05:30)\n"
     ]
    }
   ],
   "source": [
    "modelLSTM.fit(xtrain,\n",
    "              y=ytrain_enc,\n",
    "              batch_size=512,\n",
    "              epochs=100,\n",
    "              verbose=1,\n",
    "              validation_split=0.3,\n",
    "              callbacks=[earlystop])\n",
    "\n",
    "run.stop()"
   ]
  },
  {
   "cell_type": "code",
   "execution_count": 63,
   "metadata": {},
   "outputs": [
    {
     "name": "stdout",
     "output_type": "stream",
     "text": [
      "                                                                                 precision    recall  f1-score   support\n",
      "\n",
      "                                                                Debt collection       0.54      0.51      0.53       215\n",
      "   Credit reporting, credit repair services, or other personal consumer reports       0.39      0.17      0.23       149\n",
      "                                                                   Student loan       0.57      0.71      0.63       328\n",
      "                                                    Credit card or prepaid card       0.81      0.87      0.84      1150\n",
      "                                                                       Mortgage       0.81      0.72      0.76       615\n",
      "                             Money transfer, virtual currency, or money service       0.00      0.00      0.00        85\n",
      "                                       Bank account or service, Savings account       0.65      0.82      0.72       342\n",
      "Consumer loan, Vehicle loan or lease, Payday loan, title loan, or personal loan       0.65      0.58      0.61       116\n",
      "\n",
      "                                                                       accuracy                           0.72      3000\n",
      "                                                                      macro avg       0.55      0.55      0.54      3000\n",
      "                                                                   weighted avg       0.70      0.72      0.70      3000\n",
      "\n",
      "time: 1.39 s (started: 2022-01-27 16:59:22 +05:30)\n"
     ]
    }
   ],
   "source": [
    "print(metrics.classification_report(\n",
    "    np.argmax(ytest_enc, axis=-1),\n",
    "    np.argmax(modelLSTM.predict(xtest), axis=-1),\n",
    "    target_names=con_com_use['Product'].unique()))"
   ]
  },
  {
   "cell_type": "markdown",
   "metadata": {
    "jp-MarkdownHeadingCollapsed": true,
    "tags": []
   },
   "source": [
    "# Score new data"
   ]
  },
  {
   "cell_type": "code",
   "execution_count": 73,
   "metadata": {
    "tags": []
   },
   "outputs": [
    {
     "name": "stdout",
     "output_type": "stream",
     "text": [
      "time: 9.48 s (started: 2022-01-27 17:48:20 +05:30)\n"
     ]
    }
   ],
   "source": [
    "data = pd.read_csv('test.csv')\n",
    "\n",
    "xtest_new = text_process_pipe.transform(data[INDEPENDENT_FEATURES[0]])\n",
    "ytest_new = to_categorical(lab_enc.transform(data[DEPENDENT_FEATURES[0]]))"
   ]
  },
  {
   "cell_type": "code",
   "execution_count": 74,
   "metadata": {},
   "outputs": [
    {
     "name": "stdout",
     "output_type": "stream",
     "text": [
      "time: 1.61 s (started: 2022-01-27 17:48:30 +05:30)\n"
     ]
    }
   ],
   "source": [
    "pred_test_new = modelLSTM.predict(xtest_new)"
   ]
  },
  {
   "cell_type": "code",
   "execution_count": 75,
   "metadata": {},
   "outputs": [
    {
     "name": "stdout",
     "output_type": "stream",
     "text": [
      "                                                                                 precision    recall  f1-score   support\n",
      "\n",
      "                                                                   Student loan       0.58      0.53      0.55       215\n",
      "                                                                Debt collection       0.32      0.15      0.20       149\n",
      "                                       Bank account or service, Savings account       0.59      0.70      0.64       328\n",
      "   Credit reporting, credit repair services, or other personal consumer reports       0.79      0.88      0.83      1150\n",
      "                                                    Credit card or prepaid card       0.76      0.71      0.73       615\n",
      "                             Money transfer, virtual currency, or money service       1.00      0.08      0.15        85\n",
      "Consumer loan, Vehicle loan or lease, Payday loan, title loan, or personal loan       0.65      0.75      0.69       342\n",
      "                                                                       Mortgage       0.61      0.49      0.55       116\n",
      "\n",
      "                                                                       accuracy                           0.71      3000\n",
      "                                                                      macro avg       0.66      0.54      0.54      3000\n",
      "                                                                   weighted avg       0.71      0.71      0.69      3000\n",
      "\n",
      "time: 16 ms (started: 2022-01-27 17:48:32 +05:30)\n"
     ]
    }
   ],
   "source": [
    "print(metrics.classification_report(\n",
    "    np.argmax(ytest_new, axis=-1),\n",
    "    np.argmax(pred_test_new, axis=-1),\n",
    "    target_names=data[DEPENDENT_FEATURES[0]].unique()))"
   ]
  },
  {
   "cell_type": "markdown",
   "metadata": {},
   "source": [
    "# Conclusion\n",
    "\n",
    "We are ready for deployment"
   ]
  }
 ],
 "metadata": {
  "kernelspec": {
   "display_name": "comp_classify",
   "language": "python",
   "name": "comp_classify"
  },
  "language_info": {
   "codemirror_mode": {
    "name": "ipython",
    "version": 3
   },
   "file_extension": ".py",
   "mimetype": "text/x-python",
   "name": "python",
   "nbconvert_exporter": "python",
   "pygments_lexer": "ipython3",
   "version": "3.8.5"
  }
 },
 "nbformat": 4,
 "nbformat_minor": 4
}
