{
 "cells": [
  {
   "cell_type": "markdown",
   "metadata": {
    "id": "x9QxRCK7LqQv",
    "tags": []
   },
   "source": [
    "# Sourcing raw data and saving processed data\n",
    "\n",
    "<ol>\n",
    "    <li> Only columns <b>'Consumer complaint narrative'</b> and <b>'Product'</b> are needed. </li>\n",
    "    <li> All observations with missing value in the varibale <b>'Consumer complaint narrative'</b> needs to be removed. </li>\n",
    "    <li> All duplicate observations in the dataframe needs to be removed. </li>\n",
    "    <li> Target variable 'Product' needs to be remapped based on the analysis done. </li>\n",
    "    <li> Splitting data into training, testing and validation sets and saving the files. </li>\n",
    "</ol>"
   ]
  },
  {
   "cell_type": "markdown",
   "metadata": {
    "id": "6cb05d67-183f-4a0f-9206-d71f93dc3049",
    "jp-MarkdownHeadingCollapsed": true,
    "tags": []
   },
   "source": [
    "# Importing Modules"
   ]
  },
  {
   "cell_type": "code",
   "execution_count": 8,
   "metadata": {
    "colab": {
     "base_uri": "https://localhost:8080/"
    },
    "id": "e6b956a8-4c8a-4835-8540-0480a179f0bc",
    "outputId": "c2ebb146-b516-4449-edd9-7d78c0baa09f",
    "tags": []
   },
   "outputs": [
    {
     "name": "stdout",
     "output_type": "stream",
     "text": [
      "The autotime extension is already loaded. To reload it, use:\n",
      "  %reload_ext autotime\n",
      "time: 0 ns (started: 2022-01-26 18:07:37 +05:30)\n"
     ]
    }
   ],
   "source": [
    "%load_ext autotime\n",
    "import wget\n",
    "import pandas as pd\n",
    "import preprocessorRawdata as pp\n",
    "from sklearn.pipeline import Pipeline\n",
    "from sklearn.model_selection import train_test_split\n",
    "from feature_engine.imputation import DropMissingData"
   ]
  },
  {
   "cell_type": "markdown",
   "metadata": {
    "jp-MarkdownHeadingCollapsed": true,
    "tags": []
   },
   "source": [
    "# Download and Load the Latest Data"
   ]
  },
  {
   "cell_type": "code",
   "execution_count": 2,
   "metadata": {
    "tags": []
   },
   "outputs": [
    {
     "name": "stdout",
     "output_type": "stream",
     "text": [
      "100% [......................................................................] 398362492 / 398362492"
     ]
    },
    {
     "data": {
      "text/plain": [
       "'complaints.csv (1).zip'"
      ]
     },
     "execution_count": 2,
     "metadata": {},
     "output_type": "execute_result"
    },
    {
     "name": "stdout",
     "output_type": "stream",
     "text": [
      "time: 49.6 s (started: 2022-01-26 18:06:06 +05:30)\n"
     ]
    }
   ],
   "source": [
    "wget.download('https://files.consumerfinance.gov/ccdb/complaints.csv.zip')"
   ]
  },
  {
   "cell_type": "code",
   "execution_count": 3,
   "metadata": {},
   "outputs": [
    {
     "name": "stdout",
     "output_type": "stream",
     "text": [
      "time: 15.7 s (started: 2022-01-26 18:06:56 +05:30)\n"
     ]
    }
   ],
   "source": [
    "con_com = pd.read_csv('complaints.csv.zip', compression='zip' ,usecols=['Product', 'Consumer complaint narrative']) # Reading only the required columns"
   ]
  },
  {
   "cell_type": "markdown",
   "metadata": {
    "jp-MarkdownHeadingCollapsed": true,
    "tags": []
   },
   "source": [
    "# Configuration"
   ]
  },
  {
   "cell_type": "code",
   "execution_count": 4,
   "metadata": {},
   "outputs": [
    {
     "name": "stdout",
     "output_type": "stream",
     "text": [
      "time: 0 ns (started: 2022-01-26 18:07:11 +05:30)\n"
     ]
    }
   ],
   "source": [
    "# variable mappings\n",
    "PRODUCT_MAPPING = {'Credit card': 'Credit card or prepaid card',\n",
    "                   'Prepaid card': 'Credit card or prepaid card',\n",
    "                   'Credit reporting':'Credit reporting, credit repair services, or other personal consumer reports',\n",
    "                   'Money transfers':'Money transfer, virtual currency, or money service',\n",
    "                   'Virtual currency':'Money transfer, virtual currency, or money service',\n",
    "                   'Payday loan':'Consumer loan, Vehicle loan or lease, Payday loan, title loan, or personal loan',\n",
    "                   'Other financial service': 'Money transfer, virtual currency, or money service',\n",
    "                   'Consumer Loan':'Consumer loan, Vehicle loan or lease, Payday loan, title loan, or personal loan',\n",
    "                   'Vehicle loan or lease':'Consumer loan, Vehicle loan or lease, Payday loan, title loan, or personal loan',\n",
    "                   'Payday loan, title loan, or personal loan':'Consumer loan, Vehicle loan or lease, Payday loan, title loan, or personal loan',\n",
    "                   'Bank account or service':'Bank account or service, Savings account',\n",
    "                   'Checking or savings account':'Bank account or service, Savings account'}\n",
    "\n",
    "# Independent variables\n",
    "INDEPENDENT_FEATURES = ['Consumer complaint narrative']\n",
    "\n",
    "# Dependent variable\n",
    "DEPENDENT_FEATURES = ['Product']"
   ]
  },
  {
   "cell_type": "markdown",
   "metadata": {
    "jp-MarkdownHeadingCollapsed": true,
    "tags": []
   },
   "source": [
    "# Pipeline"
   ]
  },
  {
   "cell_type": "code",
   "execution_count": 5,
   "metadata": {},
   "outputs": [
    {
     "name": "stdout",
     "output_type": "stream",
     "text": [
      "time: 15 ms (started: 2022-01-26 18:07:11 +05:30)\n"
     ]
    }
   ],
   "source": [
    "# set up the pipeline\n",
    "price_pipe = Pipeline([\n",
    "    \n",
    "    # ===== DROP MISSING DATA ===== #\n",
    "    ('drop_missing_observation', DropMissingData(\n",
    "        variables=INDEPENDENT_FEATURES)),\n",
    "    \n",
    "    # ===== DROP DUPLICATE DATA ===== #\n",
    "    ('drop_duplicate_observations', pp.DropDuplicateData()),\n",
    "    \n",
    "    # ===== REMAPPING TARGET VARIABLE ===== #\n",
    "    ('target_variable_mapping', pp.Mapper(DEPENDENT_FEATURES, PRODUCT_MAPPING)),\n",
    "    \n",
    "])"
   ]
  },
  {
   "cell_type": "markdown",
   "metadata": {
    "jp-MarkdownHeadingCollapsed": true,
    "tags": []
   },
   "source": [
    "# Saving Train, Test and Valid split"
   ]
  },
  {
   "cell_type": "code",
   "execution_count": 6,
   "metadata": {},
   "outputs": [
    {
     "name": "stdout",
     "output_type": "stream",
     "text": [
      "time: 0 ns (started: 2022-01-26 18:07:11 +05:30)\n"
     ]
    }
   ],
   "source": [
    "# con_com = price_pipe.fit_transform(con_com)\n",
    "\n",
    "# trainX, testX, valX, trainY, testY, valY = pp.trainTestValid_split(con_com['Consumer complaint narrative'],\n",
    "#                                                                    con_com['Product'],\n",
    "#                                                                    trainsize=70000,\n",
    "#                                                                    testsize=30000)\n",
    "\n",
    "# train = pd.DataFrame({'consumer_complaint':trainX, 'product':trainY})\n",
    "# test = pd.DataFrame({'consumer_complaint':testX, 'product':testY})\n",
    "# valid = pd.DataFrame({'consumer_complaint':valX, 'product':valY})\n",
    "\n",
    "# # Saving train and test data\n",
    "# train.to_csv('train.csv', index=False)\n",
    "# test.to_csv('test.csv', index=False)\n",
    "# valid.to_csv('valid.csv', index=False)"
   ]
  },
  {
   "cell_type": "code",
   "execution_count": 9,
   "metadata": {},
   "outputs": [
    {
     "name": "stdout",
     "output_type": "stream",
     "text": [
      "time: 22.5 s (started: 2022-01-26 18:07:41 +05:30)\n"
     ]
    }
   ],
   "source": [
    "trainX, testX, trainY, testY = train_test_split(con_com['Consumer complaint narrative'],\n",
    "                                                con_com['Product'],\n",
    "                                                train_size=100000,\n",
    "                                                random_state=0,\n",
    "                                                stratify = con_com['Product'])\n",
    "\n",
    "train = pd.DataFrame({'consumer_complaint':trainX, 'product':trainY})\n",
    "test = pd.DataFrame({'consumer_complaint':testX, 'product':testY})\n",
    "\n",
    "# Saving train and test data\n",
    "train.to_csv('train.csv', index=False)\n",
    "test.to_csv('test.csv', index=False)"
   ]
  },
  {
   "cell_type": "markdown",
   "metadata": {},
   "source": [
    "# End of Notebook"
   ]
  }
 ],
 "metadata": {
  "kernelspec": {
   "display_name": "comp_classify",
   "language": "python",
   "name": "comp_classify"
  },
  "language_info": {
   "codemirror_mode": {
    "name": "ipython",
    "version": 3
   },
   "file_extension": ".py",
   "mimetype": "text/x-python",
   "name": "python",
   "nbconvert_exporter": "python",
   "pygments_lexer": "ipython3",
   "version": "3.8.5"
  }
 },
 "nbformat": 4,
 "nbformat_minor": 4
}
