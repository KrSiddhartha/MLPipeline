{
 "cells": [
  {
   "cell_type": "markdown",
   "metadata": {
    "id": "x9QxRCK7LqQv",
    "jp-MarkdownHeadingCollapsed": true,
    "tags": []
   },
   "source": [
    "# Sourcing raw data and saving processed data\n",
    "\n",
    "<ol>\n",
    "    <li> Only columns <b>'Consumer complaint narrative'</b> and <b>'Product'</b> are needed. </li>\n",
    "    <li> All observations with missing value in the varibale <b>'Consumer complaint narrative'</b> needs to be removed. </li>\n",
    "    <li> All duplicate observations in the dataframe needs to be removed. </li>\n",
    "    <li> Target variable 'Product' needs to be remapped based on the analysis done. </li>\n",
    "    <li> Splitting data into training, testing and validation sets and saving the files. </li>\n",
    "</ol>"
   ]
  },
  {
   "cell_type": "markdown",
   "metadata": {
    "id": "6cb05d67-183f-4a0f-9206-d71f93dc3049",
    "jp-MarkdownHeadingCollapsed": true,
    "tags": []
   },
   "source": [
    "# Importing Modules"
   ]
  },
  {
   "cell_type": "code",
   "execution_count": 1,
   "metadata": {
    "colab": {
     "base_uri": "https://localhost:8080/"
    },
    "id": "e6b956a8-4c8a-4835-8540-0480a179f0bc",
    "outputId": "c2ebb146-b516-4449-edd9-7d78c0baa09f",
    "tags": []
   },
   "outputs": [
    {
     "name": "stdout",
     "output_type": "stream",
     "text": [
      "time: 953 ms (started: 2022-01-26 23:27:22 +05:30)\n"
     ]
    }
   ],
   "source": [
    "%load_ext autotime\n",
    "\n",
    "import os\n",
    "import wget\n",
    "import pandas as pd\n",
    "import preprocessorRawdata as pp\n",
    "from sklearn.pipeline import Pipeline\n",
    "from sklearn.model_selection import train_test_split\n",
    "from feature_engine.imputation import DropMissingData"
   ]
  },
  {
   "cell_type": "markdown",
   "metadata": {
    "jp-MarkdownHeadingCollapsed": true,
    "tags": []
   },
   "source": [
    "# Download and Load the Latest Data"
   ]
  },
  {
   "cell_type": "code",
   "execution_count": 2,
   "metadata": {},
   "outputs": [
    {
     "name": "stdout",
     "output_type": "stream",
     "text": [
      "100% [......................................................................] 398362492 / 398362492time: 37.3 s (started: 2022-01-26 23:27:23 +05:30)\n"
     ]
    }
   ],
   "source": [
    "# Download the latest data from the complaints site\n",
    "if 'complaints.csv.zip' in os.listdir():\n",
    "    os.unlink('complaints.csv.zip')\n",
    "    wget.download('https://files.consumerfinance.gov/ccdb/complaints.csv.zip')\n",
    "else:\n",
    "    wget.download('https://files.consumerfinance.gov/ccdb/complaints.csv.zip')\n",
    "\n",
    "# Import data from the downloaded .zip file\n",
    "con_com = pd.read_csv('complaints.csv.zip', compression='zip' ,usecols=['Product', 'Consumer complaint narrative']) # Reading only the required columns"
   ]
  },
  {
   "cell_type": "markdown",
   "metadata": {
    "jp-MarkdownHeadingCollapsed": true,
    "tags": []
   },
   "source": [
    "# Configuration"
   ]
  },
  {
   "cell_type": "code",
   "execution_count": 6,
   "metadata": {},
   "outputs": [
    {
     "name": "stdout",
     "output_type": "stream",
     "text": [
      "time: 15 ms (started: 2022-01-26 23:28:51 +05:30)\n"
     ]
    }
   ],
   "source": [
    "# variable mappings\n",
    "PRODUCT_MAPPING = {'Credit card': 'Credit card or prepaid card',\n",
    "                   'Prepaid card': 'Credit card or prepaid card',\n",
    "                   'Credit reporting':'Credit reporting, credit repair services, or other personal consumer reports',\n",
    "                   'Money transfers':'Money transfer, virtual currency, or money service',\n",
    "                   'Virtual currency':'Money transfer, virtual currency, or money service',\n",
    "                   'Payday loan':'Consumer loan, Vehicle loan or lease, Payday loan, title loan, or personal loan',\n",
    "                   'Other financial service': 'Money transfer, virtual currency, or money service',\n",
    "                   'Consumer Loan':'Consumer loan, Vehicle loan or lease, Payday loan, title loan, or personal loan',\n",
    "                   'Vehicle loan or lease':'Consumer loan, Vehicle loan or lease, Payday loan, title loan, or personal loan',\n",
    "                   'Payday loan, title loan, or personal loan':'Consumer loan, Vehicle loan or lease, Payday loan, title loan, or personal loan',\n",
    "                   'Bank account or service':'Bank account or service, Savings account',\n",
    "                   'Checking or savings account':'Bank account or service, Savings account'}\n",
    "\n",
    "# Independent variables\n",
    "INDEPENDENT_FEATURES = ['Consumer complaint narrative']\n",
    "\n",
    "# Dependent variable\n",
    "DEPENDENT_FEATURES = ['Product']\n",
    "\n",
    "# Sample size\n",
    "TRAIN_SIZE = 10000\n",
    "\n",
    "TEST_SIZE = 3000"
   ]
  },
  {
   "cell_type": "markdown",
   "metadata": {
    "jp-MarkdownHeadingCollapsed": true,
    "tags": []
   },
   "source": [
    "# Pipeline"
   ]
  },
  {
   "cell_type": "code",
   "execution_count": 7,
   "metadata": {},
   "outputs": [
    {
     "name": "stdout",
     "output_type": "stream",
     "text": [
      "time: 2.59 s (started: 2022-01-26 23:28:56 +05:30)\n"
     ]
    }
   ],
   "source": [
    "# set up the pipeline\n",
    "price_pipe = Pipeline([\n",
    "    \n",
    "    # ===== DROP MISSING DATA ===== #\n",
    "    ('drop_missing_observation', DropMissingData(\n",
    "        variables=INDEPENDENT_FEATURES)),\n",
    "    \n",
    "    # ===== DROP DUPLICATE DATA ===== #\n",
    "    ('drop_duplicate_observations', pp.DropDuplicateData()),\n",
    "    \n",
    "    # ===== REMAPPING TARGET VARIABLE ===== #\n",
    "    ('target_variable_mapping', pp.Mapper(DEPENDENT_FEATURES, PRODUCT_MAPPING)),\n",
    "    \n",
    "])\n",
    "\n",
    "con_com = price_pipe.fit_transform(con_com)"
   ]
  },
  {
   "cell_type": "markdown",
   "metadata": {
    "jp-MarkdownHeadingCollapsed": true,
    "tags": []
   },
   "source": [
    "# Saving Train, Test and Valid split"
   ]
  },
  {
   "cell_type": "code",
   "execution_count": 8,
   "metadata": {},
   "outputs": [
    {
     "name": "stdout",
     "output_type": "stream",
     "text": [
      "time: 24.1 s (started: 2022-01-26 23:28:58 +05:30)\n"
     ]
    }
   ],
   "source": [
    "trainX, testX, valX, trainY, testY, valY = pp.trainTestValid_split(con_com[INDEPENDENT_FEATURES],\n",
    "                                                                   con_com[DEPENDENT_FEATURES],\n",
    "                                                                   trainsize=TRAIN_SIZE,\n",
    "                                                                   testsize=TEST_SIZE)\n",
    "\n",
    "train = pd.concat([trainX,trainY], axis=1)\n",
    "test = pd.concat([testX,testY], axis=1)\n",
    "valid = pd.concat([valX,valY], axis=1)\n",
    "\n",
    "# Saving train and test data\n",
    "train.to_csv('train.csv', index=False)\n",
    "test.to_csv('test.csv', index=False)\n",
    "valid.to_csv('valid.csv', index=False)"
   ]
  },
  {
   "cell_type": "markdown",
   "metadata": {
    "jp-MarkdownHeadingCollapsed": true,
    "tags": []
   },
   "source": [
    "# End of Notebook"
   ]
  }
 ],
 "metadata": {
  "kernelspec": {
   "display_name": "comp_classify",
   "language": "python",
   "name": "comp_classify"
  },
  "language_info": {
   "codemirror_mode": {
    "name": "ipython",
    "version": 3
   },
   "file_extension": ".py",
   "mimetype": "text/x-python",
   "name": "python",
   "nbconvert_exporter": "python",
   "pygments_lexer": "ipython3",
   "version": "3.8.5"
  }
 },
 "nbformat": 4,
 "nbformat_minor": 4
}
